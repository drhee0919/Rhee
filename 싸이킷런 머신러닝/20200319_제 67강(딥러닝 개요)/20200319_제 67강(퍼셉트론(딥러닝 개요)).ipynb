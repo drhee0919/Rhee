{
 "cells": [
  {
   "cell_type": "code",
   "execution_count": 1,
   "metadata": {},
   "outputs": [],
   "source": [
    "## 퍼셉트론 및 인공지능, 머신러닝, 딥 러닝 개요에 대해 알아보자 \n",
    "## deeplearning.pdf 참고\n",
    "## 신경망 구성시 Tensorflow 사용하여 진행할 것 "
   ]
  },
  {
   "cell_type": "code",
   "execution_count": 2,
   "metadata": {},
   "outputs": [
    {
     "name": "stdout",
     "output_type": "stream",
     "text": [
      "1.15.0\n"
     ]
    }
   ],
   "source": [
    "'''\n",
    "TensorFlow\n",
    " 구글이 공개한 대규모 숫자 계산을 해주는 머신러닝 및 딥러닝 전문 라이브러리\n",
    " Tensor는 다차원 행렬 계산을 의미\n",
    " 상업적인 용도로 사용할 수 있는 오픈소스(Apache 2.0)\n",
    " C++로 만들어진 라이브러리\n",
    " 파이썬을 사용해서 호출할 때 오버헤드가 거의 없는 구조로 설계\n",
    " https://www.tensorflow.org\n",
    " 이미지 처리와 음향 처리 등을 할 때는 추가적으로 이미지 처리에 특화된 OpenCV 라이브러리등과 함께\n",
    "사용\n",
    "'''\n",
    "## 주의 : 하단 코드는 필시 1.X 버전의 tensorflow환경에서만 실행할것\n",
    "## 현재 .ipynb파일은 1.15버전의 gpu가상환경에서 생성 \n",
    "\n",
    "import tensorflow as tf\n",
    "print(tf.__version__)"
   ]
  },
  {
   "cell_type": "code",
   "execution_count": 3,
   "metadata": {},
   "outputs": [
    {
     "name": "stdout",
     "output_type": "stream",
     "text": [
      "6234\n"
     ]
    }
   ],
   "source": [
    "import tensorflow as tf\n",
    "#상수 정의\n",
    "a = tf.constant(1234)\n",
    "b = tf.constant(5000)\n",
    "#계산 정의\n",
    "add_op = a+b\n",
    "#세션 시작\n",
    "sess = tf.Session()\n",
    "res = sess.run(add_op) #계산식 평가\n",
    "print(res)"
   ]
  },
  {
   "cell_type": "code",
   "execution_count": 4,
   "metadata": {},
   "outputs": [
    {
     "name": "stdout",
     "output_type": "stream",
     "text": [
      "14\n",
      "20\n"
     ]
    }
   ],
   "source": [
    "import tensorflow as tf\n",
    "#상수 정의\n",
    "a = tf.constant(2)\n",
    "b = tf.constant(3)\n",
    "c = tf.constant(4)\n",
    "#계산 정의\n",
    "calc1_op = a + b *c\n",
    "calc2_op = (a+b) * c\n",
    "#세션 시작\n",
    "sess = tf.Session()\n",
    "res1 = sess.run(calc1_op) #계산식 평가\n",
    "print(res1)\n",
    "res2 = sess.run(calc2_op) #계산식 평가\n",
    "print(res2)"
   ]
  },
  {
   "cell_type": "code",
   "execution_count": 5,
   "metadata": {},
   "outputs": [
    {
     "name": "stdout",
     "output_type": "stream",
     "text": [
      "150\n"
     ]
    }
   ],
   "source": [
    "import tensorflow as tf\n",
    "#상수 정의\n",
    "a = tf.constant(100)\n",
    "b = tf.constant(50)\n",
    "add_op = a+ b\n",
    "#변수 v 선언하기\n",
    "v = tf.Variable(0)\n",
    "# 변수 v에 add_op의 결과 대입하기\n",
    "let_op = tf.assign(v, add_op)\n",
    "#세션 시작\n",
    "sess = tf.Session()\n",
    "# 변수 초기화히기 (메모리에 생성)\n",
    "sess.run(tf.global_variables_initializer())\n",
    "#계산식 실행\n",
    "sess.run(let_op)\n",
    "print(sess.run(v))"
   ]
  },
  {
   "cell_type": "code",
   "execution_count": 6,
   "metadata": {},
   "outputs": [
    {
     "name": "stdout",
     "output_type": "stream",
     "text": [
      "[2 4 6]\n",
      "[20 40 20]\n"
     ]
    }
   ],
   "source": [
    "'''\n",
    " placeholder – 템플릿처럼 값을 넣을 공간을 만들어두는 기능\n",
    " 데이터 플로우 그래프를 구축할 때는 값을 넣지 않고 값을 담을 수 있는 그릇만 만들어두고, 이후에 세션\n",
    "을 실행할 때 그릇에 값을 넣고 실행할 수 있습니다\n",
    "'''\n",
    "'''\n",
    "• tensoflow.sqrt(x): x의 제곱근을 계산\n",
    "• tensoflow.reduce_mean(x): x의 평균을 계산\n",
    "• tensoflow.square(x): x의 제곱을 계산\n",
    "• random_uniform([1], 0, 10,…) : 0에서 10 사\n",
    "이에서 임의의 수 1개 생성 반환\n",
    "• Variable() : 변수의 값을 지정\n",
    "'''\n",
    "import tensorflow as tf\n",
    "#placeholder 정의(정수 자료형 3개를 가진 배열)\n",
    "a = tf.placeholder(tf.int32, [3])\n",
    "b = tf.constant(2)\n",
    "x2_op = a* b\n",
    "#세션 시작\n",
    "sess = tf.Session()\n",
    "# placeholder에 값 넣고 실행하기\n",
    "r1 = sess.run(x2_op, feed_dict = {a:[1, 2, 3]})\n",
    "print(r1)\n",
    "r2 = sess.run(x2_op, feed_dict = {a:[10, 20, 10]})\n",
    "print(r2)"
   ]
  },
  {
   "cell_type": "code",
   "execution_count": 7,
   "metadata": {},
   "outputs": [
    {
     "name": "stdout",
     "output_type": "stream",
     "text": [
      "[2 4 6]\n",
      "[20 40 20]\n"
     ]
    }
   ],
   "source": [
    "import tensorflow as tf\n",
    "#placeholder 정의(정수 자료형 3개를 가진 배열)\n",
    "a = tf.placeholder(tf.int32, [3])\n",
    "b = tf.constant(2)\n",
    "x2_op = a* b\n",
    "#세션 시작\n",
    "sess = tf.Session()\n",
    "# placeholder에 값 넣고 실행하기\n",
    "r1 = sess.run(x2_op, feed_dict = {a:[1, 2, 3]})\n",
    "print(r1)\n",
    "r2 = sess.run(x2_op, feed_dict = {a:[10, 20, 10]})\n",
    "print(r2)"
   ]
  },
  {
   "cell_type": "code",
   "execution_count": 8,
   "metadata": {},
   "outputs": [
    {
     "name": "stdout",
     "output_type": "stream",
     "text": [
      "[10 20 30 40 50]\n",
      "[100 200]\n"
     ]
    }
   ],
   "source": [
    "import tensorflow as tf\n",
    "#placeholder 정의( 배열의 크기를 None으로 지정)\n",
    "a = tf.placeholder(tf.int32, [None])\n",
    "b = tf.constant(10)\n",
    "x10_op = a* b\n",
    "#세션 시작\n",
    "sess = tf.Session()\n",
    "# placeholder에 값 넣고 실행하기\n",
    "r1 = sess.run(x10_op, feed_dict = {a:[1, 2, 3, 4, 5]})\n",
    "print(r1)\n",
    "r2 = sess.run(x10_op, feed_dict = {a:[10, 20]})\n",
    "print(r2)"
   ]
  },
  {
   "cell_type": "code",
   "execution_count": 10,
   "metadata": {},
   "outputs": [],
   "source": [
    "# 예제: SVM기법으로 BMI 지수를 판정해보자 \n",
    "'''\n",
    " SVM으로 BMI 판정\n",
    " 키의 최대값은 200cm, 몸무게의 최대값은 100kg으로 정규화\n",
    " 저체중(thin), 정상(normal), 비만(fat) 레이블을 one-hot-encoding [1, 0, 0], [0, 1, 0], [0, 0, 1]로 변환\n",
    " 소프트 맥스 회귀방법 , 오차 함수는 교차 엔트로피 사용\n",
    " 교차 엔트로피 - 2개의 확률 분포 사이에 정의되는 척도로서 교차 엔트로피 값이 작을 수록 정확한 값을 냄\n",
    " 학습 계수 0.01, 경사 하강법(steepest descent method) 사용\n",
    "'''\n",
    "import pandas as pd\n",
    "import numpy as np\n",
    "import tensorflow as tf\n",
    "# 키, 몸무게, 레이블이 적힌 CSV 파일 읽어 들이기\n",
    "csv = pd.read_csv(\"data/bmi.csv\")\n",
    "# 데이터 정규화\n",
    "csv[\"height\"] = csv[\"height\"] / 200\n",
    "csv[\"weight\"] = csv[\"weight\"] / 100\n",
    "# 레이블을 배열로 변환하기 - thin=(1,0,0) / normal=(0,1,0) / fat=(0,0,1)\n",
    "bclass = {\"thin\": [1,0,0], \"normal\": [0,1,0], \"fat\": [0,0,1]}\n",
    "csv[\"label_pat\"] = csv[\"label\"].apply(lambda x : np.array(bclass[x]))\n",
    "# 테스트를 위한 데이터 분류\n",
    "test_csv = csv[15000:20000]\n",
    "test_pat = test_csv[[\"weight\",\"height\"]]\n",
    "test_ans = list(test_csv[\"label_pat\"])"
   ]
  },
  {
   "cell_type": "code",
   "execution_count": 11,
   "metadata": {},
   "outputs": [],
   "source": [
    "# 데이터 플로우 그래프 구축하기\n",
    "# 플레이스홀더 선언하기\n",
    "x = tf.placeholder(tf.float32, [None, 2]) # 키와 몸무게 데이터 넣기\n",
    "y_ = tf.placeholder(tf.float32, [None, 3]) # 정답 레이블 넣기\n",
    "# 변수 선언하기\n",
    "W = tf.Variable(tf.zeros([2, 3])); # 가중치\n",
    "b = tf.Variable(tf.zeros([3])); # 바이어스\n",
    "# 소프트맥스 회귀 정의하기\n",
    "y = tf.nn.softmax(tf.matmul(x, W) + b)\n",
    "# 모델 훈련하기\n",
    "cross_entropy = -tf.reduce_sum(y_ * tf.log(y))\n",
    "optimizer = tf.train.GradientDescentOptimizer(0.01)\n",
    "train = optimizer.minimize(cross_entropy)\n",
    "# 정답률 구하기\n",
    "predict = tf.equal(tf.argmax(y, 1), tf.argmax(y_,1))\n",
    "accuracy = tf.reduce_mean(tf.cast(predict, tf.float32))\n",
    "# 세션 시작하기\n",
    "sess = tf.Session()\n",
    "sess.run(tf.global_variables_initializer()) # 변수 초기화하기"
   ]
  },
  {
   "cell_type": "code",
   "execution_count": 12,
   "metadata": {},
   "outputs": [
    {
     "name": "stdout",
     "output_type": "stream",
     "text": [
      "step= 0 cre= 106.53722 acc= 0.3808\n",
      "step= 500 cre= 53.56096 acc= 0.8708\n",
      "step= 1000 cre= 40.585423 acc= 0.8818\n",
      "step= 1500 cre= 35.822723 acc= 0.9172\n",
      "step= 2000 cre= 35.747204 acc= 0.9176\n",
      "step= 2500 cre= 32.14396 acc= 0.9452\n",
      "step= 3000 cre= 29.824009 acc= 0.9624\n",
      "정답률 = 0.9656\n"
     ]
    }
   ],
   "source": [
    "# 학습시키기\n",
    "for step in range(3500):\n",
    "    i = (step * 100) % 14000\n",
    "    rows = csv[1 + i : 1 + i + 100]\n",
    "    x_pat = rows[[\"weight\",\"height\"]]\n",
    "    y_ans = list(rows[\"label_pat\"])\n",
    "    fd = {x: x_pat, y_: y_ans}\n",
    "    sess.run(train, feed_dict=fd)\n",
    "    \n",
    "    if step % 500 == 0:\n",
    "        cre = sess.run(cross_entropy, feed_dict=fd)\n",
    "        acc = sess.run(accuracy, feed_dict={x: test_pat, y_: test_ans})\n",
    "        print(\"step=\", step, \"cre=\", cre, \"acc=\", acc)\n",
    "# 최종적인 정답률 구하기\n",
    "acc = sess.run(accuracy, feed_dict={x: test_pat, y_: test_ans})\n",
    "print(\"정답률 =\", acc)"
   ]
  },
  {
   "cell_type": "code",
   "execution_count": 1,
   "metadata": {},
   "outputs": [
    {
     "name": "stdout",
     "output_type": "stream",
     "text": [
      "600\n"
     ]
    }
   ],
   "source": [
    "'''\n",
    "TensorBoard\n",
    " 데이터의 흐름을 시각화하는 도구\n",
    " 로그 데이터를 저장할 폴더 준비\n",
    " tensorbord –logdir = 로그데이터 저장폴더\n",
    " localhost:6006\n",
    "'''\n",
    "import tensorflow as tf\n",
    "# 데이터 플로우 그래프 구축하기\n",
    "a = tf.constant(20, name=\"a\")\n",
    "b = tf.constant(30, name=\"b\")\n",
    "mul_op = a * b\n",
    "# 세션 생성하기\n",
    "sess = tf.Session()\n",
    "# TensorBoard 사용하기\n",
    "tw = tf.summary.FileWriter(\"log_dir\", graph=sess.graph)#sklearn머신러닝 학습폴더 바로 하단에 폴더및 그래프 생성 \n",
    "# 세션 실행하기\n",
    "print(sess.run(mul_op))\n"
   ]
  },
  {
   "cell_type": "code",
   "execution_count": 2,
   "metadata": {},
   "outputs": [],
   "source": [
    "import pandas as pd\n",
    "import numpy as np\n",
    "import tensorflow as tf\n",
    "# 키, 몸무게, 레이블이 적힌 CSV 파일 읽어 들이기\n",
    "csv = pd.read_csv(\"data/bmi.csv\")\n",
    "\n",
    "# 데이터 정규화\n",
    "csv[\"height\"] = csv[\"height\"] / 200\n",
    "csv[\"weight\"] = csv[\"weight\"] / 100\n",
    "\n",
    "# 레이블을 배열로 변환하기\n",
    "# - thin=(1,0,0) / normal=(0,1,0) / fat=(0,0,1)\n",
    "bclass = {\"thin\": [1,0,0], \"normal\": [0,1,0], \"fat\": [0,0,1]}\n",
    "csv[\"label_pat\"] = csv[\"label\"].apply(lambda x : np.array(bclass[x]))\n",
    "\n",
    "# 테스트를 위한 데이터 분류\n",
    "test_csv = csv[15000:20000]\n",
    "test_pat = test_csv[[\"weight\",\"height\"]]\n",
    "test_ans = list(test_csv[\"label_pat\"])\n",
    "\n",
    "# 플레이스홀더로 이름 붙이기\n",
    "x = tf.placeholder(tf.float32, [None, 2], name=\"x\")\n",
    "y_ = tf.placeholder(tf.float32, [None, 3], name=\"y_\")"
   ]
  },
  {
   "cell_type": "code",
   "execution_count": 4,
   "metadata": {},
   "outputs": [],
   "source": [
    "# interface 부분을 스코프로 묶기\n",
    "with tf.name_scope('interface') as scope:\n",
    "    W = tf.Variable(tf.zeros([2, 3]), name=\"W\"); # 가중치\n",
    "    b = tf.Variable(tf.zeros([3]), name=\"b\"); # 바이어스\n",
    "\n",
    "# 소프트맥스 회귀 정의 --- (※7)\n",
    "with tf.name_scope('softmax') as scope:\n",
    "    y = tf.nn.softmax(tf.matmul(x, W) + b)\n",
    "\n",
    "# loss 계산을 스코프로 묶기\n",
    "with tf.name_scope('loss') as scope:\n",
    "    cross_entropy = -tf.reduce_sum(y_ * tf.log(y))\n",
    "\n",
    "# training 계산을 스코프로 묶기\n",
    "with tf.name_scope('training') as scope:\n",
    "    optimizer = tf.train.GradientDescentOptimizer(0.01)\n",
    "    train = optimizer.minimize(cross_entropy)\n",
    "\n",
    "# accuracy 계산을 스코프로 묶기\n",
    "with tf.name_scope('accuracy') as scope:\n",
    "    predict = tf.equal(tf.argmax(y, 1), tf.argmax(y_,1))\n",
    "    accuracy = tf.reduce_mean(tf.cast(predict, tf.float32))"
   ]
  },
  {
   "cell_type": "code",
   "execution_count": 7,
   "metadata": {},
   "outputs": [
    {
     "name": "stdout",
     "output_type": "stream",
     "text": [
      "WARNING:tensorflow:From C:\\Users\\student\\Anaconda3\\envs\\gpu_env\\lib\\site-packages\\tensorflow_core\\python\\util\\tf_should_use.py:198: initialize_all_variables (from tensorflow.python.ops.variables) is deprecated and will be removed after 2017-03-02.\n",
      "Instructions for updating:\n",
      "Use `tf.global_variables_initializer` instead.\n",
      "step= 0 cre= 106.53722 acc= 0.3808\n",
      "step= 500 cre= 53.56096 acc= 0.8708\n",
      "step= 1000 cre= 40.585423 acc= 0.8818\n",
      "step= 1500 cre= 35.822723 acc= 0.9172\n",
      "step= 2000 cre= 35.747204 acc= 0.9176\n",
      "step= 2500 cre= 32.14396 acc= 0.9452\n",
      "step= 3000 cre= 29.824009 acc= 0.9624\n",
      "정답률= 0.9656\n"
     ]
    }
   ],
   "source": [
    "# 세션 시작하기\n",
    "with tf.Session() as sess:\n",
    "    #tw = tf.train.SummaryWriter(\"log_dir\", graph=sess.graph) #지원안함\n",
    "    tw = tf.summary.FileWriter(\"log_dir\", graph=sess.graph)\n",
    "    sess.run(tf.initialize_all_variables()) # 변수 초기화하기\n",
    "   \n",
    "    # 테스트 데이터를 이용해 학습하기\n",
    "    for step in range(3500):\n",
    "        i = (step * 100) % 14000\n",
    "        rows = csv[1 + i : 1 + i + 100]\n",
    "        x_pat = rows[[\"weight\",\"height\"]]\n",
    "        y_ans = list(rows[\"label_pat\"])\n",
    "        fd = {x: x_pat, y_: y_ans}\n",
    "        sess.run(train, feed_dict=fd)\n",
    "        if step % 500 == 0:\n",
    "            cre = sess.run(cross_entropy, feed_dict=fd)\n",
    "            acc = sess.run(accuracy, feed_dict={x: test_pat, y_: test_ans})\n",
    "            print(\"step=\", step, \"cre=\", cre, \"acc=\", acc)\n",
    "\n",
    "    # 최종적인 정답률 구하기\n",
    "    acc = sess.run(accuracy, feed_dict={x: test_pat, y_: test_ans})\n",
    "    print(\"정답률=\", acc)"
   ]
  },
  {
   "cell_type": "code",
   "execution_count": null,
   "metadata": {},
   "outputs": [],
   "source": [
    "######################################################################################################"
   ]
  },
  {
   "cell_type": "code",
   "execution_count": null,
   "metadata": {},
   "outputs": [],
   "source": [
    "'''\n",
    "Keras\n",
    " 머신러닝 라이브러리 Theano와 TensorFlow를 래핑한 라이브러리\n",
    " https://keras.io/\n",
    " Sequential로 딥러닝의 각 층을 add()로 추가\n",
    " 활성화 함수, Dropout 등 add()로 간단하게 추가\n",
    " compile()로 모델 구축\n",
    " loss 로 최적화 함수 지정\n",
    " fit() 로 모델에 데이터를 학습시킴\n",
    " Keras로 머신러닝을 수행할 때 Numpy 배열 데이터를 전달해야 한다\n",
    "'''\n"
   ]
  },
  {
   "cell_type": "code",
   "execution_count": 11,
   "metadata": {},
   "outputs": [
    {
     "name": "stderr",
     "output_type": "stream",
     "text": [
      "C:\\Users\\student\\Anaconda3\\envs\\gpu_env\\lib\\site-packages\\ipykernel_launcher.py:14: FutureWarning: Method .as_matrix will be removed in a future version. Use .values instead.\n",
      "  \n"
     ]
    }
   ],
   "source": [
    "# Keras 이용하여 앞서 BMI 예제를 풀어보자 \n",
    "\n",
    "from keras.models import Sequential\n",
    "from keras.layers.core import Dense, Dropout, Activation\n",
    "from keras.callbacks import EarlyStopping\n",
    "import pandas as pd, numpy as np\n",
    "\n",
    "# BMI 데이터를 읽어 들이고 정규화하기\n",
    "csv = pd.read_csv(\"data/bmi.csv\")\n",
    "\n",
    "# 몸무게와 키 데이터\n",
    "csv[\"weight\"] /= 100\n",
    "csv[\"height\"] /= 200\n",
    "X = csv[[\"weight\", \"height\"]].as_matrix()\n",
    "\n",
    "# 레이블\n",
    "bclass = {\"thin\":[1,0,0], \"normal\":[0,1,0], \"fat\":[0,0,1]}\n",
    "y = np.empty((20000,3))\n",
    "for i, v in enumerate(csv[\"label\"]):\n",
    "    y[i] = bclass[v]\n",
    "\n",
    "# 훈련 전용 데이터와 테스트 전용 데이터로 나누기\n",
    "X_train, y_train = X[1:15001], y[1:15001]\n",
    "X_test, y_test = X[15001:20001], y[15001:20001]\n",
    "\n",
    "# 모델 구조 정의하기\n",
    "model = Sequential()\n",
    "model.add(Dense(512, input_shape=(2,)))\n",
    "model.add(Activation('relu'))\n",
    "model.add(Dropout(0.1))\n",
    "model.add(Dense(512))\n",
    "model.add(Activation('relu'))\n",
    "model.add(Dropout(0.1))\n",
    "model.add(Dense(3))\n",
    "model.add(Activation('softmax'))"
   ]
  },
  {
   "cell_type": "code",
   "execution_count": 12,
   "metadata": {
    "scrolled": true
   },
   "outputs": [
    {
     "name": "stderr",
     "output_type": "stream",
     "text": [
      "C:\\Users\\student\\Anaconda3\\envs\\gpu_env\\lib\\site-packages\\ipykernel_launcher.py:11: UserWarning: The `nb_epoch` argument in `fit` has been renamed `epochs`.\n",
      "  # This is added back by InteractiveShellApp.init_path()\n"
     ]
    },
    {
     "name": "stdout",
     "output_type": "stream",
     "text": [
      "WARNING:tensorflow:From C:\\Users\\student\\Anaconda3\\envs\\gpu_env\\lib\\site-packages\\keras\\backend\\tensorflow_backend.py:422: The name tf.global_variables is deprecated. Please use tf.compat.v1.global_variables instead.\n",
      "\n",
      "WARNING:tensorflow:From C:\\Users\\student\\Anaconda3\\envs\\gpu_env\\lib\\site-packages\\keras\\backend\\tensorflow_backend.py:431: The name tf.is_variable_initialized is deprecated. Please use tf.compat.v1.is_variable_initialized instead.\n",
      "\n",
      "WARNING:tensorflow:From C:\\Users\\student\\Anaconda3\\envs\\gpu_env\\lib\\site-packages\\keras\\backend\\tensorflow_backend.py:438: The name tf.variables_initializer is deprecated. Please use tf.compat.v1.variables_initializer instead.\n",
      "\n",
      "Train on 13500 samples, validate on 1500 samples\n",
      "Epoch 1/20\n",
      "13500/13500 [==============================] - 1s 98us/step - loss: 0.5089 - accuracy: 0.7964 - val_loss: 0.2687 - val_accuracy: 0.8960\n",
      "Epoch 2/20\n",
      "13500/13500 [==============================] - 1s 74us/step - loss: 0.2473 - accuracy: 0.9014 - val_loss: 0.1662 - val_accuracy: 0.9460\n",
      "Epoch 3/20\n",
      "13500/13500 [==============================] - 1s 73us/step - loss: 0.1895 - accuracy: 0.9208 - val_loss: 0.1186 - val_accuracy: 0.9807\n",
      "Epoch 4/20\n",
      "13500/13500 [==============================] - 1s 73us/step - loss: 0.1613 - accuracy: 0.9359 - val_loss: 0.1011 - val_accuracy: 0.9760\n",
      "Epoch 5/20\n",
      "13500/13500 [==============================] - 1s 75us/step - loss: 0.1480 - accuracy: 0.9350 - val_loss: 0.1888 - val_accuracy: 0.9027\n",
      "Epoch 6/20\n",
      "13500/13500 [==============================] - 1s 74us/step - loss: 0.1354 - accuracy: 0.9432 - val_loss: 0.0814 - val_accuracy: 0.9813\n",
      "Epoch 7/20\n",
      "13500/13500 [==============================] - 1s 73us/step - loss: 0.1372 - accuracy: 0.9424 - val_loss: 0.2502 - val_accuracy: 0.8827\n",
      "Epoch 8/20\n",
      "13500/13500 [==============================] - 1s 74us/step - loss: 0.1265 - accuracy: 0.9463 - val_loss: 0.1473 - val_accuracy: 0.9193\n",
      "4999/4999 [==============================] - 0s 60us/step\n",
      "loss= 0.13114018563742302\n",
      "accuracy= 0.9303860664367676\n"
     ]
    }
   ],
   "source": [
    "\n",
    "# 모델 구축하기\n",
    "model.compile( loss='categorical_crossentropy', optimizer=\"rmsprop\", metrics=['accuracy'])\n",
    "\n",
    "# 데이터 훈련하기\n",
    "hist = model.fit(\n",
    "    X_train, y_train,\n",
    "    batch_size=100,\n",
    "    nb_epoch=20,\n",
    "    validation_split=0.1,\n",
    "    callbacks=[EarlyStopping(monitor='val_loss', patience=2)],\n",
    "    verbose=1)\n",
    "\n",
    "# 테스트 데이터로 평가하기\n",
    "score = model.evaluate(X_test, y_test)\n",
    "print('loss=', score[0])\n",
    "print('accuracy=', score[1])"
   ]
  },
  {
   "cell_type": "code",
   "execution_count": null,
   "metadata": {},
   "outputs": [],
   "source": [
    "'''\n",
    "Keras이용 BMI 판정\n",
    " weight decay( 가중치 감소) - 학습중 가중치가 큰 것에 대해서 패널티를 부과해 과적합의 위험을 줄이는 방법\n",
    " Dropout - 복잡한 신경망에서 가중치 감소만으로 과적합을 피하기 어려운 경우 뉴런의 연결을 임의로 삭제시켜 신호\n",
    "를 전달하지 못하도록 하는 방법\n",
    " softmax 회귀 - 입력받은 값을 출력으로 0~1사이의 값으로 모두 정규화하여 출력값들의 총합은 항상 1이 되는 특성의\n",
    "함수\n",
    " 분류하고 싶은 클래스 수 만큼 출력으로 구성\n",
    " 소프트 맥스 결과값을 One hot encoder의 입력으로 연결하면 가장 큰 값만 True값, 나머지는 False\n",
    "값이 나오게 하여 이용 가능하다\n",
    " val_loss는 에포크 힛수가 많아질 수록 감소하다가 다시 증가됨을 보이는 경우, 과적합이 발생한 것입니다.\n",
    " 학습에 더 이상 개선의 여지가 없을 경우 학습을 종료시키는 콜백함수(수행중인 함수에서 지정된 함수를 호출,되부름)\n",
    "는 EarlyStopping 입니다.\n",
    " Dense(출력 뉴런의 수, input_dim=입력 뉴런의 수, init= 가중치 초기화 방법, activation=활성화 함수)\n",
    " relu 활성화 함수는 은닉층에 주로 사용\n",
    " sigmoid 활성화 함수는 이진 분류 문제에서 출력층에 주로 사용\n",
    " softmax 활성화 함수는 다중 클래스 분류 문제에서 출력층에 주로 사용\n",
    "\n",
    "'''"
   ]
  }
 ],
 "metadata": {
  "kernelspec": {
   "display_name": "[GPU_ENV]",
   "language": "python",
   "name": "gpu_env"
  },
  "language_info": {
   "codemirror_mode": {
    "name": "ipython",
    "version": 3
   },
   "file_extension": ".py",
   "mimetype": "text/x-python",
   "name": "python",
   "nbconvert_exporter": "python",
   "pygments_lexer": "ipython3",
   "version": "3.6.10"
  }
 },
 "nbformat": 4,
 "nbformat_minor": 2
}
