{
 "cells": [
  {
   "cell_type": "code",
   "execution_count": 11,
   "metadata": {},
   "outputs": [
    {
     "data": {
      "text/plain": [
       "array([[0.49140089, 0.74294782]])"
      ]
     },
     "execution_count": 11,
     "metadata": {},
     "output_type": "execute_result"
    }
   ],
   "source": [
    "## KNN에 대해서 배워보자 \n",
    "\n",
    "\n",
    "'''\n",
    "KNN(K-Nearest Neighbors)\n",
    "k-최근접 이웃 알고리즘은 특정 공간 내에서 입력과 제일 근접한(가까운) k개의 요소를 찾아\n",
    "더 많이 일치하는 클래스로 분류하는 알고리즘\n",
    "가장 단순한 지도 학습 알고리즘\n",
    "가까운 멤버에는 가중치를 높게 주고, 멀리 떨어진 멤버에는 가중치를 낮게 주어 처리하는 것이 좋습니다.\n",
    "'''\n",
    "\n",
    "# 샘플 데이터로부터 가장 가까운 K개의 이웃 찾기 \n",
    "\n",
    "from sklearn.datasets import load_iris\n",
    "from sklearn.neighbors import  NearestNeighbors\n",
    "from sklearn.preprocessing import StandardScaler\n",
    "\n",
    "iris = load_iris()\n",
    "features = iris.data\n",
    "#특성 정규화\n",
    "features_standard = StandardScaler().fit_transform(features)\n",
    "\n",
    "nearest_neighbors = NearestNeighbors(n_neighbors=2).fit(features_standard)\n",
    "new_observation = [1,1,1,1]\n",
    "#새로운 샘플 데이터의 최근접 이웃의 인덱스와 거리 반환\n",
    "distances, indices = nearest_neighbors.kneighbors([new_observation]) \n",
    "features_standard [indices]   #최근접 이웃 확인 \n",
    "distances"
   ]
  },
  {
   "cell_type": "code",
   "execution_count": 12,
   "metadata": {},
   "outputs": [
    {
     "data": {
      "text/plain": [
       "array([[0.49140089, 0.74294782]])"
      ]
     },
     "execution_count": 12,
     "metadata": {},
     "output_type": "execute_result"
    }
   ],
   "source": [
    "#nearest_neighbors_euclidean= NearestNeighbors(n_neighbors=2,  metric='euclidean' ).fit(features_standard)\n",
    "nearest_neighbors_euclidean= NearestNeighbors(n_neighbors=2,  metric='euclidean' ).fit(features_standard)\n",
    "distances"
   ]
  },
  {
   "cell_type": "code",
   "execution_count": 27,
   "metadata": {},
   "outputs": [
    {
     "data": {
      "text/plain": [
       "array([[0.49140089, 0.74294782]])"
      ]
     },
     "execution_count": 27,
     "metadata": {},
     "output_type": "execute_result"
    }
   ],
   "source": [
    "nn_euclidean = NearestNeighbors(n_neighbors=3, metric='euclidean').fit(features_standard) \n",
    "distances"
   ]
  },
  {
   "cell_type": "code",
   "execution_count": 28,
   "metadata": {},
   "outputs": [
    {
     "name": "stdout",
     "output_type": "stream",
     "text": [
      "[0. 0. 0. 0. 0. 0. 0. 0. 0. 0. 0. 0. 0. 0. 0. 0. 0. 1. 0. 0. 0. 0. 0. 0.\n",
      " 0. 0. 0. 1. 0. 0. 0. 0. 0. 0. 0. 0. 0. 0. 0. 0. 0. 0. 0. 0. 0. 0. 0. 0.\n",
      " 0. 0. 0. 0. 0. 0. 0. 0. 0. 0. 0. 0. 0. 0. 0. 0. 0. 0. 0. 0. 0. 0. 0. 0.\n",
      " 0. 0. 0. 0. 0. 0. 0. 0. 0. 0. 0. 0. 0. 0. 0. 0. 0. 0. 0. 0. 0. 0. 0. 0.\n",
      " 0. 0. 0. 0. 0. 0. 0. 0. 0. 0. 0. 0. 0. 0. 0. 0. 0. 0. 0. 0. 0. 0. 0. 0.\n",
      " 0. 0. 0. 0. 0. 0. 0. 0. 0. 0. 0. 0. 0. 0. 0. 0. 0. 0. 0. 0. 0. 0. 0. 0.\n",
      " 0. 0. 0. 0. 0. 0.]\n"
     ]
    }
   ],
   "source": [
    "nn_with_self = nn_euclidean.kneighbors_graph(features_standard).toarray()\n",
    "#최근접 이웃 중에서 1로 표시된 자기 자신을 제외시킵니다.\n",
    "for i, x in enumerate(nn_with_self) :\n",
    "    x[i] = 0\n",
    "\n",
    "print(nn_with_self[0]) #첫번째 샘플에 대한 최근접 이웃 확인\n"
   ]
  },
  {
   "cell_type": "code",
   "execution_count": 29,
   "metadata": {},
   "outputs": [
    {
     "data": {
      "text/plain": [
       "array([[[1.03800476, 0.55861082, 1.10378283, 1.18556721],\n",
       "        [0.79566902, 0.32841405, 0.76275827, 1.05393502],\n",
       "        [0.4321654 , 0.78880759, 0.93327055, 1.44883158],\n",
       "        [0.55333328, 0.78880759, 1.0469454 , 1.58046376],\n",
       "        [1.03800476, 0.55861082, 1.10378283, 1.71209594]]])"
      ]
     },
     "execution_count": 29,
     "metadata": {},
     "output_type": "execute_result"
    }
   ],
   "source": [
    "#샘플과 가까운 최근접 이웃 5개 인덱스 찾기\n",
    "indices = nn_euclidean.kneighbors([new_observation], n_neighbors=5, return_distance=False)\n",
    "features_standard[indices]   #최근접 이웃 확인 (5개)"
   ]
  },
  {
   "cell_type": "code",
   "execution_count": 36,
   "metadata": {},
   "outputs": [
    {
     "data": {
      "text/plain": [
       "array([[1.03800476, 0.55861082, 1.10378283, 1.18556721]])"
      ]
     },
     "execution_count": 36,
     "metadata": {},
     "output_type": "execute_result"
    }
   ],
   "source": [
    "# 반경 0.5 안에 있는 모든 샘플의 인덱스를 찾습니다.(radius)\n",
    "indices = nn_euclidean.radius_neighbors([new_observation], radius = 0.5 , return_distance=False)\n",
    "features_standard[indices[0]] # 1개"
   ]
  },
  {
   "cell_type": "code",
   "execution_count": 42,
   "metadata": {},
   "outputs": [
    {
     "data": {
      "text/plain": [
       "array([[0., 0., 0., 0., 0., 0., 0., 0., 0., 0., 0., 0., 0., 0., 0., 0.,\n",
       "        0., 0., 0., 0., 0., 0., 0., 0., 0., 0., 0., 0., 0., 0., 0., 0.,\n",
       "        0., 0., 0., 0., 0., 0., 0., 0., 0., 0., 0., 0., 0., 0., 0., 0.,\n",
       "        0., 0., 0., 0., 0., 0., 0., 0., 0., 0., 0., 0., 0., 0., 0., 0.,\n",
       "        0., 0., 0., 0., 0., 0., 0., 0., 0., 0., 0., 0., 0., 0., 0., 0.,\n",
       "        0., 0., 0., 0., 0., 0., 0., 0., 0., 0., 0., 0., 0., 0., 0., 0.,\n",
       "        0., 0., 0., 0., 0., 0., 0., 0., 0., 0., 0., 0., 0., 0., 0., 0.,\n",
       "        0., 0., 0., 0., 0., 0., 0., 0., 0., 0., 0., 0., 1., 0., 0., 0.,\n",
       "        0., 0., 0., 0., 0., 0., 0., 0., 0., 0., 0., 0., 0., 0., 0., 0.,\n",
       "        0., 0., 0., 0., 0., 0.]])"
      ]
     },
     "execution_count": 42,
     "metadata": {},
     "output_type": "execute_result"
    }
   ],
   "source": [
    "#또는 이렇게 표기 \n",
    "nn_with_self = nn_euclidean.radius_neighbors_graph([new_observation], \n",
    "                                                   radius = 0.5).toarray()\n",
    "nn_with_self # 첫번째 샘플 확인 \n"
   ]
  }
 ],
 "metadata": {
  "kernelspec": {
   "display_name": "[CPU_ENV]",
   "language": "python",
   "name": "cpu_env"
  },
  "language_info": {
   "codemirror_mode": {
    "name": "ipython",
    "version": 3
   },
   "file_extension": ".py",
   "mimetype": "text/x-python",
   "name": "python",
   "nbconvert_exporter": "python",
   "pygments_lexer": "ipython3",
   "version": "3.6.9"
  }
 },
 "nbformat": 4,
 "nbformat_minor": 2
}
