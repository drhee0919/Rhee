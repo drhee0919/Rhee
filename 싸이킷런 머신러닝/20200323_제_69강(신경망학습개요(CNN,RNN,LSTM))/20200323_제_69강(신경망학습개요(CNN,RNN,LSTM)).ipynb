{
  "nbformat": 4,
  "nbformat_minor": 0,
  "metadata": {
    "colab": {
      "name": "20200323_제 69강(신경망학습개요(CNN,RNN,LSTM)).ipynb",
      "provenance": [],
      "collapsed_sections": []
    },
    "kernelspec": {
      "name": "python3",
      "display_name": "Python 3"
    },
    "accelerator": "GPU"
  },
  "cells": [
    {
      "cell_type": "code",
      "metadata": {
        "id": "uvMtroaBv-fL",
        "colab_type": "code",
        "outputId": "79c723e1-3dd9-40b3-9df4-295dab7cb2a8",
        "colab": {
          "base_uri": "https://localhost:8080/",
          "height": 171
        }
      },
      "source": [
        "## 딥러닝 동작원리 이어서 학습 \n",
        "## MNIST 데이터셋을 이용하여 실습해보자 \n",
        "\n",
        "'''\n",
        "MNIST 손글씨 인식하기: 데이터 전처리\n",
        " 28 × 28 = 784개의 속성을 이용해 0~9까지 10개 클래스 중 하나를 맞히는 분류 문제가 됩니다.\n",
        " Reshape() 함수를 사용하여 가로 28, 세로 28의 2차원 배열을 784개의 1차원 배열로 바꿔 주어야 합니다.\n",
        " 케라스는 데이터를 0에서 1 사이의 값으로 변환해야 구동할 때 최적의 성능을 보이므로 0~255 사이의\n",
        "값으로 이루어진 값을 0~1 사이의 값으로 값을 255로 나누어 데이터 정규화(normalization) 합니다.\n",
        " Y_class를 np_utils.to_categorical(클래스, 클래스의 개수)를 사용하여 원-핫 인코딩 합니다.\n",
        "'''\n",
        "\n",
        "from keras.datasets import mnist\n",
        "from keras.utils import np_utils\n",
        "import numpy\n",
        "import sys\n",
        "import tensorflow as tf\n",
        "\n",
        "seed = 0\n",
        "numpy.random.seed(seed) # seed 값 설정\n",
        "tf.set_random_seed(seed)\n",
        "\n",
        "# MNIST 데이터셋 불러오기\n",
        "(X_train, Y_class_train), (X_test, Y_class_test) = mnist.load_data()\n",
        "print(\"학습셋 이미지 수 : %d 개\" % (X_train.shape[0]))\n",
        "print(\"테스트셋 이미지 수 : %d 개\" % (X_test.shape[0]))"
      ],
      "execution_count": 1,
      "outputs": [
        {
          "output_type": "stream",
          "text": [
            "Using TensorFlow backend.\n"
          ],
          "name": "stderr"
        },
        {
          "output_type": "display_data",
          "data": {
            "text/html": [
              "<p style=\"color: red;\">\n",
              "The default version of TensorFlow in Colab will soon switch to TensorFlow 2.x.<br>\n",
              "We recommend you <a href=\"https://www.tensorflow.org/guide/migrate\" target=\"_blank\">upgrade</a> now \n",
              "or ensure your notebook will continue to use TensorFlow 1.x via the <code>%tensorflow_version 1.x</code> magic:\n",
              "<a href=\"https://colab.research.google.com/notebooks/tensorflow_version.ipynb\" target=\"_blank\">more info</a>.</p>\n"
            ],
            "text/plain": [
              "<IPython.core.display.HTML object>"
            ]
          },
          "metadata": {
            "tags": []
          }
        },
        {
          "output_type": "stream",
          "text": [
            "Downloading data from https://s3.amazonaws.com/img-datasets/mnist.npz\n",
            "11493376/11490434 [==============================] - 2s 0us/step\n",
            "학습셋 이미지 수 : 60000 개\n",
            "테스트셋 이미지 수 : 10000 개\n"
          ],
          "name": "stdout"
        }
      ]
    },
    {
      "cell_type": "code",
      "metadata": {
        "id": "lVXecvnvwlvd",
        "colab_type": "code",
        "outputId": "b51e7dd1-a2da-45d0-c3fa-6a4a0aca68e3",
        "colab": {
          "base_uri": "https://localhost:8080/",
          "height": 825
        }
      },
      "source": [
        "import matplotlib.pyplot as plt # 그래프로 확인\n",
        "plt.imshow(X_train[0], cmap='Greys')\n",
        "plt.show()\n",
        "\n",
        "for x in X_train[0]: # 코드로 확인\n",
        "    for i in x:\n",
        "        sys.stdout.write('%d\\t' % i)\n",
        "    sys.stdout.write('\\n')\n",
        "\n",
        "# 차원 변환 과정\n",
        "X_train = X_train.reshape(X_train.shape[0], 784)\n",
        "X_train = X_train.astype('float64')\n",
        "X_train = X_train / 255\n",
        "X_test = X_test.reshape(X_test.shape[0], 784).astype('float64') /255\n",
        "\n",
        "print(\"class : %d \" % (Y_class_train[0])) # 클래스 값 확인\n",
        "\n",
        "# 바이너리화 과정\n",
        "Y_train = np_utils.to_categorical(Y_class_train, 10)\n",
        "Y_test = np_utils.to_categorical(Y_class_test, 10)\n",
        "print(Y_train[0])"
      ],
      "execution_count": 2,
      "outputs": [
        {
          "output_type": "display_data",
          "data": {
            "image/png": "[encoded data removed]",
            "text/plain": [
              "<Figure size 432x288 with 1 Axes>"
            ]
          },
          "metadata": {
            "tags": []
          }
        },
        {
          "output_type": "stream",
          "text": [
            "0\t0\t0\t0\t0\t0\t0\t0\t0\t0\t0\t0\t0\t0\t0\t0\t0\t0\t0\t0\t0\t0\t0\t0\t0\t0\t0\t0\t\n",
            "0\t0\t0\t0\t0\t0\t0\t0\t0\t0\t0\t0\t0\t0\t0\t0\t0\t0\t0\t0\t0\t0\t0\t0\t0\t0\t0\t0\t\n",
            "0\t0\t0\t0\t0\t0\t0\t0\t0\t0\t0\t0\t0\t0\t0\t0\t0\t0\t0\t0\t0\t0\t0\t0\t0\t0\t0\t0\t\n",
            "0\t0\t0\t0\t0\t0\t0\t0\t0\t0\t0\t0\t0\t0\t0\t0\t0\t0\t0\t0\t0\t0\t0\t0\t0\t0\t0\t0\t\n",
            "0\t0\t0\t0\t0\t0\t0\t0\t0\t0\t0\t0\t0\t0\t0\t0\t0\t0\t0\t0\t0\t0\t0\t0\t0\t0\t0\t0\t\n",
            "0\t0\t0\t0\t0\t0\t0\t0\t0\t0\t0\t0\t3\t18\t18\t18\t126\t136\t175\t26\t166\t255\t247\t127\t0\t0\t0\t0\t\n",
            "0\t0\t0\t0\t0\t0\t0\t0\t30\t36\t94\t154\t170\t253\t253\t253\t253\t253\t225\t172\t253\t242\t195\t64\t0\t0\t0\t0\t\n",
            "0\t0\t0\t0\t0\t0\t0\t49\t238\t253\t253\t253\t253\t253\t253\t253\t253\t251\t93\t82\t82\t56\t39\t0\t0\t0\t0\t0\t\n",
            "0\t0\t0\t0\t0\t0\t0\t18\t219\t253\t253\t253\t253\t253\t198\t182\t247\t241\t0\t0\t0\t0\t0\t0\t0\t0\t0\t0\t\n",
            "0\t0\t0\t0\t0\t0\t0\t0\t80\t156\t107\t253\t253\t205\t11\t0\t43\t154\t0\t0\t0\t0\t0\t0\t0\t0\t0\t0\t\n",
            "0\t0\t0\t0\t0\t0\t0\t0\t0\t14\t1\t154\t253\t90\t0\t0\t0\t0\t0\t0\t0\t0\t0\t0\t0\t0\t0\t0\t\n",
            "0\t0\t0\t0\t0\t0\t0\t0\t0\t0\t0\t139\t253\t190\t2\t0\t0\t0\t0\t0\t0\t0\t0\t0\t0\t0\t0\t0\t\n",
            "0\t0\t0\t0\t0\t0\t0\t0\t0\t0\t0\t11\t190\t253\t70\t0\t0\t0\t0\t0\t0\t0\t0\t0\t0\t0\t0\t0\t\n",
            "0\t0\t0\t0\t0\t0\t0\t0\t0\t0\t0\t0\t35\t241\t225\t160\t108\t1\t0\t0\t0\t0\t0\t0\t0\t0\t0\t0\t\n",
            "0\t0\t0\t0\t0\t0\t0\t0\t0\t0\t0\t0\t0\t81\t240\t253\t253\t119\t25\t0\t0\t0\t0\t0\t0\t0\t0\t0\t\n",
            "0\t0\t0\t0\t0\t0\t0\t0\t0\t0\t0\t0\t0\t0\t45\t186\t253\t253\t150\t27\t0\t0\t0\t0\t0\t0\t0\t0\t\n",
            "0\t0\t0\t0\t0\t0\t0\t0\t0\t0\t0\t0\t0\t0\t0\t16\t93\t252\t253\t187\t0\t0\t0\t0\t0\t0\t0\t0\t\n",
            "0\t0\t0\t0\t0\t0\t0\t0\t0\t0\t0\t0\t0\t0\t0\t0\t0\t249\t253\t249\t64\t0\t0\t0\t0\t0\t0\t0\t\n",
            "0\t0\t0\t0\t0\t0\t0\t0\t0\t0\t0\t0\t0\t0\t46\t130\t183\t253\t253\t207\t2\t0\t0\t0\t0\t0\t0\t0\t\n",
            "0\t0\t0\t0\t0\t0\t0\t0\t0\t0\t0\t0\t39\t148\t229\t253\t253\t253\t250\t182\t0\t0\t0\t0\t0\t0\t0\t0\t\n",
            "0\t0\t0\t0\t0\t0\t0\t0\t0\t0\t24\t114\t221\t253\t253\t253\t253\t201\t78\t0\t0\t0\t0\t0\t0\t0\t0\t0\t\n",
            "0\t0\t0\t0\t0\t0\t0\t0\t23\t66\t213\t253\t253\t253\t253\t198\t81\t2\t0\t0\t0\t0\t0\t0\t0\t0\t0\t0\t\n",
            "0\t0\t0\t0\t0\t0\t18\t171\t219\t253\t253\t253\t253\t195\t80\t9\t0\t0\t0\t0\t0\t0\t0\t0\t0\t0\t0\t0\t\n",
            "0\t0\t0\t0\t55\t172\t226\t253\t253\t253\t253\t244\t133\t11\t0\t0\t0\t0\t0\t0\t0\t0\t0\t0\t0\t0\t0\t0\t\n",
            "0\t0\t0\t0\t136\t253\t253\t253\t212\t135\t132\t16\t0\t0\t0\t0\t0\t0\t0\t0\t0\t0\t0\t0\t0\t0\t0\t0\t\n",
            "0\t0\t0\t0\t0\t0\t0\t0\t0\t0\t0\t0\t0\t0\t0\t0\t0\t0\t0\t0\t0\t0\t0\t0\t0\t0\t0\t0\t\n",
            "0\t0\t0\t0\t0\t0\t0\t0\t0\t0\t0\t0\t0\t0\t0\t0\t0\t0\t0\t0\t0\t0\t0\t0\t0\t0\t0\t0\t\n",
            "0\t0\t0\t0\t0\t0\t0\t0\t0\t0\t0\t0\t0\t0\t0\t0\t0\t0\t0\t0\t0\t0\t0\t0\t0\t0\t0\t0\t\n",
            "class : 5 \n",
            "[0. 0. 0. 0. 0. 1. 0. 0. 0. 0.]\n"
          ],
          "name": "stdout"
        }
      ]
    },
    {
      "cell_type": "code",
      "metadata": {
        "id": "SE4sHSBQw9x1",
        "colab_type": "code",
        "colab": {
          "base_uri": "https://localhost:8080/",
          "height": 145
        },
        "outputId": "9c841389-0588-413e-eb12-fa89f430fa97"
      },
      "source": [
        "'''\n",
        "MNIST 손글씨 인식하기: 딥러닝 실행\n",
        " 딥러닝을 실행하고자 프레임을 설정( 총 784개의 속성, 10개의 클래스)\n",
        " 입력 값(input_dim)이 784개, 은닉층이 512개 , 출력이 10개인 모델\n",
        " 활성화 함수로 은닉층에서는 relu를, 출력층에서는 softmax를 사용합니다\n",
        " 모델의 실행에 앞서 모델의 성과를 저장하고 모델의 최적화 단계에서 학습을 자동 중단하게끔 설정합니\n",
        "다.\n",
        " 샘플 200개를 모두 30번 실행하게끔 설정합니다.\n",
        " 테스트셋으로 최종 모델의 성과를 측정하여 그 값을 출력합니다.\n",
        " 학습셋의 정확도 대신 학습셋의 오차를 그래프로 표현해봅니다\n",
        " 학습셋의 오차는 1에서 학습셋의 정확도를 뺀 값입니다.\n",
        "'''\n",
        "from keras.models import Sequential\n",
        "from keras.layers import Dense\n",
        "from keras.callbacks import ModelCheckpoint,EarlyStopping\n",
        "import matplotlib.pyplot as plt\n",
        "import os\n",
        "\n",
        "# 모델 프레임 설정\n",
        "model = Sequential()\n",
        "model.add(Dense(512, input_dim=784, activation='relu'))\n",
        "model.add(Dense(10, activation='softmax'))"
      ],
      "execution_count": 3,
      "outputs": [
        {
          "output_type": "stream",
          "text": [
            "WARNING:tensorflow:From /usr/local/lib/python3.6/dist-packages/keras/backend/tensorflow_backend.py:66: The name tf.get_default_graph is deprecated. Please use tf.compat.v1.get_default_graph instead.\n",
            "\n",
            "WARNING:tensorflow:From /usr/local/lib/python3.6/dist-packages/keras/backend/tensorflow_backend.py:541: The name tf.placeholder is deprecated. Please use tf.compat.v1.placeholder instead.\n",
            "\n",
            "WARNING:tensorflow:From /usr/local/lib/python3.6/dist-packages/keras/backend/tensorflow_backend.py:4432: The name tf.random_uniform is deprecated. Please use tf.random.uniform instead.\n",
            "\n"
          ],
          "name": "stdout"
        }
      ]
    },
    {
      "cell_type": "code",
      "metadata": {
        "id": "SiQkfFuLxJS8",
        "colab_type": "code",
        "outputId": "2b17cbb6-0f0c-4403-fca3-f082cff05c4e",
        "colab": {
          "base_uri": "https://localhost:8080/",
          "height": 1000
        }
      },
      "source": [
        "# 모델 실행 환경 설정\n",
        "model.compile(loss='categorical_crossentropy', optimizer='adam', metrics=['accuracy'])\n",
        "\n",
        "# 모델 최적화 설정\n",
        "MODEL_DIR = '/content/drive/My Drive/Colab Notebooks/싸이킷런 머신러닝(박태정T)/data/output/model(MNIST)'\n",
        "if not os.path.exists(MODEL_DIR):\n",
        "    os.mkdir(MODEL_DIR)\n",
        "\n",
        "modelpath='/content/drive/My Drive/Colab Notebooks/싸이킷런 머신러닝(박태정T)/data/output/model(MNIST)/{epoch:02d}-{val_loss:.4f}.hdf5'\n",
        "checkpointer = ModelCheckpoint(filepath=modelpath, monitor='val_loss', verbose=1, save_best_only=True)\n",
        "early_stopping_callback = EarlyStopping(monitor='val_loss', patience=10)\n",
        "\n",
        "# 모델의 실행\n",
        "history = model.fit(X_train, Y_train, validation_data=(X_test, Y_test), epochs=30, batch_size=200, verbose=0,\n",
        "                    callbacks=[early_stopping_callback, checkpointer])\n",
        "\n",
        "# 테스트 정확도 출력\n",
        "print(\"\\n Test Accuracy: %.4f\" % (model.evaluate(X_test, Y_test)[1]))\n",
        "\n",
        "# 테스트셋의 오차\n",
        "y_vloss = history.history['val_loss']"
      ],
      "execution_count": 4,
      "outputs": [
        {
          "output_type": "stream",
          "text": [
            "WARNING:tensorflow:From /usr/local/lib/python3.6/dist-packages/keras/optimizers.py:793: The name tf.train.Optimizer is deprecated. Please use tf.compat.v1.train.Optimizer instead.\n",
            "\n",
            "WARNING:tensorflow:From /usr/local/lib/python3.6/dist-packages/keras/backend/tensorflow_backend.py:3576: The name tf.log is deprecated. Please use tf.math.log instead.\n",
            "\n",
            "WARNING:tensorflow:From /tensorflow-1.15.0/python3.6/tensorflow_core/python/ops/math_grad.py:1424: where (from tensorflow.python.ops.array_ops) is deprecated and will be removed in a future version.\n",
            "Instructions for updating:\n",
            "Use tf.where in 2.0, which has the same broadcast rule as np.where\n",
            "WARNING:tensorflow:From /usr/local/lib/python3.6/dist-packages/keras/backend/tensorflow_backend.py:1033: The name tf.assign_add is deprecated. Please use tf.compat.v1.assign_add instead.\n",
            "\n",
            "WARNING:tensorflow:From /usr/local/lib/python3.6/dist-packages/keras/backend/tensorflow_backend.py:1020: The name tf.assign is deprecated. Please use tf.compat.v1.assign instead.\n",
            "\n",
            "WARNING:tensorflow:From /usr/local/lib/python3.6/dist-packages/keras/backend/tensorflow_backend.py:3005: The name tf.Session is deprecated. Please use tf.compat.v1.Session instead.\n",
            "\n",
            "WARNING:tensorflow:From /usr/local/lib/python3.6/dist-packages/keras/backend/tensorflow_backend.py:190: The name tf.get_default_session is deprecated. Please use tf.compat.v1.get_default_session instead.\n",
            "\n",
            "WARNING:tensorflow:From /usr/local/lib/python3.6/dist-packages/keras/backend/tensorflow_backend.py:197: The name tf.ConfigProto is deprecated. Please use tf.compat.v1.ConfigProto instead.\n",
            "\n",
            "WARNING:tensorflow:From /usr/local/lib/python3.6/dist-packages/keras/backend/tensorflow_backend.py:207: The name tf.global_variables is deprecated. Please use tf.compat.v1.global_variables instead.\n",
            "\n",
            "WARNING:tensorflow:From /usr/local/lib/python3.6/dist-packages/keras/backend/tensorflow_backend.py:216: The name tf.is_variable_initialized is deprecated. Please use tf.compat.v1.is_variable_initialized instead.\n",
            "\n",
            "WARNING:tensorflow:From /usr/local/lib/python3.6/dist-packages/keras/backend/tensorflow_backend.py:223: The name tf.variables_initializer is deprecated. Please use tf.compat.v1.variables_initializer instead.\n",
            "\n",
            "\n",
            "Epoch 00001: val_loss improved from inf to 0.15477, saving model to /content/drive/My Drive/Colab Notebooks/싸이킷런 머신러닝(박태정T)/data/output/model(MNIST)/01-0.1548.hdf5\n",
            "\n",
            "Epoch 00002: val_loss improved from 0.15477 to 0.10501, saving model to /content/drive/My Drive/Colab Notebooks/싸이킷런 머신러닝(박태정T)/data/output/model(MNIST)/02-0.1050.hdf5\n",
            "\n",
            "Epoch 00003: val_loss improved from 0.10501 to 0.08405, saving model to /content/drive/My Drive/Colab Notebooks/싸이킷런 머신러닝(박태정T)/data/output/model(MNIST)/03-0.0841.hdf5\n",
            "\n",
            "Epoch 00004: val_loss improved from 0.08405 to 0.07885, saving model to /content/drive/My Drive/Colab Notebooks/싸이킷런 머신러닝(박태정T)/data/output/model(MNIST)/04-0.0788.hdf5\n",
            "\n",
            "Epoch 00005: val_loss improved from 0.07885 to 0.06713, saving model to /content/drive/My Drive/Colab Notebooks/싸이킷런 머신러닝(박태정T)/data/output/model(MNIST)/05-0.0671.hdf5\n",
            "\n",
            "Epoch 00006: val_loss improved from 0.06713 to 0.06400, saving model to /content/drive/My Drive/Colab Notebooks/싸이킷런 머신러닝(박태정T)/data/output/model(MNIST)/06-0.0640.hdf5\n",
            "\n",
            "Epoch 00007: val_loss did not improve from 0.06400\n",
            "\n",
            "Epoch 00008: val_loss improved from 0.06400 to 0.06270, saving model to /content/drive/My Drive/Colab Notebooks/싸이킷런 머신러닝(박태정T)/data/output/model(MNIST)/08-0.0627.hdf5\n",
            "\n",
            "Epoch 00009: val_loss improved from 0.06270 to 0.05846, saving model to /content/drive/My Drive/Colab Notebooks/싸이킷런 머신러닝(박태정T)/data/output/model(MNIST)/09-0.0585.hdf5\n",
            "\n",
            "Epoch 00010: val_loss did not improve from 0.05846\n",
            "\n",
            "Epoch 00011: val_loss did not improve from 0.05846\n",
            "\n",
            "Epoch 00012: val_loss did not improve from 0.05846\n",
            "\n",
            "Epoch 00013: val_loss did not improve from 0.05846\n",
            "\n",
            "Epoch 00014: val_loss did not improve from 0.05846\n",
            "\n",
            "Epoch 00015: val_loss did not improve from 0.05846\n",
            "\n",
            "Epoch 00016: val_loss did not improve from 0.05846\n",
            "\n",
            "Epoch 00017: val_loss did not improve from 0.05846\n",
            "\n",
            "Epoch 00018: val_loss did not improve from 0.05846\n",
            "\n",
            "Epoch 00019: val_loss did not improve from 0.05846\n",
            "10000/10000 [==============================] - 0s 37us/step\n",
            "\n",
            " Test Accuracy: 0.9810\n"
          ],
          "name": "stdout"
        }
      ]
    },
    {
      "cell_type": "code",
      "metadata": {
        "id": "xLl592zpxhjs",
        "colab_type": "code",
        "outputId": "49f8f973-5d82-4879-f06c-2aa9a4c5863b",
        "colab": {
          "base_uri": "https://localhost:8080/",
          "height": 279
        }
      },
      "source": [
        "# 학습셋의 오차\n",
        "y_loss = history.history['loss']\n",
        "\n",
        "# 그래프로 표현\n",
        "x_len = numpy.arange(len(y_loss))\n",
        "plt.plot(x_len, y_vloss, marker='.', c=\"red\", label='Testset loss')\n",
        "plt.plot(x_len, y_loss, marker='.', c=\"blue\", label='Trainset loss')\n",
        "\n",
        "# 그래프에 그리드를 주고 레이블을 표시\n",
        "plt.legend(loc='upper right')\n",
        "\n",
        "# plt.axis([0, 20, 0, 0.35])\n",
        "plt.grid()\n",
        "plt.xlabel('epoch')\n",
        "plt.ylabel('loss')\n",
        "plt.show()"
      ],
      "execution_count": 5,
      "outputs": [
        {
          "output_type": "display_data",
          "data": {
            "image/png": "[encoded data removed]",
            "text/plain": [
              "<Figure size 432x288 with 1 Axes>"
            ]
          },
          "metadata": {
            "tags": []
          }
        }
      ]
    },
    {
      "cell_type": "code",
      "metadata": {
        "id": "Ay3pu4228N1C",
        "colab_type": "code",
        "colab": {
          "base_uri": "https://localhost:8080/",
          "height": 55
        },
        "outputId": "29593cb8-4595-4168-eceb-0c36bf1bec70"
      },
      "source": [
        "'''\n",
        "컨볼루션 신경망(Convolutional Neural Network, CNN)\n",
        " 기본 딥러닝 프레임에 이미지 인식 분야에서 강력한 성능을 보이는 신경망\n",
        " 입력된 이미지에서 다시 한번 특징을 추출하기 위해 마스크(필터, 윈도 또는 커널이라고도 함)를 도입하는\n",
        "기법\n",
        " 입력층과 출력층 사이의 중간층(은폐층)에 합성곱과 풀링층을 배치한 것\n",
        " 이미지를 흐리게 만들거나 경계를 강조하는 작업을 함\n",
        " 합성곱층과 풀링층에서는 해상도를 낮추거나 샘플링하는 처리를 계속 반복함\n",
        "'''\n",
        "\n",
        "'''\n",
        " 합성곱층은 '이미지'의 특징을 추출할 때 사용 → CNN은 이미지 분석에 주로 사용한다 \n",
        " 입력 x의 일부분을 잘라내고, 가중치 필터 W를 적용해 특징 맵 c를 만들어 낼 때 사용\n",
        " 입력 x의 일부분을 조금씩 자르면서 평활화와 윤곽선 검출 처리를 하며, 특징 맵 c를 추출\n",
        " 합성곱층의 역할은 주변의 값과 필터를 사용해 중앙에 있는 값을 변화시키는 것\n",
        " 평활화(Equalization) – 명암의 분포가 균일하지 못한 이미지에 적용해 분포를 균일하게 만들어주는 것\n",
        "'''\n"
      ],
      "execution_count": 6,
      "outputs": [
        {
          "output_type": "execute_result",
          "data": {
            "text/plain": [
              "\"\\n\\uf0a7 합성곱층은 '이미지'의 특징을 추출할 때 사용 → CNN은 이미지 분석에 주로 사용한다 \\n\\uf0a7 입력 x의 일부분을 잘라내고, 가중치 필터 W를 적용해 특징 맵 c를 만들어 낼 때 사용\\n\\uf0a7 입력 x의 일부분을 조금씩 자르면서 평활화와 윤곽선 검출 처리를 하며, 특징 맵 c를 추출\\n\\uf0a7 합성곱층의 역할은 주변의 값과 필터를 사용해 중앙에 있는 값을 변화시키는 것\\n\\uf0a7 평활화(Equalization) – 명암의 분포가 균일하지 못한 이미지에 적용해 분포를 균일하게 만들어주는 것\\n\""
            ]
          },
          "metadata": {
            "tags": []
          },
          "execution_count": 6
        }
      ]
    },
    {
      "cell_type": "code",
      "metadata": {
        "id": "b1L_MpQjD5CK",
        "colab_type": "code",
        "colab": {
          "base_uri": "https://localhost:8080/",
          "height": 55
        },
        "outputId": "9fea3ec8-aec6-4b0a-f878-72e52c1e6274"
      },
      "source": [
        "'''\n",
        "• 대화형 인공지능 - 문장을 듣고 무엇을 의미하는지를 알아야 서비스를 제공\n",
        "• 문장 학습 - 여러 개의 단어로 이루어진 문장의 각 단어가 정해진 순서대로 입력되어야 의미를 전달 할 수\n",
        "있으므로 입력된 데이터 사이의 관계를 고려해야 합니다.\n",
        "• 순환 신경망(Recurrent Neural Network, RNN)은 여러 개의 데이터가 순서대로 입력되었을 때 앞서 입력받\n",
        "은 데이터를 잠시 기억해 놓는 방법입니다.\n",
        "• 모든 입력 값에 기억된 데이터가 얼마나 중요한지를 판단하여 별도의 가중치를 줘서 다음 층으로 데이터로\n",
        "넘어갑니다.\n",
        "'''\n"
      ],
      "execution_count": 7,
      "outputs": [
        {
          "output_type": "execute_result",
          "data": {
            "text/plain": [
              "'\\n• 대화형 인공지능 - 문장을 듣고 무엇을 의미하는지를 알아야 서비스를 제공\\n• 문장 학습 - 여러 개의 단어로 이루어진 문장의 각 단어가 정해진 순서대로 입력되어야 의미를 전달 할 수\\n있으므로 입력된 데이터 사이의 관계를 고려해야 합니다.\\n• 순환 신경망(Recurrent Neural Network, RNN)은 여러 개의 데이터가 순서대로 입력되었을 때 앞서 입력받\\n은 데이터를 잠시 기억해 놓는 방법입니다.\\n• 모든 입력 값에 기억된 데이터가 얼마나 중요한지를 판단하여 별도의 가중치를 줘서 다음 층으로 데이터로\\n넘어갑니다.\\n'"
            ]
          },
          "metadata": {
            "tags": []
          },
          "execution_count": 7
        }
      ]
    },
    {
      "cell_type": "code",
      "metadata": {
        "id": "BA_6e6okEWiU",
        "colab_type": "code",
        "colab": {}
      },
      "source": [
        "# 컨볼루전 신경망을 적용한 MNIST\n",
        "# fiter, pooling, Dropout 적용\n",
        "from keras.datasets import mnist\n",
        "from keras.utils import np_utils\n",
        "from keras.models import Sequential\n",
        "from keras.layers import Dense, Dropout, Flatten, Conv2D, MaxPooling2D\n",
        "from keras.callbacks import ModelCheckpoint,EarlyStopping\n",
        "\n",
        "import matplotlib.pyplot as plt\n",
        "import numpy\n",
        "import os\n",
        "import tensorflow as tf\n",
        "\n",
        "# seed 값 설정\n",
        "seed = 0\n",
        "numpy.random.seed(seed)\n",
        "#tf.set_random_seed(seed)\n",
        "\n",
        "# 데이터 불러오기\n",
        "(X_train, Y_train), (X_test, Y_test) = mnist.load_data()\n",
        "X_train = X_train.reshape(X_train.shape[0], 28, 28, 1).astype('float32') / 255\n",
        "X_test = X_test.reshape(X_test.shape[0], 28, 28, 1).astype('float32') / 255\n",
        "Y_train = np_utils.to_categorical(Y_train)\n",
        "Y_test = np_utils.to_categorical(Y_test)"
      ],
      "execution_count": 0,
      "outputs": []
    },
    {
      "cell_type": "code",
      "metadata": {
        "id": "bcWRCJ8GEp2o",
        "colab_type": "code",
        "outputId": "08abf316-ca20-48fa-b019-408d7550ef3f",
        "colab": {
          "base_uri": "https://localhost:8080/",
          "height": 163
        }
      },
      "source": [
        "# 컨볼루션 신경망의 설정\n",
        "model = Sequential()\n",
        "model.add(Conv2D(32, kernel_size=(3, 3), input_shape=(28, 28, 1), activation='relu'))\n",
        "model.add(Conv2D(64, (3, 3), activation='relu'))\n",
        "model.add(MaxPooling2D(pool_size=2))\n",
        "model.add(Dropout(0.25))\n",
        "model.add(Flatten())\n",
        "model.add(Dense(128,  activation='relu'))\n",
        "model.add(Dropout(0.5))\n",
        "model.add(Dense(10, activation='softmax'))\n",
        "\n",
        "model.compile(loss='categorical_crossentropy',\n",
        "              optimizer='adam',\n",
        "              metrics=['accuracy'])"
      ],
      "execution_count": 9,
      "outputs": [
        {
          "output_type": "stream",
          "text": [
            "WARNING:tensorflow:From /usr/local/lib/python3.6/dist-packages/keras/backend/tensorflow_backend.py:4267: The name tf.nn.max_pool is deprecated. Please use tf.nn.max_pool2d instead.\n",
            "\n",
            "WARNING:tensorflow:From /usr/local/lib/python3.6/dist-packages/keras/backend/tensorflow_backend.py:148: The name tf.placeholder_with_default is deprecated. Please use tf.compat.v1.placeholder_with_default instead.\n",
            "\n",
            "WARNING:tensorflow:From /usr/local/lib/python3.6/dist-packages/keras/backend/tensorflow_backend.py:3733: calling dropout (from tensorflow.python.ops.nn_ops) with keep_prob is deprecated and will be removed in a future version.\n",
            "Instructions for updating:\n",
            "Please use `rate` instead of `keep_prob`. Rate should be set to `rate = 1 - keep_prob`.\n"
          ],
          "name": "stdout"
        }
      ]
    },
    {
      "cell_type": "code",
      "metadata": {
        "id": "VYp_-wFwEt91",
        "colab_type": "code",
        "outputId": "5a1b9b65-caa4-47f4-9b25-ce83e03cc830",
        "colab": {
          "base_uri": "https://localhost:8080/",
          "height": 721
        }
      },
      "source": [
        "# 모델 최적화 설정\n",
        "MODEL_DIR = '/content/drive/My Drive/Colab Notebooks/싸이킷런 머신러닝(박태정T)/data/output/model(MNIST)/'\n",
        "if not os.path.exists(MODEL_DIR):\n",
        "    os.mkdir(MODEL_DIR)\n",
        "\n",
        "modelpath=\"/content/drive/My Drive/Colab Notebooks/싸이킷런 머신러닝(박태정T)/data/output/model(MNIST)/{epoch:02d}-{val_loss:.4f}.hdf5\"\n",
        "checkpointer = ModelCheckpoint(filepath=modelpath, monitor='val_loss', verbose=1, save_best_only=True)\n",
        "early_stopping_callback = EarlyStopping(monitor='val_loss', patience=10)\n",
        "\n",
        "# 모델의 실행\n",
        "history = model.fit(X_train, Y_train, validation_data=(X_test, Y_test), \n",
        "                    epochs=30, batch_size=200, verbose=0, callbacks=[early_stopping_callback,checkpointer])\n"
      ],
      "execution_count": 10,
      "outputs": [
        {
          "output_type": "stream",
          "text": [
            "\n",
            "Epoch 00001: val_loss improved from inf to 0.06006, saving model to /content/drive/My Drive/Colab Notebooks/싸이킷런 머신러닝(박태정T)/data/output/model(MNIST)/01-0.0601.hdf5\n",
            "\n",
            "Epoch 00002: val_loss improved from 0.06006 to 0.04656, saving model to /content/drive/My Drive/Colab Notebooks/싸이킷런 머신러닝(박태정T)/data/output/model(MNIST)/02-0.0466.hdf5\n",
            "\n",
            "Epoch 00003: val_loss improved from 0.04656 to 0.03719, saving model to /content/drive/My Drive/Colab Notebooks/싸이킷런 머신러닝(박태정T)/data/output/model(MNIST)/03-0.0372.hdf5\n",
            "\n",
            "Epoch 00004: val_loss improved from 0.03719 to 0.03192, saving model to /content/drive/My Drive/Colab Notebooks/싸이킷런 머신러닝(박태정T)/data/output/model(MNIST)/04-0.0319.hdf5\n",
            "\n",
            "Epoch 00005: val_loss improved from 0.03192 to 0.02925, saving model to /content/drive/My Drive/Colab Notebooks/싸이킷런 머신러닝(박태정T)/data/output/model(MNIST)/05-0.0292.hdf5\n",
            "\n",
            "Epoch 00006: val_loss did not improve from 0.02925\n",
            "\n",
            "Epoch 00007: val_loss did not improve from 0.02925\n",
            "\n",
            "Epoch 00008: val_loss did not improve from 0.02925\n",
            "\n",
            "Epoch 00009: val_loss improved from 0.02925 to 0.02753, saving model to /content/drive/My Drive/Colab Notebooks/싸이킷런 머신러닝(박태정T)/data/output/model(MNIST)/09-0.0275.hdf5\n",
            "\n",
            "Epoch 00010: val_loss did not improve from 0.02753\n",
            "\n",
            "Epoch 00011: val_loss did not improve from 0.02753\n",
            "\n",
            "Epoch 00012: val_loss did not improve from 0.02753\n",
            "\n",
            "Epoch 00013: val_loss did not improve from 0.02753\n",
            "\n",
            "Epoch 00014: val_loss did not improve from 0.02753\n",
            "\n",
            "Epoch 00015: val_loss did not improve from 0.02753\n",
            "\n",
            "Epoch 00016: val_loss did not improve from 0.02753\n",
            "\n",
            "Epoch 00017: val_loss did not improve from 0.02753\n",
            "\n",
            "Epoch 00018: val_loss did not improve from 0.02753\n",
            "\n",
            "Epoch 00019: val_loss did not improve from 0.02753\n"
          ],
          "name": "stdout"
        }
      ]
    },
    {
      "cell_type": "code",
      "metadata": {
        "id": "5u2iP0yQFFuY",
        "colab_type": "code",
        "outputId": "1448f53a-df64-4633-b9cd-c77a7848ae1a",
        "colab": {
          "base_uri": "https://localhost:8080/",
          "height": 71
        }
      },
      "source": [
        "# 테스트 정확도 출력\n",
        "print(\"\\n Test Accuracy: %.4f\" % (model.evaluate(X_test, Y_test)[1]))\n",
        "\n",
        "# 테스트 셋의 오차\n",
        "y_vloss = history.history['val_loss']\n",
        "\n",
        "# 학습셋의 오차\n",
        "y_loss = history.history['loss']"
      ],
      "execution_count": 11,
      "outputs": [
        {
          "output_type": "stream",
          "text": [
            "10000/10000 [==============================] - 1s 54us/step\n",
            "\n",
            " Test Accuracy: 0.9924\n"
          ],
          "name": "stdout"
        }
      ]
    },
    {
      "cell_type": "code",
      "metadata": {
        "id": "b4yaDRc9FK81",
        "colab_type": "code",
        "outputId": "dc4a5502-d3fa-4ad3-ddd5-28a15ecddcf4",
        "colab": {
          "base_uri": "https://localhost:8080/",
          "height": 279
        }
      },
      "source": [
        "# 그래프로 표현\n",
        "x_len = numpy.arange(len(y_loss))\n",
        "plt.plot(x_len, y_vloss, marker='.', c=\"red\", label='Testset_loss')\n",
        "plt.plot(x_len, y_loss, marker='.', c=\"blue\", label='Trainset_loss')\n",
        "\n",
        "# 그래프에 그리드를 주고 레이블을 표시\n",
        "plt.legend(loc='upper right')\n",
        "plt.grid()\n",
        "plt.xlabel('epoch')\n",
        "plt.ylabel('loss')\n",
        "plt.show()"
      ],
      "execution_count": 12,
      "outputs": [
        {
          "output_type": "display_data",
          "data": {
            "image/png": "[encoded data removed]",
            "text/plain": [
              "<Figure size 432x288 with 1 Axes>"
            ]
          },
          "metadata": {
            "tags": []
          }
        }
      ]
    },
    {
      "cell_type": "code",
      "metadata": {
        "id": "Rn8Zhag-Mtpb",
        "colab_type": "code",
        "outputId": "3cad1361-870e-4aa7-c439-4dd3e24ad91e",
        "colab": {
          "base_uri": "https://localhost:8080/",
          "height": 55
        }
      },
      "source": [
        "## 순환 신경망(Recurrent Neural Network, RNN)\n",
        "'''\n",
        "• 대화형 인공지능 - 문장을 듣고 무엇을 의미하는지를 알아야 서비스를 제공\n",
        "• 문장 학습 - 여러 개의 단어로 이루어진 문장의 각 단어가 정해진 순서대로 입력되어야 의미를 전달 할 수\n",
        "있으므로 입력된 데이터 사이의 관계를 고려해야 합니다.\n",
        "• 순환 신경망(Recurrent Neural Network, RNN)은 여러 개의 데이터가 순서대로 입력되었을 때 앞서 입력받\n",
        "은 데이터를 잠시 기억해 놓는 방법입니다.\n",
        "• 모든 입력 값에 기억된 데이터가 얼마나 중요한지를 판단하여 별도의 가중치를 줘서 다음 층으로 데이터로\n",
        "넘어갑니다.\n",
        "• 순환이 되는 가운데 앞서 나온 입력에 대한 결과가 뒤에 나오는 입력 값에 영향을 주는 것을 알 수 있습니다.\n",
        "이렇게 해야지만, 비슷한 두 문장이 입력되었을 때 그 차이를 구별하여 출력 값에 반영할 수가 있습니다.\n",
        "'''\n",
        "\n",
        "''' LSTM\n",
        "• LSTM(Long Short Term Memory) : 한 층 안에서 반복을 많이 해야 하는 RNN의 특성상 일반 신경망보다\n",
        "기울기 소실 문제가 더 많이 발생하고 이를 해결하기 어렵다는 단점을 보완한 방법입니다.\n",
        "• LSTM(Long Short Term Memory)은 반복되기 직전에 다음 층으로 기억된 값을 넘길지 안 넘길지를 관리하\n",
        "는 단계를 하나 더 추가하는 것입니다\n",
        "'''"
      ],
      "execution_count": 13,
      "outputs": [
        {
          "output_type": "execute_result",
          "data": {
            "text/plain": [
              "' LSTM\\n• LSTM(Long Short Term Memory) : 한 층 안에서 반복을 많이 해야 하는 RNN의 특성상 일반 신경망보다\\n기울기 소실 문제가 더 많이 발생하고 이를 해결하기 어렵다는 단점을 보완한 방법입니다.\\n• LSTM(Long Short Term Memory)은 반복되기 직전에 다음 층으로 기억된 값을 넘길지 안 넘길지를 관리하\\n는 단계를 하나 더 추가하는 것입니다\\n'"
            ]
          },
          "metadata": {
            "tags": []
          },
          "execution_count": 13
        }
      ]
    },
    {
      "cell_type": "code",
      "metadata": {
        "id": "R1GKXlhBNwBB",
        "colab_type": "code",
        "outputId": "edddbc0f-c1f8-41ba-f6a7-ed2083671ce4",
        "colab": {
          "base_uri": "https://localhost:8080/",
          "height": 55
        }
      },
      "source": [
        "''' \n",
        "※ 텍스트 마이닝 \n",
        "비정형 데이터에서 의미있는 정보를 추출하는 기술\n",
        "\n",
        "텍스트 분류 = 문장 또는 문서를 특정 카테고리로 분류, 예측\n",
        "예) 신문기사와 같은 문서를 기사 내용에 따라 정치/경제/사회/문화등의 카테고리로 분류, \n",
        "    메일의 내용을 분석해서 스팸 메일 분류 \n",
        "\n",
        "감정분석 = 텍스트에서 나타나는 감정/판단/의견 등의 주관적인 요소를 분석 하는 기법 \n",
        "예) 소셜 미디어 분석, 영화나 제품에 대해서 긍정 또는 리뷰, 조사, 의견 분석등에 활용 \n",
        "\n",
        "텍스트 요약 = 텍스트내에 중요한 주제, 결론, 중심사사 등을 추출하는 기법 \n",
        "예) 텍스트 군집화, 텍스트 유사도 측정 (중요한 문서에 대해서 표절여부 분석)\n",
        "\n",
        "- NLP : 자연어 처리 라이브러리\n",
        "        텍스트 분석을 향상시키는 기반 기술 \n",
        "\n",
        "- NLTK : 자연어 처리 라이브러리\n",
        "         Genism : 토픽 모델링 분야의 패키지 \n",
        "         Spacy : 토픽 모델링 분야의 패키지, 성능이 뛰어남 \n",
        "\n",
        "텍스트 분석 단계 \n",
        "  \" cleansing > 대소문자 변환 > 특수문자 제거 > 토큰화 >  의미없는 불용어 제거 \n",
        "    > 어근 추출(Stemming/Lemmatization) > 텍스트 정규화 \"\n",
        "\n",
        "Feature Vectorization : 비정형 텍스트를 Feature 형태로 변환 (특성 추출)\n",
        "BOW(Bag of Words), Word2Vect\n",
        "   \n",
        "\n",
        "\n",
        "NLTK  (자연어 처리 라이브러리 )\n",
        "Gensim : 토픽 모델링 분야의 패키지\n",
        "SpaCy :  토픽 모델링 분야의 패키지, 성능이 뛰어남\n",
        "\n",
        "cleansing - nltk.download('punkt')\n",
        "sent_tokenize()  문장 토큰화\n",
        "word_tokenize() 단어 토큰화\n",
        "2개의 단어, 3개의 단어 등으로 토큰화 : n-gram\n",
        "필터링 : stop word 제거, 철자 수정 (Stemming/Lemmatization)\n",
        "CountVectorizer\n",
        "TfidfVectorizer\n",
        "\n",
        "텍스트 정규화 : \n",
        "1. 클린징, 특수문자 제거, 소문자로 변환 등(전처리)\n",
        "2. 토큰화(n-gram적용)\n",
        "3. 정규화(stop word, 필터링 적용, Stemming/Lemmatization)\n",
        "4. Feature Vectorizing - Coordinate 형식(0이 아닌 값의 행, 열 위치값 저장, CSR(Compressed Spare Row) 형식은 \n",
        "   Coordinate 형식의 행과 열 위치값이 반복적인 값을 압축(차원축소)\n",
        "'''"
      ],
      "execution_count": 14,
      "outputs": [
        {
          "output_type": "execute_result",
          "data": {
            "text/plain": [
              "' \\n※ 텍스트 마이닝 \\n비정형 데이터에서 의미있는 정보를 추출하는 기술\\n\\n텍스트 분류 = 문장 또는 문서를 특정 카테고리로 분류, 예측\\n예) 신문기사와 같은 문서를 기사 내용에 따라 정치/경제/사회/문화등의 카테고리로 분류, \\n    메일의 내용을 분석해서 스팸 메일 분류 \\n\\n감정분석 = 텍스트에서 나타나는 감정/판단/의견 등의 주관적인 요소를 분석 하는 기법 \\n예) 소셜 미디어 분석, 영화나 제품에 대해서 긍정 또는 리뷰, 조사, 의견 분석등에 활용 \\n\\n텍스트 요약 = 텍스트내에 중요한 주제, 결론, 중심사사 등을 추출하는 기법 \\n예) 텍스트 군집화, 텍스트 유사도 측정 (중요한 문서에 대해서 표절여부 분석)\\n\\n- NLP : 자연어 처리 라이브러리\\n        텍스트 분석을 향상시키는 기반 기술 \\n\\n- NLTK : 자연어 처리 라이브러리\\n         Genism : 토픽 모델링 분야의 패키지 \\n         Spacy : 토픽 모델링 분야의 패키지, 성능이 뛰어남 \\n\\n텍스트 분석 단계 \\n  \" cleansing > 대소문자 변환 > 특수문자 제거 > 토큰화 >  의미없는 불용어 제거 \\n    > 어근 추출(Stemming/Lemmatization) > 텍스트 정규화 \"\\n\\nFeature Vectorization : 비정형 텍스트를 Feature 형태로 변환 (특성 추출)\\nBOW(Bag of Words), Word2Vect\\n   \\n\\n\\nNLTK  (자연어 처리 라이브러리 )\\nGensim : 토픽 모델링 분야의 패키지\\nSpaCy :  토픽 모델링 분야의 패키지, 성능이 뛰어남\\n\\ncleansing - nltk.download(\\'punkt\\')\\nsent_tokenize()  문장 토큰화\\nword_tokenize() 단어 토큰화\\n2개의 단어, 3개의 단어 등으로 토큰화 : n-gram\\n필터링 : stop word 제거, 철자 수정 (Stemming/Lemmatization)\\nCountVectorizer\\nTfidfVectorizer\\n\\n텍스트 정규화 : \\n1. 클린징, 특수문자 제거, 소문자로 변환 등(전처리)\\n2. 토큰화(n-gram적용)\\n3. 정규화(stop word, 필터링 적용, Stemming/Lemmatization)\\n4. Feature Vectorizing - Coordinate 형식(0이 아닌 값의 행, 열 위치값 저장, CSR(Compressed Spare Row) 형식은 \\n   Coordinate 형식의 행과 열 위치값이 반복적인 값을 압축(차원축소)\\n'"
            ]
          },
          "metadata": {
            "tags": []
          },
          "execution_count": 14
        }
      ]
    },
    {
      "cell_type": "code",
      "metadata": {
        "id": "1wN009IfnBsT",
        "colab_type": "code",
        "outputId": "b30393ca-3a1a-4c14-9c5a-f062ec87920f",
        "colab": {
          "base_uri": "https://localhost:8080/",
          "height": 145
        }
      },
      "source": [
        "# RNN 방식의 장점은 입력 값과 출력 값을 어떻게 설정하느냐에 따라 여러 가지 상황에서 이를 적용할 수 있다는 것\n",
        "# 입력 값과 출력 값을 어떻게 설정하느냐에 따라 여러 가지 상황에서 이를 적용할 수 있다는 것입니다.\n",
        "\n",
        "'''\n",
        "LSTM을 이용한 로이터 뉴스 카테고리 분류\n",
        " 입력된 문장의 의미를 파악하는 것은 곧 모든 단어를 종합하여 하나의 카테고리로 분류하는 작업이라고 할 수 있습\n",
        "니다.\n",
        " 로이터 뉴스 데이터 : 총 11,258개의 뉴스 기사가 46개의 카테고리로 나누어진 대용량 텍스트 데이터\n",
        " 딥러닝은 단어를 그대로 사용하지 않고 숫자로 변환한 다음 학습할 수 있습니다.\n",
        " 데이터 안에서 단어별 빈도에 따라 순서 번호를 붙였습니다.\n",
        " Embedding('불러온 단어의 총 개수', '기사당 단어 수') 층은 데이터 전처리 과정을 통해 입력된 값을 받아 다음 층\n",
        "이 알아들을 수 있는 형태로 변환하는 역할을 합니다.\n",
        " Embedding은 모델 설정 부분의 맨 처음에 있어야 합니다.\n",
        " LSTM(기사당 단어 수, 기타 옵션)은 RNN에서 기억 값에 대한 가중치를 제어합니다.\n",
        " LSTM의 활성화 함수로는 Tanh를 사용합니다\n",
        "'''\n",
        "\n",
        "# keras의 로이터 데이터셋을 가져와보자 \n",
        "\n",
        "# LSTM을 이용한 로이터 뉴스 카테고리 분류\n",
        "from keras.datasets import reuters\n",
        "from keras.models import Sequential\n",
        "from keras.layers import Dense, LSTM, Embedding\n",
        "from keras.preprocessing import sequence\n",
        "from keras.utils import np_utils\n",
        "import numpy\n",
        "import tensorflow as tf\n",
        "import matplotlib.pyplot as plt\n",
        "\n",
        "seed = 0 # seed 값 설정\n",
        "numpy.random.seed(seed)\n",
        "tf.set_random_seed(seed)\n",
        "\n",
        "# 불러온 데이터를 학습셋과 테스트셋으로 나누기\n",
        "(X_train, Y_train), (X_test, Y_test) = reuters.load_data(num_words=1000, test_split=0.2)\n",
        "\n",
        "# 데이터 확인하기\n",
        "category = numpy.max(Y_train) + 1\n",
        "print(category, '카테고리')\n",
        "print(len(X_train), '학습용 뉴스 기사')\n",
        "print(len(X_test), '테스트용 뉴스 기사')\n",
        "print(X_train[0])"
      ],
      "execution_count": 15,
      "outputs": [
        {
          "output_type": "stream",
          "text": [
            "Downloading data from https://s3.amazonaws.com/text-datasets/reuters.npz\n",
            "2113536/2110848 [==============================] - 1s 1us/step\n",
            "46 카테고리\n",
            "8982 학습용 뉴스 기사\n",
            "2246 테스트용 뉴스 기사\n",
            "[1, 2, 2, 8, 43, 10, 447, 5, 25, 207, 270, 5, 2, 111, 16, 369, 186, 90, 67, 7, 89, 5, 19, 102, 6, 19, 124, 15, 90, 67, 84, 22, 482, 26, 7, 48, 4, 49, 8, 864, 39, 209, 154, 6, 151, 6, 83, 11, 15, 22, 155, 11, 15, 7, 48, 9, 2, 2, 504, 6, 258, 6, 272, 11, 15, 22, 134, 44, 11, 15, 16, 8, 197, 2, 90, 67, 52, 29, 209, 30, 32, 132, 6, 109, 15, 17, 12]\n"
          ],
          "name": "stdout"
        }
      ]
    },
    {
      "cell_type": "code",
      "metadata": {
        "id": "Z_AMxkR3tKrY",
        "colab_type": "code",
        "outputId": "435434e0-d049-4a8c-98e2-056662eefaba",
        "colab": {
          "base_uri": "https://localhost:8080/",
          "height": 829
        }
      },
      "source": [
        "# 데이터 전처리\n",
        "x_train = sequence.pad_sequences(X_train, maxlen=100)\n",
        "x_test = sequence.pad_sequences(X_test, maxlen=100)\n",
        "y_train = np_utils.to_categorical(Y_train)\n",
        "y_test = np_utils.to_categorical(Y_test)\n",
        "\n",
        "model = Sequential() # 모델의 설정\n",
        "model.add(Embedding(1000, 100))\n",
        "model.add(LSTM(100, activation='tanh'))\n",
        "model.add(Dense(46, activation='softmax'))\n",
        "\n",
        "# 모델의 컴파일\n",
        "model.compile(loss='categorical_crossentropy', optimizer='adam', metrics=['accuracy'])\n",
        "\n",
        "# 모델의 실행\n",
        "history = model.fit(x_train, y_train, batch_size=100, epochs=20, validation_data=(x_test, y_test))\n",
        "\n",
        "# 테스트 정확도 출력\n",
        "print(\"\\n Test Accuracy: %.4f\" % (model.evaluate(x_test, y_test)[1]))"
      ],
      "execution_count": 16,
      "outputs": [
        {
          "output_type": "stream",
          "text": [
            "Train on 8982 samples, validate on 2246 samples\n",
            "Epoch 1/20\n",
            "8982/8982 [==============================] - 12s 1ms/step - loss: 2.6160 - acc: 0.3378 - val_loss: 2.3368 - val_acc: 0.3620\n",
            "Epoch 2/20\n",
            "8982/8982 [==============================] - 11s 1ms/step - loss: 1.9957 - acc: 0.4875 - val_loss: 1.8421 - val_acc: 0.5347\n",
            "Epoch 3/20\n",
            "8982/8982 [==============================] - 11s 1ms/step - loss: 1.7634 - acc: 0.5501 - val_loss: 1.7998 - val_acc: 0.5476\n",
            "Epoch 4/20\n",
            "8982/8982 [==============================] - 11s 1ms/step - loss: 1.6728 - acc: 0.5710 - val_loss: 1.6791 - val_acc: 0.5793\n",
            "Epoch 5/20\n",
            "8982/8982 [==============================] - 11s 1ms/step - loss: 1.6144 - acc: 0.5852 - val_loss: 1.6275 - val_acc: 0.5957\n",
            "Epoch 6/20\n",
            "8982/8982 [==============================] - 11s 1ms/step - loss: 1.5341 - acc: 0.6116 - val_loss: 1.5630 - val_acc: 0.6118\n",
            "Epoch 7/20\n",
            "8982/8982 [==============================] - 11s 1ms/step - loss: 1.4482 - acc: 0.6313 - val_loss: 1.4798 - val_acc: 0.6327\n",
            "Epoch 8/20\n",
            "8982/8982 [==============================] - 11s 1ms/step - loss: 1.3636 - acc: 0.6505 - val_loss: 1.4399 - val_acc: 0.6443\n",
            "Epoch 9/20\n",
            "8982/8982 [==============================] - 11s 1ms/step - loss: 1.2634 - acc: 0.6820 - val_loss: 1.3476 - val_acc: 0.6638\n",
            "Epoch 10/20\n",
            "8982/8982 [==============================] - 11s 1ms/step - loss: 1.1847 - acc: 0.7003 - val_loss: 1.3160 - val_acc: 0.6603\n",
            "Epoch 11/20\n",
            "8982/8982 [==============================] - 11s 1ms/step - loss: 1.1352 - acc: 0.7122 - val_loss: 1.3051 - val_acc: 0.6683\n",
            "Epoch 12/20\n",
            "8982/8982 [==============================] - 11s 1ms/step - loss: 1.0765 - acc: 0.7259 - val_loss: 1.2346 - val_acc: 0.6955\n",
            "Epoch 13/20\n",
            "8982/8982 [==============================] - 11s 1ms/step - loss: 1.0226 - acc: 0.7374 - val_loss: 1.2243 - val_acc: 0.6946\n",
            "Epoch 14/20\n",
            "8982/8982 [==============================] - 11s 1ms/step - loss: 0.9802 - acc: 0.7486 - val_loss: 1.2540 - val_acc: 0.6888\n",
            "Epoch 15/20\n",
            "8982/8982 [==============================] - 11s 1ms/step - loss: 0.9280 - acc: 0.7642 - val_loss: 1.2039 - val_acc: 0.7026\n",
            "Epoch 16/20\n",
            "8982/8982 [==============================] - 11s 1ms/step - loss: 0.8815 - acc: 0.7773 - val_loss: 1.1826 - val_acc: 0.7133\n",
            "Epoch 17/20\n",
            "8982/8982 [==============================] - 11s 1ms/step - loss: 0.8281 - acc: 0.7896 - val_loss: 1.2071 - val_acc: 0.7093\n",
            "Epoch 18/20\n",
            "8982/8982 [==============================] - 11s 1ms/step - loss: 0.7914 - acc: 0.7970 - val_loss: 1.2232 - val_acc: 0.7061\n",
            "Epoch 19/20\n",
            "8982/8982 [==============================] - 11s 1ms/step - loss: 0.7410 - acc: 0.8088 - val_loss: 1.2375 - val_acc: 0.7066\n",
            "Epoch 20/20\n",
            "8982/8982 [==============================] - 11s 1ms/step - loss: 0.7150 - acc: 0.8189 - val_loss: 1.2095 - val_acc: 0.7142\n",
            "2246/2246 [==============================] - 2s 729us/step\n",
            "\n",
            " Test Accuracy: 0.7142\n"
          ],
          "name": "stdout"
        }
      ]
    },
    {
      "cell_type": "code",
      "metadata": {
        "id": "LOJE4LYftRaM",
        "colab_type": "code",
        "outputId": "f2fa584b-719f-443c-f525-8732a9de0506",
        "colab": {
          "base_uri": "https://localhost:8080/",
          "height": 279
        }
      },
      "source": [
        "# 테스트셋의 오차\n",
        "y_vloss = history.history['val_loss']\n",
        "\n",
        "# 학습셋의 오차\n",
        "y_loss = history.history['loss']\n",
        "\n",
        "# 그래프로 표현\n",
        "x_len = numpy.arange(len(y_loss))\n",
        "plt.plot(x_len, y_vloss, marker='.', c=\"red\", label='Testset_loss')\n",
        "plt.plot(x_len, y_loss, marker='.', c=\"blue\", label='Trainset_loss')\n",
        "\n",
        "# 그래프에 그리드를 주고 레이블을 표시\n",
        "plt.legend(loc='upper right')\n",
        "plt.grid()\n",
        "plt.xlabel('epoch')\n",
        "plt.ylabel('loss')\n",
        "plt.show()"
      ],
      "execution_count": 17,
      "outputs": [
        {
          "output_type": "display_data",
          "data": {
            "image/png": "[encoded data removed]",
            "text/plain": [
              "<Figure size 432x288 with 1 Axes>"
            ]
          },
          "metadata": {
            "tags": []
          }
        }
      ]
    },
    {
      "cell_type": "markdown",
      "metadata": {
        "id": "59GEG9ZtxFrN",
        "colab_type": "text"
      },
      "source": [
        "---"
      ]
    },
    {
      "cell_type": "code",
      "metadata": {
        "id": "9L1gRoqKxHp2",
        "colab_type": "code",
        "colab": {}
      },
      "source": [
        "## 신경망 perceptron에 대해 좀더 알아보자 \n",
        "## 훈련 후 모델을 저장하고 애플리케이션이 필요할 때 이를 복원할 수 있어야 한다. "
      ],
      "execution_count": 0,
      "outputs": []
    },
    {
      "cell_type": "code",
      "metadata": {
        "id": "w9U4Xlgfxbwq",
        "colab_type": "code",
        "colab": {
          "base_uri": "https://localhost:8080/",
          "height": 55
        },
        "outputId": "e1ab6239-080a-467c-9c9f-ca9ff64a3649"
      },
      "source": [
        "'''(복습)\n",
        "신경망\n",
        " 유닛(뉴런)은 하나 이상의 입력을 받아 각 입력에 파라미터(가중치)를 곱합니다.\n",
        " 가중치가 곱해진 입력에 절편 값을 더하고 활성화 함수에 전달합니다\n",
        " 신경망은 일련의 연결된 층으로 표현할 수 있으며 한쪽 끝에는 샘플의 특성값과 다른 한쪽에는 타깃값을 연결한\n",
        "네트워크입니다.\n",
        " 신경망을 만들 때 가우시안 분포나 균등 분포를 따르는 작은 난수값으로 모든 모델 파라미터를 초기화합니다.\n",
        " 샘플 하나가 신경망에 주입되면 손실 함수를 사용해 출력 값과 샘플의 진짜 타깃값을 비교합니다. (정계산 계산)\n",
        " 예측과 정답 간의 오차에 각 모델 파라미터가 얼마나 기여했는지 파악하기 위해 네트워크 역방향으로 진행합니다.\n",
        "(역전파)\n",
        " 각 모델 파라미터에 대해 최적화 알고리즘은 출력을 개선하려면 가중치를 얼마나 조정해야 하는지 결정합니다.\n",
        " 신경망은 훈련 데이터에 있는 모든 샘플에 대해 정방향 계산과 역전파를 여러 번 반복하면서 학습됩니다. (epoch)\n",
        " 훈련 과정은 여러 epoch로 구성됩니다.\n",
        " 케라스는 텐서플로나 씨아노를 엔진으로 사용하는 고수준 라이브러리입니다.\n",
        " 케라스로 만든 신경망은 CPU나 GPU를 사용해 훈련할 수 있습니다\n",
        " 네크워크가 크고 훈련 데이터가 많을 때는 GPU를 사용해 훈련해야 합니다.\n",
        "'''"
      ],
      "execution_count": 19,
      "outputs": [
        {
          "output_type": "execute_result",
          "data": {
            "text/plain": [
              "'(복습)\\n신경망\\n\\uf0a7 유닛(뉴런)은 하나 이상의 입력을 받아 각 입력에 파라미터(가중치)를 곱합니다.\\n\\uf0a7 가중치가 곱해진 입력에 절편 값을 더하고 활성화 함수에 전달합니다\\n\\uf0a7 신경망은 일련의 연결된 층으로 표현할 수 있으며 한쪽 끝에는 샘플의 특성값과 다른 한쪽에는 타깃값을 연결한\\n네트워크입니다.\\n\\uf0a7 신경망을 만들 때 가우시안 분포나 균등 분포를 따르는 작은 난수값으로 모든 모델 파라미터를 초기화합니다.\\n\\uf0a7 샘플 하나가 신경망에 주입되면 손실 함수를 사용해 출력 값과 샘플의 진짜 타깃값을 비교합니다. (정계산 계산)\\n\\uf0a7 예측과 정답 간의 오차에 각 모델 파라미터가 얼마나 기여했는지 파악하기 위해 네트워크 역방향으로 진행합니다.\\n(역전파)\\n\\uf0a7 각 모델 파라미터에 대해 최적화 알고리즘은 출력을 개선하려면 가중치를 얼마나 조정해야 하는지 결정합니다.\\n\\uf0a7 신경망은 훈련 데이터에 있는 모든 샘플에 대해 정방향 계산과 역전파를 여러 번 반복하면서 학습됩니다. (epoch)\\n\\uf0a7 훈련 과정은 여러 epoch로 구성됩니다.\\n\\uf0a7 케라스는 텐서플로나 씨아노를 엔진으로 사용하는 고수준 라이브러리입니다.\\n\\uf0a7 케라스로 만든 신경망은 CPU나 GPU를 사용해 훈련할 수 있습니다\\n\\uf0a7 네크워크가 크고 훈련 데이터가 많을 때는 GPU를 사용해 훈련해야 합니다.\\n'"
            ]
          },
          "metadata": {
            "tags": []
          },
          "execution_count": 19
        }
      ]
    },
    {
      "cell_type": "code",
      "metadata": {
        "id": "iEtJeee2xgZE",
        "colab_type": "code",
        "outputId": "ee30339b-4e26-4d36-b310-9bbbb7d7e64f",
        "colab": {
          "base_uri": "https://localhost:8080/",
          "height": 53
        }
      },
      "source": [
        "'''\n",
        "신경망을 위한 데이터 전처리\n",
        " 신경망에 사용할 데이터는 사이킷런의 StandardScaler를 사용해 특성을 표준화합니다.\n",
        " 신경망의 모델 파라미터는 작은 난수로 초기화합니다.\n",
        " 특성값이 모델 파라미터보다 크면 종종 신경망의 성능이 나빠집니다\n",
        " 샘플의 특성값이 개별 유닛을 통과하면서 합쳐치기 때문에 모든 특성이 같은 스케일을 가지는 것이 중요합니다\n",
        "'''\n",
        "\n",
        "from sklearn import preprocessing\n",
        "import numpy as np\n",
        "features = np.array([[-100.1, 3240.1],\n",
        "                     [-200.2, -234.1],\n",
        "                     [5000.5, 150.1],\n",
        "                     [6000.6, -125.1],\n",
        "                     [9000.9, -673.1]])\n",
        "\n",
        "scaler = preprocessing.StandardScaler()\n",
        "features_standardized = scaler.fit_transform(features)\n",
        "features_standardized\n",
        "\n",
        "print(\"평균:\", round(features_standardized[:,0].mean())) # 평균과 표준 편차를 출력합니다\n",
        "print(\"표준 편차:\", features_standardized[:,0].std())"
      ],
      "execution_count": 20,
      "outputs": [
        {
          "output_type": "stream",
          "text": [
            "평균: 0.0\n",
            "표준 편차: 0.9999999999999999\n"
          ],
          "name": "stdout"
        }
      ]
    },
    {
      "cell_type": "code",
      "metadata": {
        "id": "PYek7wY_xwB8",
        "colab_type": "code",
        "outputId": "03787390-a786-4295-b01a-99f94d44b9e3",
        "colab": {
          "base_uri": "https://localhost:8080/",
          "height": 269
        }
      },
      "source": [
        "'''\n",
        "신경망 구성\n",
        "1. 각 은닉층과 출력층에 대해 층에 사용할 유닛 개수와 활성화 함수를 정의\n",
        " 층에 유닛을 많이 추가할수록 네트워크는 더 복잡한 패턴을 학습할 수 있습니다\n",
        " 유닛이 많으면 네트워크가 훈련 데이터에 과대적합 될 수 있으며 테스트 세트에서 성능이 나빠집니다.\n",
        "2. 네트워크에 사용할 여러 은닉층을 정의\n",
        "3. 출력층의 활성화 함수를 정의해야 합니다.\n",
        " 이진분류 : 시그모이드 함수와 하나의 유닛\n",
        " 다중분류 : 소프트맥스 활성화 함수와 k개의 유닛(k는 타깃 클래스의 개수)\n",
        " 회귀 : 아무런 활성화 함수를 사용하지 않는 하나의 유닛\n",
        "4. 손실 함수(예측값이 타깃값과 얼마나 잘 맞는지 측정하는 함수)를 정의\n",
        " 이진분류 : 이진 크로스엔트로피\n",
        " 다중분류 : 범주형 크로스엔트로피\n",
        " 회귀 : 평균 제곱 오차\n",
        "5. 옵티마이저를 정의\n",
        " 확률적 경사 하강법, 모멘텀을 사용한 확률적 경사 하강법, RMSProp, Adam등 가장 작은 손실 함수 오차를 만드는\n",
        "모델 파라미터 값을 찾는 옵티마이저를 정의합니다.\n",
        "6. 정확도와 같은 성능을 평가하기 위해 사용할 하나 이상의 성능 지표를 선택\n",
        "'''\n",
        "\n",
        "# 케라스의 Sequential 모델은 층을 쌓는 식으로 신경망을 만듭니다.\n",
        "from keras import models\n",
        "from keras import layers\n",
        "\n",
        "network = models.Sequential() # 신경망 모델 생성\n",
        "#활성화 함수를 가진 16개의 유닛으로 구성\n",
        "#케라스에서 네트워크의 첫 번째 은닉층은 input_shape 매개변수를 포함해야 합니다.\n",
        "network.add(layers.Dense(units=16, activation=\"relu\", input_shape=(10,))) #입력층\n",
        "\n",
        "network.add(layers.Dense(units=16, activation=\"relu\")) #은닉층\n",
        "\n",
        "#이진 분류가 목적이므로 출력층은 시그모이드 활성화 함수를 사용한 유닛 하나만 포함합니다.\n",
        "network.add(layers.Dense(units=1, activation=\"sigmoid\")) #출력층\n",
        "# 신경망의 모델 설정.\n",
        "network.compile(loss=\"binary_crossentropy\", # 크로스 엔트로피\n",
        "                optimizer=\"rmsprop\", # 옵티마이저\n",
        "                metrics=[\"accuracy\"]) # 성능 지표\n",
        "\n",
        "#summary()를 사용하면 추가된 층과 가중치 개수를 확인\n",
        "network.summary() #실행시마다 숫자가 늘어난다. "
      ],
      "execution_count": 21,
      "outputs": [
        {
          "output_type": "stream",
          "text": [
            "Model: \"sequential_4\"\n",
            "_________________________________________________________________\n",
            "Layer (type)                 Output Shape              Param #   \n",
            "=================================================================\n",
            "dense_6 (Dense)              (None, 16)                176       \n",
            "_________________________________________________________________\n",
            "dense_7 (Dense)              (None, 16)                272       \n",
            "_________________________________________________________________\n",
            "dense_8 (Dense)              (None, 1)                 17        \n",
            "=================================================================\n",
            "Total params: 465\n",
            "Trainable params: 465\n",
            "Non-trainable params: 0\n",
            "_________________________________________________________________\n"
          ],
          "name": "stdout"
        }
      ]
    },
    {
      "cell_type": "code",
      "metadata": {
        "id": "EaVb4EBuyK2R",
        "colab_type": "code",
        "outputId": "e7bef5c8-1c91-492b-a978-556fbffb2ad7",
        "colab": {
          "base_uri": "https://localhost:8080/",
          "height": 305
        }
      },
      "source": [
        "# 케라스의 함수형 API는 입력과 출력을 정의한 다음 Model 클래스에 전달하여 신경망을 만듭니다.\n",
        "# 입력에서부터 출력까지 세 개의 완전 연결 층을 연결합니다.\n",
        "x = layers.Input(shape=(10,))\n",
        "h1 = layers.Dense(units=16, activation=\"relu\")(x)\n",
        "h2 = layers.Dense(units=16, activation=\"relu\")(h1)\n",
        "y = layers.Dense(units=1, activation=\"sigmoid\")(h2)\n",
        "\n",
        "# 신경망 모델을 만듭니다.\n",
        "network = models.Model(x, y)\n",
        "\n",
        "# 신경망의 모델 설정을 완료합니다.\n",
        "network.compile(loss=\"binary_crossentropy\", # 크로스 엔트로피\n",
        "optimizer=\"rmsprop\", # 옵티마이저\n",
        "metrics=[\"accuracy\"]) # 성능 지표\n",
        "network.summary()\n",
        "\n",
        "dense = layers.Dense(units=16, activation=\"relu\")\n",
        "h1 = dense(x)"
      ],
      "execution_count": 22,
      "outputs": [
        {
          "output_type": "stream",
          "text": [
            "Model: \"model_1\"\n",
            "_________________________________________________________________\n",
            "Layer (type)                 Output Shape              Param #   \n",
            "=================================================================\n",
            "input_1 (InputLayer)         (None, 10)                0         \n",
            "_________________________________________________________________\n",
            "dense_9 (Dense)              (None, 16)                176       \n",
            "_________________________________________________________________\n",
            "dense_10 (Dense)             (None, 16)                272       \n",
            "_________________________________________________________________\n",
            "dense_11 (Dense)             (None, 1)                 17        \n",
            "=================================================================\n",
            "Total params: 465\n",
            "Trainable params: 465\n",
            "Non-trainable params: 0\n",
            "_________________________________________________________________\n"
          ],
          "name": "stdout"
        }
      ]
    },
    {
      "cell_type": "code",
      "metadata": {
        "id": "fSn-iiRkyXc1",
        "colab_type": "code",
        "outputId": "fe5e4df6-831f-448c-9498-6d700833e4b6",
        "colab": {
          "base_uri": "https://localhost:8080/",
          "height": 235
        }
      },
      "source": [
        "#이진 분류기 훈련\n",
        "# 케라스를 사용하여 피드포워드 신경망을 만들고 fit()로 훈련합니다.\n",
        "\n",
        "'''\n",
        "50,000개의 영화 리뷰 데이터를 사용\n",
        " 가장 자주 등장하는 단어 1,000개를 사용해 리뷰 텍스트를 단어의 등장 여부를 나타내는 1,000개의 이진 특성으로\n",
        "변환합니다.\n",
        " 신경망은 1,000개의 특성으로 이루어진 25,000개의 샘플을 사용하여 영화 리뷰가 긍정적인지 부정적인지를 예측\n",
        "합니다.\n",
        " epochs 매개변수는 훈련할 때 사용할 에폭 횟수를 정의합니다.\n",
        " batch_size는 모델 파라미터를 업데이트하기 전에 네트워크를 통과시킬 샘플 개수를 설정\n",
        " 특성과 타깃 벡터를 validation_data 매개변수로 전달하여 평가에 사용할 수 있습니다.\n",
        " validation_split 매개변수는 훈련 데이터에서 평가에 사용할 비율을 정의\n",
        " compile()의 metrics 매개변수를 지정하지 않으면 기본적으로 손실값만 계산하여 출력합니다.\n",
        " evaluate()는 케라스에서 모델의 성능을 평가하는 메서드로 손실값과 metric 매개변수에 지정한 성능 지표를 계산\n",
        "하여 출력합니다.\n",
        "\n",
        " 케라스에 포함된 IMDB 데이터는 텍스트를 정수의 리스트로 변환해놓은 것입니다.\n",
        " Tokenizer 클래스의 num_words 매개변수를 지정하고 sequences_to_matrix 메서드를 호출하면 num_words 값보다\n",
        "큰 정수는 모두 제외시키고 mode 매개변수에서 지정한 방식에 맞추어 행렬을 만듭니다.\n",
        " mode 매개변수가 binary이면 시퀀스에 등장한 정수에 해당하는 위치에 1을 저장합니다.\n",
        " count이면 시퀀스에 등장하는 횟수를 저장합니다.\n",
        " freq이면 등장 회수를 시퀀스의 길이로 나눕니다\n",
        "'''\n",
        "\n",
        "import numpy as np\n",
        "from keras.datasets import imdb\n",
        "from keras.preprocessing.text import Tokenizer\n",
        "from keras import models\n",
        "from keras import layers\n",
        "\n",
        "np.random.seed(0) # 랜덤 시드 설정\n",
        "number_of_features = 1000 # 필요한 특성 개수를 지정\n",
        "\n",
        "# 영화 리뷰 데이터에서 훈련 데이터와 타깃 벡터를 로드\n",
        "(data_train, target_train), (data_test, target_test) = imdb.load_data( num_words=number_of_features)\n",
        "\n",
        "# 영화 리뷰 데이터를 원-핫 인코딩된 특성 행렬로 변환\n",
        "tokenizer = Tokenizer(num_words=number_of_features)\n",
        "features_train = tokenizer.sequences_to_matrix(data_train, mode=\"binary\")\n",
        "features_test = tokenizer.sequences_to_matrix(data_test, mode=\"binary\")\n",
        "\n",
        "# 신경망 모델 생성\n",
        "network = models.Sequential()\n",
        "network.add(layers.Dense(units=16, activation=\"relu\", input_shape=( number_of_features,))) #입력층\n",
        "network.add(layers.Dense(units=16, activation=\"relu\")) #은닉층\n",
        "network.add(layers.Dense(units=1, activation=\"sigmoid\")) #출력층\n",
        "network.compile(loss=\"binary_crossentropy\", # 크로스 엔트로피\n",
        "\n",
        "optimizer=\"rmsprop\", # 옵티마이저\n",
        "metrics=[\"accuracy\"]) # 성능 지표\n",
        "history = network.fit(features_train, # 특성\n",
        "                        target_train, # 타깃 벡터\n",
        "                            epochs=3, # 에포크 횟수\n",
        "                           verbose=1, # 에포크 과정을 출력합니다.\n",
        "                      batch_size=100, # 배치의 샘플 개수\n",
        "                      validation_data=(features_test, target_test)) # 테스트 데이터\n",
        "\n",
        "network.evaluate(features_test, target_test)"
      ],
      "execution_count": 23,
      "outputs": [
        {
          "output_type": "stream",
          "text": [
            "Downloading data from https://s3.amazonaws.com/text-datasets/imdb.npz\n",
            "17465344/17464789 [==============================] - 2s 0us/step\n",
            "Train on 25000 samples, validate on 25000 samples\n",
            "Epoch 1/3\n",
            "25000/25000 [==============================] - 2s 75us/step - loss: 0.4239 - acc: 0.8112 - val_loss: 0.3458 - val_acc: 0.8530\n",
            "Epoch 2/3\n",
            "25000/25000 [==============================] - 1s 54us/step - loss: 0.3237 - acc: 0.8647 - val_loss: 0.3291 - val_acc: 0.8616\n",
            "Epoch 3/3\n",
            "25000/25000 [==============================] - 1s 54us/step - loss: 0.3112 - acc: 0.8688 - val_loss: 0.3356 - val_acc: 0.8559\n",
            "25000/25000 [==============================] - 1s 40us/step\n"
          ],
          "name": "stdout"
        },
        {
          "output_type": "execute_result",
          "data": {
            "text/plain": [
              "[0.3356134099626541, 0.85592]"
            ]
          },
          "metadata": {
            "tags": []
          },
          "execution_count": 23
        }
      ]
    },
    {
      "cell_type": "code",
      "metadata": {
        "id": "yB4uV8uwysEp",
        "colab_type": "code",
        "colab": {}
      },
      "source": [
        "# 다중 분류기 훈련\n",
        "# 다중 분류 신경망 학습은 출력층에 소프트맥스 활성화 함수를 사용하는 피드포워드 신경망을 만듭니다.\n",
        "\n",
        "# 11,228개의 로이터 뉴스 , 각 뉴스는 46개의 토픽으로 분류\n",
        "# 뉴스의 단어 등장 여부를 나타내는 5,000개의 이진특성으로 변환하여 특성 데이터를 준비\n",
        "import numpy as np\n",
        "from keras.datasets import reuters\n",
        "from keras.utils.np_utils import to_categorical\n",
        "from keras.preprocessing.text import Tokenizer\n",
        "from keras import models\n",
        "from keras import layers\n",
        "\n",
        "np.random.seed(0) # 랜덤 시드 설정\n",
        "number_of_features = 5000 # 필요한 특성 개수 지정\n",
        "data = reuters.load_data(num_words=number_of_features) #데이터를 로드\n",
        "(data_train, target_vector_train), (data_test, target_vector_test) = data\n",
        "\n",
        "# 특성 데이터를 원-핫 인코딩된 특성 행렬로 변환\n",
        "tokenizer = Tokenizer(num_words=number_of_features)\n",
        "features_train = tokenizer.sequences_to_matrix(data_train, mode=\"binary\")\n",
        "features_test = tokenizer.sequences_to_matrix(data_test, mode=\"binary\")\n",
        "\n",
        "# 타깃 벡터를 원-핫 인코딩하여 타깃 행렬로 변환\n",
        "target_train = to_categorical(target_vector_train)\n",
        "target_test = to_categorical(target_vector_test)"
      ],
      "execution_count": 0,
      "outputs": []
    },
    {
      "cell_type": "code",
      "metadata": {
        "id": "wV8W9fNPzwE8",
        "colab_type": "code",
        "outputId": "1eb992e9-ff3c-45ac-e7e7-a2cf65158b62",
        "colab": {
          "base_uri": "https://localhost:8080/",
          "height": 143
        }
      },
      "source": [
        "network = models.Sequential()\n",
        "network.add(layers.Dense(units=100, activation=\"relu\", input_shape=(number_of_features,)))\n",
        "network.add(layers.Dense(units=100, activation=\"relu\"))\n",
        "\n",
        "#소프트맥스 활성화 함수는 46개의 값을 담은 배열을 반환\n",
        "network.add(layers.Dense(units=46, activation=\"softmax\"))\n",
        "\n",
        "# 신경망의 모델 설정\n",
        "#다중 분류에 맞는 손실 함수인 범주형 크로스엔트로피를 사용하기 위해 categorical_crossentropy로 설정\n",
        "network.compile(loss=\"categorical_crossentropy\", # 크로스 엔트로피\n",
        "                            optimizer=\"rmsprop\", # 옵티마이저\n",
        "                            metrics=[\"accuracy\"]) # 성능 지표\n",
        "\n",
        "history = network.fit(features_train, # 특성\n",
        "                        target_train, # 타깃\n",
        "                            epochs=3, # 3 에포크\n",
        "                           verbose=0, # 출력 없음\n",
        "                      batch_size=100, # 배치의 샘플 개수\n",
        "                      validation_data=(features_test, target_test)) # 테스트 데이터\n",
        "\n",
        "target_train ## 타깃 행렬을 확인"
      ],
      "execution_count": 25,
      "outputs": [
        {
          "output_type": "execute_result",
          "data": {
            "text/plain": [
              "array([[0., 0., 0., ..., 0., 0., 0.],\n",
              "       [0., 0., 0., ..., 0., 0., 0.],\n",
              "       [0., 0., 0., ..., 0., 0., 0.],\n",
              "       ...,\n",
              "       [0., 0., 0., ..., 0., 0., 0.],\n",
              "       [0., 0., 0., ..., 0., 0., 0.],\n",
              "       [0., 0., 0., ..., 0., 0., 0.]], dtype=float32)"
            ]
          },
          "metadata": {
            "tags": []
          },
          "execution_count": 25
        }
      ]
    },
    {
      "cell_type": "code",
      "metadata": {
        "id": "tGns1SDT0KEE",
        "colab_type": "code",
        "colab": {}
      },
      "source": [
        "# 회귀 모델 훈련\n",
        "#  케라스를 사용해 활성화 함수 없이 출력 유닛 하나로 구성된 피드포워드 신경망을 만듭니다.\n",
        "#  출력값을 0과 1사이로 제한하는 시그모이드 활성화 함수를 제거하면 연속적인 값을 출력할 수 있습니다.\n",
        "\n",
        "import numpy as np\n",
        "from keras.preprocessing.text import Tokenizer\n",
        "from keras import models\n",
        "from keras import layers\n",
        "from sklearn.datasets import make_regression\n",
        "from sklearn.model_selection import train_test_split\n",
        "from sklearn import preprocessing\n",
        "\n",
        "np.random.seed(0) ## 랜덤 시드 설정\n",
        "features, target = make_regression(n_samples = 10000,\n",
        "                                   n_features = 3,\n",
        "                                   n_informative = 3,\n",
        "                                   n_targets = 1,\n",
        "                                   noise = 0.0,\n",
        "                                   random_state = 0)\n",
        "\n",
        "features_train, features_test, target_train, target_test = train_test_split(\n",
        "      features, target, test_size=0.33, random_state=0)"
      ],
      "execution_count": 0,
      "outputs": []
    },
    {
      "cell_type": "code",
      "metadata": {
        "id": "eJz4YTDx0hd-",
        "colab_type": "code",
        "colab": {}
      },
      "source": [
        "network = models.Sequential()\n",
        "network.add(layers.Dense(units=32, activation=\"relu\", input_shape=(features_train.shape[1],)))\n",
        "network.add(layers.Dense(units=32, activation=\"relu\"))\n",
        "network.add(layers.Dense(units=1))\n",
        "\n",
        "# 신경망의 모델 설정\n",
        "# 회귀모델의 손실함수와 평가지표는 평균 제곱 오차\n",
        "network.compile(loss=\"mse\", # 평균 제곱 오차\n",
        "                optimizer=\"RMSprop\", # 옵티마이저\n",
        "                metrics=[\"mse\"]) # 성능 지표\n",
        "\n",
        "history = network.fit(features_train, # 특성\n",
        "                      target_train, # 타깃 벡터\n",
        "                      epochs=10, # 에포크 횟수\n",
        "                      verbose=0, # 출력 없음\n",
        "                      batch_size=100, # 배치의 샘플 개수\n",
        "                      validation_data=(features_test, target_test)) # 테스트 데이터"
      ],
      "execution_count": 0,
      "outputs": []
    },
    {
      "cell_type": "code",
      "metadata": {
        "id": "cd2b_vCt07_W",
        "colab_type": "code",
        "outputId": "35fe79bb-4e40-4f05-c0db-f8f3b8c716a1",
        "colab": {
          "base_uri": "https://localhost:8080/",
          "height": 35
        }
      },
      "source": [
        "# 예측\n",
        "\n",
        "import numpy as np\n",
        "from keras.datasets import imdb\n",
        "from keras.preprocessing.text import Tokenizer\n",
        "from keras import models\n",
        "from keras import layers\n",
        "\n",
        "np.random.seed(0) # 랜덤 시드를 설정\n",
        "number_of_features = 10000 # 필요한 특성 개수를 지정\n",
        "# IMDB 영화 데이터에서 훈련 데이터와 타깃 벡터를 로드\n",
        "(data_train, target_train), (data_test, target_test) = imdb.load_data( num_words=number_of_features)\n",
        "\n",
        "# IMDB 데이터를 원-핫 인코딩된 특성 행렬로 변환\n",
        "tokenizer = Tokenizer(num_words=number_of_features)\n",
        "features_train = tokenizer.sequences_to_matrix(data_train, mode=\"binary\")\n",
        "features_test = tokenizer.sequences_to_matrix(data_test, mode=\"binary\")\n",
        "\n",
        "network = models.Sequential()\n",
        "network.add(layers.Dense(units=16, activation=\"relu\", input_shape=(number_of_features,)))\n",
        "network.add(layers.Dense(units=16, activation=\"relu\"))\n",
        "network.add(layers.Dense(units=1, activation=\"sigmoid\"))\n",
        "\n",
        "network.compile(loss=\"binary_crossentropy\", # 크로스 엔트로피\n",
        "optimizer=\"rmsprop\", # 옵티마이저\n",
        "metrics=[\"accuracy\"]) # 성능 지표\n",
        "\n",
        "history = network.fit(features_train, # 특성\n",
        "                        target_train, # 타깃 벡터\n",
        "                            epochs=3, # 에포크 횟수\n",
        "                            verbose=0, # 출력 없음\n",
        "                        batch_size=100, # 배치의 샘플 개수\n",
        "                        validation_data=(features_test, target_test)) # 테스트 데이터\n",
        "\n",
        "predicted_target = network.predict(features_test) # 테스트 세트의 클래스를 예측\n",
        "# 첫 번째 샘플이 클래스 1이 될 확률을 확인합니다.\n",
        "predicted_target[0]"
      ],
      "execution_count": 28,
      "outputs": [
        {
          "output_type": "execute_result",
          "data": {
            "text/plain": [
              "array([0.07036713], dtype=float32)"
            ]
          },
          "metadata": {
            "tags": []
          },
          "execution_count": 28
        }
      ]
    },
    {
      "cell_type": "code",
      "metadata": {
        "id": "5XO-g6Le1j4i",
        "colab_type": "code",
        "outputId": "a42bb357-d25a-4265-d151-0728e0622868",
        "colab": {
          "base_uri": "https://localhost:8080/",
          "height": 279
        }
      },
      "source": [
        "#훈련 기록 시각화\n",
        "#  신경망이 훈련 데이터를 학습함에 따라 훈련 세트와 테스트 세트에 대한 모델의 오차가 감소하는 경향을 보입니다.\n",
        "from keras.datasets import imdb\n",
        "from keras.preprocessing.text import Tokenizer\n",
        "from keras import models\n",
        "from keras import layers\n",
        "import matplotlib.pyplot as plt\n",
        "\n",
        "np.random.seed(0)\n",
        "number_of_features = 10000 # 필요한 특성 개수를 지정\n",
        "\n",
        "# 영화 리뷰 데이터에서 훈련 데이터와 타깃 벡터를 로드\n",
        "(data_train, target_train), (data_test, target_test) = imdb.load_data( num_words=number_of_features)\n",
        "\n",
        "# 영화영화 리뷰 데이터를 원-핫 인코딩된 특성 행렬로 변환\n",
        "tokenizer = Tokenizer(num_words=number_of_features)\n",
        "features_train = tokenizer.sequences_to_matrix(data_train, mode=\"binary\")\n",
        "features_test = tokenizer.sequences_to_matrix(data_test, mode=\"binary\")\n",
        "\n",
        "network = models.Sequential()\n",
        "network.add(layers.Dense(units=16, activation=\"relu\", input_shape=(number_of_features,)))\n",
        "network.add(layers.Dense(units=16, activation=\"relu\"))\n",
        "network.add(layers.Dense(units=1, activation=\"sigmoid\")) \n",
        "\n",
        "network.compile(loss=\"binary_crossentropy\", # 크로스 엔트로피\n",
        "                optimizer=\"rmsprop\", # 옵티마이저\n",
        "                metrics=[\"accuracy\"]) # 성능 지표\n",
        "\n",
        "history = network.fit(features_train, # 특성\n",
        "                      target_train, # 타깃\n",
        "                      epochs=15, # 에포크 횟수\n",
        "                      verbose=0, # 출력 없음\n",
        "                      batch_size=1000, # 배치의 샘플 개수\n",
        "                      validation_data=(features_test, target_test)) # 테스트 데이터\n",
        "\n",
        "# 훈련 손실과 테스트 손실의 기록을 저장\n",
        "training_loss = history.history[\"loss\"]\n",
        "test_loss = history.history[\"val_loss\"]\n",
        "\n",
        "# 에포크 횟수를 사용해 카운트 객체를 만듭니다.\n",
        "epoch_count = range(1, len(training_loss) + 1)\n",
        "plt.plot(epoch_count, training_loss, \"r--\")\n",
        "plt.plot(epoch_count, test_loss, \"b-\")\n",
        "plt.legend([\"Training Loss\", \"Test Loss\"])\n",
        "plt.xlabel(\"Epoch\")\n",
        "plt.ylabel(\"Loss\")\n",
        "plt.show() # 손실 값의 기록을 시각화"
      ],
      "execution_count": 29,
      "outputs": [
        {
          "output_type": "display_data",
          "data": {
            "image/png": "[encoded data removed]",
            "text/plain": [
              "<Figure size 432x288 with 1 Axes>"
            ]
          },
          "metadata": {
            "tags": []
          }
        }
      ]
    },
    {
      "cell_type": "code",
      "metadata": {
        "id": "XDFWIJ8QPlfr",
        "colab_type": "code",
        "colab": {
          "base_uri": "https://localhost:8080/",
          "height": 1000
        },
        "outputId": "8c23d06d-324a-4bb6-b875-fd2e1ec72611"
      },
      "source": [
        "#기록확인 \n",
        "history.history"
      ],
      "execution_count": 35,
      "outputs": [
        {
          "output_type": "execute_result",
          "data": {
            "text/plain": [
              "{'acc': [0.7920000004768372,\n",
              "  0.8930399990081788,\n",
              "  0.9147599983215332,\n",
              "  0.9277599978446961,\n",
              "  0.9390399980545044,\n",
              "  0.9461599922180176,\n",
              "  0.9539199924468994,\n",
              "  0.959159996509552,\n",
              "  0.9623600006103515,\n",
              "  0.9653199982643127,\n",
              "  0.9690000033378601,\n",
              "  0.9737199974060059,\n",
              "  0.9749200034141541,\n",
              "  0.9780400013923645,\n",
              "  0.9806799983978272],\n",
              " 'loss': [0.5175104343891144,\n",
              "  0.33045307755470277,\n",
              "  0.25435923278331757,\n",
              "  0.20870738506317138,\n",
              "  0.1795890063047409,\n",
              "  0.16017767608165742,\n",
              "  0.1402315989136696,\n",
              "  0.12720301300287246,\n",
              "  0.11584872514009475,\n",
              "  0.1052429872751236,\n",
              "  0.09816034525632858,\n",
              "  0.08480535954236984,\n",
              "  0.08007167145609856,\n",
              "  0.07136154606938362,\n",
              "  0.0664260333776474],\n",
              " 'val_acc': [0.858840000629425,\n",
              "  0.883800003528595,\n",
              "  0.8887600016593933,\n",
              "  0.8862799978256226,\n",
              "  0.864520001411438,\n",
              "  0.8721599960327149,\n",
              "  0.8798000025749206,\n",
              "  0.8779200029373169,\n",
              "  0.875,\n",
              "  0.8675600004196167,\n",
              "  0.8733199977874756,\n",
              "  0.8520800065994263,\n",
              "  0.8700800013542175,\n",
              "  0.8601599979400635,\n",
              "  0.8592000007629395],\n",
              " 'val_loss': [0.40925512671470643,\n",
              "  0.32755361914634706,\n",
              "  0.2933349084854126,\n",
              "  0.2874903202056885,\n",
              "  0.3326893103122711,\n",
              "  0.3251607322692871,\n",
              "  0.3056549215316772,\n",
              "  0.3192571949958801,\n",
              "  0.3321573543548584,\n",
              "  0.3646514904499054,\n",
              "  0.3586516439914703,\n",
              "  0.4450340902805328,\n",
              "  0.3964464259147644,\n",
              "  0.43644734025001525,\n",
              "  0.45467621326446533]}"
            ]
          },
          "metadata": {
            "tags": []
          },
          "execution_count": 35
        }
      ]
    },
    {
      "cell_type": "code",
      "metadata": {
        "id": "2lbvpnV92CH1",
        "colab_type": "code",
        "outputId": "b848b304-2c77-4082-a7c7-016afe5ab3a8",
        "colab": {
          "base_uri": "https://localhost:8080/",
          "height": 317
        }
      },
      "source": [
        "## 훈련 정확도와 테스트 정확도 기록을 저장합니다.\n",
        "training_accuracy = history.history[\"acc\"]\n",
        "test_accuracy = history.history[\"val_acc\"]\n",
        "plt.plot(epoch_count, training_accuracy, \"r--\")\n",
        "plt.plot(epoch_count, test_accuracy, \"b-\")\n",
        "\n",
        "# 정확도 그래프를 그립니다.\n",
        "plt.legend([\"Training Accuracy\", \"Test Accuracy\"])\n",
        "plt.xlabel(\"Epoch\")\n",
        "plt.ylabel(\"Accuracy Score\")\n",
        "plt.show();\n",
        "\n",
        "'''총평\n",
        " 어떤 지점에선 신경망이 훈련 데이터를 암기하기 시작하여 과대적합이 됩니다. \n",
        "  ( 훈련 오차는 감소하지만 테스트 오차는 증가하기 시작합니다.)\n",
        "대부분의 경우 테스트 오차(주요 관심 대상인 오차)가 가장 낮은 지점이 최적점입니다\n",
        "'''"
      ],
      "execution_count": 37,
      "outputs": [
        {
          "output_type": "display_data",
          "data": {
            "image/png": "[encoded data removed]",
            "text/plain": [
              "<Figure size 432x288 with 1 Axes>"
            ]
          },
          "metadata": {
            "tags": []
          }
        },
        {
          "output_type": "execute_result",
          "data": {
            "text/plain": [
              "'총평\\n\\uf0a7 어떤 지점에선 신경망이 훈련 데이터를 암기하기 시작하여 과대적합이 됩니다. \\n  ( 훈련 오차는 감소하지만 테스트 오차는 증가하기 시작합니다.)\\n\\uf0a7대부분의 경우 테스트 오차(주요 관심 대상인 오차)가 가장 낮은 지점이 최적점입니다\\n'"
            ]
          },
          "metadata": {
            "tags": []
          },
          "execution_count": 37
        }
      ]
    },
    {
      "cell_type": "code",
      "metadata": {
        "id": "_jEKy7w_1vN0",
        "colab_type": "code",
        "colab": {}
      },
      "source": [
        "# 가중치 규제로 과대적합 줄이기\n",
        "#  가중치 규제는 네트워크 모델 파라미터를 제한하여 과대 적합을 줄이는 것입니다.\n",
        "import numpy as np\n",
        "from keras.datasets import imdb\n",
        "from keras.preprocessing.text import Tokenizer\n",
        "from keras import models\n",
        "from keras import layers\n",
        "from keras import regularizers\n",
        "\n",
        "np.random.seed(0) # 랜덤 시드 설정\n",
        "number_of_features = 1000 # 필요한 특성 개수 지정\n",
        "\n",
        "# 영화 리뷰 데이터에서 훈련 데이터와 타깃 벡터를 로드\n",
        "(data_train, target_train), (data_test, target_test) = imdb.load_data( num_words=number_of_features)\n",
        "\n",
        "# 영화 리뷰 데이터를 원-핫 인코딩된 특성 행렬로 변환\n",
        "tokenizer = Tokenizer(num_words=number_of_features)\n",
        "features_train = tokenizer.sequences_to_matrix(data_train, mode=\"binary\")\n",
        "features_test = tokenizer.sequences_to_matrix(data_test, mode=\"binary\")\n",
        "\n",
        "network = models.Sequential()\n",
        "network.add(layers.Dense(units=16, activation=\"relu\", kernel_regularizer=regularizers.l2(0.01),\n",
        "                         input_shape=(number_of_features,)))"
      ],
      "execution_count": 0,
      "outputs": []
    },
    {
      "cell_type": "code",
      "metadata": {
        "id": "enG9_Aer27BO",
        "colab_type": "code",
        "colab": {}
      },
      "source": [
        "'''\n",
        " 신경망의 모델 파라미터(가중치)가 작은 값을 갖도록 제한을 가하는 것입니다.\n",
        " 케라스에서는 층의 매개변수로 kernel_regularizer=regularizers.l2(0.01)를 지정하여 가중치 규제를 추가할 수 있습\n",
        "니다.\n",
        "'''\n",
        "# 렐루 활성화 함수를 사용한 완전 연결 층을 추가합니다.\n",
        "network.add(layers.Dense(units=16, kernel_regularizer=regularizers.l2(0.01), activation=\"relu\"))\n",
        "network.add(layers.Dense(units=1, activation=\"sigmoid\"))\n",
        "\n",
        "network.compile(loss=\"binary_crossentropy\", # 크로스 엔트로피\n",
        "                optimizer=\"rmsprop\", # 옵티마이저\n",
        "                metrics=[\"accuracy\"]) # 성능 지표\n",
        "\n",
        "history = network.fit(features_train, # 특성\n",
        "                      target_train, # 타깃 벡터\n",
        "                      epochs=3, # 에포크 횟수\n",
        "                      verbose=0, # 출력 없음\n",
        "                      batch_size=100, # 배치의 샘플 개수\n",
        "                      validation_data=(features_test, target_test)) # 테스트 데이터\n",
        "\n",
        "network.add(layers.Dense(units=16, activation=\"relu\", kernel_regularizer='l1_l2',\n",
        "            input_shape=(number_of_features,)))"
      ],
      "execution_count": 0,
      "outputs": []
    },
    {
      "cell_type": "code",
      "metadata": {
        "id": "7xySzTht3Rqu",
        "colab_type": "code",
        "outputId": "0e565f52-eec1-4c86-b730-f95c209b61e9",
        "colab": {
          "base_uri": "https://localhost:8080/",
          "height": 55
        }
      },
      "source": [
        "'''\n",
        "조기종료로 과대적합 줄이기\n",
        " 테스트 손실이 더 이상 감소하지 않을 때 학습을 멈추고 조기 종료합니다.\n",
        " 과대적합을 해결하는 가장 일반적이고 효과적인 방법 중 하나는 훈련 과정을 감시하여 테스트 오차가 증가하기 시\n",
        "작할 때 훈련을 멈추는 것입니다.\n",
        "'''\n",
        "import numpy as np\n",
        "from keras.datasets import imdb\n",
        "from keras.preprocessing.text import Tokenizer\n",
        "from keras import models\n",
        "from keras import layers\n",
        "from keras.callbacks import EarlyStopping, ModelCheckpoint\n",
        "\n",
        "np.random.seed(0) # 랜덤 시드 설정\n",
        "number_of_features = 1000 # 필요한 특성 개수를 지정\n",
        "\n",
        "# 영화 리뷰 데이터에서 훈련 데이터와 타깃 벡터를 로드\n",
        "(data_train, target_train), (data_test, target_test) = imdb.load_data( num_words=number_of_features)\n",
        "\n",
        "# 영화 리뷰 데이터를 원-핫 인코딩된 특성 행렬로 변환\n",
        "tokenizer = Tokenizer(num_words=number_of_features)\n",
        "features_train = tokenizer.sequences_to_matrix(data_train, mode=\"binary\")\n",
        "features_test = tokenizer.sequences_to_matrix(data_test, mode=\"binary\")\n",
        "network = models.Sequential()\n",
        "network.add(layers.Dense(units=16, activation=\"relu\", input_shape=(number_of_features,)))\n",
        "network.add(layers.Dense(units=16, activation=\"relu\"))\n",
        "network.add(layers.Dense(units=1, activation=\"sigmoid\"))\n",
        "\n",
        "network.compile(loss=\"binary_crossentropy\", # 크로스 엔트로피\n",
        "                optimizer=\"rmsprop\", # 옵티마이저\n",
        "                metrics=[\"accuracy\"]) # 성능 지표\n",
        "\n",
        "# 훈련을 조기 종료하고 최선의 모델을 저장하기 위해 콜백 함수를 설정\n",
        "callbacks = [EarlyStopping(monitor=\"val_loss\", patience=2),\n",
        "             ModelCheckpoint(filepath=\"best_model.h5\",\n",
        "             monitor=\"val_loss\",\n",
        "             save_best_only=True)]\n",
        "\n",
        "history = network.fit(features_train, # 특성\n",
        "                      target_train, # 타깃 벡터\n",
        "                      epochs=20, # 에포크 횟수\n",
        "                      callbacks=callbacks, # 조기 종료\n",
        "                      verbose=0, # 에포크 과정을 출력합니다.\n",
        "                      batch_size=100, # 배치의 샘플 개수\n",
        "                      validation_data=(features_test, target_test)) # 테스트 데이터\n",
        "\n",
        "'''\n",
        " 케라스에서는 콜백 함수로 조기 종료를 구현합니다.\n",
        " 콜백 함수는 학습 과정의 특정 단계에 적용할 수 있는 함수입니다.\n",
        " EarlyStoping(monitor='val_loss', patience=2)를 추가하여 에폭마다 테스트(검증) 손실을 감시하여 연속적으로 2에\n",
        "폭 동안 테스트 손실이 향상되지 않으면 훈련을 멈추도록 설정했습니다\n",
        "'''"
      ],
      "execution_count": 43,
      "outputs": [
        {
          "output_type": "execute_result",
          "data": {
            "text/plain": [
              "\"\\n\\uf0a7 케라스에서는 콜백 함수로 조기 종료를 구현합니다.\\n\\uf0a7 콜백 함수는 학습 과정의 특정 단계에 적용할 수 있는 함수입니다.\\n\\uf0a7 EarlyStoping(monitor='val_loss', patience=2)를 추가하여 에폭마다 테스트(검증) 손실을 감시하여 연속적으로 2에\\n폭 동안 테스트 손실이 향상되지 않으면 훈련을 멈추도록 설정했습니다\\n\""
            ]
          },
          "metadata": {
            "tags": []
          },
          "execution_count": 43
        }
      ]
    },
    {
      "cell_type": "code",
      "metadata": {
        "id": "JvgWnZKL4iFl",
        "colab_type": "code",
        "colab": {}
      },
      "source": [
        "'''\n",
        "드롭아웃으로 과대적합 줄이기\n",
        " dropout을 사용하여 네트워크에 구조적으로 잡음을 추가합니다\n",
        "\n",
        " 드롭아웃은 신경망을 규제하는 강력하고 인기 높은 방법입니다.\n",
        " 드롭아웃에서는 샘플의 배치가 훈련을 위해 만들어질 때마다 한개 이상의 층에서 유닛의 일부에 0을 곱합니다.\n",
        " 설정에서 모든 배치가 같은 네트워크에서 훈련되지만 모든 배치는 조금씩 다른 버전의 네트워크 구조를 만납니다.\n",
        " 드롭아웃이 배치마다 같은 수의 유닛을 랜덤하게 끕니다.\n",
        " 다른 은닉 유닛에 있는 문제에 영향을 받지 않도록 학습됩니다.\n",
        " 네트워크가 훈련 데이터를 단순히 암기하지 못하도록 합니다.\n",
        "\n",
        " 은닉층과 입력층에 모두 드롭아웃을 추가할 수 있습니다.\n",
        " 입력층이 드롭아웃되면 해당 배치의 그 특성값이 네트워크에 전달되지 않습니다.\n",
        " 케라스에서는 Dropout층을 네트워크에 추가하여 드롭아웃을 구현할 수 있습니다.\n",
        " 각 Dropout층은 배치마다 이전 층에 있는 유닛을 사용자가 지정한 비율만큼 드롭할 것입니다.\n",
        " 입력층에 드롭아웃을 추가하고 싶다면 네트워크에 드롭아웃층을 첫 번째 층으로 추가해야 합니다.\n",
        "'''\n",
        "\n",
        "import numpy as np\n",
        "from keras.datasets import imdb\n",
        "from keras.preprocessing.text import Tokenizer\n",
        "from keras import models\n",
        "from keras import layers\n",
        "\n",
        "np.random.seed(0) # 랜덤 시드 설정\n",
        "number_of_features = 1000 # 필요한 특성 개수를 지정\n",
        "\n",
        "# 영화 리뷰 데이터에서 훈련 데이터와 타깃 벡터를 로드\n",
        "(data_train, target_train), (data_test, target_test) = imdb.load_data( num_words=number_of_features)\n",
        "\n",
        "# 영화 리뷰 데이터를 원-핫 인코딩된 특성 행렬로 변환\n",
        "tokenizer = Tokenizer(num_words=number_of_features)\n",
        "features_train = tokenizer.sequences_to_matrix(data_train, mode=\"binary\")\n",
        "features_test = tokenizer.sequences_to_matrix(data_test, mode=\"binary\")\n",
        "network = models.Sequential()\n",
        "\n",
        "# 입력층으로 드롭아웃 층을 추가\n",
        "network.add(layers.Dropout(0.2, input_shape=(number_of_features,)))\n",
        "network.add(layers.Dense(units=16, activation=\"relu\")) #은닉층\n",
        "network.add(layers.Dropout(0.5))\n",
        "network.add(layers.Dense(units=16, activation=\"relu\"))\n",
        "network.add(layers.Dropout(0.5))\n",
        "network.add(layers.Dense(units=1, activation=\"sigmoid\")) #출력층\n",
        "\n",
        "network.compile(loss=\"binary_crossentropy\", # 크로스 엔트로피\n",
        "                optimizer=\"rmsprop\", # 옵티마이저\n",
        "                metrics=[\"accuracy\"]) # 성능 지표\n",
        "\n",
        "history = network.fit(features_train, # 특성\n",
        "                      target_train, # 타깃 벡터\n",
        "                      epochs=3, # 에포크 횟수\n",
        "                      verbose=0, # 출력 없음\n",
        "                      batch_size=100, # 배치의 샘플 개수\n",
        "                      validation_data=(features_test, target_test)) # 테스트 데이터"
      ],
      "execution_count": 0,
      "outputs": []
    },
    {
      "cell_type": "code",
      "metadata": {
        "id": "aG6W-Ogo4rdD",
        "colab_type": "code",
        "colab": {}
      },
      "source": [
        "'''\n",
        "모델 훈련 진행 과정 저장\n",
        " 콜백 함수 ModelCheckpoint를 사용해 에폭이 끝날 때마다 모델을 저장할 수 있습니다.\n",
        "\n",
        " ModelCheckpoint는 filepath 매개변수에 지정된 위치에 모델을 저장합니다.\n",
        " 손실 함수의 성능에 따라 최상의 모델만 저장하고 싶다면 save_best_only=True와 monitor='val_loss'로 설정합니다.\n",
        " 이전 모델보다 테스트 손실 점수를 포함시키는 식으로 모든 에폭의 모델을 각각의 파일에 저장할 수 있습니다.\n",
        "'''\n",
        "import numpy as np\n",
        "from keras.datasets import imdb\n",
        "from keras.preprocessing.text import Tokenizer\n",
        "from keras import models\n",
        "from keras import layers\n",
        "from keras.callbacks import ModelCheckpoint\n",
        "\n",
        "np.random.seed(0) # 랜덤 시드 설정\n",
        "number_of_features = 1000 # 필요한 특성 개수를 지정\n",
        "\n",
        "# 영화 리뷰 데이터에서 훈련 데이터와 타깃 벡터를 로드합니다.\n",
        "(data_train, target_train), (data_test, target_test) = imdb.load_data( num_words=number_of_features)\n",
        "\n",
        "# 영화 리뷰 데이터를 원-핫 인코딩된 특성 행렬로 변환합니다.\n",
        "tokenizer = Tokenizer(num_words=number_of_features)\n",
        "features_train = tokenizer.sequences_to_matrix(data_train, mode=\"binary\")\n",
        "features_test = tokenizer.sequences_to_matrix(data_test, mode=\"binary\")\n",
        "\n",
        "network = models.Sequential()\n",
        "network.add(layers.Dense(units=16, activation=\"relu\", input_shape=(number_of_features,)))\n",
        "network.add(layers.Dense(units=16, activation=\"relu\"))\n",
        "\n",
        "network.add(layers.Dense(units=1, activation=\"sigmoid\"))\n",
        "network.compile(loss=\"binary_crossentropy\", # 크로스 엔트로피\n",
        "optimizer=\"rmsprop\", # 옵티마이저\n",
        "metrics=[\"accuracy\"]) # 성능 지표\n",
        "\n",
        "# 훈련을 조기 종료하고 최선의 모델을 저장하기 위해 콜백 함수 설정\n",
        "checkpoint = [ModelCheckpoint(filepath=\"models.hdf5\")]\n",
        "              \n",
        "history = network.fit(features_train, # 특성\n",
        "                      target_train, # 타깃 벡터\n",
        "                      epochs=3, # 에포크 횟수\n",
        "                      callbacks=checkpoint, # 체크포인트\n",
        "                      verbose=0, # 출력 없음\n",
        "                      batch_size=100, # 배치의 샘플 개수\n",
        "                      validation_data=(features_test, target_test)) # 테스트 데이터"
      ],
      "execution_count": 0,
      "outputs": []
    },
    {
      "cell_type": "code",
      "metadata": {
        "id": "K5zVA37c50je",
        "colab_type": "code",
        "colab": {}
      },
      "source": [
        "'''\n",
        "신경망 k-폴드 교차검증\n",
        " 케라스의 사이킷런 래퍼(wrapper)를 사용하면 Sequential 모델에서 시이킷런 API를 사용할 수 있습니다.\n",
        " 케라스의 신경망 모델을 사이킷런의 인터페이스와 호환되도록 감싸면 k-폴드 교차검증을 포함하여 사이킷런의 평\n",
        "가 도구를 사용할 수 있습니다.\n",
        " KerasClassifier 클래스로 사이킷런에서 사용할 수 있도록 모델을 감쌉니다.\n",
        "'''\n",
        "\n",
        "import numpy as np\n",
        "from keras import models\n",
        "from keras import layers\n",
        "from keras.wrappers.scikit_learn import KerasClassifier\n",
        "from sklearn.model_selection import cross_val_score\n",
        "from sklearn.datasets import make_classification\n",
        "\n",
        "np.random.seed(0) # 랜덤 시드 설정\n",
        "number_of_features = 100 # 특성 개수\n",
        "features, target = make_classification(n_samples = 10000,\n",
        "                                       n_features = number_of_features,\n",
        "                                       n_informative = 3,\n",
        "                                       n_redundant = 0,\n",
        "                                       n_classes = 2,\n",
        "                                       weights = [.5, .5],\n",
        "                                       random_state = 0)"
      ],
      "execution_count": 0,
      "outputs": []
    },
    {
      "cell_type": "code",
      "metadata": {
        "id": "azqkXyoW6TkJ",
        "colab_type": "code",
        "outputId": "b91e0b46-8356-434d-f069-ed4158ccb3db",
        "colab": {
          "base_uri": "https://localhost:8080/",
          "height": 35
        }
      },
      "source": [
        "'''\n",
        " 오랜 시간이 걸리는 훈련에 k-폴드 교차검증 계산 비용을 추가하는 것은 권장하지 않습니다.\n",
        " 데이터가 많다면 단순하게 테스트 세트에서 신경망을 평가하는 것이 적절합니다.\n",
        " 데이터가 적다면 신경망의 성능을 가장 잘 평가하기 위해 k-폴드 교차검증을 사용할 수 있습니다.\n",
        "'''\n",
        "def create_network():\n",
        "    network = models.Sequential()\n",
        "    network.add(layers.Dense(units=16, activation=\"relu\", input_shape=( number_of_features,)))\n",
        "    network.add(layers.Dense(units=16, activation=\"relu\"))\n",
        "    network.add(layers.Dense(units=1, activation=\"sigmoid\"))\n",
        "    network.compile(loss=\"binary_crossentropy\", # 크로스 엔트로피\n",
        "                    optimizer=\"rmsprop\", # 옵티마이저\n",
        "                    metrics=[\"accuracy\"]) # 성능 지표\n",
        "    return network\n",
        "# 케라스 모델을 래핑하여 사이킷런에서 사용할 수 있도록 만듭니다.\n",
        "neural_network = KerasClassifier(build_fn=create_network,\n",
        "                                 epochs=10,\n",
        "                                 batch_size=100,\n",
        "                                 verbose=0)\n",
        "\n",
        "# 3-폴드 교차검증을 사용하여 신경망을 평가합니다.\n",
        "cross_val_score(neural_network, features, target, cv=3)"
      ],
      "execution_count": 47,
      "outputs": [
        {
          "output_type": "execute_result",
          "data": {
            "text/plain": [
              "array([0.90611878, 0.90549055, 0.88748875])"
            ]
          },
          "metadata": {
            "tags": []
          },
          "execution_count": 47
        }
      ]
    },
    {
      "cell_type": "code",
      "metadata": {
        "id": "6F_zdktw6zbl",
        "colab_type": "code",
        "colab": {
          "base_uri": "https://localhost:8080/",
          "height": 35
        },
        "outputId": "041d5cef-e3da-43ff-c3c9-9fff6fbe8b59"
      },
      "source": [
        "#신경망 튜닝\n",
        "# 최적화 알고리즘, 에폭 횟수, 배치 크기 등 여러 옵션을 대상으로 교차검증 그리드 서치를 수행합니다\n",
        "import numpy as np\n",
        "from keras import models\n",
        "from keras import layers\n",
        "from keras.wrappers.scikit_learn import KerasClassifier\n",
        "from sklearn.model_selection import GridSearchCV\n",
        "from sklearn.datasets import make_classification\n",
        "\n",
        "np.random.seed(0) # 랜덤 시드 설정\n",
        "number_of_features = 100 # 특성 개수\n",
        "\n",
        "features, target = make_classification(n_samples = 10000,\n",
        "                                       n_features = number_of_features,\n",
        "                                       n_informative = 3,\n",
        "                                       n_redundant = 0,\n",
        "                                       n_classes = 2,\n",
        "                                       weights = [.5, .5],\n",
        "                                       random_state = 0)\n",
        "\n",
        "def create_network(optimizer=\"rmsprop\"):\n",
        "    network = models.Sequential()\n",
        "    network.add(layers.Dense(units=16, activation=\"relu\", input_shape=(number_of_features,)))\n",
        "    network.add(layers.Dense(units=16, activation=\"relu\"))\n",
        "    network.add(layers.Dense(units=1, activation=\"sigmoid\"))\n",
        "    network.compile(loss=\"binary_crossentropy\", # 크로스 엔트로피\n",
        "                    optimizer=optimizer, # 옵티마이저\n",
        "                    metrics=[\"accuracy\"]) # 성능 지표\n",
        "    return network\n",
        "\n",
        "# 사이킷런에서 사용할 수 있도록 케라스 모델을 감쌉니다.\n",
        "neural_network = KerasClassifier(build_fn=create_network, verbose=0)    \n",
        "# 하이퍼파라미터 탐색 영역을 정의합니다.\n",
        "epochs = [5, 10]\n",
        "batches = [5, 10, 100]\n",
        "optimizers = [\"rmsprop\", \"adam\"]\n",
        "# 하이퍼파라미터 그리드를 만듭니다.\n",
        "hyperparameters = dict(optimizer=optimizers, epochs=epochs, batch_size=batches)\n",
        "\n",
        "grid = GridSearchCV(estimator=neural_network, param_grid=hyperparameters)\n",
        "grid_result = grid.fit(features, target)\n",
        "grid_result.best_params_ # 최상의 신경망 하이퍼파라미터를 확인  "
      ],
      "execution_count": 48,
      "outputs": [
        {
          "output_type": "execute_result",
          "data": {
            "text/plain": [
              "{'batch_size': 5, 'epochs': 5, 'optimizer': 'adam'}"
            ]
          },
          "metadata": {
            "tags": []
          },
          "execution_count": 48
        }
      ]
    },
    {
      "cell_type": "code",
      "metadata": {
        "id": "6ShG5Thv7tVJ",
        "colab_type": "code",
        "colab": {
          "base_uri": "https://localhost:8080/",
          "height": 422
        },
        "outputId": "54cd88a9-6cc1-4769-b666-9709875f0390"
      },
      "source": [
        "'''\n",
        "신경망 시각화\n",
        " 케라스의 model_to_dot이나 plot_model을 사용합니다.\n",
        " show_shapes 매개변수는 입력과 출력의 크기를 보여주어 디버깅에 도움이 됩니다.\n",
        "'''\n",
        "from keras import models\n",
        "from keras import layers\n",
        "from IPython.display import SVG\n",
        "from keras.utils.vis_utils import model_to_dot\n",
        "from keras.utils import plot_model\n",
        "\n",
        "network = models.Sequential()\n",
        "network.add(layers.Dense(units=16, activation=\"relu\", input_shape=(10,)))\n",
        "network.add(layers.Dense(units=16, activation=\"relu\"))\n",
        "network.add(layers.Dense(units=1, activation=\"sigmoid\"))\n",
        "\n",
        "SVG(model_to_dot(network, show_shapes=True).create(prog=\"dot\", format=\"svg\"))\n",
        "\n",
        "# 신경망 구조를 시각화한 그림를 파일로 저장합니다.\n",
        "plot_model(network, show_shapes=True, to_file=\"/content/drive/My Drive/Colab Notebooks/싸이킷런 머신러닝(박태정T)/data/output/network.png\")"
      ],
      "execution_count": 49,
      "outputs": [
        {
          "output_type": "execute_result",
          "data": {
            "image/png": "[encoded data removed]",
            "text/plain": [
              "<IPython.core.display.Image object>"
            ]
          },
          "metadata": {
            "tags": []
          },
          "execution_count": 49
        }
      ]
    },
    {
      "cell_type": "code",
      "metadata": {
        "id": "R0c54vsRC233",
        "colab_type": "code",
        "colab": {}
      },
      "source": [
        "'''\n",
        "이미지 분류\n",
        " 케라스에서 하나 이상의 합성곱층으로 신경망을 사용해 이미지를 분류할 수 있습니다.\n",
        "\n",
        " 피드포워드 신경망에서 각 픽셀이 특성이 되는 식으로 이미지를 처리 할 수 있습니다.\n",
        " 피드포워드 신경망은 픽셀의 공간 구조를 다루지 못합니다\n",
        " 피드포워드 신경망은 지역 패턴 대신 전체적인 특성의 관계를 학습합니다.\n",
        " 피드포워드 신경망은 물체가 이미지에 나타나는 위치에 상관없이 감지할 수 있는 능력이 없습니다.\n",
        "\n",
        " 합성곱 신경망(ConvNet)은 컴퓨터 비전 작업에 매우 효과적이라고 증명된 네트워크으로 합성곱은 개별 픽셀과 주\n",
        "변 픽셀을 함께 보면서 이미지 위를 슬라이딩하는 윈도 입니다.\n",
        "'''\n",
        "'''\n",
        " 이미지 데이터를 새로운 3차원 텐서로 변환합니다.\n",
        " 처음 두 차원은 비슷한 너비와 높이를 가지지만 세번째 차원은 픽셀이 속한 패턴을 나타냅니다.\n",
        " 폴링층은 데이터 위에서 윈도를 이동하면서 어떤 방식으로 윈도의 값을 요약하여 데이터 크기를 줄입니다.\n",
        " 윈도 안의 최댓값을 다음 층으로 보내는 최대 풀링입니다.\n",
        " 최대 풀링을 사용하는 이유는 합성곱 단계에서 매우 빠르게 학습할 모델 파라미터를 많이 만드는 실용성입니다.\n",
        " 최대 풀링은 이미지를 줌 아웃하는 것으로 생각할 수 있습니다.\n",
        "1. 합성곱층을 추가하고 필터의 수와 다른 매개변수를 지정합니다. 윈도 크기는 하이퍼파라미터입니다.\n",
        "2. 이웃한 픽셀을 요약하기 위해 최대 풀링층을 추가합니다.\n",
        "3. 과대적합의 가능성을 줄이기 위해 드롭아웃층을 추가합니다.\n",
        "4. 합성곱의 출력을 완전 연결층에 사용될 수 있도록 바꾸기 위해 flatten층을 추가합니다.\n",
        "5. 은닉층과 실제 분류를 수행할 출력층을 추가합니다.\n",
        " 합성곱층과 완전 연결층에 있는 가중치 개수를 쉽게 비교해 볼 수 있습니다.\n",
        " 합성곱층의 가중치 크기는 입력에 상관없이 필터에 의해 결정\n",
        "'''\n",
        "\n",
        "import numpy as np\n",
        "from keras.datasets import mnist\n",
        "from keras.models import Sequential\n",
        "from keras.layers import Dense, Dropout, Flatten\n",
        "from keras.layers.convolutional import Conv2D, MaxPooling2D\n",
        "from keras.utils import np_utils\n",
        "from keras import backend as K\n",
        "\n",
        "K.set_image_data_format(\"channels_first\") # 컬러 채널이 처음에 오도록 설정합니다.\n",
        "np.random.seed(0) # 랜덤 시드 지정\n",
        "channels = 1 # 이미지 정보 설정\n",
        "height = 28\n",
        "width = 28\n",
        "# MNIST 데이터에서 훈련 데이터와 타깃 데이터를 로드합니다.\n",
        "(data_train, target_train), (data_test, target_test) = mnist.load_data()\n",
        "# 훈련 이미지 데이터를 특성의 크기로 바꿉니다.\n",
        "data_train = data_train.reshape(data_train.shape[0], channels, height, width)\n",
        "# 테스트 이미지 데이터를 특성의 크기로 바꿉니다.\n",
        "data_test = data_test.reshape(data_test.shape[0], channels, height, width)"
      ],
      "execution_count": 0,
      "outputs": []
    },
    {
      "cell_type": "code",
      "metadata": {
        "id": "POdCZ9ZkDCIp",
        "colab_type": "code",
        "colab": {}
      },
      "source": [
        "features_train = data_train / 255 # 0과 1사이로 픽셀 강도의 스케일을 조정합니다\n",
        "features_test = data_test / 255\n",
        "target_train = np_utils.to_categorical(target_train)\n",
        "target_test = np_utils.to_categorical(target_test)\n",
        "number_of_classes = target_test.shape[1]\n",
        "network = Sequential()\n",
        "# 64 필터, 5x5 윈도, 렐루 활성화 함수를 사용하는 합성곱 층을 추가합니다.\n",
        "network.add(Conv2D(filters=64,\n",
        "kernel_size=(5, 5),\n",
        "input_shape=(channels, width, height),\n",
        "activation='relu'))\n",
        "# 2x2 윈도를 사용하는 최대 풀링 층을 추가합니다.\n",
        "network.add(MaxPooling2D(pool_size=(2, 2)))\n",
        "# 드롭아웃 층을 추가합니다.\n",
        "network.add(Dropout(0.5))"
      ],
      "execution_count": 0,
      "outputs": []
    },
    {
      "cell_type": "code",
      "metadata": {
        "id": "VnRj8fmXDHUG",
        "colab_type": "code",
        "colab": {
          "base_uri": "https://localhost:8080/",
          "height": 413
        },
        "outputId": "093d57cf-fa80-4688-e5c8-cdd72d3f06e9"
      },
      "source": [
        "# 5x5 크기의 필터를 64개 사용했고 한 개의 절편이 필요하므로 총 가중치 개수는 5x5x64+64\n",
        "# 은닉층은 입력 크기와 유닛 개수를 곱하고 절편을 더하면 총 가중치 개수는 9216x128+128개입니다.\n",
        "network.add(Flatten()) ## 입력을 일렬로 펼치기 위한 층을 추가\n",
        "\n",
        "# 렐루 활성화 함수를 사용한 128개 유닛의 완전 연결 층을 추가합니다.\n",
        "network.add(Dense(128, activation=\"relu\"))\n",
        "network.add(Dropout(0.5)) # 드롭아웃 층을 추가\n",
        "network.add(Dense(number_of_classes, activation=\"softmax\")) # 소프트맥스 활성화 함수를 사용하는 출력층\n",
        "network.compile(loss=\"categorical_crossentropy\", # 크로스 엔트로피\n",
        "                optimizer=\"rmsprop\", # 옵티마이저\n",
        "                metrics=[\"accuracy\"]) # 성능 지표\n",
        "\n",
        "network.fit(features_train, # 특성\n",
        "            target_train, # 타깃\n",
        "            epochs=2, # 에포크 횟수\n",
        "            verbose=0, # 출력 없음\n",
        "            batch_size=1000, # 배치의 샘플 개수\n",
        "            validation_data=(features_test, target_test)) # 검증 데이터\n",
        "network.summary()"
      ],
      "execution_count": 53,
      "outputs": [
        {
          "output_type": "stream",
          "text": [
            "Model: \"sequential_80\"\n",
            "_________________________________________________________________\n",
            "Layer (type)                 Output Shape              Param #   \n",
            "=================================================================\n",
            "conv2d_3 (Conv2D)            (None, 64, 24, 24)        1664      \n",
            "_________________________________________________________________\n",
            "max_pooling2d_2 (MaxPooling2 (None, 64, 12, 12)        0         \n",
            "_________________________________________________________________\n",
            "dropout_6 (Dropout)          (None, 64, 12, 12)        0         \n",
            "_________________________________________________________________\n",
            "flatten_2 (Flatten)          (None, 9216)              0         \n",
            "_________________________________________________________________\n",
            "dense_244 (Dense)            (None, 128)               1179776   \n",
            "_________________________________________________________________\n",
            "dropout_7 (Dropout)          (None, 128)               0         \n",
            "_________________________________________________________________\n",
            "dense_245 (Dense)            (None, 10)                1290      \n",
            "=================================================================\n",
            "Total params: 1,182,730\n",
            "Trainable params: 1,182,730\n",
            "Non-trainable params: 0\n",
            "_________________________________________________________________\n"
          ],
          "name": "stdout"
        }
      ]
    },
    {
      "cell_type": "code",
      "metadata": {
        "id": "hU3iF7mYDhZS",
        "colab_type": "code",
        "colab": {
          "base_uri": "https://localhost:8080/",
          "height": 35
        },
        "outputId": "29f09d27-4712-406a-c2aa-7f7a7fc9b1a1"
      },
      "source": [
        "'''\n",
        "이미지 증식으로 성능 향상\n",
        " 성능을 높이려면 ImageDataGenerator를 사용하여 이미지를 전처리하고 데이터를 증식시킵니다.\n",
        " 이미지에 대해 합성곱 신경망을 훈련할 때는 여러 가지 방식으로 이미지를 랜덤하게 변환하여 샘플에 잡음을 추가\n",
        "할 수 있습니다.\n",
        " ImageDataGenerator는 이미지를 랜덤 확대, 이동, 반전, 회전 등 일부 변환을 적용합니다.\n",
        " featurewise_center=True를 사용해 전체 데이터에 걸쳐 픽셀값을 표준화합니다.\n",
        " 잡음을 추가하면 안정적이고 데이터에 과대적합되는 것을 막아주기 때문입니다.\n",
        " agument_images가 제너레이터이기 때문에 신경망을 훈련할 대 fit_generator()를 사용해야 합니다.\n",
        "'''\n",
        "from keras.preprocessing.image import ImageDataGenerator\n",
        "\n",
        "# 이미지 증식을 위해 객체를 만듭니다.\n",
        "augmentation = ImageDataGenerator(featurewise_center=True, # ZCA 화이트닝(whitening)을 적용합니다.\n",
        "                                  zoom_range=0.3, # 이미지를 랜덤하게 확대합니다.\n",
        "                                  width_shift_range=0.2, # 이미지를 랜덤하게 이동합니다.\n",
        "                                  horizontal_flip=True, # 이미지를 랜덤하게 뒤집습니다.\n",
        "                                  rotation_range=90) # 랜덤하게 회전합니다.\n",
        "\n",
        "# 'raw/images' 디렉토리에 있는 모든 이미지에 적용합니다.\n",
        "augment_images = augmentation.flow_from_directory(\"/content/drive/My Drive/Colab Notebooks/싸이킷런 머신러닝(박태정T)/data/images/\", # Image folder\n",
        "                                                   batch_size=32, # 배치 크기\n",
        "                                                   class_mode=\"binary\", # 클래스\n",
        "                                                   save_to_dir=\"/content/drive/My Drive/Colab Notebooks/싸이킷런 머신러닝(박태정T)/data/output/ImgGenerator/\")\n",
        "                                                    #처리된 이미지 저장 폴더 지정 "
      ],
      "execution_count": 61,
      "outputs": [
        {
          "output_type": "stream",
          "text": [
            "Found 0 images belonging to 0 classes.\n"
          ],
          "name": "stdout"
        }
      ]
    },
    {
      "cell_type": "code",
      "metadata": {
        "id": "c_gTYkxtFScu",
        "colab_type": "code",
        "colab": {
          "base_uri": "https://localhost:8080/",
          "height": 55
        },
        "outputId": "d36c90e9-8574-4ec3-c3ce-a457e439eab8"
      },
      "source": [
        "# 텍스트 분류방식\n",
        "'''\n",
        "텍스트 분류\n",
        " 인공지능이 문장을 듣고 이해한다는 것은 과거에 입력된 데이터와 나중에 입력된 데이터 사이의 관계를 고려해서\n",
        "학습하는 것입니다.\n",
        " 입력된 문장의 의미를 파악하는 것은 곧 모든 단어를 종합하여 하나의 카테고리로 분류하는 작업입니다.\n",
        " 순환 신경망(Recurrent Neural Network, RNN) 은 여러 개의 데이터가 순서대로 입력되었을 때 앞서 입력 받은 데\n",
        "이터를 잠시 기억해 놓는 방법입니다.\n",
        " 그리고 기억된 데이터가 얼마나 중요한지를 판단하여 별도의 가중치를 줘서 다음 데이터로 넘어갑니다.\n",
        " 모든 입력 값에 이 작업을 순서대로 실행하므로 다음 층으로 넘어가기 전에 같은 층을 맴도는 것처럼 보입니다\n",
        "   → RNN이 다른 신경망과 구별되는 차이점 (그림참고)\n",
        "'''\n",
        "\n",
        "''' RNN\n",
        " RNN 처리 방식 : 순환 부분에서 단어를 하나 처리할 때마다 단어마다 기억하여 다음 입력 값의 출력을 결정합니다.\n",
        " 순환이 되는 가운데 앞서 나온 입력에 대한 결과가 뒤에 나오는 입력 값에 영향을 주는 것을 알 수 있습니다. 이렇\n",
        "게 해야지만, 비슷한 두 문장이 입력되었을 때 그 차이를 구별하여 출력 값에 반영할 수가 있습니다.\n",
        "'''\n",
        "\n",
        "''' LSTM과 RNN\n",
        " LSTM(Long Short Term Memory) 방법을 함께 사용하는 기법이 현재 가장 널리 사용되고 있습니다. LSTM은 한 층\n",
        "안에서 반복을 많이 해야 하는 RNN의 특성상 일반 신경망보다 기울기 소실 문제(9장의 “기울기 소실 문제와 활성\n",
        "화 함수” 절 참조)가 더 많이 발생하고 이를 해결하기 어렵다는 단점을 보완한 방법입니다.\n",
        " 반복되기 직전에 다음 층으로 기억된 값을 넘길지 안 넘길지를 관리하는 단계를 하나 더 추가하는 것입니다.\n",
        "'''\n"
      ],
      "execution_count": 56,
      "outputs": [
        {
          "output_type": "execute_result",
          "data": {
            "text/plain": [
              "' LSTM과 RNN\\n\\uf0a7 LSTM(Long Short Term Memory) 방법을 함께 사용하는 기법이 현재 가장 널리 사용되고 있습니다. LSTM은 한 층\\n안에서 반복을 많이 해야 하는 RNN의 특성상 일반 신경망보다 기울기 소실 문제(9장의 “기울기 소실 문제와 활성\\n화 함수” 절 참조)가 더 많이 발생하고 이를 해결하기 어렵다는 단점을 보완한 방법입니다.\\n\\uf0a7 반복되기 직전에 다음 층으로 기억된 값을 넘길지 안 넘길지를 관리하는 단계를 하나 더 추가하는 것입니다.\\n'"
            ]
          },
          "metadata": {
            "tags": []
          },
          "execution_count": 56
        }
      ]
    },
    {
      "cell_type": "code",
      "metadata": {
        "id": "ODfgrN00F0XY",
        "colab_type": "code",
        "colab": {}
      },
      "source": [
        ""
      ],
      "execution_count": 0,
      "outputs": []
    }
  ]
}