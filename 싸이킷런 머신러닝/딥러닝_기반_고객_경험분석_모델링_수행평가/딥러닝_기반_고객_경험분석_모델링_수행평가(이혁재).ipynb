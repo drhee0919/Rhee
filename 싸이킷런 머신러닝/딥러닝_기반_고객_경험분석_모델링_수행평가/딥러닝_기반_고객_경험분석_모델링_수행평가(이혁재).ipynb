{
  "nbformat": 4,
  "nbformat_minor": 0,
  "metadata": {
    "colab": {
      "name": "딥러닝 기반 고객 경험분석 모델링 수행평가(이혁재).ipynb",
      "provenance": [],
      "collapsed_sections": []
    },
    "kernelspec": {
      "name": "python3",
      "display_name": "Python 3"
    },
    "accelerator": "GPU"
  },
  "cells": [
    {
      "cell_type": "code",
      "metadata": {
        "id": "jbNhee2_5lop",
        "colab_type": "code",
        "colab": {
          "base_uri": "https://localhost:8080/",
          "height": 55
        },
        "outputId": "e9d0ecea-e710-4f85-c454-3be315dc5b9f"
      },
      "source": [
        "'''\n",
        "문제1 ] 서울 지역(구)의 경도와 위도 정보를 사용하여, 임의로 입력된 지역(동)을 강동, 강서, 강남, 강북으로 분류 분석을 수행합니다.\n",
        "\n",
        "[데이터 셋 정보 ]\n",
        "district: 행정구역 (서초구, 송파구, 용산구 등, 서울의 단위 지역 분류입니다)\n",
        "dong: 구(district)보다 작은 행정구역 (대치동, 도곡동, 암사동 등, 서울의 소단위 분류입니다)\n",
        "longitude: 경도\n",
        "latitude: 위도\n",
        "label: 한강 기준으로 동,서,남,북으로 구분한 지역 명칭\n",
        "district_dict_list = [\n",
        "{'district': 'Gangseo-gu', 'latitude': 37.551000, 'longitude': 126.849500, 'label':'Gangseo'},\n",
        "{'district': 'Yangcheon-gu', 'latitude': 37.52424, 'longitude': 126.855396, 'label':'Gangseo'},\n",
        "{'district': 'Guro-gu', 'latitude': 37.4954, 'longitude': 126.8874, 'label':'Gangseo'},\n",
        "{'district': 'Geumcheon-gu', 'latitude': 37.4519, 'longitude': 126.9020, 'label':'Gangseo'},\n",
        "{'district': 'Mapo-gu', 'latitude': 37.560229, 'longitude': 126.908728, 'label':'Gangseo'},\n",
        "\n",
        "{'district': 'Gwanak-gu', 'latitude': 37.487517, 'longitude': 126.915065, 'label':'Gangnam'},\n",
        "{'district': 'Dongjak-gu', 'latitude': 37.5124, 'longitude': 126.9393, 'label':'Gangnam'},\n",
        "{'district': 'Seocho-gu', 'latitude': 37.4837, 'longitude': 127.0324, 'label':'Gangnam'},\n",
        "{'district': 'Gangnam-gu', 'latitude': 37.5172, 'longitude': 127.0473, 'label':'Gangnam'},\n",
        "{'district': 'Songpa-gu', 'latitude': 37.503510, 'longitude': 127.117898, 'label':'Gangnam'},\n",
        "\n",
        "{'district': 'Yongsan-gu', 'latitude': 37.532561, 'longitude': 127.008605, 'label':'Gangbuk'},\n",
        "{'district': 'Jongro-gu', 'latitude': 37.5730, 'longitude': 126.9794, 'label':'Gangbuk'},\n",
        "{'district': 'Seongbuk-gu', 'latitude': 37.603979, 'longitude': 127.056344, 'label':'Gangbuk'},\n",
        "{'district': 'Nowon-gu', 'latitude': 37.6542, 'longitude': 127.0568, 'label':'Gangbuk'},\n",
        "{'district': 'Dobong-gu', 'latitude': 37.6688, 'longitude': 127.0471, 'label':'Gangbuk'},\n",
        "\n",
        "{'district': 'Seongdong-gu', 'latitude': 37.557340, 'longitude': 127.041667, 'label':'Gangdong'},\n",
        "{'district': 'Dongdaemun-gu', 'latitude': 37.575759, 'longitude': 127.025288, 'label':'Gangdong'},\n",
        "{'district': 'Gwangjin-gu', 'latitude': 37.557562, 'longitude': 127.083467, 'label':'Gangdong'},\n",
        "{'district': 'Gangdong-gu', 'latitude': 37.554194, 'longitude': 127.151405, 'label':'Gangdong'},\n",
        "{'district': 'Jungrang-gu', 'latitude': 37.593684, 'longitude': 127.090384, 'label':'Gangdong'}\n",
        "]\n",
        "[분석 수행에 포함될 내용]\n",
        "A. 특성 (위도 경도) 과 클래스 (동,서,남,북으로 구분한 지역 명칭)를 분리\n",
        "B. train과 test 데이터 분리\n",
        "C. 의사결정트리 분류 분석 수행\n",
        "D. 의사결정트리 시각화 \n",
        "E. 모델 예측 정확도(accuracy)를 확인\n",
        "'''\n"
      ],
      "execution_count": 5,
      "outputs": [
        {
          "output_type": "execute_result",
          "data": {
            "text/plain": [
              "\"\\n문제1 ] 서울 지역(구)의 경도와 위도 정보를 사용하여, 임의로 입력된 지역(동)을 강동, 강서, 강남, 강북으로 분류 분석을 수행합니다.\\n\\n[데이터 셋 정보 ]\\ndistrict: 행정구역 (서초구, 송파구, 용산구 등, 서울의 단위 지역 분류입니다)\\ndong: 구(district)보다 작은 행정구역 (대치동, 도곡동, 암사동 등, 서울의 소단위 분류입니다)\\nlongitude: 경도\\nlatitude: 위도\\nlabel: 한강 기준으로 동,서,남,북으로 구분한 지역 명칭\\ndistrict_dict_list = [\\n{'district': 'Gangseo-gu', 'latitude': 37.551000, 'longitude': 126.849500, 'label':'Gangseo'},\\n{'district': 'Yangcheon-gu', 'latitude': 37.52424, 'longitude': 126.855396, 'label':'Gangseo'},\\n{'district': 'Guro-gu', 'latitude': 37.4954, 'longitude': 126.8874, 'label':'Gangseo'},\\n{'district': 'Geumcheon-gu', 'latitude': 37.4519, 'longitude': 126.9020, 'label':'Gangseo'},\\n{'district': 'Mapo-gu', 'latitude': 37.560229, 'longitude': 126.908728, 'label':'Gangseo'},\\n\\n{'district': 'Gwanak-gu', 'latitude': 37.487517, 'longitude': 126.915065, 'label':'Gangnam'},\\n{'district': 'Dongjak-gu', 'latitude': 37.5124, 'longitude': 126.9393, 'label':'Gangnam'},\\n{'district': 'Seocho-gu', 'latitude': 37.4837, 'longitude': 127.0324, 'label':'Gangnam'},\\n{'district': 'Gangnam-gu', 'latitude': 37.5172, 'longitude': 127.0473, 'label':'Gangnam'},\\n{'district': 'Songpa-gu', 'latitude': 37.503510, 'longitude': 127.117898, 'label':'Gangnam'},\\n\\n{'district': 'Yongsan-gu', 'latitude': 37.532561, 'longitude': 127.008605, 'label':'Gangbuk'},\\n{'district': 'Jongro-gu', 'latitude': 37.5730, 'longitude': 126.9794, 'label':'Gangbuk'},\\n{'district': 'Seongbuk-gu', 'latitude': 37.603979, 'longitude': 127.056344, 'label':'Gangbuk'},\\n{'district': 'Nowon-gu', 'latitude': 37.6542, 'longitude': 127.0568, 'label':'Gangbuk'},\\n{'district': 'Dobong-gu', 'latitude': 37.6688, 'longitude': 127.0471, 'label':'Gangbuk'},\\n\\n{'district': 'Seongdong-gu', 'latitude': 37.557340, 'longitude': 127.041667, 'label':'Gangdong'},\\n{'district': 'Dongdaemun-gu', 'latitude': 37.575759, 'longitude': 127.025288, 'label':'Gangdong'},\\n{'district': 'Gwangjin-gu', 'latitude': 37.557562, 'longitude': 127.083467, 'label':'Gangdong'},\\n{'district': 'Gangdong-gu', 'latitude': 37.554194, 'longitude': 127.151405, 'label':'Gangdong'},\\n{'district': 'Jungrang-gu', 'latitude': 37.593684, 'longitude': 127.090384, 'label':'Gangdong'}\\n]\\n[분석 수행에 포함될 내용]\\nA. 특성 (위도 경도) 과 클래스 (동,서,남,북으로 구분한 지역 명칭)를 분리\\nB. train과 test 데이터 분리\\nC. 의사결정트리 분류 분석 수행\\nD. 의사결정트리 시각화 \\nE. 모델 예측 정확도(accuracy)를 확인\\n\""
            ]
          },
          "metadata": {
            "tags": []
          },
          "execution_count": 5
        }
      ]
    },
    {
      "cell_type": "code",
      "metadata": {
        "id": "LUm167nU6K1Z",
        "colab_type": "code",
        "colab": {
          "base_uri": "https://localhost:8080/",
          "height": 449
        },
        "outputId": "ab0fb314-f3e1-489a-8895-5e83714753a6"
      },
      "source": [
        "import numpy as np\n",
        "import pandas as pd\n",
        "\n",
        "\n",
        "district_dict_list = [\n",
        "{'district': 'Gangseo-gu', 'latitude': 37.551000, 'longitude': 126.849500, 'label':'Gangseo'},\n",
        "{'district': 'Yangcheon-gu', 'latitude': 37.52424, 'longitude': 126.855396, 'label':'Gangseo'},\n",
        "{'district': 'Guro-gu', 'latitude': 37.4954, 'longitude': 126.8874, 'label':'Gangseo'},\n",
        "{'district': 'Geumcheon-gu', 'latitude': 37.4519, 'longitude': 126.9020, 'label':'Gangseo'},\n",
        "{'district': 'Mapo-gu', 'latitude': 37.560229, 'longitude': 126.908728, 'label':'Gangseo'},\n",
        "\n",
        "{'district': 'Gwanak-gu', 'latitude': 37.487517, 'longitude': 126.915065, 'label':'Gangnam'},\n",
        "{'district': 'Dongjak-gu', 'latitude': 37.5124, 'longitude': 126.9393, 'label':'Gangnam'},\n",
        "{'district': 'Seocho-gu', 'latitude': 37.4837, 'longitude': 127.0324, 'label':'Gangnam'},\n",
        "{'district': 'Gangnam-gu', 'latitude': 37.5172, 'longitude': 127.0473, 'label':'Gangnam'},\n",
        "{'district': 'Songpa-gu', 'latitude': 37.503510, 'longitude': 127.117898, 'label':'Gangnam'},\n",
        "\n",
        "{'district': 'Yongsan-gu', 'latitude': 37.532561, 'longitude': 127.008605, 'label':'Gangbuk'},\n",
        "{'district': 'Jongro-gu', 'latitude': 37.5730, 'longitude': 126.9794, 'label':'Gangbuk'},\n",
        "{'district': 'Seongbuk-gu', 'latitude': 37.603979, 'longitude': 127.056344, 'label':'Gangbuk'},\n",
        "{'district': 'Nowon-gu', 'latitude': 37.6542, 'longitude': 127.0568, 'label':'Gangbuk'},\n",
        "{'district': 'Dobong-gu', 'latitude': 37.6688, 'longitude': 127.0471, 'label':'Gangbuk'},\n",
        "\n",
        "{'district': 'Seongdong-gu', 'latitude': 37.557340, 'longitude': 127.041667, 'label':'Gangdong'},\n",
        "{'district': 'Dongdaemun-gu', 'latitude': 37.575759, 'longitude': 127.025288, 'label':'Gangdong'},\n",
        "{'district': 'Gwangjin-gu', 'latitude': 37.557562, 'longitude': 127.083467, 'label':'Gangdong'},\n",
        "{'district': 'Gangdong-gu', 'latitude': 37.554194, 'longitude': 127.151405, 'label':'Gangdong'},\n",
        "{'district': 'Jungrang-gu', 'latitude': 37.593684, 'longitude': 127.090384, 'label':'Gangdong'}\n",
        "]\n",
        "\n",
        "# A. 특성 (위도 경도) 과 클래스 (동,서,남,북으로 구분한 지역 명칭)를 분리\n",
        "df = pd.DataFrame(district_dict_list)\n",
        "df = df[['district', 'latitude', 'longitude', 'label']]\n",
        "\n",
        "print(df.head())\n",
        "print(df.tail())\n",
        "\n",
        "location = df[['latitude','longitude']] #location = 행정구와 위치좌표\n",
        "label = df['label']                                #label = 분류된 클래스 \n",
        "\n",
        "print(location.head()) \n",
        "print(label.head())"
      ],
      "execution_count": 6,
      "outputs": [
        {
          "output_type": "stream",
          "text": [
            "       district   latitude   longitude    label\n",
            "0    Gangseo-gu  37.551000  126.849500  Gangseo\n",
            "1  Yangcheon-gu  37.524240  126.855396  Gangseo\n",
            "2       Guro-gu  37.495400  126.887400  Gangseo\n",
            "3  Geumcheon-gu  37.451900  126.902000  Gangseo\n",
            "4       Mapo-gu  37.560229  126.908728  Gangseo\n",
            "         district   latitude   longitude     label\n",
            "15   Seongdong-gu  37.557340  127.041667  Gangdong\n",
            "16  Dongdaemun-gu  37.575759  127.025288  Gangdong\n",
            "17    Gwangjin-gu  37.557562  127.083467  Gangdong\n",
            "18    Gangdong-gu  37.554194  127.151405  Gangdong\n",
            "19    Jungrang-gu  37.593684  127.090384  Gangdong\n",
            "    latitude   longitude\n",
            "0  37.551000  126.849500\n",
            "1  37.524240  126.855396\n",
            "2  37.495400  126.887400\n",
            "3  37.451900  126.902000\n",
            "4  37.560229  126.908728\n",
            "0    Gangseo\n",
            "1    Gangseo\n",
            "2    Gangseo\n",
            "3    Gangseo\n",
            "4    Gangseo\n",
            "Name: label, dtype: object\n"
          ],
          "name": "stdout"
        }
      ]
    },
    {
      "cell_type": "code",
      "metadata": {
        "id": "zklMjKuJ-4oZ",
        "colab_type": "code",
        "colab": {
          "base_uri": "https://localhost:8080/",
          "height": 469
        },
        "outputId": "e2160fb8-334b-4e57-dcdd-8102a772ed94"
      },
      "source": [
        "# 데이터 분리전 전처리 \n",
        "from sklearn.preprocessing import LabelEncoder\n",
        "\n",
        "location[\"latitude\"] = LabelEncoder().fit_transform(location[\"latitude\"])\n",
        "location[\"longitude\"] = LabelEncoder().fit_transform(location[\"longitude\"])\n",
        "print(location.head())\n",
        "print(location.tail())"
      ],
      "execution_count": 7,
      "outputs": [
        {
          "output_type": "stream",
          "text": [
            "   latitude  longitude\n",
            "0         9          0\n",
            "1         7          1\n",
            "2         3          2\n",
            "3         0          3\n",
            "4        13          4\n",
            "    latitude  longitude\n",
            "15        11         11\n",
            "16        15          9\n",
            "17        12         16\n",
            "18        10         19\n",
            "19        16         17\n"
          ],
          "name": "stdout"
        },
        {
          "output_type": "stream",
          "text": [
            "/usr/local/lib/python3.6/dist-packages/ipykernel_launcher.py:3: SettingWithCopyWarning: \n",
            "A value is trying to be set on a copy of a slice from a DataFrame.\n",
            "Try using .loc[row_indexer,col_indexer] = value instead\n",
            "\n",
            "See the caveats in the documentation: http://pandas.pydata.org/pandas-docs/stable/user_guide/indexing.html#returning-a-view-versus-a-copy\n",
            "  This is separate from the ipykernel package so we can avoid doing imports until\n",
            "/usr/local/lib/python3.6/dist-packages/ipykernel_launcher.py:4: SettingWithCopyWarning: \n",
            "A value is trying to be set on a copy of a slice from a DataFrame.\n",
            "Try using .loc[row_indexer,col_indexer] = value instead\n",
            "\n",
            "See the caveats in the documentation: http://pandas.pydata.org/pandas-docs/stable/user_guide/indexing.html#returning-a-view-versus-a-copy\n",
            "  after removing the cwd from sys.path.\n"
          ],
          "name": "stderr"
        }
      ]
    },
    {
      "cell_type": "code",
      "metadata": {
        "id": "v8Vws96r89CN",
        "colab_type": "code",
        "colab": {
          "base_uri": "https://localhost:8080/",
          "height": 89
        },
        "outputId": "655d4a07-49b9-4911-e722-e608276c3cd7"
      },
      "source": [
        "# B. train과 test 데이터 분리\n",
        "from sklearn.model_selection import train_test_split\n",
        "from sklearn.tree import DecisionTreeClassifier\n",
        "import io\n",
        "import pydotplus\n",
        "from sklearn.tree import DecisionTreeClassifier\n",
        "from sklearn import datasets\n",
        "from IPython.display import Image\n",
        "from sklearn import tree \n",
        "\n",
        "# 20여개의 데이터를 각각 train:test = 3:1 의 비율로 나눔 \n",
        "X_train, X_test, y_train, y_test = train_test_split(location, label, test_size=0.25, random_state=777)\n",
        "print(len(X_train))\n",
        "print(len(X_test))\n",
        "print(len(y_train))\n",
        "print(len(y_test))"
      ],
      "execution_count": 8,
      "outputs": [
        {
          "output_type": "stream",
          "text": [
            "15\n",
            "5\n",
            "15\n",
            "5\n"
          ],
          "name": "stdout"
        }
      ]
    },
    {
      "cell_type": "code",
      "metadata": {
        "id": "M1ZnRPAU7R0f",
        "colab_type": "code",
        "colab": {}
      },
      "source": [
        "# C. 의사결정트리 분류 분석 수행\n",
        "'''\n",
        "model = DecisionTreeClassifier(criterion='entropy',  #불순물 감소 규칙 사용 \n",
        "                               max_depth=5, \n",
        "                               min_samples_leaf=5).fit(X_train, y_train)\n",
        "'''\n",
        "# ※ 결과가 안 좋아서 단순화 \n",
        "model = DecisionTreeClassifier(random_state=70).fit(X_train, y_train)\n"
      ],
      "execution_count": 0,
      "outputs": []
    },
    {
      "cell_type": "code",
      "metadata": {
        "id": "i-ygiW3P-moc",
        "colab_type": "code",
        "colab": {
          "base_uri": "https://localhost:8080/",
          "height": 673
        },
        "outputId": "3e2ef559-5cee-4aea-bf82-449f222518fa"
      },
      "source": [
        "# D. 의사결정트리 시각화 \n",
        "command_buf = io.StringIO() #문자열 입출력 관하여 선언 (메모리 처리속도상)\n",
        "tree.export_graphviz(model, out_file=command_buf, feature_names=['latitude','longitude'])\n",
        "\n",
        "graph = pydotplus.graph_from_dot_data(command_buf.getvalue())\n",
        "image = graph.create_png()\n",
        "Image(image)"
      ],
      "execution_count": 10,
      "outputs": [
        {
          "output_type": "execute_result",
          "data": {
            "image/png": "[encoded data removed]",
            "text/plain": [
              "<IPython.core.display.Image object>"
            ]
          },
          "metadata": {
            "tags": []
          },
          "execution_count": 10
        }
      ]
    },
    {
      "cell_type": "code",
      "metadata": {
        "id": "LuecAmzuA78m",
        "colab_type": "code",
        "colab": {
          "base_uri": "https://localhost:8080/",
          "height": 577
        },
        "outputId": "0becc21f-bed0-4031-a172-1303bcde5d77"
      },
      "source": [
        "# E. 모델 예측 정확도(accuracy)를 확인\n",
        "from sklearn.metrics import accuracy_score\n",
        "from sklearn.metrics import confusion_matrix\n",
        "from sklearn.metrics import classification_report\n",
        "\n",
        "\n",
        "print(confusion_matrix(y_train, model.predict(X_train)))\n",
        "\n",
        "print(confusion_matrix(y_test, model.predict(X_test)))\n",
        "\n",
        "print(classification_report(y_train, model.predict(X_train)))\n",
        "\n",
        "print(classification_report(y_test, model.predict(X_test)))\n"
      ],
      "execution_count": 11,
      "outputs": [
        {
          "output_type": "stream",
          "text": [
            "[[2 0 0 0]\n",
            " [0 5 0 0]\n",
            " [0 0 5 0]\n",
            " [0 0 0 3]]\n",
            "[[1 2 0]\n",
            " [0 0 0]\n",
            " [0 0 2]]\n",
            "              precision    recall  f1-score   support\n",
            "\n",
            "     Gangbuk       1.00      1.00      1.00         2\n",
            "    Gangdong       1.00      1.00      1.00         5\n",
            "     Gangnam       1.00      1.00      1.00         5\n",
            "     Gangseo       1.00      1.00      1.00         3\n",
            "\n",
            "    accuracy                           1.00        15\n",
            "   macro avg       1.00      1.00      1.00        15\n",
            "weighted avg       1.00      1.00      1.00        15\n",
            "\n",
            "              precision    recall  f1-score   support\n",
            "\n",
            "     Gangbuk       1.00      0.33      0.50         3\n",
            "    Gangdong       0.00      0.00      0.00         0\n",
            "     Gangseo       1.00      1.00      1.00         2\n",
            "\n",
            "    accuracy                           0.60         5\n",
            "   macro avg       0.67      0.44      0.50         5\n",
            "weighted avg       1.00      0.60      0.70         5\n",
            "\n"
          ],
          "name": "stdout"
        },
        {
          "output_type": "stream",
          "text": [
            "/usr/local/lib/python3.6/dist-packages/sklearn/metrics/_classification.py:1272: UndefinedMetricWarning: Recall and F-score are ill-defined and being set to 0.0 in labels with no true samples. Use `zero_division` parameter to control this behavior.\n",
            "  _warn_prf(average, modifier, msg_start, len(result))\n"
          ],
          "name": "stderr"
        }
      ]
    },
    {
      "cell_type": "markdown",
      "metadata": {
        "id": "5GiSwZqmDO6V",
        "colab_type": "text"
      },
      "source": [
        "----"
      ]
    },
    {
      "cell_type": "code",
      "metadata": {
        "id": "nVMOnWcsCN_M",
        "colab_type": "code",
        "colab": {}
      },
      "source": [
        "'''\n",
        "문제 2]\n",
        "사이킷런의 손글씨 데이터를 로드하여 10번의 교차검증을 수행하여\n",
        "RandomForest 분류분석과 DecisionTree분류분석의 교차 검증 평균 정확도를 비교할 수 있도록 라인 차트로 시각화하시오\n",
        "\n",
        "A. 사이킷런의 손글씨 데이터를 로드\n",
        "B. 교차 검증을 10번 수행하여, 10번의 교차 검증 평균 정확도 반환하는 함수를 정의하시오 \n",
        "def cross_validation(classifier,features, labels):\n",
        "\n",
        "C. 교차 검증 평균 정확도를 반환하는 함수에 각각 RandomForest 분류모델객체, DecisionTree분류 모델 객체를 전달하여 실행시킨 결과를 변수에 저장\n",
        "D. 랜덤포레스트와 의사결정트리의 정확도를 비교해주는 라인 차트 출력\n",
        "'''"
      ],
      "execution_count": 0,
      "outputs": []
    },
    {
      "cell_type": "code",
      "metadata": {
        "id": "JAQ-cBn5DKYD",
        "colab_type": "code",
        "colab": {
          "base_uri": "https://localhost:8080/",
          "height": 53
        },
        "outputId": "57baed79-4647-49c4-dfb5-a325ddaebaa7"
      },
      "source": [
        "from sklearn import datasets\n",
        "from sklearn.feature_selection import VarianceThreshold\n",
        "from sklearn.model_selection import StratifiedKFold\n",
        "from sklearn.model_selection import cross_val_score\n",
        "from sklearn.ensemble import RandomForestClassifier\n",
        "from sklearn.tree import DecisionTreeClassifier\n",
        "\n",
        "# A. 사이킷런의 손글씨 데이터를 로드\n",
        "\n",
        "from sklearn.datasets import fetch_openml\n",
        "mnist = fetch_openml('mnist_784')\n",
        "print(mnist.data.shape)\n",
        "print(mnist.target.shape) \n"
      ],
      "execution_count": 12,
      "outputs": [
        {
          "output_type": "stream",
          "text": [
            "(70000, 784)\n",
            "(70000,)\n"
          ],
          "name": "stdout"
        }
      ]
    },
    {
      "cell_type": "code",
      "metadata": {
        "id": "JaTKEsf7Juok",
        "colab_type": "code",
        "colab": {
          "base_uri": "https://localhost:8080/",
          "height": 53
        },
        "outputId": "dec52737-959b-46d8-c55d-40349ee8e5b2"
      },
      "source": [
        "# 정규화 및 train, test 분리 \n",
        "\n",
        "X = mnist.data\n",
        "y = mnist.target\n",
        "\n",
        "\n",
        "# 정규화 \n",
        "from sklearn.preprocessing import StandardScaler\n",
        "X = StandardScaler().fit(X).transform(X)\n",
        "\n",
        "#train, test dataset 분리(7:3)\n",
        "X_train, X_test, y_train, y_test = train_test_split(X, y, test_size=0.3, random_state = 10)\n",
        "print('train data 개수:', X_train.shape)\n",
        "print('test data 개수:', X_test.shape)"
      ],
      "execution_count": 13,
      "outputs": [
        {
          "output_type": "stream",
          "text": [
            "train data 개수: (49000, 784)\n",
            "test data 개수: (21000, 784)\n"
          ],
          "name": "stdout"
        }
      ]
    },
    {
      "cell_type": "code",
      "metadata": {
        "id": "eAN2ZdGYJMuW",
        "colab_type": "code",
        "colab": {}
      },
      "source": [
        "# B. 교차 검증을 10번 수행하여, 10번의 교차 검증 평균 정확도 반환하는 함수를 정의하시오 \n",
        "\n",
        "def cross_validation( classifier, features, labels):\n",
        "    scores = cross_val_score(classifier, features, labels, cv=10)\n",
        "    return scores, scores.mean()"
      ],
      "execution_count": 0,
      "outputs": []
    },
    {
      "cell_type": "code",
      "metadata": {
        "id": "u-hzxMRKScVw",
        "colab_type": "code",
        "colab": {
          "base_uri": "https://localhost:8080/",
          "height": 89
        },
        "outputId": "174e6ca2-bcf8-4d83-b77e-4ab2f76eddf5"
      },
      "source": [
        "# C. 교차 검증 평균 정확도를 반환하는 함수에 각각 RandomForest 분류모델객체, DecisionTree분류 모델 객체를 전달하여 실행시킨 결과를 변수에 저장\n",
        "DF_model_score, DF_model_mean = cross_validation(DecisionTreeClassifier(), X, y) \n",
        "RF_model_score, RF_model_mean = cross_validation(RandomForestClassifier(), X, y)\n",
        "\n",
        "print(DF_model_score)\n",
        "print(RF_model_score)"
      ],
      "execution_count": 15,
      "outputs": [
        {
          "output_type": "stream",
          "text": [
            "[0.87757143 0.87042857 0.86771429 0.87471429 0.86914286 0.86557143\n",
            " 0.87557143 0.88085714 0.87471429 0.88871429]\n",
            "[0.97328571 0.96614286 0.967      0.96771429 0.96542857 0.96928571\n",
            " 0.96342857 0.97       0.971      0.97614286]\n"
          ],
          "name": "stdout"
        }
      ]
    },
    {
      "cell_type": "code",
      "metadata": {
        "id": "m_Gj0x7oa-sZ",
        "colab_type": "code",
        "colab": {
          "base_uri": "https://localhost:8080/",
          "height": 266
        },
        "outputId": "60c002b4-4ff0-4cda-bb0b-ba1cc551ce4e"
      },
      "source": [
        "# D. 랜덤포레스트와 의사결정트리의 정확도를 비교해주는 라인 차트 출력\n",
        "import matplotlib.pyplot as plt\n",
        "%matplotlib inline\n",
        "\n",
        "plt.plot(DF_model_score, marker='.', c=\"red\", label='RF')\n",
        "plt.plot(RF_model_score, marker='.', c=\"blue\", label='DT')\n",
        "plt.grid()\n",
        "plt.ylabel('Accuracy')\n",
        "plt.show() "
      ],
      "execution_count": 16,
      "outputs": [
        {
          "output_type": "display_data",
          "data": {
            "image/png": "[encoded data removed]",
            "text/plain": [
              "<Figure size 432x288 with 1 Axes>"
            ]
          },
          "metadata": {
            "tags": []
          }
        }
      ]
    },
    {
      "cell_type": "code",
      "metadata": {
        "id": "IbKhFx1UQWai",
        "colab_type": "code",
        "colab": {
          "base_uri": "https://localhost:8080/",
          "height": 503
        },
        "outputId": "de0f27dd-6d2e-4a03-c266-6d4c489a11ae"
      },
      "source": [
        "# decision tree 로 학습 \n",
        "tree_model = DecisionTreeClassifier(criterion='entropy', max_depth=5)\n",
        "tree_model.fit(X_train, y_train)\n",
        "\n",
        "y_hat = tree_model.predict(X_test)\n",
        "\n",
        "#모델 성능 평가\n",
        "from sklearn.metrics import confusion_matrix\n",
        "from sklearn.metrics import classification_report\n",
        "\n",
        "tree_matrix = confusion_matrix(y_test, y_hat)\n",
        "print(tree_matrix)\n",
        "\n",
        "tree_report = classification_report(y_test, y_hat)\n",
        "print(tree_report)"
      ],
      "execution_count": 18,
      "outputs": [
        {
          "output_type": "stream",
          "text": [
            "[[1778    1   66   15    3   49   60   61   33   46]\n",
            " [   0 2154   36   50    0   11    3    9   12    9]\n",
            " [ 112   52 1526   32   31   87  100   34   98   45]\n",
            " [  29   90  210 1231    8  297   12   16  141  126]\n",
            " [  87   22   50   36  942   23  108   21  147  602]\n",
            " [  60   78   91  262   36  844   83   23  140  264]\n",
            " [  68   23  186   16   36   60 1462   27  101   30]\n",
            " [  21   88   84   11   55   18    5 1765   61  145]\n",
            " [  52  178   76  151    4  235   51    3 1241   66]\n",
            " [  69   70   64   47   41   27   28   77  153 1513]]\n",
            "              precision    recall  f1-score   support\n",
            "\n",
            "           0       0.78      0.84      0.81      2112\n",
            "           1       0.78      0.94      0.85      2284\n",
            "           2       0.64      0.72      0.68      2117\n",
            "           3       0.67      0.57      0.61      2160\n",
            "           4       0.81      0.46      0.59      2038\n",
            "           5       0.51      0.45      0.48      1881\n",
            "           6       0.76      0.73      0.75      2009\n",
            "           7       0.87      0.78      0.82      2253\n",
            "           8       0.58      0.60      0.59      2057\n",
            "           9       0.53      0.72      0.61      2089\n",
            "\n",
            "    accuracy                           0.69     21000\n",
            "   macro avg       0.69      0.68      0.68     21000\n",
            "weighted avg       0.70      0.69      0.68     21000\n",
            "\n"
          ],
          "name": "stdout"
        }
      ]
    },
    {
      "cell_type": "code",
      "metadata": {
        "id": "hemkczZIQjX3",
        "colab_type": "code",
        "colab": {
          "base_uri": "https://localhost:8080/",
          "height": 503
        },
        "outputId": "2a672e76-3afb-4875-9d02-c8241bd1a79b"
      },
      "source": [
        "# randomforest로 학습 \n",
        "rf_model_= RandomForestClassifier(criterion=\"entropy\",\n",
        "                                  n_estimators=20, \n",
        "                                  max_depth=5, \n",
        "                                  class_weight=\"balanced\")\n",
        "rf_model_.fit(X_train, y_train)\n",
        "\n",
        "y_hat_rf = rf_model_.predict(X_test)\n",
        "\n",
        "#모델 성능 평가\n",
        "from sklearn.metrics import confusion_matrix\n",
        "from sklearn.metrics import classification_report\n",
        "\n",
        "rf_matrix = confusion_matrix(y_test, y_hat_rf)\n",
        "print(rf_matrix)\n",
        "\n",
        "rf_report = classification_report(y_test, y_hat_rf)\n",
        "print(rf_report)"
      ],
      "execution_count": 19,
      "outputs": [
        {
          "output_type": "stream",
          "text": [
            "[[2017    1   11    4    1    8   22   10   36    2]\n",
            " [   0 2232    4    9    1    8    9   10    6    5]\n",
            " [  44  109 1703   28   16    9   82   50   65   11]\n",
            " [  33   75   73 1717   10   80   12   40   55   65]\n",
            " [  16   13   11    4 1646    0   87   28   25  208]\n",
            " [  81   77   10  220   25 1240   44   32   55   97]\n",
            " [  58   32   25    6   20   14 1818    7   29    0]\n",
            " [   7   64   80    7   39    2    3 1955   19   77]\n",
            " [  14  172   45   62   31   47   29   18 1545   94]\n",
            " [  16   21   19   27  122   27   17  102   33 1705]]\n",
            "              precision    recall  f1-score   support\n",
            "\n",
            "           0       0.88      0.96      0.92      2112\n",
            "           1       0.80      0.98      0.88      2284\n",
            "           2       0.86      0.80      0.83      2117\n",
            "           3       0.82      0.79      0.81      2160\n",
            "           4       0.86      0.81      0.83      2038\n",
            "           5       0.86      0.66      0.75      1881\n",
            "           6       0.86      0.90      0.88      2009\n",
            "           7       0.87      0.87      0.87      2253\n",
            "           8       0.83      0.75      0.79      2057\n",
            "           9       0.75      0.82      0.78      2089\n",
            "\n",
            "    accuracy                           0.84     21000\n",
            "   macro avg       0.84      0.83      0.83     21000\n",
            "weighted avg       0.84      0.84      0.84     21000\n",
            "\n"
          ],
          "name": "stdout"
        }
      ]
    },
    {
      "cell_type": "code",
      "metadata": {
        "id": "oSronwCMWZfE",
        "colab_type": "code",
        "colab": {
          "base_uri": "https://localhost:8080/",
          "height": 71
        },
        "outputId": "d72942b1-51cc-43c5-8b29-27dbd4d6eba2"
      },
      "source": [
        "'''\n",
        "문제 3 ]\n",
        "MNIST 손글씨 데이터 셋 (28 × 28 = 784개의 속성)으로부터 0~9까지 10개 클래스 중 하나를 맞히는 분류 문제\n",
        "A. 가로 28, 세로 28의 2차원 배열을 784개의 1차원 배열로 변환\n",
        "B. 0~255 사이의 값으로 이루어진 값을 0~1 사이의 값으로 값으로 정규화(normalization) 하기 위해 특성데이터를 255로 나눔.\n",
        "C. Y_class를 원-핫 인코딩 변환\n",
        "D. 입력층으로부터 은닉층으로의 출력 뉴런스 512개 , 은닉층은 1층 구성, 출력층 출력 뉴런스 10개 , 입력층과 은닉층 활성화 함수는 relu, 출력층 활성화 함수는 softmax로 모델 생성\n",
        "E. 모델의 실행에 앞서 모델의 성과를 저장하고 모델의 최적화 단계에서 학습을 자동 중단하게끔 설정합니다.\n",
        "F. 학습은 샘플 200개를 모두 30번 실행하게끔 설정합니다. \n",
        "G. 테스트셋으로 최종 모델의 성과를 측정하여 정확도 값을 출력합니다. \n",
        "H. 테스트셋의 오차와 학습셋의 오차를 비교할 수 있는 그래프로 출력합니다\n",
        "'''\n",
        "\n",
        "from keras.datasets import mnist\n",
        "from keras.utils import np_utils\n",
        "import numpy\n",
        "import sys\n",
        "import tensorflow as tf\n",
        "\n",
        "seed = 0\n",
        "numpy.random.seed(seed) # seed 값 설정\n",
        "tf.set_random_seed(seed)\n",
        "\n",
        "# MNIST 데이터셋 불러오기\n",
        "(X_train, Y_class_train), (X_test, Y_class_test) = mnist.load_data()\n",
        "print(\"학습셋 이미지 수 : %d 개\" % (X_train.shape[0]))\n",
        "print(\"테스트셋 이미지 수 : %d 개\" % (X_test.shape[0]))\n",
        "\n",
        "# A. 가로 28, 세로 28의 2차원 배열을 784개의 1차원 배열로 변환\n",
        "# 차원 변환 과정\n",
        "X_train = X_train.reshape(X_train.shape[0], 784)\n",
        "X_train = X_train.astype('float64')\n",
        "\n",
        "# B. 0~255 사이의 값으로 이루어진 값을 0~1 사이의 값으로 값으로 정규화(normalization) 하기 위해 특성데이터를 255로 나눔.\n",
        "X_train = X_train / 255\n",
        "X_test = X_test.reshape(X_test.shape[0], 784).astype('float64') /255\n",
        "\n",
        "# C. Y_class를 원-핫 인코딩 변환\n",
        "Y_train = np_utils.to_categorical(Y_class_train, 10)\n",
        "Y_test = np_utils.to_categorical(Y_class_test, 10)\n",
        "print(Y_train[0])"
      ],
      "execution_count": 55,
      "outputs": [
        {
          "output_type": "stream",
          "text": [
            "학습셋 이미지 수 : 60000 개\n",
            "테스트셋 이미지 수 : 10000 개\n",
            "[0. 0. 0. 0. 0. 1. 0. 0. 0. 0.]\n"
          ],
          "name": "stdout"
        }
      ]
    },
    {
      "cell_type": "code",
      "metadata": {
        "id": "El0zjXakX7Fn",
        "colab_type": "code",
        "colab": {
          "base_uri": "https://localhost:8080/",
          "height": 1000
        },
        "outputId": "0faa9b26-f40b-41a7-c9c9-fc2fae9e9942"
      },
      "source": [
        "# D. 입력층으로부터 은닉층으로의 출력 뉴런스 512개 , 은닉층은 1층 구성, 출력층 출력 뉴런스 10개 ,\n",
        "#    입력층과 은닉층 활성화 함수는 relu, 출력층 활성화 함수는 softmax로 모델 생성\n",
        "\n",
        "from keras.models import Sequential\n",
        "from keras.layers import Dense\n",
        "from keras.callbacks import ModelCheckpoint,EarlyStopping\n",
        "import matplotlib.pyplot as plt\n",
        "import os\n",
        "\n",
        "\n",
        "model = Sequential()\n",
        "model.add(Dense(512, input_dim=784, activation='relu'))\n",
        "model.add(Dense(10, activation='softmax'))\n",
        "#모델 환경설정 \n",
        "model.compile(loss='categorical_crossentropy', optimizer='adam', metrics=['accuracy'])\n",
        "\n",
        "\n",
        "\n",
        "\n",
        "\n",
        "# E. 모델의 실행에 앞서 모델의 성과를 저장하고 모델의 최적화 단계에서 학습을 자동 중단하게끔 설정합니다.\n",
        "\n",
        "#경로는 임의로 수정할것 \n",
        "#MODEL_DIR = './data/output/model(MNIST)'\n",
        "MODEL_DIR = '/content/drive/My Drive/Colab Notebooks/싸이킷런 머신러닝(박태정T)/data/output/model(MNIST)' \n",
        "if not os.path.exists(MODEL_DIR):\n",
        "    os.mkdir(MODEL_DIR)\n",
        "\n",
        "modelpath='/content/drive/My Drive/Colab Notebooks/싸이킷런 머신러닝(박태정T)/data/output/model(MNIST)/{epoch:02d}-{val_loss:.4f}.hdf5'\n",
        "checkpointer = ModelCheckpoint(filepath=modelpath, monitor='val_loss', verbose=1, save_best_only=True)\n",
        "early_stopping_callback = EarlyStopping(monitor='val_loss', patience=10) #10번지나도 그대로일시 학습 자동 중단 \n",
        "\n",
        "\n",
        "\n",
        "\n",
        "\n",
        "#F. 학습은 샘플 200개를 모두 30번 실행하게끔 설정합니다. \n",
        "# 모델의 실행\n",
        "history = model.fit(X_train, Y_train, validation_data=(X_test, Y_test), epochs=30, batch_size=200, verbose=0,\n",
        "                    callbacks=[early_stopping_callback, checkpointer])\n",
        "\n",
        "\n",
        "\n",
        "\n",
        "#G. 테스트셋으로 최종 모델의 성과를 측정하여 정확도 값을 출력합니다.\n",
        "# 테스트 정확도 출력\n",
        "print(\"\\n Test Accuracy: %.4f\" % (model.evaluate(X_test, Y_test)[1]))\n"
      ],
      "execution_count": 57,
      "outputs": [
        {
          "output_type": "stream",
          "text": [
            "WARNING:tensorflow:From /tensorflow-1.15.0/python3.6/tensorflow_core/python/ops/math_grad.py:1424: where (from tensorflow.python.ops.array_ops) is deprecated and will be removed in a future version.\n",
            "Instructions for updating:\n",
            "Use tf.where in 2.0, which has the same broadcast rule as np.where\n",
            "WARNING:tensorflow:From /usr/local/lib/python3.6/dist-packages/keras/backend/tensorflow_backend.py:1033: The name tf.assign_add is deprecated. Please use tf.compat.v1.assign_add instead.\n",
            "\n",
            "WARNING:tensorflow:From /usr/local/lib/python3.6/dist-packages/keras/backend/tensorflow_backend.py:1020: The name tf.assign is deprecated. Please use tf.compat.v1.assign instead.\n",
            "\n",
            "WARNING:tensorflow:From /usr/local/lib/python3.6/dist-packages/keras/backend/tensorflow_backend.py:3005: The name tf.Session is deprecated. Please use tf.compat.v1.Session instead.\n",
            "\n",
            "WARNING:tensorflow:From /usr/local/lib/python3.6/dist-packages/keras/backend/tensorflow_backend.py:190: The name tf.get_default_session is deprecated. Please use tf.compat.v1.get_default_session instead.\n",
            "\n",
            "WARNING:tensorflow:From /usr/local/lib/python3.6/dist-packages/keras/backend/tensorflow_backend.py:197: The name tf.ConfigProto is deprecated. Please use tf.compat.v1.ConfigProto instead.\n",
            "\n",
            "WARNING:tensorflow:From /usr/local/lib/python3.6/dist-packages/keras/backend/tensorflow_backend.py:207: The name tf.global_variables is deprecated. Please use tf.compat.v1.global_variables instead.\n",
            "\n",
            "WARNING:tensorflow:From /usr/local/lib/python3.6/dist-packages/keras/backend/tensorflow_backend.py:216: The name tf.is_variable_initialized is deprecated. Please use tf.compat.v1.is_variable_initialized instead.\n",
            "\n",
            "WARNING:tensorflow:From /usr/local/lib/python3.6/dist-packages/keras/backend/tensorflow_backend.py:223: The name tf.variables_initializer is deprecated. Please use tf.compat.v1.variables_initializer instead.\n",
            "\n",
            "\n",
            "Epoch 00001: val_loss improved from inf to 0.15367, saving model to /content/drive/My Drive/Colab Notebooks/싸이킷런 머신러닝(박태정T)/data/output/model(MNIST)/01-0.1537.hdf5\n",
            "\n",
            "Epoch 00002: val_loss improved from 0.15367 to 0.10013, saving model to /content/drive/My Drive/Colab Notebooks/싸이킷런 머신러닝(박태정T)/data/output/model(MNIST)/02-0.1001.hdf5\n",
            "\n",
            "Epoch 00003: val_loss improved from 0.10013 to 0.08228, saving model to /content/drive/My Drive/Colab Notebooks/싸이킷런 머신러닝(박태정T)/data/output/model(MNIST)/03-0.0823.hdf5\n",
            "\n",
            "Epoch 00004: val_loss improved from 0.08228 to 0.06965, saving model to /content/drive/My Drive/Colab Notebooks/싸이킷런 머신러닝(박태정T)/data/output/model(MNIST)/04-0.0696.hdf5\n",
            "\n",
            "Epoch 00005: val_loss improved from 0.06965 to 0.06731, saving model to /content/drive/My Drive/Colab Notebooks/싸이킷런 머신러닝(박태정T)/data/output/model(MNIST)/05-0.0673.hdf5\n",
            "\n",
            "Epoch 00006: val_loss improved from 0.06731 to 0.06450, saving model to /content/drive/My Drive/Colab Notebooks/싸이킷런 머신러닝(박태정T)/data/output/model(MNIST)/06-0.0645.hdf5\n",
            "\n",
            "Epoch 00007: val_loss improved from 0.06450 to 0.06261, saving model to /content/drive/My Drive/Colab Notebooks/싸이킷런 머신러닝(박태정T)/data/output/model(MNIST)/07-0.0626.hdf5\n",
            "\n",
            "Epoch 00008: val_loss did not improve from 0.06261\n",
            "\n",
            "Epoch 00009: val_loss improved from 0.06261 to 0.05848, saving model to /content/drive/My Drive/Colab Notebooks/싸이킷런 머신러닝(박태정T)/data/output/model(MNIST)/09-0.0585.hdf5\n",
            "\n",
            "Epoch 00010: val_loss did not improve from 0.05848\n",
            "\n",
            "Epoch 00011: val_loss did not improve from 0.05848\n",
            "\n",
            "Epoch 00012: val_loss did not improve from 0.05848\n",
            "\n",
            "Epoch 00013: val_loss did not improve from 0.05848\n",
            "\n",
            "Epoch 00014: val_loss did not improve from 0.05848\n",
            "\n",
            "Epoch 00015: val_loss did not improve from 0.05848\n",
            "\n",
            "Epoch 00016: val_loss did not improve from 0.05848\n",
            "\n",
            "Epoch 00017: val_loss did not improve from 0.05848\n",
            "\n",
            "Epoch 00018: val_loss did not improve from 0.05848\n",
            "\n",
            "Epoch 00019: val_loss did not improve from 0.05848\n",
            "10000/10000 [==============================] - 0s 48us/step\n",
            "\n",
            " Test Accuracy: 0.9780\n"
          ],
          "name": "stdout"
        }
      ]
    },
    {
      "cell_type": "code",
      "metadata": {
        "id": "4gcPVa97Z7t5",
        "colab_type": "code",
        "colab": {
          "base_uri": "https://localhost:8080/",
          "height": 279
        },
        "outputId": "7e2db051-d635-49e2-c336-787edff96144"
      },
      "source": [
        "#H. 테스트셋의 오차와 학습셋의 오차를 비교할 수 있는 그래프로 출력합니다\n",
        "\n",
        "\n",
        "# 테스트셋의 오차\n",
        "y_vloss = history.history['val_loss']\n",
        "# 학습셋의 오차\n",
        "y_loss = history.history['loss']\n",
        "\n",
        "# 그래프로 표현\n",
        "x_len = numpy.arange(len(y_loss))\n",
        "plt.plot(x_len, y_vloss, marker='.', c=\"red\", label='Testset loss')\n",
        "plt.plot(x_len, y_loss, marker='.', c=\"blue\", label='Trainset loss')\n",
        "\n",
        "# 그래프에 그리드를 주고 레이블을 표시\n",
        "plt.legend(loc='upper right')\n",
        "\n",
        "# plt.axis([0, 20, 0, 0.35])\n",
        "plt.grid()\n",
        "plt.xlabel('epoch')\n",
        "plt.ylabel('loss')\n",
        "plt.show()"
      ],
      "execution_count": 58,
      "outputs": [
        {
          "output_type": "display_data",
          "data": {
            "image/png": "[encoded data removed]",
            "text/plain": [
              "<Figure size 432x288 with 1 Axes>"
            ]
          },
          "metadata": {
            "tags": []
          }
        }
      ]
    }
  ]
}