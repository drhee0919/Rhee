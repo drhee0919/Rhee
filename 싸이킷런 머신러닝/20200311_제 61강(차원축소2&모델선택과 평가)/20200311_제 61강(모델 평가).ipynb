{
 "cells": [
  {
   "cell_type": "code",
   "execution_count": 1,
   "metadata": {},
   "outputs": [
    {
     "data": {
      "text/plain": [
       "0.9693916821849783"
      ]
     },
     "execution_count": 1,
     "metadata": {},
     "output_type": "execute_result"
    }
   ],
   "source": [
    "### 모델 평가방법을 배워보자\n",
    "### 모델은 예측 성능이 높아야 유용합니다\n",
    "### model_evaluate(모델평가).pdf 참고\n",
    "'''\n",
    "교차검증 모델\n",
    " 실전에서 모델이 얼마나 잘 동작하는지 평가하려면 데이터 전처리 파이프라인을 만들고 모델을 훈련한 다음 교차\n",
    "검증을 평가합니다.\n",
    "'''\n",
    "\n",
    "#지도학습에서 사용하는 방법 \n",
    "from sklearn import datasets\n",
    "from sklearn import metrics\n",
    "from sklearn.model_selection import KFold, cross_val_score\n",
    "from sklearn.pipeline import make_pipeline\n",
    "from sklearn.linear_model import LogisticRegression\n",
    "from sklearn.preprocessing import StandardScaler\n",
    "\n",
    "digits = datasets.load_digits() # 데이터셋 로드\n",
    "\n",
    "features = digits.data # 특성 행렬을 만듭니다.\n",
    "target = digits.target # 타깃 벡터를 만듭니다.\n",
    "standardizer = StandardScaler() # 표준화 객체를 만듭니다.\n",
    "logit = LogisticRegression() # # 로지스틱 회귀 객체를 만듭니다\n",
    "\n",
    "# 표준화한 다음 로지스틱 회귀를 실행하는 파이프라인을 만듭니다.\n",
    "pipeline = make_pipeline(standardizer, logit)\n",
    "\n",
    "# k-폴드 교차검증을 만듭니다. (10 개의 폴드를 만듬)\n",
    "kf = KFold(n_splits=10, shuffle=True, random_state=1)\n",
    "\n",
    "# k-폴드 교차검증을 수행합니다.\n",
    "cv_results = cross_val_score(pipeline, features, target, cv=kf, # 교차 검증 기법\n",
    "                             scoring=\"accuracy\", # 평가 지표\n",
    "                             n_jobs=-1) # 모든 CPU 코어 사용\n",
    "cv_results.mean() # 평균을 계산"
   ]
  },
  {
   "cell_type": "code",
   "execution_count": 2,
   "metadata": {},
   "outputs": [
    {
     "data": {
      "text/plain": [
       "array([0.97777778, 0.98888889, 0.96111111, 0.94444444, 0.97777778,\n",
       "       0.98333333, 0.95555556, 0.98882682, 0.97765363, 0.93854749])"
      ]
     },
     "execution_count": 2,
     "metadata": {},
     "output_type": "execute_result"
    }
   ],
   "source": [
    "cv_results ## 10개 폴드의 점수를 모두 확인(평가 점수는 cv_results에 저장)"
   ]
  },
  {
   "cell_type": "code",
   "execution_count": 5,
   "metadata": {},
   "outputs": [
    {
     "data": {
      "text/plain": [
       "0.9693916821849783"
      ]
     },
     "execution_count": 5,
     "metadata": {},
     "output_type": "execute_result"
    }
   ],
   "source": [
    "\n",
    "from sklearn.model_selection import train_test_split\n",
    "\n",
    "# 훈련 세트와 테스트 세트를 만듭니다.\n",
    "features_train, features_test, target_train, target_test = train_test_split( features, target, test_size=0.1, random_state=1)\n",
    "\n",
    "standardizer.fit(features_train) # 훈련 세트로 standardizer의 fit 메서드를 호출\n",
    "\n",
    "# 훈련 세트와 테스트 세트에 모두 적용합니다.\n",
    "features_train_std = standardizer.transform(features_train)\n",
    "features_test_std = standardizer.transform(features_test)\n",
    "\n",
    "pipeline = make_pipeline(standardizer, logit) # 파이프라인을 만듭니다.\n",
    "\n",
    "# k-폴드 교차 검증 수행\n",
    "cv_results = cross_val_score(pipeline, # 파이프라인\n",
    "                             features, # 특성 행렬\n",
    "                             target, # 타깃 벡터\n",
    "                             cv=kf, # 교차검증\n",
    "                             scoring=\"accuracy\", # 평가 지표\n",
    "                             n_jobs=-1) # 모든 CPU 코어 사용\n",
    "cv_results.mean() #평균을 계산합니다"
   ]
  },
  {
   "cell_type": "code",
   "execution_count": 6,
   "metadata": {},
   "outputs": [
    {
     "data": {
      "text/plain": [
       "0.9630555555555554"
      ]
     },
     "execution_count": 6,
     "metadata": {},
     "output_type": "execute_result"
    }
   ],
   "source": [
    "'''\n",
    "교차검증모델(이어서)\n",
    " k-폴드 교차검증(KFCV)는 데이터를 폴드(fold)라고 부르는 k개의 부분을 나눕니다\n",
    " k-1개 폴드를 하나의 훈련 세트로 합쳐 모델을 훈련하고 남은 폴드를 테스트 세트처럼 사용합니다.\n",
    " 이를 k번 반복마다 다른 폴드를 테스트 세트로 사용합니다.\n",
    " k번 반복해서 얻은 모델 성능을 평균하여 최종 성능을 산출합니다\n",
    " KFCV 사용 고려할 점\n",
    "1. KFCV는 각 샘플이 다른 샘플과 독립적으로 생성되었다고 가정합니다.\n",
    "2. KFCV를 사용하여 분류기를 평가할 때, 각 타깃 클래스의 샘플이 거의 같은 비율로 폴드에 담기는 것이 좋습니다.\n",
    "예] 성별 타깃 벡터 중에서 80% 샘플이 남성이라면 각 폴드도 80% 남성과 20% 여성 샘플로 이루어져야 합니다\n",
    " 사이킷런에서는 KFold 클래스를 StratifiedKFold로 바꾸어 계층별 k-폴드 교차검증을 수행할 수 있습니다\n",
    " 사이킷런의 pipeline 패키지는 교차검증 기법을 사용할 때 먼저 데이터를 전처리(standardizer)하고 모델(로지스틱\n",
    "회귀)을 훈련하는 규칙을 손쉽게 구현할 수 있도록 도와줍니다.\n",
    " LOOCV(leave-one-out-cross-validation)는 폴드의 수 k가 샘플의 개수와 같습니다.\n",
    " cross_val_score의 cv는 교차검증 기법을 결정합니다.\n",
    " LOOCV는 LeaveOneOut 클래스에 구현되어 있습니다.\n",
    " LeaveOneOut 클래스는 KFold(n_splits=n)과 동일합니다. (n은 샘플 개수)\n",
    "'''\n",
    "'''\n",
    " KFold와 StratifiedKFold의 n_splits 매개변수 기본값은 3입니다 (사이킷런 0.22버전부터 이기본값 5)\n",
    " ShuffleSplit는 반복 횟수에 상관없이 훈련 폴드와 테스트 폴드 크기를 임의로 지정할 수 있습니다.\n",
    " train_size, test_size 매개변수에는 사용할 샘플 개수 또는 비율을 입력합니다.\n",
    " 반복마다 랜덤하게 분할하기 때문에 하나의 샘플이 여러 번 테스트 폴드에 포함될 수 있습니다.\n",
    " 계층별 교차 검증을 위한 StratifiedShuffleSplit도 있습니다\n",
    "'''\n",
    "#훈련 폴드로 50%, 테스트 폴드로 20%를 사용하여 10번 반복하는 실습입니다.\n",
    "from sklearn.model_selection import ShuffleSplit\n",
    "\n",
    "# ShuffleSplit 분할기를 만듭니다.\n",
    "ss = ShuffleSplit(n_splits=10, train_size=0.5, test_size=0.2, random_state=42)\n",
    "\n",
    "# 교차검증을 수행합니다.\n",
    "cv_results = cross_val_score(pipeline, # 파이프라인\n",
    "                             features, # 특성 행렬\n",
    "                             target, # 타깃 벡터\n",
    "                             cv=ss, # 교차 검증 기법\n",
    "                             scoring=\"accuracy\", # 평가 지표\n",
    "                             n_jobs=-1) # 모든 CPU 코어 사용\n",
    "cv_results.mean() # 평균을 계산합니다."
   ]
  },
  {
   "cell_type": "code",
   "execution_count": 8,
   "metadata": {},
   "outputs": [
    {
     "data": {
      "text/plain": [
       "0.9695065176908755"
      ]
     },
     "execution_count": 8,
     "metadata": {},
     "output_type": "execute_result"
    }
   ],
   "source": [
    "# 훈련 폴드로 50%, 테스트 폴드로 20%를 사용하여 10번 반복하는 실습입니다\n",
    "# 사이킷런에서 교차 검증을 반복하여 실행할 수 있는 RepeatedKFold 와 StratifiedRepeatedKFold\n",
    "# n_splits 매개변수 기본값은 5이고 n_repeats 매개변수 기본값은 10입니다.\n",
    "from sklearn.model_selection import RepeatedKFold\n",
    "\n",
    "# RepeatedKFold 객체 생성\n",
    "# 시드값(random_state) 으로 결과 고정(아무값이나)\n",
    "rfk = RepeatedKFold(n_splits=10, n_repeats=5, random_state=42) #다섯번 반복수행\n",
    "\n",
    "# 교차검증을 수행\n",
    "cv_results = cross_val_score(pipeline, # 파이프라인\n",
    "                             features, # 특성 행렬\n",
    "                             target, # 타깃 벡터\n",
    "                             cv=rfk, # 교차 검증 기법\n",
    "                             scoring=\"accuracy\", # 평가 지표\n",
    "                             n_jobs=-1) # 모든 CPU 코어 사용\n",
    "\n",
    "len(cv_results) # 검증 점수 개수를 확인(당연히 50개)\n",
    "cv_results.mean()"
   ]
  },
  {
   "cell_type": "code",
   "execution_count": 9,
   "metadata": {},
   "outputs": [],
   "source": [
    "'''\n",
    "기본 회귀 모델\n",
    " 사이킷런의 DummyRegressor를 사용하여 기본 모델로 사용할 간단한 더미 모델을 만듭니다.\n",
    " DummyRegressor 클래스는 실제 모델과 비교하기 위해 사용할 수 있는 매우 간단한 모델을 \n",
    "  만듭니다.\n",
    " Dumm yRegressor 클래스는 strategy 매개변수를 사용하여 예측 방법을 지정합니다.\n",
    " 훈련 세트의 평균 또는 중간값을 사용할 수 있습니다.\n",
    "'''\n",
    "\n",
    "#Boston Dataset을 이용하여 실습 \n",
    "from sklearn.datasets import load_boston\n",
    "from sklearn.dummy import DummyRegressor\n",
    "from sklearn.model_selection import train_test_split\n",
    "\n",
    "boston = load_boston() # 데이터를 로드\n",
    "features, target = boston.data, boston.target # 특성을 만듭니다.\n",
    "\n",
    "features_train, features_test, target_train, target_test = train_test_split(\n",
    "            features, target, random_state=0) # 훈련 세트와 테스트 세트를 나눕니다.\n",
    "\n",
    "dummy = DummyRegressor(strategy='mean') # 더미 회귀 모델을 만듭니다."
   ]
  },
  {
   "cell_type": "code",
   "execution_count": 10,
   "metadata": {},
   "outputs": [
    {
     "data": {
      "text/plain": [
       "DummyRegressor(constant=None, quantile=None, strategy='mean')"
      ]
     },
     "execution_count": 10,
     "metadata": {},
     "output_type": "execute_result"
    }
   ],
   "source": [
    "dummy.fit(features_train, target_train) # 더미 회귀 모델을 훈련합니다."
   ]
  },
  {
   "cell_type": "code",
   "execution_count": 11,
   "metadata": {},
   "outputs": [
    {
     "data": {
      "text/plain": [
       "-0.001119359203955339"
      ]
     },
     "execution_count": 11,
     "metadata": {},
     "output_type": "execute_result"
    }
   ],
   "source": [
    "dummy.score(features_test, target_test) # R^2 점수를 계산합니다.(결정계수)"
   ]
  },
  {
   "cell_type": "code",
   "execution_count": 12,
   "metadata": {},
   "outputs": [
    {
     "data": {
      "text/plain": [
       "0.6354638433202104"
      ]
     },
     "execution_count": 12,
     "metadata": {},
     "output_type": "execute_result"
    }
   ],
   "source": [
    "'''\n",
    "기본 회귀 모델(이어서)\n",
    " strategy를 constant로 지정하고 constant 매개변수를 사용하면 모든 샘플에 대해 일정한 값으로 예측하는 더미 회\n",
    "귀 모델을 만들 수 있습니다.\n",
    "'''\n",
    "from sklearn.linear_model import LinearRegression\n",
    "ols = LinearRegression() # 간단한 선형 회귀 모델을 훈련\n",
    "ols.fit(features_train, target_train)\n",
    "ols.score(features_test, target_test) # R^2 점수를 계산\n"
   ]
  },
  {
   "cell_type": "code",
   "execution_count": 13,
   "metadata": {},
   "outputs": [
    {
     "data": {
      "text/plain": [
       "-0.06510502029325727"
      ]
     },
     "execution_count": 13,
     "metadata": {},
     "output_type": "execute_result"
    }
   ],
   "source": [
    "# 모든 샘플에 대해 20으로 예측하는 더미 회귀 모델을 만듭니다.\n",
    "clf = DummyRegressor(strategy='constant', constant=20)\n",
    "clf.fit(features_train, target_train)\n",
    "clf.score(features_test, target_test) # 점수를 계산"
   ]
  },
  {
   "cell_type": "code",
   "execution_count": 14,
   "metadata": {},
   "outputs": [
    {
     "data": {
      "text/plain": [
       "array([50., 50., 50., 50., 50., 50., 50., 50., 50., 50., 50., 50., 50.,\n",
       "       50., 50., 50., 50., 50., 50., 50., 50., 50., 50., 50., 50., 50.,\n",
       "       50., 50., 50., 50., 50., 50., 50., 50., 50., 50., 50., 50., 50.,\n",
       "       50., 50., 50., 50., 50., 50., 50., 50., 50., 50., 50., 50., 50.,\n",
       "       50., 50., 50., 50., 50., 50., 50., 50., 50., 50., 50., 50., 50.,\n",
       "       50., 50., 50., 50., 50., 50., 50., 50., 50., 50., 50., 50., 50.,\n",
       "       50., 50., 50., 50., 50., 50., 50., 50., 50., 50., 50., 50., 50.,\n",
       "       50., 50., 50., 50., 50., 50., 50., 50., 50., 50., 50., 50., 50.,\n",
       "       50., 50., 50., 50., 50., 50., 50., 50., 50., 50., 50., 50., 50.,\n",
       "       50., 50., 50., 50., 50., 50., 50., 50., 50., 50.])"
      ]
     },
     "execution_count": 14,
     "metadata": {},
     "output_type": "execute_result"
    }
   ],
   "source": [
    "'''\n",
    "기본 회귀 모델(이어서)\n",
    " strategy가 mean일 때 평균값으로 예측하고 median일 때 중간값으로 예측합니다.\n",
    " quantile로 지정하면 quantile 매개변수에 지정한 분위값을 예측으로 사용합니다\n",
    " quantile 매개변수에는 0과 1 사이의 실수값을 지정하면 0.5일 때 중간값과 같고 \n",
    "  0이면 최솟값, 1이면 최댓값입니다.\n",
    "'''\n",
    "clf = DummyRegressor(strategy='quantile', quantile=1.0)\n",
    "clf.fit(features_train, target_train)\n",
    "\n",
    "# 훈련 세트 타깃의 최대값으로 예측합니다.\n",
    "clf.predict(features_test)"
   ]
  },
  {
   "cell_type": "code",
   "execution_count": 15,
   "metadata": {},
   "outputs": [
    {
     "data": {
      "text/plain": [
       "50.0"
      ]
     },
     "execution_count": 15,
     "metadata": {},
     "output_type": "execute_result"
    }
   ],
   "source": [
    "import numpy as np\n",
    "# 훈련 세트의 타깃에서 최댓값을 확인합니다.\n",
    "np.max(target_train)"
   ]
  },
  {
   "cell_type": "code",
   "execution_count": 17,
   "metadata": {},
   "outputs": [
    {
     "data": {
      "text/plain": [
       "0.42105263157894735"
      ]
     },
     "execution_count": 17,
     "metadata": {},
     "output_type": "execute_result"
    }
   ],
   "source": [
    "'''\n",
    "기본 분류 모델\n",
    " 사이킷런의 DummyClassifier 의 strategy 매개변수는 예측값을 생성하는 여러 가지 옵션을 제공합니다.\n",
    " stratified 옵션은 훈련 세트에 있는 타깃 벡터의 클래스 비율에 비례하는 예측을 만듭니다.\n",
    " uniform 옵션은 클래스 비중이 균등하도록 랜덤하게 예측합니다.\n",
    " most_frequent 옵션은 무조건 훈련 세트에서 가장 많은 타깃 레이블로 예측을 만듭니다.\n",
    "'''\n",
    "from sklearn.datasets import load_iris\n",
    "from sklearn.dummy import DummyClassifier\n",
    "from sklearn.model_selection import train_test_split\n",
    "\n",
    "iris = load_iris() # 데이터 로드\n",
    "features, target = iris.data, iris.target # 타깃 벡터와 특성 행렬을 만듭니다.\n",
    "\n",
    "# 훈련 세트와 테스트 세트로 나눕니다.\n",
    "features_train, features_test, target_train, target_test = train_test_split( features, target, random_state=0)\n",
    "\n",
    "# 더미 분류 모델을 만듭니다.\n",
    "dummy = DummyClassifier(strategy='uniform', random_state=1)\n",
    "\n",
    "dummy.fit(features_train, target_train) # 모델 훈련\n",
    "dummy.score(features_test, target_test) # 정확도 점수를 계산"
   ]
  },
  {
   "cell_type": "code",
   "execution_count": 18,
   "metadata": {},
   "outputs": [
    {
     "data": {
      "text/plain": [
       "0.9736842105263158"
      ]
     },
     "execution_count": 18,
     "metadata": {},
     "output_type": "execute_result"
    }
   ],
   "source": [
    "#랜덤 포레스트 기법사용 \n",
    "from sklearn.ensemble import RandomForestClassifier\n",
    "\n",
    "classifier = RandomForestClassifier() # 분류 모델을 만듭니다.\n",
    "classifier.fit(features_train, target_train) # 모델 훈련\n",
    "classifier.score(features_test, target_test) # 정확도 점수를 계산\n"
   ]
  },
  {
   "cell_type": "code",
   "execution_count": 23,
   "metadata": {},
   "outputs": [
    {
     "data": {
      "text/plain": [
       "0.23684210526315788"
      ]
     },
     "execution_count": 23,
     "metadata": {},
     "output_type": "execute_result"
    }
   ],
   "source": [
    "dummy = DummyClassifier(strategy='most_frequent')\n",
    "dummy.fit(features_train, target_train)\n",
    "# 훈련 세트 타깃에서 가장 많은 값으로 예측합니다.\n",
    "dummy.predict(features_test) #2\n",
    "dummy.score(features_test, target_test)"
   ]
  },
  {
   "cell_type": "code",
   "execution_count": null,
   "metadata": {},
   "outputs": [],
   "source": [
    "'''\n",
    "이진 분류기의 예측 평가\n",
    " 사이킷런의 cross_val_score 함수를 사용하여 교차검증을 수행할 때 scoring 매개변수에 성능 지표 중 하나를 선택\n",
    "할 수 있습니다.\n",
    " True Positive(TP) : 실제 True인 정답을 True라고 예측 (정답)\n",
    " False Positive(FP) : 실제 False인 정답을 True라고 예측 (오답)\n",
    " False Negative(FN) : 실제 True인 정답을 False라고 예측 (오답)\n",
    " True Negative(TN) : 실제 False인 정답을 False라고 예측 (정답)\n",
    "'''"
   ]
  },
  {
   "cell_type": "code",
   "execution_count": 24,
   "metadata": {},
   "outputs": [
    {
     "data": {
      "text/plain": [
       "array([0.9555, 0.95  , 0.9585, 0.9555, 0.956 ])"
      ]
     },
     "execution_count": 24,
     "metadata": {},
     "output_type": "execute_result"
    }
   ],
   "source": [
    "'''\n",
    "이진 분류기의 예측 평가(이어서)\n",
    " 사이킷런의 cross_val_score 함수를 사용하여 교차검증을 수행할 때 scoring 매개변수에 성능 지표 중 하나를 선택\n",
    "할 수 있습니다.\n",
    "'''\n",
    "from sklearn.model_selection import cross_val_score\n",
    "from sklearn.linear_model import LogisticRegression\n",
    "from sklearn.datasets import make_classification\n",
    "\n",
    "# 특성 행렬과 타깃 벡터를 만듭니다.\n",
    "X, y = make_classification(n_samples = 10000,\n",
    "                           n_features = 3,\n",
    "                           n_informative = 3,\n",
    "                           n_redundant = 0,\n",
    "                           n_classes = 2,\n",
    "                           random_state = 1)\n",
    "logit = LogisticRegression() # 로지스틱 회귀 모델을 만듭니다\n",
    "cross_val_score(logit, X, y, scoring=\"accuracy\") # 정확도를 사용하여 교차검증을 수행합니다"
   ]
  },
  {
   "cell_type": "code",
   "execution_count": 25,
   "metadata": {},
   "outputs": [
    {
     "data": {
      "text/plain": [
       "array([0.95963673, 0.94820717, 0.9635996 , 0.96149949, 0.96060606])"
      ]
     },
     "execution_count": 25,
     "metadata": {},
     "output_type": "execute_result"
    }
   ],
   "source": [
    "'''\n",
    "이진 분류기의 예측 평가(이어서)\n",
    " 정확도 : 예측한 샘플의 비율\n",
    " 정밀도 : 양성으로 예측한 샘플 중에서 진짜 양성 클래스의 비율(에측에 포함된 잡음)\n",
    "           TP/(TP+FP)\n",
    " 재현율 : 진짜 양성 샘플 중에서 양성으로 예측한 비율\n",
    "           TP/(TP+FN)\n",
    " F1은 정밀도와 재현율의 조화 평균입니다\n",
    "'''\n",
    "# 정밀도를 사용한 교차검증\n",
    "cross_val_score(logit, X, y, scoring=\"precision\")"
   ]
  },
  {
   "cell_type": "code",
   "execution_count": 26,
   "metadata": {},
   "outputs": [
    {
     "data": {
      "text/plain": [
       "array([0.951, 0.952, 0.953, 0.949, 0.951])"
      ]
     },
     "execution_count": 26,
     "metadata": {},
     "output_type": "execute_result"
    }
   ],
   "source": [
    "# 재현율을 사용한 교차검증\n",
    "cross_val_score(logit, X, y, scoring=\"recall\")"
   ]
  },
  {
   "cell_type": "code",
   "execution_count": 27,
   "metadata": {},
   "outputs": [
    {
     "data": {
      "text/plain": [
       "array([0.95529884, 0.9500998 , 0.95827049, 0.95520886, 0.95577889])"
      ]
     },
     "execution_count": 27,
     "metadata": {},
     "output_type": "execute_result"
    }
   ],
   "source": [
    "# f1 점수를 사용한 교차검증\n",
    "cross_val_score(logit, X, y, scoring=\"f1\")"
   ]
  },
  {
   "cell_type": "code",
   "execution_count": 28,
   "metadata": {},
   "outputs": [
    {
     "data": {
      "text/plain": [
       "0.947"
      ]
     },
     "execution_count": 28,
     "metadata": {},
     "output_type": "execute_result"
    }
   ],
   "source": [
    "'''\n",
    "이진 분류기의 예측 평가(이어서)\n",
    " cross_val_score()의 cv 매개변수를 지정하지 않으면 회귀일 때는 KFold, \n",
    "  분류일 때는 StratifiedKFold 분할기가 사용됩니다.\n",
    " cv 매개변수에 정수를 입력하여 기본 분할기의 폴드 수를 지정할 수 있습니다.\n",
    " cross_validate() 는 scoring 매개변수에 여러 개의 평가 지표를 추가할 수 있습니다.\n",
    "'''\n",
    "#직접계산\n",
    "#y값과 예측한 y값을 이용하여 직접 정확도와 재현율 계산\n",
    "from sklearn.model_selection import train_test_split\n",
    "from sklearn.metrics import accuracy_score\n",
    "\n",
    "# 훈련 세트와 테스트 세트로 나눕니다.\n",
    "X_train, X_test, y_train, y_test = train_test_split(X, y,\n",
    "                                                    test_size=0.1, \n",
    "                                                    random_state=1)\n",
    "# 테스트 세트의 예측을 만듭니다.\n",
    "y_hat = logit.fit(X_train, y_train).predict(X_test)\n",
    "\n",
    "# 정확도를 계산합니다.\n",
    "accuracy_score(y_test, y_hat)"
   ]
  },
  {
   "cell_type": "code",
   "execution_count": 29,
   "metadata": {},
   "outputs": [
    {
     "data": {
      "text/plain": [
       "{'fit_time': array([0.01199269, 0.01199293, 0.01199198, 0.01199365, 0.01199245]),\n",
       " 'score_time': array([0.00199938, 0.00199938, 0.00199771, 0.00099897, 0.00099897]),\n",
       " 'test_accuracy': array([0.9555, 0.95  , 0.9585, 0.9555, 0.956 ]),\n",
       " 'test_precision': array([0.95963673, 0.94820717, 0.9635996 , 0.96149949, 0.96060606])}"
      ]
     },
     "execution_count": 29,
     "metadata": {},
     "output_type": "execute_result"
    }
   ],
   "source": [
    "from sklearn.model_selection import cross_validate\n",
    "# 정확도와 정밀도를 사용한 교차검증\n",
    "cross_validate(logit, X, y, scoring=[\"accuracy\", \"precision\"])"
   ]
  },
  {
   "cell_type": "code",
   "execution_count": 30,
   "metadata": {},
   "outputs": [
    {
     "data": {
      "text/plain": [
       "LogisticRegression(C=1.0, class_weight=None, dual=False, fit_intercept=True,\n",
       "                   intercept_scaling=1, l1_ratio=None, max_iter=100,\n",
       "                   multi_class='auto', n_jobs=None, penalty='l2',\n",
       "                   random_state=None, solver='lbfgs', tol=0.0001, verbose=0,\n",
       "                   warm_start=False)"
      ]
     },
     "execution_count": 30,
     "metadata": {},
     "output_type": "execute_result"
    }
   ],
   "source": [
    "'''\n",
    "이진 분류기 임계값 평가\n",
    " ROC곡선은 이진 분류기의 품질을 평가하는 데 널리 사용하는 방법입니다.\n",
    " ROC는 확률 임곗값마다 진짜 양성과 거짓 양성 개수를 비교합니다.\n",
    " ROC 곡선을 그리면 모델의 성능을 확인할 수 있습니다.\n",
    " 사이킷런에서는 roc_curve 함수를 사용하여 임곗값마다 진짜 양성과 거짓 양성을 계산하여 그래프를 그릴 수 있습\n",
    "니다.\n",
    "'''\n",
    "import matplotlib.pyplot as plt\n",
    "import matplotlib.pyplot as plt\n",
    "from sklearn.datasets import make_classification\n",
    "from sklearn.linear_model import LogisticRegression\n",
    "from sklearn.metrics import roc_curve, roc_auc_score\n",
    "from sklearn.model_selection import train_test_split\n",
    "\n",
    "# 특성 행렬과 타깃 벡터를 만듭니다.\n",
    "features, target = make_classification(n_samples=10000,\n",
    "                                       n_features=10, \n",
    "                                       n_classes=2, \n",
    "                                       n_informative=3, \n",
    "                                       random_state=3)\n",
    "# 훈련 세트와 테스트 세트로 나눕니다.\n",
    "features_train, features_test, target_train, target_test = train_test_split(\n",
    "                            features, target, test_size=0.1, random_state=1)\n",
    "logit = LogisticRegression() # 분류기를 만듭니다.\n",
    "logit.fit(features_train, target_train) # 모델을 훈련합니다."
   ]
  },
  {
   "cell_type": "code",
   "execution_count": 32,
   "metadata": {},
   "outputs": [
    {
     "data": {
      "image/png": "[encoded data removed]",
      "text/plain": [
       "<Figure size 432x288 with 1 Axes>"
      ]
     },
     "metadata": {
      "needs_background": "light"
     },
     "output_type": "display_data"
    }
   ],
   "source": [
    "target_probabilities = logit.predict_proba(features_test)[:,1]\n",
    "\n",
    "#진짜 양성비율(TPR)=진짜양성/(진짜양성+거짓음성)\n",
    "#거짓 양성비율(FPR)=거짓양성/(거짓양성+진짜음성)\n",
    "\n",
    "# 진짜 양성 비율과 거짓 양성 비율을 계산합니다.\n",
    "false_positive_rate, true_positive_rate, threshold = roc_curve(target_test, \n",
    "                                                               target_probabilities)\n",
    "# ROC 곡선을 그립니다.\n",
    "plt.title(\"Receiver Operating Characteristic\")\n",
    "plt.plot(false_positive_rate, true_positive_rate)\n",
    "plt.plot([0, 1], ls=\"--\")\n",
    "plt.plot([0, 0], [1, 0] , c=\".7\"), plt.plot([1, 1] , c=\".7\")\n",
    "plt.ylabel(\"True Positive Rate\")\n",
    "plt.xlabel(\"False Positive Rate\")\n",
    "plt.show()"
   ]
  },
  {
   "cell_type": "code",
   "execution_count": 33,
   "metadata": {},
   "outputs": [
    {
     "data": {
      "text/plain": [
       "array([[0.86891533, 0.13108467]])"
      ]
     },
     "execution_count": 33,
     "metadata": {},
     "output_type": "execute_result"
    }
   ],
   "source": [
    "# 예측 확률을 계산합니다.\n",
    "logit.predict_proba(features_test)[0:1]"
   ]
  },
  {
   "cell_type": "code",
   "execution_count": 36,
   "metadata": {},
   "outputs": [
    {
     "data": {
      "text/plain": [
       "array([0, 1])"
      ]
     },
     "execution_count": 36,
     "metadata": {},
     "output_type": "execute_result"
    }
   ],
   "source": [
    "logit.classes_"
   ]
  },
  {
   "cell_type": "code",
   "execution_count": 37,
   "metadata": {},
   "outputs": [
    {
     "name": "stdout",
     "output_type": "stream",
     "text": [
      "임계값: 0.5331715230155317\n",
      "진짜 양성 비율: 0.810204081632653\n",
      "거짓 양성 비율: 0.14901960784313725\n",
      "임계값: 0.818913387665929\n",
      "진짜 양성 비율: 0.5448979591836735\n",
      "거짓 양성 비율: 0.047058823529411764\n"
     ]
    },
    {
     "data": {
      "text/plain": [
       "0.9073389355742297"
      ]
     },
     "execution_count": 37,
     "metadata": {},
     "output_type": "execute_result"
    }
   ],
   "source": [
    "print(\"임계값:\", threshold[116])\n",
    "print(\"진짜 양성 비율:\", true_positive_rate[116])\n",
    "print(\"거짓 양성 비율:\", false_positive_rate[116])\n",
    "print(\"임계값:\", threshold[45])\n",
    "print(\"진짜 양성 비율:\", true_positive_rate[45])\n",
    "print(\"거짓 양성 비율:\", false_positive_rate[45])\n",
    "\n",
    "# ROC 곡선 아래 면적을 계산합니다.\n",
    "roc_auc_score(target_test, target_probabilities)"
   ]
  },
  {
   "cell_type": "code",
   "execution_count": 38,
   "metadata": {
    "scrolled": true
   },
   "outputs": [
    {
     "data": {
      "image/png": "[encoded data removed]",
      "text/plain": [
       "<Figure size 432x288 with 1 Axes>"
      ]
     },
     "metadata": {
      "needs_background": "light"
     },
     "output_type": "display_data"
    }
   ],
   "source": [
    "from sklearn.metrics import precision_recall_curve\n",
    "\n",
    "# 진짜 양성 비율과 거짓 양성 비율을 계산합니다.\n",
    "precision, recall, threshold = precision_recall_curve(\n",
    "                                        target_test, target_probabilities)\n",
    "# ROC 곡선을 그립니다.\n",
    "plt.title(\"Precision-Recall Curve\")\n",
    "plt.plot(precision, recall)\n",
    "plt.plot([0, 1], ls=\"--\")\n",
    "plt.plot([1, 1], c=\".7\"), plt.plot([1, 1], [1, 0] , c=\".7\")\n",
    "plt.ylabel(\"Precision\")\n",
    "plt.xlabel(\"Recall\")\n",
    "plt.show()\n"
   ]
  },
  {
   "cell_type": "code",
   "execution_count": 39,
   "metadata": {},
   "outputs": [
    {
     "data": {
      "text/plain": [
       "0.8984128719848977"
      ]
     },
     "execution_count": 39,
     "metadata": {},
     "output_type": "execute_result"
    }
   ],
   "source": [
    "from sklearn.metrics import average_precision_score\n",
    "\n",
    "# 평균 정밀도를 계산합니다.\n",
    "average_precision_score(target_test, target_probabilities)"
   ]
  },
  {
   "cell_type": "code",
   "execution_count": 40,
   "metadata": {},
   "outputs": [
    {
     "data": {
      "text/plain": [
       "{'fit_time': array([0.01199341, 0.01199222, 0.00999308, 0.01099348, 0.010993  ]),\n",
       " 'score_time': array([0.00299788, 0.00199842, 0.00199866, 0.00199842, 0.00199986]),\n",
       " 'test_roc_auc': array([0.9007689, 0.918251 , 0.90882  , 0.915359 , 0.90261  ]),\n",
       " 'test_average_precision': array([0.90028629, 0.90967443, 0.90296471, 0.91135611, 0.88797021])}"
      ]
     },
     "execution_count": 40,
     "metadata": {},
     "output_type": "execute_result"
    }
   ],
   "source": [
    "#scoring매개변수에 ROCAUC와 평균 정밀도를 평가 지표로 지정 할 수 있습니다.\n",
    "cross_validate(logit, features, target, scoring=[\"roc_auc\", \"average_precision\"])"
   ]
  },
  {
   "cell_type": "code",
   "execution_count": null,
   "metadata": {},
   "outputs": [],
   "source": [
    "'''\n",
    "이진 분류기 임계값 평가(이어서)\n",
    " TPR(재현율)과 FPR 간의 트레이드오프를 시각화하는 것 외에 ROC 곡선은 일반적인 모델 지표로 사용할 수도 있\n",
    "습니다.\n",
    " 좋은 모델일수록 곡선이 위로 올라가므로 곡선 아래 면적이 커집니다.\n",
    " ROC 곡선 아래 면적(AUCROC)을 계산하여 모든 가능한 임계값에서 모델의 전반적인 품질을 평가합니다\n",
    " AUCROC가 1에 가까울수록 더 좋은 모델입니다.\n",
    " 사이킷런에서는 roc_auc_score()함수를 사용하여 AUCROC를 계산할 수 있습니다.\n",
    " precision_recall_curve()함수를 사용해 임계점마다 정밀도와 재현율을 계산하여 정밀도-재현율 곡선을 그립니다.\n",
    " 정밀도-재현율 곡선에서는 오른쪽 맨 위에 가까울수록 좋은 모델입니다. 이 곡선의 아래 면적을 평균 정밀도라고\n",
    "부르며 average_precision-score 함수를 사용해 계산할 수 있습니다.\n",
    "'''"
   ]
  },
  {
   "cell_type": "code",
   "execution_count": 41,
   "metadata": {},
   "outputs": [
    {
     "data": {
      "text/plain": [
       "array([0.841 , 0.829 , 0.8265, 0.8155, 0.82  ])"
      ]
     },
     "execution_count": 41,
     "metadata": {},
     "output_type": "execute_result"
    }
   ],
   "source": [
    "'''\n",
    "다중클래스 분류기 예측 평가\n",
    " 클래스가 균형 잡혀 있는 경우 다중 클래스에서도 정확도는 간단하고 해석이 용이한 평가 지표입니다.\n",
    " 훈련 데이터를 이진 클래스처럼 취급하는 방식으로 다중 클래스 환경에도 적용할 수 있습니다.\n",
    " 데이터에 하나의 클래스만 있는 것처럼 각 클래스에서 측정한 값을 수집하여 평균함으로써 전체 클래스에 대한 평\n",
    "가 점수를 얻을 수 있습니다.\n",
    "'''\n",
    "\n",
    "from sklearn.model_selection import cross_val_score\n",
    "from sklearn.linear_model import LogisticRegression\n",
    "from sklearn.datasets import make_classification\n",
    "\n",
    "# 특성 행렬과 타깃 벡터를 만듭니다.\n",
    "features, target = make_classification(n_samples = 10000,\n",
    "                                       n_features = 3,\n",
    "                                       n_informative = 3,\n",
    "                                       n_redundant = 0,\n",
    "                                       n_classes = 3,\n",
    "                                       random_state = 1)\n",
    "\n",
    "logit = LogisticRegression() # 로지스틱 회귀 모델 객체 생성\n",
    "# 정확도를 사용하여 교차검증을 수행합니다.\n",
    "cross_val_score(logit, features, target, scoring='accuracy')"
   ]
  },
  {
   "cell_type": "code",
   "execution_count": 42,
   "metadata": {},
   "outputs": [
    {
     "data": {
      "text/plain": [
       "array([0.84061272, 0.82895312, 0.82625661, 0.81515121, 0.81992692])"
      ]
     },
     "execution_count": 42,
     "metadata": {},
     "output_type": "execute_result"
    }
   ],
   "source": [
    "'''\n",
    "다중클래스 분류기 예측 평가(이어서)\n",
    " _macro는 클래스별 평가 점수를 평균하는 방법을 나타냅니다.\n",
    " macro : 각 클래스를 동등한 가중치로 클래스별 측정 점수를 평균합니다.\n",
    " weighted : 샘플 개수에 비례하여 각 클래스별 측정 점수를 평균합니다.\n",
    " micro : 클래스별 TP, TN, FP, FN을 모두 더하여 계산합니다.\n",
    "'''\n",
    "# 마크로 평균 F1 점수를 사용하여 교차검증을 수행합니다.\n",
    "cross_val_score(logit, features, target, scoring='f1_macro')"
   ]
  },
  {
   "cell_type": "code",
   "execution_count": 54,
   "metadata": {},
   "outputs": [
    {
     "name": "stderr",
     "output_type": "stream",
     "text": [
      "C:\\Users\\student\\Anaconda3\\envs\\cpu_env\\lib\\site-packages\\sklearn\\linear_model\\_logistic.py:939: ConvergenceWarning: lbfgs failed to converge (status=1):\n",
      "STOP: TOTAL NO. of ITERATIONS REACHED LIMIT.\n",
      "\n",
      "Increase the number of iterations (max_iter) or scale the data as shown in:\n",
      "    https://scikit-learn.org/stable/modules/preprocessing.html.\n",
      "Please also refer to the documentation for alternative solver options:\n",
      "    https://scikit-learn.org/stable/modules/linear_model.html#logistic-regression\n",
      "  extra_warning_msg=_LOGISTIC_SOLVER_CONVERGENCE_MSG)\n"
     ]
    },
    {
     "data": {
      "image/png": "[encoded data removed]",
      "text/plain": [
       "<Figure size 432x288 with 1 Axes>"
      ]
     },
     "metadata": {
      "needs_background": "light"
     },
     "output_type": "display_data"
    }
   ],
   "source": [
    "'''\n",
    "분류기 성능 시각화\n",
    " 테스트 데이터의 예측 클래스와 정답 클래스를 바탕으로 모델의 품질을 시각적으로 비교할 수 있습니다.\n",
    "'''\n",
    "import matplotlib.pyplot as plt\n",
    "import seaborn as sns\n",
    "from sklearn import datasets\n",
    "from sklearn.linear_model import LogisticRegression\n",
    "from sklearn.model_selection import train_test_split\n",
    "from sklearn.metrics import confusion_matrix\n",
    "import pandas as pd\n",
    "\n",
    "iris = datasets.load_iris() # 데이터 로드\n",
    "\n",
    "features = iris.data # 특성 행렬\n",
    "target = iris.target # 타깃 벡터\n",
    "\n",
    "class_names = iris.target_names # 클래스 이름 리스트\n",
    "\n",
    "# 훈련 세트와 테스트 세트를 만듭니다.\n",
    "features_train, features_test, target_train, target_test = train_test_split(\n",
    "                                            features, target, random_state=1)\n",
    "classifier = LogisticRegression() # 로지스틱 회귀 모델 객체 생성\n",
    "\n",
    "# 모델을 훈련하고 예측 결과를 계산합니다.\n",
    "target_predicted = classifier.fit(features_train, target_train).predict(features_test)\n",
    "\n",
    "# 오차 행렬을 만듭니다.\n",
    "matrix = confusion_matrix(target_test, target_predicted)\n",
    "# 판다스 데이터프레임을 만듭니다.\n",
    "dataframe = pd.DataFrame(matrix, index=class_names, columns=class_names)\n",
    "sns.heatmap(dataframe, annot=True, cbar=None, cmap=\"Purples\") # 히트맵 생성\n",
    "plt.title(\"Confusion Matrix\"), plt.tight_layout()\n",
    "plt.ylabel(\"True Class\"), plt.xlabel(\"Predicted Class\")\n",
    "plt.show()"
   ]
  },
  {
   "cell_type": "code",
   "execution_count": 55,
   "metadata": {},
   "outputs": [
    {
     "data": {
      "text/plain": [
       "array([[13,  0,  0],\n",
       "       [ 0, 15,  1],\n",
       "       [ 0,  0,  9]], dtype=int64)"
      ]
     },
     "execution_count": 55,
     "metadata": {},
     "output_type": "execute_result"
    }
   ],
   "source": [
    "'''\n",
    "분류기 성능 시각화(이어서)\n",
    " 오차 행렬은 분류기의 성능을 쉽고 효과적으로 보여주는 도구입니다.\n",
    " 오차 행렬의 열은 예측 클래스를 나타내고 행은 정답 클래스를 나타냅니다.\n",
    " 오차행렬의 완벽한 모델은 대각선에만 값이 있고 나머지는 모두 0입니다. (나쁜 모델은 모든 셀에 고르게 샘플들이\n",
    "퍼져 있을 것입니다.)\n",
    " 오차행렬은 모델이 나쁘다는 것뿐만 아니라 어떻게 나쁜지도 알려줍니다. (잘못 분류된 패턴을 확인할 수 있습니\n",
    "다.)\n",
    " 오차행렬은 다중 클래스 환경에도 잘 동작합니다.\n",
    " 사이킷런의 confusion_matrix 함수를 사용하여 오차 행렬을 계산할 수 있습니다.\n",
    "'''\n",
    "from sklearn.metrics import confusion_matrix\n",
    "confusion_matrix(target_test, target_predicted)"
   ]
  },
  {
   "cell_type": "code",
   "execution_count": 56,
   "metadata": {},
   "outputs": [],
   "source": [
    "'''\n",
    "회귀 모델 평가\n",
    " 평균 제곱 오차(mean squared error; MSE)를 사용합니다.\n",
    "   : 오차가 커질수록 나쁜 모델이다 \n",
    "'''\n",
    "'''\n",
    " MSE는 예측값과 진짜 갓 사이의 모든 거리를 제곱하여 더한 값입니다.\n",
    " MSE의 값이 클수록 전체 제곱 오차가 더 커지므로 더 나쁜 모델입니다.\n",
    " 사이킷런의 scoring 매개변수값은 높은 값이 낮은 값보다 좋은 것이어야 합니다.\n",
    " MSE는 반대로 높은 값이 더 나쁜 모델을 의미합니다.\n",
    " 때문에 사이킷런은 neg_mean_squared_error를 사용하여 음의 MSE를 전달해야 합니다\n",
    "'''\n",
    "\n",
    "from sklearn.datasets import make_regression\n",
    "from sklearn.model_selection import cross_val_score\n",
    "from sklearn.linear_model import LinearRegression\n",
    "\n",
    "# 특성 행렬과 타깃 벡터를 만듭니다.\n",
    "features, target = make_regression(n_samples = 100,\n",
    "                                   n_features = 3,\n",
    "                                   n_informative = 3,\n",
    "                                   n_targets = 1,\n",
    "                                   noise = 50,\n",
    "                                   coef = False,\n",
    "                                   random_state = 1)\n",
    "ols = LinearRegression() #객체 생성"
   ]
  },
  {
   "cell_type": "code",
   "execution_count": 57,
   "metadata": {},
   "outputs": [
    {
     "data": {
      "text/plain": [
       "array([-1974.65337976, -2004.54137625, -3935.19355723, -1060.04361386,\n",
       "       -1598.74104702])"
      ]
     },
     "execution_count": 57,
     "metadata": {},
     "output_type": "execute_result"
    }
   ],
   "source": [
    "# 음의 MSE를 사용한 교차검증을 수행합니다.\n",
    "cross_val_score(ols, features, target, scoring='neg_mean_squared_error')"
   ]
  },
  {
   "cell_type": "code",
   "execution_count": 58,
   "metadata": {},
   "outputs": [
    {
     "data": {
      "text/plain": [
       "array([0.8622399 , 0.85838075, 0.74723548, 0.91354743, 0.84469331])"
      ]
     },
     "execution_count": 58,
     "metadata": {},
     "output_type": "execute_result"
    }
   ],
   "source": [
    "'''\n",
    " 회귀 평가 지표 R2 은 모델이 설명하는 타깃 벡터의 분산을 측정합니다\n",
    " 타깃 벡터의 평균값이 1.0에 가까울수록 더 좋은 모델입니다.\n",
    "'''\n",
    "# R^2를 사용한 교차검증을 수행합니다.\n",
    "cross_val_score(ols, features, target, scoring='r2')"
   ]
  },
  {
   "cell_type": "code",
   "execution_count": 60,
   "metadata": {},
   "outputs": [
    {
     "data": {
      "text/plain": [
       "0.8916265564072142"
      ]
     },
     "execution_count": 60,
     "metadata": {},
     "output_type": "execute_result"
    }
   ],
   "source": [
    "'''\n",
    "군집 모델 평가\n",
    " 군집을 평가하는 방법은 클러스터의 품질을 측정하는 실루엣 계수입니다.\n",
    "'''\n",
    "'''\n",
    " 클러스터 내의 샘플 간의 거리는 가깝고(조밀한 클러스터) 클러스터 간 거리는 먼것(잘 구분된 클러스터)이 좋은\n",
    "클러스터라고 생각할 수 있습니다.\n",
    " 실루엣 계수는 클러스터 내 샘플 간의 거리와 클러스터 간 거리 두 특성을 측정한 하나의 수치를 제공합니다\n",
    " silhouette_score 함수의 반환값은 모든 샘플의 실루엣 계수를 평균한 값입니다.\n",
    " 실루엣 계수의 범위는 -1과 1 사이입니다.\n",
    " 1은 조밀하고 잘 구분되는 클러스터를 의미합니다.\n",
    "'''\n",
    "# 클러스터링 : 비지도학습, 정답 예측 및 비교가 불가능하다 \n",
    "# 모델에 대한 평가를 실루엣 계수를 사용 \n",
    "import numpy as np\n",
    "from sklearn.metrics import silhouette_score\n",
    "from sklearn import datasets\n",
    "from sklearn.cluster import KMeans\n",
    "from sklearn.datasets import make_blobs\n",
    "\n",
    "features, _ = make_blobs(n_samples = 1000,\n",
    "                         n_features = 10,\n",
    "                         centers = 2,\n",
    "                         cluster_std = 0.5,\n",
    "                         shuffle = True,\n",
    "                         random_state = 1) # 특성 행렬을 생성\n",
    "\n",
    "# k-평균을 사용하여 데이터를 클러스터링하고 클래스를 예측합니다.\n",
    "model = KMeans(n_clusters=2, random_state=1).fit(features)\n",
    "target_predicted = model.labels_ # 예측된 클래스\n",
    "silhouette_score(features, target_predicted) # 모델 평가"
   ]
  },
  {
   "cell_type": "code",
   "execution_count": 61,
   "metadata": {},
   "outputs": [],
   "source": [
    "'''\n",
    "사용자 정의 평가 지표 만들기\n",
    " 평가 방법을 함수로 만들고 사이킷런의 make_scorer 함수를 사용하여 스코어 score function으로 변환합니다.\n",
    "'''\n",
    "from sklearn.metrics import make_scorer, r2_score\n",
    "from sklearn.model_selection import train_test_split\n",
    "from sklearn.linear_model import Ridge\n",
    "from sklearn.datasets import make_regression\n",
    "\n",
    "# 특성 행렬과 타깃 벡터를 만듭니다.\n",
    "features, target = make_regression(n_samples = 100,\n",
    "                                   n_features = 3,\n",
    "                                   random_state = 1)\n",
    "\n",
    "# 훈련 세트와 테스트 세트를 만듭니다.\n",
    "features_train, features_test, target_train, target_test = train_test_split(\n",
    "      features, target, test_size=0.10, random_state=1)\n",
    "\n",
    "\n",
    "def custom_metric(target_test, target_predicted): # 사용자 정의 지표 함수를 정의\n",
    "    r2 = r2_score(target_test, target_predicted) # R^2 점수를 계산\n",
    "    return r2 # R^2 점수를 반환\n",
    "\n",
    "\n",
    "# 높은 점수가 좋은 것을 나타내는 스코어 함수를 만듭니다.\n",
    "score = make_scorer(custom_metric, greater_is_better=True) \n",
    "classifier = Ridge() # 릿지(ridge) 회귀 모델 객체 생성"
   ]
  },
  {
   "cell_type": "code",
   "execution_count": 63,
   "metadata": {},
   "outputs": [
    {
     "data": {
      "text/plain": [
       "0.9997906102882058"
      ]
     },
     "execution_count": 63,
     "metadata": {},
     "output_type": "execute_result"
    }
   ],
   "source": [
    "'''\n",
    "사용자 정의 평가 지표 만들기(이어서)\n",
    " 평가 방법을 함수로 만들고 사이킷런의 make_scorer 함수를 사용하여 스코어 score function으로 변환합니다.\n",
    "'''\n",
    "model = classifier.fit(features_train, target_train) # 릿지 회귀 모델 훈련\n",
    "score(model, features_test, target_test) # 사용자 정의 스코어 함수를 적용"
   ]
  },
  {
   "cell_type": "code",
   "execution_count": 64,
   "metadata": {},
   "outputs": [
    {
     "data": {
      "text/plain": [
       "0.9997906102882058"
      ]
     },
     "execution_count": 64,
     "metadata": {},
     "output_type": "execute_result"
    }
   ],
   "source": [
    "target_predicted = model.predict(features_test) # 예측\n",
    "r2_score(target_test, target_predicted) # R^2 점수 계산"
   ]
  },
  {
   "cell_type": "code",
   "execution_count": 66,
   "metadata": {},
   "outputs": [],
   "source": [
    "'''\n",
    "훈련 세트 크기에 따른 영향 시각화\n",
    " 학습 곡선은 훈련 세트의 샘플 수가 증가함에 따라 훈련 세트와 교차검증의 성능(정확도나 재현율)을 시각화합니\n",
    "다.\n",
    " 더 많은 훈련 데이터를 모아서 학습 알고리즘에 도움이 될지 결정하는 데 널리 사용됩니다 .\n",
    "'''\n",
    "import numpy as np\n",
    "import matplotlib.pyplot as plt\n",
    "from sklearn.ensemble import RandomForestClassifier\n",
    "from sklearn.datasets import load_digits\n",
    "from sklearn.model_selection import learning_curve\n",
    "\n",
    "digits = load_digits() # 데이터 로드\n",
    "\n",
    "features, target = digits.data, digits.target # 특성 행렬과 타깃 벡터 분리\n",
    "\n",
    "# 다양한 훈련 세트 크기에서 교차검증 훈련 점수와 테스트 점수를 계산합니다.\n",
    "train_sizes, train_scores, test_scores = learning_curve(\n",
    "                                            RandomForestClassifier(), # 분류기\n",
    "                                            features, # 특성 행렬\n",
    "                                            target, # 타깃 벡터\n",
    "                                            cv=10, # 폴드 수\n",
    "                                            scoring='accuracy', # 성능 지표\n",
    "                                            n_jobs=-1, # 모든 코어 사용\n",
    "                                            train_sizes=np.linspace( 0.01, 1.0, 50)) \n",
    "                                            # 50개의 훈련 세트 크기"
   ]
  },
  {
   "cell_type": "code",
   "execution_count": 74,
   "metadata": {},
   "outputs": [
    {
     "data": {
      "image/png": "[encoded data removed]",
      "text/plain": [
       "<Figure size 432x288 with 1 Axes>"
      ]
     },
     "metadata": {
      "needs_background": "light"
     },
     "output_type": "display_data"
    }
   ],
   "source": [
    "# 훈련 세트 점수의 평균과 표준 편차를 계산합니다.\n",
    "train_mean = np.mean(train_scores, axis=1)\n",
    "train_std = np.std(train_scores, axis=1)\n",
    "\n",
    "# 테스트 세트 점수의 평균과 표준 편차를 계산합니다.\n",
    "test_mean = np.mean(test_scores, axis=1)\n",
    "test_std = np.std(test_scores, axis=1)\n",
    "\n",
    "# 그래프를 그립니다.\n",
    "plt.plot(train_sizes, train_mean, '--', color=\"#111111\", label=\"Training score\")\n",
    "plt.plot(train_sizes, test_mean, color=\"#111111\", label=\"Cross-validation score\")\n",
    "\n",
    "# 표준 편차 영역을 그립니다.\n",
    "plt.fill_between(train_sizes, train_mean - train_std, train_mean + train_std, color=\"#DDDDDD\")\n",
    "plt.fill_between(train_sizes, test_mean - test_std, test_mean + test_std, color=\"#DDDDDD\")\n",
    "\n",
    "# 그래프를 출력합니다.\n",
    "plt.title(\"Learning Curve\")\n",
    "plt.xlabel(\"Training Set Size\"), plt.ylabel(\"Accuracy Score\"),\n",
    "plt.legend(loc=\"best\") #범례는 결과에 따라 가장 보기 좋은 자리에 붙혀라\n",
    "plt.tight_layout()\n",
    "plt.show()\n",
    "#훈련 세트 샘플의 1%에서 100%까지 50개 크기에서 랜덤 포레스트 분류기의 정확도를 그래프로 출력합니다.\n",
    "#모델의 교차검증 정확도가 증가하면 추가적인 샘플이 도움이 된다는 것을 의미합니다."
   ]
  },
  {
   "cell_type": "code",
   "execution_count": 75,
   "metadata": {},
   "outputs": [
    {
     "name": "stdout",
     "output_type": "stream",
     "text": [
      "              precision    recall  f1-score   support\n",
      "\n",
      "      setosa       1.00      1.00      1.00        13\n",
      "  versicolor       1.00      0.94      0.97        16\n",
      "   virginica       0.90      1.00      0.95         9\n",
      "\n",
      "    accuracy                           0.97        38\n",
      "   macro avg       0.97      0.98      0.97        38\n",
      "weighted avg       0.98      0.97      0.97        38\n",
      "\n"
     ]
    },
    {
     "name": "stderr",
     "output_type": "stream",
     "text": [
      "C:\\Users\\student\\Anaconda3\\envs\\cpu_env\\lib\\site-packages\\sklearn\\linear_model\\_logistic.py:939: ConvergenceWarning: lbfgs failed to converge (status=1):\n",
      "STOP: TOTAL NO. of ITERATIONS REACHED LIMIT.\n",
      "\n",
      "Increase the number of iterations (max_iter) or scale the data as shown in:\n",
      "    https://scikit-learn.org/stable/modules/preprocessing.html.\n",
      "Please also refer to the documentation for alternative solver options:\n",
      "    https://scikit-learn.org/stable/modules/linear_model.html#logistic-regression\n",
      "  extra_warning_msg=_LOGISTIC_SOLVER_CONVERGENCE_MSG)\n"
     ]
    }
   ],
   "source": [
    "'''\n",
    "평가 지표 리포트 만들기\n",
    " 사이킷런의 classification_report는 정밀도, 재현율, F1-점수와 같이 자주 사용하는 평가 지표를 요약하여 보여줍니\n",
    "다.\n",
    " support는 각 클래스에 속한 샘플의 개수를 의미합니다.\n",
    " classification_report는 첫번째 블럭에서 각 클래스를 양성 클래스로 가정했을 때 점수를 보여줍니다.\n",
    " 두번째 블럭은 micro, macro, weighted 평균값을 출력합니다.\n",
    " labels 매개변수가 지정되지 않거나 labels 매개변수로 전달된 클래스 레이블이 타깃값에 모두 포함되어 있다면\n",
    "micro 평균과 같은 의미인 정확도를 출력합니다.\n",
    "'''\n",
    "from sklearn import datasets\n",
    "from sklearn.linear_model import LogisticRegression\n",
    "from sklearn.model_selection import train_test_split\n",
    "from sklearn.metrics import classification_report\n",
    "\n",
    "iris = datasets.load_iris() # 데이터 로드\n",
    "features = iris.data # 특성 행렬\n",
    "target = iris.target # 타깃 벡터\n",
    "class_names = iris.target_names # 타깃 클래스 이름의 리스트\n",
    "\n",
    "# 훈련 세트와 테스트 세트를 만듭니다.\n",
    "features_train, features_test, target_train, target_test = train_test_split(features,\n",
    "                                                                            target, \n",
    "                                                                            random_state=1)\n",
    "classifier = LogisticRegression() # 로지스틱 회귀 모델 객체 생성\n",
    "model = classifier.fit(features_train, target_train) # 모델 훈련\n",
    "target_predicted = model.predict(features_test) # 예측\n",
    "print(classification_report(target_test,\n",
    "                            target_predicted,\n",
    "                            target_names=class_names)) # 분류 리포트 새성"
   ]
  },
  {
   "cell_type": "code",
   "execution_count": 76,
   "metadata": {},
   "outputs": [
    {
     "name": "stdout",
     "output_type": "stream",
     "text": [
      "              precision    recall  f1-score   support\n",
      "\n",
      "           0       1.00      1.00      1.00        13\n",
      "           1       1.00      0.94      0.97        16\n",
      "           2       0.90      1.00      0.95         9\n",
      "           3       0.00      0.00      0.00         0\n",
      "\n",
      "   micro avg       0.97      0.97      0.97        38\n",
      "   macro avg       0.72      0.73      0.73        38\n",
      "weighted avg       0.98      0.97      0.97        38\n",
      "\n"
     ]
    },
    {
     "name": "stderr",
     "output_type": "stream",
     "text": [
      "C:\\Users\\student\\Anaconda3\\envs\\cpu_env\\lib\\site-packages\\sklearn\\metrics\\_classification.py:1268: UndefinedMetricWarning: Precision and F-score are ill-defined and being set to 0.0 in labels with no predicted samples. Use `zero_division` parameter to control this behavior.\n",
      "  _warn_prf(average, modifier, msg_start, len(result))\n",
      "C:\\Users\\student\\Anaconda3\\envs\\cpu_env\\lib\\site-packages\\sklearn\\metrics\\_classification.py:1268: UndefinedMetricWarning: Recall and F-score are ill-defined and being set to 0.0 in labels with no true samples. Use `zero_division` parameter to control this behavior.\n",
      "  _warn_prf(average, modifier, msg_start, len(result))\n"
     ]
    }
   ],
   "source": [
    "# 분류 리포트를 만듭니다.(붓꽃이름 대신 라벨 설정가능)\n",
    "print(classification_report(target_test, target_predicted, labels=[0,1,2,3]))"
   ]
  },
  {
   "cell_type": "code",
   "execution_count": 79,
   "metadata": {},
   "outputs": [
    {
     "data": {
      "image/png": "[encoded data removed]",
      "text/plain": [
       "<Figure size 432x288 with 1 Axes>"
      ]
     },
     "metadata": {
      "needs_background": "light"
     },
     "output_type": "display_data"
    }
   ],
   "source": [
    "'''\n",
    "하이퍼파라미터 값의 영향 시각화\n",
    " 훈련 알고리즘에는 훈련 과정을 시작하기 전에 선택해야만 하는 하이퍼파라미터가 있습니다.\n",
    " 일부 하이퍼파라미터 값을 변경할 때 모델의 성능 변화는 검증 곡선을 그려서 확인합니다.\n",
    " 예) 랜덤 포레스트 분류기의 하이퍼파라미터는 앙상블을 할 트리의 개수입니다.\n",
    "'''\n",
    "#실습 : 트리 개수가 증가할 때 랜덤 포레스트 분류기의 훈련 세트 정확도와 교차검증 정확도의 변화를 시각화\n",
    "import matplotlib.pyplot as plt\n",
    "import numpy as np\n",
    "from sklearn.datasets import load_digits\n",
    "from sklearn.ensemble import RandomForestClassifier\n",
    "from sklearn.model_selection import validation_curve\n",
    "\n",
    "digits = load_digits() # 데이터 로드\n",
    "features, target = digits.data, digits.target # 특성 행렬과 타깃 벡터\n",
    "param_range = np.arange(1, 250, 2) # 파라미터 값의 범위\n",
    "\n",
    "# 파라미터 값의 범위를 사용하여 훈련 세트와 테스트 세트의 정확도를 계산합니다.\n",
    "train_scores, test_scores = validation_curve( RandomForestClassifier(), # 분류기\n",
    "                                              features, # 특성 행렬\n",
    "                                              target, # 타깃 벡터\n",
    "                                              param_name=\"n_estimators\", # 조사할 하이퍼파라미터\n",
    "                                              param_range=param_range, # 하이퍼파라미터 값의 범위\n",
    "                                              cv=3, # 폴드 수\n",
    "                                              scoring=\"accuracy\", # 성능 지표\n",
    "                                              n_jobs=-1) # 모든 코어 사용 \n",
    "                                             \n",
    "train_mean = np.mean(train_scores, axis=1) # 훈련 세트 점수의 평균과 표준 편차를 계산\n",
    "train_std = np.std(train_scores, axis=1)\n",
    "test_mean = np.mean(test_scores, axis=1) # 테스트 세트 점수의 평균과 표준 편차를 계산\n",
    "test_std = np.std(test_scores, axis=1)\n",
    "                                             \n",
    "# 훈련 세트와 테스트 세트의 평균 정확도 점수를 그래프로 그립니다.\n",
    "plt.plot(param_range, train_mean, label=\"Training score\", color=\"black\")\n",
    "plt.plot(param_range, test_mean, label=\"Cross-validation score\", color=\"dimgrey\")\n",
    "\n",
    "# 훈련 세트와 테스트 세트의 정확도에 대한 표준 편차를 그래프로 그립니다.\n",
    "plt.fill_between(param_range, train_mean - train_std, train_mean + train_std, color=\"gray\")\n",
    "plt.fill_between(param_range, test_mean - test_std, test_mean + test_std, color=\"gainsboro\")\n",
    "plt.title(\"Validation Curve With Random Forest\")\n",
    "plt.xlabel(\"Number Of Trees\")\n",
    "plt.ylabel(\"Accuracy Score\")\n",
    "plt.tight_layout()\n",
    "plt.legend(loc=\"best\")\n",
    "plt.show()\n",
    "\n",
    "'''\n",
    " 사이킷런에서 validation_curve 함수로 검증 곡선을 계산할 수 있습니다.\n",
    " param_name 매개변수는 하이퍼파라미터의 이름을 지정합니다.\n",
    " param_range 매개변수는 하이퍼파라미터의 범위를 지정합니다.\n",
    " scoring 매개변수는 모델을 평가하는데 사용할 지표입니다\n",
    "'''"
   ]
  },
  {
   "cell_type": "code",
   "execution_count": null,
   "metadata": {},
   "outputs": [],
   "source": []
  }
 ],
 "metadata": {
  "kernelspec": {
   "display_name": "[CPU_ENV]",
   "language": "python",
   "name": "cpu_env"
  },
  "language_info": {
   "codemirror_mode": {
    "name": "ipython",
    "version": 3
   },
   "file_extension": ".py",
   "mimetype": "text/x-python",
   "name": "python",
   "nbconvert_exporter": "python",
   "pygments_lexer": "ipython3",
   "version": "3.6.9"
  }
 },
 "nbformat": 4,
 "nbformat_minor": 2
}
