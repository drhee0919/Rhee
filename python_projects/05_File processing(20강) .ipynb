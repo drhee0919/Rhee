{
 "cells": [
  {
   "cell_type": "code",
   "execution_count": 9,
   "metadata": {},
   "outputs": [
    {
     "name": "stdout",
     "output_type": "stream",
     "text": [
      "홍길동,18,7,19\n",
      "최길동,58,70,15\n",
      "아이유,92,94,99\n",
      "김연아,17,20,22\n",
      "이선희,76,25,14\n",
      "강감찬,90,19,71\n",
      "신사임당,31,23,16"
     ]
    }
   ],
   "source": [
    "## 1. python의 기본 파일처리 \n",
    "## 먼저 file handlie을 획득해야 한다. (일단은 파일을 오픈해야 한다.)\n",
    "## 용도는 '읽기용도'와 '쓰기용도'가 있다.\n",
    "## 필요한 파일을 python_DA 폴더에 옮겨놓고 호출한다\n",
    "file1 = open(\"student_score.txt\",\"r\")  #읽기용도로 부른다고 선언\n",
    "file2 = open(\"backup.txt\",\"w\") #쓰기용도로 부른다고 선언 \n",
    "\n",
    "## student_score 파일에서 한줄씩 읽어와서 output console에 출력하고 해당내용을 backup file에 저장 \n",
    "## →파일의 내용을 다 읽을때 까지 반복(데이터가 몇줄인지 모르니 while 문 사용)\n",
    "## 더 읽을 내용이 없을때까지 읽고(while True) 탈출해라(break)\n",
    "#while True:\n",
    "#    line = file1.readline()\n",
    "#    print(line)\n",
    "#    if not line: #라인이 빈 문자열이라면 {} == False\n",
    "#        break;   #if는 참을 조건으로 거므로 역이용 \n",
    "        \n",
    "## 정상적으로 실행된다면 한줄식 떠 있는 것을 확인 가능 \n",
    "## 눈에 보이지 않는 개행문자가 있기때문(\\n)\n",
    "##홍길동,18,7,19(\\n)\n",
    "##최길동,58,70,15(\\n)\n",
    "##아이유,92,94,99(\\n)    이런식으로 \n",
    "##python의 print는 기본적으로 출력시 한 줄 띄워줌, 결국 한줄띄기의 중복(두줄띄게됨) \n",
    "## 두줄띄기 실으면 출력간 end설정 \n",
    "while True:\n",
    "    line = file1.readline()\n",
    "    print(line, end=\"\")     \n",
    "    if not line: \n",
    "        break;\n",
    "    file2.write(line) #Python_DA폴더에 내용이 빈 backup.txt 확인. 파일처리가 안끝나면 저장안됨 \n",
    "    \n",
    "file1.close()\n",
    "file2.close() #파일처리의 기본, 오픈했으면 클로즈를 잡아주기(모든 리소스는 사용하면 끝내야함)\n",
    "\n",
    "\n"
   ]
  },
  {
   "cell_type": "code",
   "execution_count": 11,
   "metadata": {
    "scrolled": true
   },
   "outputs": [
    {
     "name": "stdout",
     "output_type": "stream",
     "text": [
      "[['아이유', '92', '94', '99\\n', 71.25, '1등'], ['강감찬', '90', '19', '71\\n', 45.0, '2등'], ['최길동', '58', '70', '15\\n', 35.75, '3등'], ['이선희', '76', '25', '14\\n', 28.75, '4등'], ['신사임당', '31', '23', '16', 17.5, '5등'], ['김연아', '17', '20', '22\\n', 14.75, '6등'], ['홍길동', '18', '7', '19\\n', 11.0, '7등']]\n"
     ]
    }
   ],
   "source": [
    "###############################(연습문제 이어서)###\n",
    "\n",
    "### 문제 8.\n",
    "##\n",
    "## student_score.txt의 내용을 읽어서 학생 성적에 대한 전체 평균을 구하고 성적순으로 출력하세요! \n",
    "## 출력형식 : 이름, 성적평균, 등수 \n",
    "           \n",
    "data = open('student_score.txt', 'r')\n",
    "\n",
    "contents=[]\n",
    "\n",
    "while True:\n",
    "    line = data.readline()\n",
    "    line_to_data = line.split(\",\")\n",
    "    if not line : \n",
    "        break;\n",
    "    contents.append(line_to_data)\n",
    "\n",
    "gradeList=[]\n",
    "for i in range(len(contents)):\n",
    "    total = 0 \n",
    "    for j in range(len(contents[i])-1,0,-1): #리스트 contents의 맨뒤에서부터 역순으로 맨앞까지 \n",
    "        total = total + int(contents[i][j])\n",
    "    avg = total / len(contents[i])\n",
    "    \n",
    "    contents[i].append(avg)\n",
    "    gradeList.append(avg)\n",
    "contents.sort(key = lambda element : element[4], reverse =True)\n",
    "\n",
    "for i in range (len(contents)):\n",
    "    contents[i].append(str(i+1) + \"등\")\n",
    "print(contents)\n",
    "    "
   ]
  },
  {
   "cell_type": "code",
   "execution_count": null,
   "metadata": {},
   "outputs": [],
   "source": [
    "## dict화 하여 풀어보기 \n",
    "\n",
    "d = {}\n",
    "with open(\"student_score.txt\") as f:\n",
    "    for line in f:\n",
    "        (key,val,val1,val2) = line.split(\",\")\n",
    "        d[key] = val,val2,val3 \n",
    "print(d)\n",
    "    "
   ]
  },
  {
   "cell_type": "code",
   "execution_count": 1,
   "metadata": {},
   "outputs": [],
   "source": [
    "### §특별예제§\n",
    "### R_Lecture 11강 때 사용했던 mpg데이터를 활용하여 동일한 예제를 풀어보자\n",
    "\n",
    "# R에서 추출한 mpg파일 \n",
    "\n",
    "mpg = open('mpg.txt', 'r')\n",
    "\n",
    "contexts=[]\n",
    "\n",
    "while True:\n",
    "    line = mpg.readline()\n",
    "    line_to_data = line.split(\",\")\n",
    "    if not line : \n",
    "        break;\n",
    "    contexts.append(line_to_data)\n",
    "\n",
    "##ex1/ mpg에서 2008년도에 생산된 차량이 몇개 있는지 추출\n",
    "\n",
    "##ex2/ 모든 차량에 대해 평균 도시연비보다 도시연비가 높은 차량의 model명을 출력하세요 \n",
    "\n",
    "##ex3/ 고속도로 연비가 상위 75% 이상인 차량을 제조 하는 제조사는 몇개인지 추출하세요 \n",
    "\n",
    "##ex4/ 오토 차량 중 배기량이 2500cc이상인 차량의 수는 몇개인가?  hint : 문자열 처리 선수 필요 \n",
    " \n",
    "##ex5/ 상기ex2에 대해서 모델명을 오름차순으로 정렬하세요  \n",
    "\n",
    "##ex6/ 도시연비와 고속도로 연비를 합쳐서 평균 연비 column 작성 \n",
    "# mutate 함수 미사용(base기능으로만)\n",
    "\n",
    "##ex7/ model명이 a4이고 배기량이 2000c 이상인 차들에 대해 평균 연비를 계산하시오(전체 평균 연비 계산). \n",
    "\n",
    "##ex8/ 제조사별 그룹을 지어 평균 연비 나타내기 \n",
    "\n",
    "#########이하 추가 연습문제############################\n",
    "#Q1. displ(배기량)이 4 이하인 자동차와 5 이상인 자동차 중 어떤 자동차의 hwy(고속도로 연비)가 평균적으로 더 높은지 확인하세요.\n",
    "#Q2. 자동차 제조 회사에 따라 도시 연비가 다른지 알아보려고 한다. \"audi\"와 \"toyota\" 중 어느 manufacturer(제조회사)의 cty(도시 연비)가 평균적으로 더 높은지 확인하세요.\n",
    "#Q3. \"chevrolet\", \"ford\", \"honda\" 자동차의 고속도로 연비 평균을 알아보려고 한다. 이 회사들의 데이터를 추출한 후 hwy(고속도로 연비) 전체 평균을 구하세요.\n",
    "#Q4. \"audi\"에서 생산한 자동차 중에 어떤 자동차 모델의 hwy(고속도로 연비)가 높은지 알아보려고 한다. \"audi\"에서 생산한 자동차 중 hwy가 1~5위에 해당하는 자동차의 데이터를 출력하세요.\n",
    "#Q5. mpg 데이터는 연비를 나타내는 변수가 2개입니다. 두 변수를 각각 활용하는 대신 하나의 통합 연비 변수를 만들어 사용하려 합니다. 평균 연비 변수는 두 연비(고속도로와 도시)의 평균을 이용합니다. 회사별로 \"suv\" 자동차의 평균 연비를 구한후 내림차순으로 정렬한 후 1~5위까지 데이터를 출력하세요.\n",
    "#Q6. mpg 데이터의 class는 \"suv\", \"compact\" 등 자동차의 특징에 따라 일곱 종류로 분류한 변수입니다. 어떤 차종의 도시 연비가 높은지 비교하려 합니다. class별 cty 평균을 구하고 cty 평균이 높은 순으로 정렬해 출력하세요.\n",
    "#Q7. 어떤 회사 자동차의 hwy(고속도로 연비)가 가장 높은지 알아보려 합니다. hwy(고속도로 연비) 평균이 가장 높은 회사 세 곳을 출력하세요.\n",
    "#Q8. 어떤 회사에서 \"compact\" 차종을 가장 많이 생산하는지 알아보려고 합니다. 각 회사별 \"compact\" 차종 수를 내림차순으로 정렬해 출력하세요\n"
   ]
  }
 ],
 "metadata": {
  "kernelspec": {
   "display_name": "[CPU_ENV]",
   "language": "python",
   "name": "cpu_env"
  },
  "language_info": {
   "codemirror_mode": {
    "name": "ipython",
    "version": 3
   },
   "file_extension": ".py",
   "mimetype": "text/x-python",
   "name": "python",
   "nbconvert_exporter": "python",
   "pygments_lexer": "ipython3",
   "version": "3.6.9"
  }
 },
 "nbformat": 4,
 "nbformat_minor": 2
}
