{
 "cells": [
  {
   "cell_type": "code",
   "execution_count": null,
   "metadata": {},
   "outputs": [],
   "source": [
    "## CNN(Convolution Neural Network) 이란? : 합성곱 신경망 \n",
    "## FC Layer(Fully Connected Layer) : \n",
    "## 이전 layer의 모든 node가 다음 layer의 모든 perceptron 과 실제로 연결되어서 \n",
    "## 학습되는 구조 -> 지금까지(사실 37강때 처음으로) 해왔던 신경망들이 해당\n",
    "## FC Layer를 다른말로 Dense Layer라고도 한다. \n",
    "\n",
    "## FC Layer의 특징은 MNIST의 예제처럼 입력데이터가 1차원으로 한정된다. \n",
    "## 즉, 각각의 이미지가 1차원으로 표현이 되어야 한다. \n",
    "## 그래서 2차원 이미지를 우리가 1차원으로 변환시켜서 사용했던 것\n",
    "## 우리가 사용한 MNIST예제는 상당히 간단한 이미지 학습(grey형태의 채도 일변도, 예측예제)\n",
    "\n",
    "## 이미지 학습의 가장 큰 문제는 \n",
    "## 이미지가 살짝 휘어있거나, 크기가 제각각이거나, 변형이 조금만 되어도 \n",
    "## 학습이 힘들어진다. \n",
    "## 이런 경우에는 training data가 굉장히 많이 필요하고 \n",
    "## 추가적으로 학습할 때 많은 시간을 요구함 "
   ]
  },
  {
   "cell_type": "code",
   "execution_count": null,
   "metadata": {},
   "outputs": [],
   "source": [
    "## 고민하면서 방법을 연구하기 시작함 -> Canada의 Supervision이란 팀이 실마리를 제공함 \n",
    "## CNN을 최초 제시하면서 오차율을 큰 폭으로 줄임 -> 지금은 사람보다 정확한 경지 \n",
    "## CNN은 사람이 학습하는 방식을 모델링 \n",
    "## 사람은 대상이 변형이 있어도 사진을 보고 누군가의 사진임을 알 수 있다.(특징을 인지)\n",
    "## (물론 너무 속이면 못알아볼 수 도 있다.-> 마찬가지로 왜곡되지 않는 특징 추출)\n",
    "\n",
    "## mnist가 특정 사진을 픽셀단위로 핀다음 한번만 학습했다면, \n",
    "## CNN은 여러가지 필터를 적용해서 사진을 다른 형태로 변형한 후 \n",
    "## 도드라진 특징을 가지고 한 이미지를 여러번 학습(Photoshop 의 shapen) \n",
    "## → 이미지를 대표하는 특징을 도출해서 신경망에 여러개 넣어서 학습하는 방식(convolution)\n",
    "\n",
    "## 1장의 컬러사진은 width, length, color(depth) 3차원으로 표현 \n",
    "## 여기서 여러장의 사진이 사용되기 때문에 입력데이터를 총 '4차원' 으로 표현 \n",
    "\n",
    "## 실제 이미지 1장은 3차원이고 이놈을 flatten 시켜서 1차원으로 표현해야 한다. \n",
    "## 크기를 조절해야 하기 때문에 공간에 대한 데이터를 유실할 우려가 있음 \n",
    "## 이런 데이터 유실 때문에 학습과 예측에 문제가 발생하게된다.\n",
    "\n",
    "## '공간데이터의 유실을 없애고 이미지의 특성을 추출해서 학습이 용이하게 만드는 방식'\n",
    "## => CNN\n",
    "\n",
    "## 랜덤크기의 필터(kernel)를 하나 만들고 3차원 이미지 데이터에 적용 -> 당연히 필터도 3차원 \n",
    "## mnist의 depth는 원본의 depth 와 똑같아야 했던 것처럼. (grey 1개)\n",
    "## 이 필터 표현 방식을 channel 이라고 지칭(일반적으로 3 channel, 흑백사진은 1 channel)\n",
    "## 행렬곱을 통해서 결과를 도출 (convolution map)\n",
    "## 원본데이터의 사이즈는줄더라도 작은 이미지의 많은 수로 형성되게 됨 \n",
    "## 여러가지 feature map이 모이면 activation map 이라고 함. \n",
    "## kernal, channel, feature map,activation map, strider"
   ]
  },
  {
   "cell_type": "code",
   "execution_count": null,
   "metadata": {},
   "outputs": [],
   "source": [
    "## Code로 알아봅시당 \n",
    "## 사용되어 지는 함수부터 알아보자\n",
    "## Sample CNN\n",
    "\n",
    "import tensorflow as tf \n",
    "import numpy as np \n",
    "\n",
    "#입력데이터의 형식 : 3*3*1 (width * height * color(색이 1이면 gray scale))\n",
    "#입력 데이터 => (이미지개수,width,height,color) = (1,3,3,1) #총 4차원 \n",
    "# 총 9개의 데이터가 사용(1~9)\n",
    "\n",
    "image = np.array([[[[1],[2],[3]],\n",
    "                   [[4],[5],[6]],\n",
    "                   [[7],[8],[9]]]], dtype=np.float32)\n",
    "\n",
    "print(\"image의 shape : {}\".format(image.shape)) #(1,3,3,1)\n",
    "\n",
    "# Activation map을 위한 filter를 정의(width.height.color.filter개수)\n",
    "# filter(2,2,1,3) : 2행 2열 1컬러 3개\n",
    "weight = np.array([[[[1,10,-1]],[[1,10,-1]]],[[[1,10,-1]],[[1,10,-1]]]])\n",
    "print(\"weight의 shape : {}\".format(weight.shape)) #(2, 2, 1, 3)\n",
    "\n",
    "## convolution latyer\n",
    "# stride = 1 :가로, 세로를 1씩 움직인다 \n",
    "conv2d = tf.nn.conv2d(image,weight,strides=[1,1,1,1], padding = \"VALID\" ) \n",
    "#4차원이므로 stride 형태를 맞추어주어야 한다.\n",
    "#처음과 맨끝은 더미(형태 맞춰주기 위한 쩌리), 핵심은 가운데 2개 \n",
    "# 패딩 설정도 가능하다 (여기선 처리 안하고 알아서 줄일거)\n",
    "print(\"conv2d의 shape : {}\".format(conv2d.shape)) #(1, 2, 2, 3) 맨앞은 이미지 1장 \n",
    "sess = tf.Session()\n",
    "conv2d = sess.run(conv2d) #실행결과 numpy array로 \n",
    "\n",
    "## pooling layer\n",
    "pool = tf.nn.max_pool(conv2d, ksize = [1,2,2,1], \n",
    "                      strides = [1,1,1,1], \n",
    "                      padding = \"SAME\")\n",
    "#kernel사이즈 결정 (2x2),나머지 더미\n",
    "#stride는 한칸씩 \n",
    "#원본크기와 padding size 동일하게 \n",
    "print(\"pool의 shape : {}\".format(pool.shape)) #(1,2,2,3), conv2d와 동일 \n"
   ]
  },
  {
   "cell_type": "code",
   "execution_count": null,
   "metadata": {},
   "outputs": [],
   "source": [
    "## tf 내장 MNIST 사용\n",
    "## Convolution 결과 이미지가 원본이미지에 비해 어떻게 다른지 눈으로 확인해보자 \n",
    "import tensorflow as tf \n",
    "from tensorflow.examples.tutorials.mnist import input_data\n",
    "import matplotlib.pyplot as plt \n",
    "\n",
    "#Data Loading \n",
    "mnist = input_data.read_data_sets(\"./data/mnist\", one_hot=True)\n",
    "img = mnist.train.images[0].reshape(28,28)\n",
    "plt.imshow(img, cmap=\"Greys\")\n",
    "\n",
    "# 해당 이미지를 Convolution 처리를 해 보아요 \n",
    "# 입력데이터 -> (이미지개수, width, height, color) -> (1,3,3,1)\n",
    "img = img.reshape(-1,28,28,1)\n",
    "print(img.shape) #(1, 28, 28, 1)\n",
    "W = tf.Variable(tf.random_normal([3,3,1,5]),\n",
    "                                 name = \"filter1\") #너비, 높이, 컬러 depth, 개수\n",
    "conv2d = tf.nn.conv2d(img,W,strides=[1,2,2,1],\n",
    "                      padding = \"SAME\") #stride 2칸씩 뒴\n",
    "print(\"conv2d의 shape : {}\".format(conv2d.shape)) #(1,14,14,5)\n",
    "\n",
    "# 세션 초기화 \n",
    "sess = tf.Session()\n",
    "sess.run(tf.global_variables_initializer())\n",
    "conv2d = sess.run(conv2d)\n",
    "\n",
    "# 이미지를 표현하기 위해서 축을 전환 \n",
    "# numpy 자체 기능 활용\n",
    "# (1, 14, 14, 5) => (5, 14, 14, 1)\n",
    "conv2d_img = np.swapaxes(conv2d,0,3) #첫번째랑 네번째 거 바꿈\n",
    "print(\"conv2d의 shape : {}\".format(conv2d_img.shape)) #(5,14,14,1)\n",
    "plt.imshow(conv2d_img[0].reshape(14,14), cmap=\"Greys\")"
   ]
  },
  {
   "cell_type": "markdown",
   "metadata": {},
   "source": [
    "#################################################################################"
   ]
  },
  {
   "cell_type": "code",
   "execution_count": null,
   "metadata": {},
   "outputs": [],
   "source": [
    "## 내장 MNIST 데이터에 CNN 학습을 적용해보자! \n",
    "## tensorflow-MNIST with CNN\n",
    "\n",
    "# module loading\n",
    "import tensorflow as tf \n",
    "import pandas as pd \n",
    "import numpy as np \n",
    "from tensorflow.examples.tutorials.mnist import input_data\n",
    "\n",
    "# Data Loading\n",
    "mnist = input_data.read_data_sets(\"./data/mnist\", one_hot=True)\n",
    "\n",
    "#Graph 초기화 \n",
    "tf.reset_default_graph()\n",
    "\n",
    "#Placeholder \n",
    "X = tf.placeholder(shape=[None,784], dtype=tf.float32)\n",
    "Y = tf.placeholder(shape=[None,10], dtype=tf.float32)\n",
    "# drop_rate = tf.placeholder(dtype = tf.float32)\n",
    "\n",
    "# Convolution Layer \n",
    "x_img = tf.reshape(X,[-1,28,28,1])\n",
    "W1 = tf.Variable(tf.random_normal([3,3,1,32]))\n",
    "L1 = tf.nn.conv2d(x_img,W1,strides=[1,1,1,1],padding=\"SAME\")\n",
    "L1 = tf.nn.relu(L1)\n",
    "L1 = tf.nn.max_pool(L1,ksize=[1,2,2,1], \n",
    "                    strides=[1,2,2,1],\n",
    "                    padding = \"SAME\") #maxpooling을 통한 사이즈 반토막 (14*14)\n",
    "\n",
    "# 두번째 C.layer부턴 확 늘려보자 \n",
    "W2 = tf.Variable(tf.random_normal([3,3,32,64]))\n",
    "L2 = tf.nn.conv2d(L1,W2,strides=[1,1,1,1],padding=\"SAME\")\n",
    "L2 = tf.nn.relu(L2)\n",
    "L2 = tf.nn.max_pool(L2,ksize=[1,2,2,1], \n",
    "                    strides=[1,2,2,1],\n",
    "                    padding = \"SAME\") \n",
    "\n",
    "################################\n",
    "\n",
    "## FC Layer\n",
    "# 만든 데이터를 FC Layer에 넣어서 학습하자(이전에 했던 학습 형태 -> L2가 2차원)\n",
    "L2 = tf.reshape(L2,[-1,7*7*64])\n",
    "\n",
    "W3 = tf.get_variable(\"weight3\",shape=[7*7*64, 256],\n",
    "                     initializer = tf.contrib.layers.xavier_initializer())\n",
    "\n",
    "#~~\n",
    "b3 = tf.Variable(tf.random_normal([256]), name = \"bias3\")      \n",
    "L3 = tf.sigmoid(tf.matmul(L2,W3) + b3)\n",
    "\n",
    "W4 = tf.Variable(tf.random_normal([256,10]), name = \"weight4\") \n",
    "b4 = tf.Variable(tf.random_normal([10]), name = \"bias4\")      \n",
    "\n",
    "# Hypothesis \n",
    "logit = tf.matmul(L3,W4) + b4 \n",
    "H = tf.nn.softmax(logit) #or tf.sigmoid()\n",
    "\n",
    "# cost\n",
    "cost = tf.reduce_mean(tf.nn.softmax_cross_entropy_with_logits_v2(logits = logit,\n",
    "                                                                 labels = Y))\n",
    "\n",
    "# train(Adam으로)\n",
    "train = tf.train.AdamOptimizer(learning_rate = 0.01).minimize(cost)\n",
    "#train = tf.train.GradientDescentOptimizer(learning_rate = 0.01).minimize(cost)\n",
    "\n",
    "# session, 초기화 \n",
    "sess = tf.Session()\n",
    "sess.run(tf.global_variables_initializer())\n",
    "\n",
    "# 학습 \n",
    "num_of_epoch = 30 \n",
    "batch_size = 100 \n",
    "\n",
    "for step in range(num_of_epoch):\n",
    "    num_of_iter = int(mnist.train.num_examples / batch_size)\n",
    "    cost_val = 0 # 코스트 초기화(국룰)\n",
    "    \n",
    "    for i in range(num_of_iter):\n",
    "        batch_x,batch_y = mnist.train.next_batch(batch_size)\n",
    "        _, cost_val = sess.run([train,cost], feed_dict={X:batch_x, \n",
    "                                                        Y:batch_y})\n",
    "    if step % 3 == 0 :\n",
    "        print(\"Cost는 : {}\".format(cost_val))"
   ]
  },
  {
   "cell_type": "code",
   "execution_count": null,
   "metadata": {},
   "outputs": [],
   "source": [
    "predict = tf.argmax(H,1)\n",
    "correct = tf.equal(predict, tf.argmax(Y,1))\n",
    "accuracy = tf.reduce_mean(tf.cast(correct, dtype=tf.float32))\n",
    "\n",
    "print(\"정확도는 : {}\".format(sess.run(accuracy, \n",
    "                                   feed_dict={X:mnist.test.images, \n",
    "                                              Y:mnist.test.labels})))"
   ]
  },
  {
   "cell_type": "markdown",
   "metadata": {},
   "source": [
    "#################################################################################"
   ]
  },
  {
   "cell_type": "code",
   "execution_count": 2,
   "metadata": {},
   "outputs": [
    {
     "data": {
      "text/plain": [
       "(33600, 784)"
      ]
     },
     "metadata": {},
     "output_type": "display_data"
    },
    {
     "data": {
      "text/plain": [
       "(33600, 10)"
      ]
     },
     "metadata": {},
     "output_type": "display_data"
    },
    {
     "data": {
      "text/plain": [
       "(8400, 784)"
      ]
     },
     "metadata": {},
     "output_type": "display_data"
    },
    {
     "data": {
      "text/plain": [
       "(8400, 10)"
      ]
     },
     "metadata": {},
     "output_type": "display_data"
    }
   ],
   "source": [
    "## 실제 Kaggle 데이터에 CNN 학습을 적용해보자!\n",
    "# 필요한 module import\n",
    "import tensorflow as tf\n",
    "import pandas as pd\n",
    "import numpy as np\n",
    "import warnings \n",
    "import matplotlib.pyplot as plt\n",
    "from tensorflow.examples.tutorials.mnist import input_data\n",
    "from sklearn.preprocessing import MinMaxScaler\n",
    "\n",
    "warnings.filterwarnings(action = \"ignore\") # warning 출력 방지 \n",
    "\n",
    "# Data Loading\n",
    "mnist = pd.read_csv(\"./data/digit-recognizer/train.csv\")\n",
    "\n",
    "\n",
    "train_num = int(mnist.shape[0] * 0.8)   \n",
    "test_num = mnist.shape[0] - train_num\n",
    "\n",
    "train_data=mnist[:train_num]\n",
    "test_data=mnist[train_num:]\n",
    "\n",
    "# train, test data set\n",
    "train_x_data = mnist.drop(\"label\",axis=1, inplace=False)[:train_num].values\n",
    "test_x_data = mnist.drop(\"label\",axis=1, inplace=False)[train_num:].values\n",
    "\n",
    "train_y_data = mnist['label'][:train_num].values\n",
    "test_y_data = mnist['label'][train_num:].values\n",
    "\n",
    "# 값이 너무 크니 minmax scale \n",
    "scaler= MinMaxScaler()\n",
    "train_x_data = scaler.fit_transform(train_x_data)\n",
    "test_x_data = scaler.fit_transform(test_x_data)\n",
    "\n",
    "# 더미변수로 바꿔주기\n",
    "train_y_data = pd.get_dummies(train_y_data) \n",
    "test_y_data = pd.get_dummies(test_y_data) \n",
    "\n",
    "display(train_x_data.shape, train_y_data.shape, \n",
    "        test_x_data.shape, test_y_data.shape)"
   ]
  },
  {
   "cell_type": "code",
   "execution_count": 8,
   "metadata": {},
   "outputs": [
    {
     "data": {
      "text/plain": [
       "'\\n# 3rd Convolution Layer \\nc_W3 = tf.Variable(tf.random_normal([3,3,64,64]))\\nc_L3 = tf.nn.conv2d(c_L2,c_W3,strides=[1,1,1,1],padding=\"SAME\")\\nc_L3 = tf.nn.relu(c_L2)\\nc_L3 = tf.nn.max_pool(c_L3,ksize=[1,2,2,1], \\n                      strides=[1,2,2,1],\\n                      padding = \"SAME\") \\n################################\\n'"
      ]
     },
     "execution_count": 8,
     "metadata": {},
     "output_type": "execute_result"
    }
   ],
   "source": [
    "#Graph 초기화 \n",
    "tf.reset_default_graph()\n",
    "\n",
    "#Placeholder \n",
    "X = tf.placeholder(shape=[None,784], dtype=tf.float32)\n",
    "Y = tf.placeholder(shape=[None,10], dtype=tf.float32)\n",
    "# drop_rate = tf.placeholder(dtype = tf.float32)\n",
    "\n",
    "## Convolution Layer\n",
    "# 1st Convolution Layer \n",
    "x_img = tf.reshape(X,[-1,28,28,1])\n",
    "c_W1 = tf.Variable(tf.random_normal([3,3,1,32]))\n",
    "c_L1 = tf.nn.conv2d(x_img,c_W1,strides=[1,1,1,1],padding=\"SAME\")\n",
    "c_L1 = tf.nn.relu(c_L1)\n",
    "c_L1 = tf.nn.max_pool(c_L1,ksize=[1,2,2,1], \n",
    "                    strides=[1,2,2,1],\n",
    "                    padding = \"SAME\") #maxpooling을 통한 사이즈 반토막 (14*14)\n",
    "\n",
    "# 2nd Convolution Layer \n",
    "c_W2 = tf.Variable(tf.random_normal([3,3,32,64]))\n",
    "c_L2 = tf.nn.conv2d(c_L1,c_W2,strides=[1,1,1,1],padding=\"SAME\")\n",
    "c_L2 = tf.nn.relu(c_L2)\n",
    "c_L2 = tf.nn.max_pool(c_L2,ksize=[1,2,2,1], \n",
    "                      strides=[1,2,2,1], \n",
    "                      padding = \"SAME\") \n",
    "'''\n",
    "# 3rd Convolution Layer \n",
    "c_W3 = tf.Variable(tf.random_normal([3,3,64,64]))\n",
    "c_L3 = tf.nn.conv2d(c_L2,c_W3,strides=[1,1,1,1],padding=\"SAME\")\n",
    "c_L3 = tf.nn.relu(c_L2)\n",
    "c_L3 = tf.nn.max_pool(c_L3,ksize=[1,2,2,1], \n",
    "                      strides=[1,2,2,1],\n",
    "                      padding = \"SAME\") \n",
    "################################\n",
    "'''"
   ]
  },
  {
   "cell_type": "code",
   "execution_count": 9,
   "metadata": {},
   "outputs": [
    {
     "name": "stdout",
     "output_type": "stream",
     "text": [
      "Cost값은: 0.5784896612167358\n",
      "Cost값은: 0.0388200581073761\n",
      "Cost값은: 0.024859758093953133\n",
      "Cost값은: 0.014755375683307648\n",
      "Cost값은: 0.012241256423294544\n",
      "Cost값은: 0.004170374479144812\n",
      "Cost값은: 0.007692200597375631\n",
      "Cost값은: 0.1492687463760376\n",
      "Cost값은: 0.0006811046041548252\n",
      "Cost값은: 0.028345884755253792\n"
     ]
    }
   ],
   "source": [
    "## FC Layer\n",
    "\n",
    "#Layer 형태 변화(4차원 -> 2차원)\n",
    "reshaped_Layer = tf.reshape(c_L2,[-1,7*7*64])\n",
    "\n",
    "#1st Layer(relu사용)\n",
    "fc_W1 = tf.get_variable(\"Fully_Connected_Weight1\",shape=[7*7*64, 256],\n",
    "                       initializer = tf.contrib.layers.xavier_initializer())\n",
    "b1 = tf.Variable(tf.random_normal([256]), name = \"bias1\")\n",
    "fc_L1 = tf.nn.relu(tf.matmul(reshaped_Layer,fc_W1) + b1)\n",
    "\n",
    "#2nd Layer\n",
    "fc_W2 = tf.get_variable(\"Fully_Connected_Weight2\", shape=[256, 256], \n",
    "                        initializer=tf.contrib.layers.xavier_initializer())\n",
    "b2 = tf.Variable(tf.random_normal([256]), name = \"bias2\")      \n",
    "fc_L2 = tf.nn.relu(tf.matmul(fc_L1,fc_W2) + b2)\n",
    "\n",
    "#3rd Layer\n",
    "fc_W3 = tf.get_variable(\"Fully_Connected_Weight3\", shape=[256, 36], \n",
    "                        initializer=tf.contrib.layers.xavier_initializer())\n",
    "b3 = tf.Variable(tf.random_normal([36]), name = \"bias3\")      \n",
    "fc_L3 = tf.nn.relu(tf.matmul(fc_L2,fc_W3) + b3)\n",
    "\n",
    "#4th Layer\n",
    "fc_W4 = tf.get_variable(\"Fully_Connected_Weight4\", shape=[36,10],\n",
    "                        initializer=tf.contrib.layers.xavier_initializer())\n",
    "b4 = tf.Variable(tf.random_normal([10]), name = \"bias4\")\n",
    "\n",
    "# Hypothesis \n",
    "logit = tf.matmul(fc_L3,fc_W4) + b4 \n",
    "H = tf.nn.softmax(logit) #or tf.sigmoid()\n",
    "\n",
    "# cost\n",
    "cost = tf.reduce_mean(tf.nn.softmax_cross_entropy_with_logits_v2(logits = logit,\n",
    "                                                                 labels = Y))\n",
    "\n",
    "# train(Adam으로)\n",
    "train = tf.train.AdamOptimizer(learning_rate = 0.001).minimize(cost)\n",
    "#train = tf.train.GradientDescentOptimizer(learning_rate = 0.01).minimize(cost)\n",
    "\n",
    "# session, 초기화 \n",
    "sess = tf.Session()\n",
    "sess.run(tf.global_variables_initializer())\n",
    "\n",
    "# 학습\n",
    "train_epoch = 30\n",
    "batch_size = 100\n",
    "\n",
    "for step in range(train_epoch):\n",
    "    num_of_iter = int(train_num / batch_size)    \n",
    "    cost_val = 0\n",
    "    \n",
    "    for i in range(num_of_iter):\n",
    "        batch_x=train_x_data[i*batch_size:(i+1)*batch_size]\n",
    "        batch_y=train_y_data[i*batch_size:(i+1)*batch_size]\n",
    "        _,cost_val = sess.run([train,cost],\n",
    "                             feed_dict={X:batch_x,\n",
    "                                        Y:batch_y})\n",
    "    if step % 3 ==0:\n",
    "        print(\"Cost값은: {}\".format(cost_val))"
   ]
  },
  {
   "cell_type": "code",
   "execution_count": 11,
   "metadata": {},
   "outputs": [
    {
     "name": "stdout",
     "output_type": "stream",
     "text": [
      "정확도는 : 0.9873809814453125\n"
     ]
    }
   ],
   "source": [
    "#정확도 측정 \n",
    "\n",
    "predict = tf.argmax(H,1)\n",
    "correct = tf.equal(predict, tf.argmax(Y,1))\n",
    "accuracy = tf.reduce_mean(tf.cast(correct, dtype = tf.float32))\n",
    "print(\"정확도는 : {}\".format(sess.run(accuracy, \n",
    "                                  feed_dict={X:test_x_data,\n",
    "                                             Y:test_y_data})))\n",
    "# 얼마나 학습이 잘 되었는가\n"
   ]
  },
  {
   "cell_type": "code",
   "execution_count": 15,
   "metadata": {},
   "outputs": [
    {
     "name": "stdout",
     "output_type": "stream",
     "text": [
      "Label : [6]\n",
      "Predict :[6]\n"
     ]
    },
    {
     "data": {
      "text/plain": [
       "<matplotlib.image.AxesImage at 0x2229075d160>"
      ]
     },
     "execution_count": 15,
     "metadata": {},
     "output_type": "execute_result"
    },
    {
     "data": {
      "image/png": "[encoded data removed]",
      "text/plain": [
       "<Figure size 432x288 with 1 Axes>"
      ]
     },
     "metadata": {
      "needs_background": "light"
     },
     "output_type": "display_data"
    }
   ],
   "source": [
    "# 직접확인 \n",
    "r = np.random.randint(0,test_num) # mnist.test.num_examples = 10000\n",
    "print(\"Label : {}\".format(sess.run(tf.argmax(test_y_data[r:r+1], axis=1))))\n",
    "\n",
    "print(\"Predict :{}\".format(sess.run(tf.argmax(H,1), \n",
    "         feed_dict={X:test_x_data[r:r+1]})))    # 2차원\n",
    "\n",
    "plt.imshow(test_x_data[r:r+1].reshape(28,28), cmap=\"Greys\")"
   ]
  },
  {
   "cell_type": "code",
   "execution_count": 16,
   "metadata": {},
   "outputs": [
    {
     "data": {
      "text/plain": [
       "array([2, 0, 9, ..., 3, 9, 2], dtype=int64)"
      ]
     },
     "execution_count": 16,
     "metadata": {},
     "output_type": "execute_result"
    }
   ],
   "source": [
    "## 진짜 test 파일로 돌려보자\n",
    "test_data = pd.read_csv(\"./data/digit-recognizer/test.csv\")\n",
    "\n",
    "# MinMax scaler가 min, max값 가지고 있다.\n",
    "prediction_data = scaler.transform(test_data)\n",
    "\n",
    "#sess.run(H,feed_dict={X:prediction_data})\n",
    "result = sess.run(tf.argmax(H,1), feed_dict={X:prediction_data})\n",
    "result"
   ]
  },
  {
   "cell_type": "code",
   "execution_count": 17,
   "metadata": {},
   "outputs": [
    {
     "data": {
      "text/html": [
       "<div>\n",
       "<style scoped>\n",
       "    .dataframe tbody tr th:only-of-type {\n",
       "        vertical-align: middle;\n",
       "    }\n",
       "\n",
       "    .dataframe tbody tr th {\n",
       "        vertical-align: top;\n",
       "    }\n",
       "\n",
       "    .dataframe thead th {\n",
       "        text-align: right;\n",
       "    }\n",
       "</style>\n",
       "<table border=\"1\" class=\"dataframe\">\n",
       "  <thead>\n",
       "    <tr style=\"text-align: right;\">\n",
       "      <th></th>\n",
       "      <th>ImageId</th>\n",
       "      <th>Label</th>\n",
       "    </tr>\n",
       "  </thead>\n",
       "  <tbody>\n",
       "    <tr>\n",
       "      <th>0</th>\n",
       "      <td>1</td>\n",
       "      <td>2</td>\n",
       "    </tr>\n",
       "    <tr>\n",
       "      <th>1</th>\n",
       "      <td>2</td>\n",
       "      <td>0</td>\n",
       "    </tr>\n",
       "    <tr>\n",
       "      <th>2</th>\n",
       "      <td>3</td>\n",
       "      <td>9</td>\n",
       "    </tr>\n",
       "    <tr>\n",
       "      <th>3</th>\n",
       "      <td>4</td>\n",
       "      <td>0</td>\n",
       "    </tr>\n",
       "    <tr>\n",
       "      <th>4</th>\n",
       "      <td>5</td>\n",
       "      <td>3</td>\n",
       "    </tr>\n",
       "    <tr>\n",
       "      <th>...</th>\n",
       "      <td>...</td>\n",
       "      <td>...</td>\n",
       "    </tr>\n",
       "    <tr>\n",
       "      <th>27995</th>\n",
       "      <td>27996</td>\n",
       "      <td>9</td>\n",
       "    </tr>\n",
       "    <tr>\n",
       "      <th>27996</th>\n",
       "      <td>27997</td>\n",
       "      <td>7</td>\n",
       "    </tr>\n",
       "    <tr>\n",
       "      <th>27997</th>\n",
       "      <td>27998</td>\n",
       "      <td>3</td>\n",
       "    </tr>\n",
       "    <tr>\n",
       "      <th>27998</th>\n",
       "      <td>27999</td>\n",
       "      <td>9</td>\n",
       "    </tr>\n",
       "    <tr>\n",
       "      <th>27999</th>\n",
       "      <td>28000</td>\n",
       "      <td>2</td>\n",
       "    </tr>\n",
       "  </tbody>\n",
       "</table>\n",
       "<p>28000 rows × 2 columns</p>\n",
       "</div>"
      ],
      "text/plain": [
       "       ImageId  Label\n",
       "0            1      2\n",
       "1            2      0\n",
       "2            3      9\n",
       "3            4      0\n",
       "4            5      3\n",
       "...        ...    ...\n",
       "27995    27996      9\n",
       "27996    27997      7\n",
       "27997    27998      3\n",
       "27998    27999      9\n",
       "27999    28000      2\n",
       "\n",
       "[28000 rows x 2 columns]"
      ]
     },
     "execution_count": 17,
     "metadata": {},
     "output_type": "execute_result"
    }
   ],
   "source": [
    "#파일생성\n",
    "my_df = pd.DataFrame()\n",
    "my_df[\"ImageId\"] = range(1,test_data.shape[0]+1)\n",
    "my_df[\"Label\"] = result\n",
    "my_df"
   ]
  },
  {
   "cell_type": "code",
   "execution_count": 18,
   "metadata": {},
   "outputs": [],
   "source": [
    "my_df.to_csv(\"./data/digit-recognizer/mnist_submission.csv\",index=False)"
   ]
  }
 ],
 "metadata": {
  "kernelspec": {
   "display_name": "[CPU_ENV]",
   "language": "python",
   "name": "cpu_env"
  },
  "language_info": {
   "codemirror_mode": {
    "name": "ipython",
    "version": 3
   },
   "file_extension": ".py",
   "mimetype": "text/x-python",
   "name": "python",
   "nbconvert_exporter": "python",
   "pygments_lexer": "ipython3",
   "version": "3.6.9"
  }
 },
 "nbformat": 4,
 "nbformat_minor": 2
}
