{
 "cells": [
  {
   "cell_type": "code",
   "execution_count": 1,
   "metadata": {},
   "outputs": [],
   "source": [
    "## 1.module \n",
    "##Python은 module이란 걸 사용한다. \n",
    "##하나의 python 파일이라 할 수 있다. => 변수, 함수, class 에 관한 정리들이 모여있는 file \n",
    "##모든 python코드들은 모듈이 될 수 있다. 상기조건이 충족되고, 재사용의 목적이 있다면! \n",
    "##=> module은 다른 python 프로그램에서 불러와 사용할 수 있는 python file을 지칭 \n",
    "\n",
    "##우리가 생성한 모듈을 어디에다가 저장해야 할까? (어디에서 불러올까)\n",
    "import sys  #sys라는 모듈을 불러와서 사용할 거라는 뜻 \n",
    "sys.path.append(\"C:/python_Lib\") #list에 값을 할당할때 쓰는 append 즉, sys.path는 list \n",
    "\n",
    " ## 확장자 \".py\" 형태의 파일을 생성하고 불러온다. => module1.py라는 파일 작성 후 \n",
    " ## C드라이브 밑에 python_Lib라는 파일 생성 하고 거기에 넣어줌 \n",
    "    \n",
    "    \n",
    "##환경변수 PYTHONPATH 라는 걸 만들어서 여기에 module을 넣어놓으려면 프로그램 어디에서나 사용할 수 있다. \n",
    "## 내 컴퓨터-우클릭 - 시스템 설정 - 환경변수에 경로 추가 변수이름 : PYTHONPATH, 변수 값 : C:\\python_DA\\python_Lib"
   ]
  },
  {
   "cell_type": "code",
   "execution_count": 4,
   "metadata": {},
   "outputs": [
    {
     "name": "stdout",
     "output_type": "stream",
     "text": [
      "3.141592\n",
      "30\n"
     ]
    },
    {
     "ename": "ImportError",
     "evalue": "cannot import name 'modeul_PI'",
     "output_type": "error",
     "traceback": [
      "\u001b[1;31m---------------------------------------------------------------------------\u001b[0m",
      "\u001b[1;31mImportError\u001b[0m                               Traceback (most recent call last)",
      "\u001b[1;32m<ipython-input-4-e7e37e28c3fc>\u001b[0m in \u001b[0;36m<module>\u001b[1;34m\u001b[0m\n\u001b[0;32m      7\u001b[0m \u001b[1;31m##from 모듈이름 import 모듈함수(변수, 클래스)\u001b[0m\u001b[1;33m\u001b[0m\u001b[1;33m\u001b[0m\u001b[1;33m\u001b[0m\u001b[0m\n\u001b[0;32m      8\u001b[0m \u001b[1;31m## 특정 변수 및 클래스 호출시 이렇게도(주로)표현하다.\u001b[0m\u001b[1;33m\u001b[0m\u001b[1;33m\u001b[0m\u001b[1;33m\u001b[0m\u001b[0m\n\u001b[1;32m----> 9\u001b[1;33m \u001b[1;32mfrom\u001b[0m \u001b[0mmodule1\u001b[0m \u001b[1;32mimport\u001b[0m \u001b[0mmodeul_PI\u001b[0m\u001b[1;33m\u001b[0m\u001b[1;33m\u001b[0m\u001b[0m\n\u001b[0m",
      "\u001b[1;31mImportError\u001b[0m: cannot import name 'modeul_PI'"
     ]
    }
   ],
   "source": [
    "## - module 사용해보기 \n",
    "## module을 사용하는 형식은 import 모듈명 (확장자는 적지않음)\n",
    "import module1\n",
    "\n",
    "print(module1.module_PI) #생성한 module1의 변수사용(python_Lib에 저장된)\n",
    "print(module1.mySum(10,20)) #생성한 module1 의 함수 사용 \n",
    "\n",
    "##from 모듈이름 import 모듈함수(변수, 클래스) \n",
    "## 특정 변수 및 클래스 호출시 이렇게도(주로)\n",
    "from module1 import module_PI\n",
    "from module1 import *   #다 불러온다. \n",
    "\n",
    "\n",
    "\n",
    "## 2. Package \n",
    "## \".\" 기호를 이용해서 module을 계층적으로 관리\n",
    "## package는 물리적으로 표현할 경우 => 폴더로 표현 \n",
    "## A.B 라고 할때 A는 package, B는 module \n",
    "\n",
    "import myPackage.module1 #python_lib 폴더에 있는 mypackage 폴더 안에 있는 module1 \n",
    "print(myPackage.module1.module_PI) #경로를 다 써 주어야 한다. \n",
    "#또는 \n",
    "from myPackage import module1 #아까 모듈에서 함수 받아오듯이 패키지에서 모듈받아오는 것처럼 표현 \n",
    "print(module1.module_PI)   #경로상에 패키지를 쓸 필요가 없다. \n",
    "\n",
    "#응용하면 \n",
    "from myPackage.module1 import *\n",
    "print(module_PI)\n",
    "\n",
    "import myPackage.module1 import mySum\n",
    "print(mySum(10,20))\n"
   ]
  },
  {
   "cell_type": "code",
   "execution_count": 1,
   "metadata": {},
   "outputs": [
    {
     "name": "stdout",
     "output_type": "stream",
     "text": [
      "학생의 이름은 : 홍길동, 평균은 : 14.67\n",
      "학생의 이름은 : 최길동, 평균은 : 47.67\n",
      "학생의 이름은 : 아이유, 평균은 : 95.00\n",
      "학생의 이름은 : 김연아, 평균은 : 19.67\n",
      "학생의 이름은 : 이선희, 평균은 : 38.33\n",
      "학생의 이름은 : 강감찬, 평균은 : 60.00\n",
      "학생의 이름은 : 신사임당, 평균은 : 23.33\n"
     ]
    }
   ],
   "source": [
    "###############################(연습문제 이어서)###\n",
    "\n",
    "### 문제 8.(다시풀기 => 모듈화 이용)\n",
    "## student_score.txt의 내용을 읽어서 학생 성적에 대한 전체 평균을 구하고 성적순으로 출력하세요! \n",
    "## 출력형식 : 이름, 성적평균, 등수\n",
    "\n",
    "\n",
    "\n",
    "import sys\n",
    "sys.path.append(\"C:\\Python_DA\\python_Lib\")\n",
    "import student_score as ss\n",
    "\n",
    "result = list()  #학생객체들이 모여있는 리스트 \n",
    "studentFile = open(\"student_score.txt\",\"r\") \n",
    "\n",
    "\n",
    "while True:\n",
    "    stu = studentFile.readline()\n",
    "    if stu == \"\":\n",
    "        break;\n",
    "    stu_list = stu.split(\",\") # ,를 기준으로 분류하여 리스트로 리턴 \n",
    "                              # ['홍길동','18','7','19']\n",
    "\n",
    "    \n",
    "    result.append(ss.Student(stu_list[0],stu_list[1],stu_list[2],stu_list[3]))\n",
    "\n",
    "\n",
    "## 정상적으로 데이터가 생성되었는지 확인 \n",
    "for s in result: \n",
    "    s.print_student()\n"
   ]
  },
  {
   "cell_type": "code",
   "execution_count": 4,
   "metadata": {},
   "outputs": [
    {
     "name": "stdout",
     "output_type": "stream",
     "text": [
      "학생의 이름은 : 홍길동, 평균은 : 14.67\n",
      "학생의 이름은 : 최길동, 평균은 : 47.67\n",
      "학생의 이름은 : 아이유, 평균은 : 95.00\n",
      "학생의 이름은 : 김연아, 평균은 : 19.67\n",
      "학생의 이름은 : 이선희, 평균은 : 38.33\n",
      "학생의 이름은 : 강감찬, 평균은 : 60.00\n",
      "학생의 이름은 : 신사임당, 평균은 : 23.33\n",
      "학생의 이름은 : 홍길동, 평균은 : 14.67\n",
      "학생의 이름은 : 김연아, 평균은 : 19.67\n",
      "학생의 이름은 : 신사임당, 평균은 : 23.33\n",
      "학생의 이름은 : 이선희, 평균은 : 38.33\n",
      "학생의 이름은 : 최길동, 평균은 : 47.67\n",
      "학생의 이름은 : 강감찬, 평균은 : 60.00\n",
      "학생의 이름은 : 아이유, 평균은 : 95.00\n"
     ]
    }
   ],
   "source": [
    "##'문제8' 이어서\n",
    "#학생객체가 가지고 있는 sAvg를 이용해서 객체를 리스트안에서 정렬 \n",
    "#외부 module을 이용해서 객체를 리스트안에서 정렬 \n",
    "\n",
    "\n",
    "\n",
    "import sys\n",
    "sys.path.append(\"C:\\Python_DA\\python_Lib\") #경로 추적 \n",
    "import student_score as ss\n",
    "import operator #리스트 안의 정렬을 쉽게 하기 위해서 선언 \n",
    "\n",
    "result = list()  #학생객체들이 모여있는 리스트 \n",
    "studentFile = open(\"student_score.txt\",\"r\") \n",
    "\n",
    "\n",
    "while True:\n",
    "    stu = studentFile.readline()\n",
    "    if stu == \"\":\n",
    "        break;\n",
    "    stu_list = stu.split(\",\") # ,를 기준으로 분류하여 리스트로 리턴 \n",
    "                              # ['홍길동','18','7','19']\n",
    "\n",
    "    \n",
    "    result.append(ss.Student(stu_list[0],stu_list[1],stu_list[2],stu_list[3]))\n",
    "\n",
    "\n",
    "## 정상적으로 데이터가 생성되었는지 확인 \n",
    "for s in result: \n",
    "    s.print_student()\n",
    "    \n",
    "## 결과데이터 정렬하기 \n",
    "sorted_result = sorted(result,key=operator.attrgetter(\"sAvg\")) #attrgetter : property의 값을 추출 \n",
    "\n",
    "## 정렬된 데이터 확인하기 \n",
    "for s in sorted_result:\n",
    "    s.print_student()"
   ]
  }
 ],
 "metadata": {
  "kernelspec": {
   "display_name": "[CPU_ENV]",
   "language": "python",
   "name": "cpu_env"
  },
  "language_info": {
   "codemirror_mode": {
    "name": "ipython",
    "version": 3
   },
   "file_extension": ".py",
   "mimetype": "text/x-python",
   "name": "python",
   "nbconvert_exporter": "python",
   "pygments_lexer": "ipython3",
   "version": "3.6.9"
  }
 },
 "nbformat": 4,
 "nbformat_minor": 2
}
