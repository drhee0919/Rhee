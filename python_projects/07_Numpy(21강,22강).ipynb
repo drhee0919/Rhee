{
 "cells": [
  {
   "cell_type": "code",
   "execution_count": null,
   "metadata": {},
   "outputs": [],
   "source": [
    "## 1. Numpy(Numerical Python)\n",
    "## 수학적 계산을 할때, 수치연산을 할 때 사용된다. \n",
    "## 마치 R의 Vector를 사용하는 것처럼 Numpy를 이용할 수 있다. (Python 모듈 이용)\n",
    "## Vector연산과 Matrix 연산을 빠르고 효율적으로 처리할 수 있다. \n",
    "## Pandas의 기본 자료 구조로 쓰인다. \n",
    "## (pandas, Matplotlib의 기본 module 이 Numpy \n",
    "## NumPy module은 ndarray(n-dimensional array)라고 불리는 자료구조를 가짐 \n",
    "## (기본적으로는 R의 Vector와 유사 )  - list 는? \n",
    "##R의 vector 자료구조는 같은 데이터타입을 저장하는 자료구조 \n",
    "##=> ndarray도 같은 데이터 타입만 저장이 가능(R의 list와 차이점)\n",
    "## 차원은  list, 데이터는 vector와 유사한 녀석 \n",
    "\n"
   ]
  },
  {
   "cell_type": "code",
   "execution_count": 19,
   "metadata": {
    "scrolled": true
   },
   "outputs": [
    {
     "name": "stdout",
     "output_type": "stream",
     "text": [
      "list => [1, 2, 3, 4], type => <class 'list'>\n",
      "list => 1, type => <class 'int'>\n",
      "ndarray => [1 2 3 4]\n",
      "ndarray => <class 'numpy.ndarray'>\n",
      "ndarray type => <class 'numpy.ndarray'>\n",
      "ndarray dtype => int32\n",
      "['100' 'Hello' '3.14']\n",
      "<U11\n",
      "<class 'numpy.str_'>\n"
     ]
    }
   ],
   "source": [
    "## - Numpy module 설치 \n",
    "## Numpy는 외부모듈임로 ndarray를 이용하려면 numpy module이 설치되어 있어야 한다. \n",
    "# module 을 설치할 때 conda 명령을 이용해서 설치(anaconda 깔아놓고 쓸 때만)\n",
    "# 또는 python은 pip를 이용해서 module 설치 (둘이 저장 위치가 다르다)\n",
    "# 작업환경에 적합한 conda 명령을 여기선 예시로 들기로 한다. \n",
    "# 1) anaconda prompt 하나 더 실행 \n",
    "# 2)  conda install numpy 명령어 입력 -> proceed 의사 확인에서 yes \n",
    "# (* 설치 완료 후 jupyter를 재실행할 필요는 없다 -> 그대로 쓴다.)  \n",
    "import numpy as np  # alias\n",
    "\n",
    "## - ndarray를 생성하고 data type을 살펴보기\n",
    "\n",
    "##python list \n",
    "a = [1,2,3,4]\n",
    "print(\"list => {}, type => {}\".format(a,type(a)))  # list => [1, 2, 3, 4], type => <class 'list'>\n",
    "print(\"list => {}, type => {}\".format(a[0],type(a[0]))) # 원소 1출력                                                    \n",
    "                                                        # list => 1, type => <class 'int'>\n",
    "# 파이썬은 모든것이 클래스로 이루어져 있다. type은 해당 데이터가 어떤 객체의 클래스인지 알려주는 함수 \n",
    "\n",
    "## Numpy ndarray \n",
    "b = np.array([1,2,3,4]) #alias 선언했으므로 이하 np로 통칭 \n",
    "                        #np가 갖고 있는 array 함수 사용 \n",
    "print(\"ndarray => {}\".format(b)) #ndarray => [1 2 3 4]\n",
    "                                 #일반적인 list와 비교하여 비슷하게 생겼으나 컴마가 없다.\n",
    "    \n",
    "print(\"ndarray => {}\".format(type(b))) #ndarray => <class 'numpy.ndarray'>\n",
    "\n",
    "print(\"ndarray type => {}\".format(type(b)))   #ndarray type => <class 'numpy.ndarray'> \n",
    "print(\"ndarray dtype => {}\".format(b.dtype))  #dtype : 함수아님 속성임, 데이터 타입확인 \n",
    "                                              #ndarray dtype => int32\n",
    "                                              #32개의 2진수로 표현할 수 있는 수의개수 == 2**32\n",
    "                                              # 약 -21억 부터 +21억까지 범위 \n",
    "                                              # 부족하면  int64 도 사용가능 -> 천경정도 범위 \n",
    "                \n",
    "## ndarray를 만드는 가장 간단한 방법 : numpy가 제공하는 array()함수 이용 \n",
    "c = np.array([100, \"Hello\", 3.14])\n",
    "print(c)    # ['100' 'Hello' '3.14'] \n",
    "            # 모두 같은 데이터 타입이 되어야 하기 때문에 다 아우를 수 있는 타입(문자열)로 변환 \n",
    "print(c.dtype) # <U11 출력\n",
    "               # 요소가 유니코드라는 뜻\n",
    "print(type(c[0]))  #<class 'numpy.str_'> \n",
    "\n"
   ]
  },
  {
   "cell_type": "code",
   "execution_count": 32,
   "metadata": {
    "scrolled": true
   },
   "outputs": [
    {
     "name": "stdout",
     "output_type": "stream",
     "text": [
      "[[1 2 3]\n",
      " [4 5 6]]\n",
      "6\n",
      "int32\n",
      "int64\n",
      "float64\n"
     ]
    }
   ],
   "source": [
    "## - 다차원 Numpy array 를 만들어보아요! \n",
    "myList = [(1,2,3),(4,5,6)]  #python list  \n",
    "arr = np.array(myList)\n",
    "\n",
    "print(arr)    # [[1 2 3]\n",
    "              #  [4 5 6]]\n",
    "#myList= [[1,2,3],[4,5,6]] 와 차이점 : List 는 똑같이 출력되더라도 2차원이라 인식 X, 단지 저리 생겼을 뿐 \n",
    "# 1행 2열의 값은 얼마인가요? => 6 \n",
    "print(arr[1,2]) # list처럼 arr[1][2] 이 형태로 쓰지 않는다. (일단 이경우 출력결과는 같다) \n",
    "                # 2행 3열의 값을 의미(6)\n",
    "                # index의 시작은 0부터 시작한다. \n",
    "    \n",
    "## n차원의 ndarray가 어떻게 표현되는지 확인해야 한다. \n",
    "## 기본 데이터타입은 정수일 경우 int32로 사용된다. \n",
    "print(arr.dtype)  #int32 \n",
    "arr = np.array(myList, dtype=\"int64\") #단, 그다지 좋지 않은 선언방식 \n",
    "arr = np.array(myList, dtype=np.int64)# 이렇게 타입명을 정확히 말해주는 것이 좋다. \n",
    "print(arr.dtype) \n",
    "\n",
    "arr = np.array(myList, dtype=np.float64) # 실수형 선언도 가능하다 \n",
    "print(arr.dtype)"
   ]
  },
  {
   "cell_type": "code",
   "execution_count": 58,
   "metadata": {},
   "outputs": [
    {
     "name": "stdout",
     "output_type": "stream",
     "text": [
      "1\n",
      "(4,)\n",
      "(2, 3)\n",
      "(2, 2, 2)\n",
      "ndarray의 차원의 수는 : 1\n",
      "ndarray의 shape : (12,)\n",
      "ndarray의 요소개수 : 12\n",
      "ndarray의 len() : 12\n",
      "[[[ 1  2  3]\n",
      "  [ 4  5  6]]\n",
      "\n",
      " [[ 7  8  9]\n",
      "  [10 11 12]]]\n"
     ]
    }
   ],
   "source": [
    "## - 차원의 개수, 크기 , axis\n",
    "## 1) 차원의 개수를 알려주는 .ndim, .shape\n",
    "myList = [1,2,3,4]\n",
    "arr = np.array(myList)   #python list를 이용해서 numpy array생성 \n",
    "                         #이렇게 numpy array를 생성하면 차원의 개수를 알 수 있다. \n",
    "print(arr.ndim)          #1\n",
    "                         #차원의 개수를 알려주는 속성 ndim \n",
    "\n",
    "## 차원의 개수와 원소 개수를 동시에 알려주는 속성 \n",
    "print(arr.shape) #(4,)\n",
    "\n",
    "## 2차원의 경우 \n",
    "myList = [[1,2,3],[4,5,6]]\n",
    "arr =np.array(myList)\n",
    "print(arr.shape)#(2, 3) 2행 3열\n",
    "\n",
    "myList = [[[1,2],[3,4]],[[5,6],[7,8]]]\n",
    "arr =np.array(myList)\n",
    "print(arr.shape) #(2, 2, 2) 2면 2행 2열 \n",
    "\n",
    "##정리\n",
    "##1차원 -> 열(행이 없고 열만 있는 개념)\n",
    "##2차원 -> 행과 열로 표현됨 \n",
    "##3차원 -> 면,행,열로 표현됨 ( 면은 경우데 따라 depth라고 함)\n",
    "\n",
    "## 2)numpy array 차원 제어 \n",
    "myList = [1,2,3,4,5,6,7,8,9,10,11,12]\n",
    "arr = np.array(myList) #numpy array생성(ndarray)\n",
    "#차원의 수와 요소개수를 알아보아요 \n",
    "print(\"ndarray의 차원의 수는 : {}\".format(arr.ndim)) #ndarray의 차원의 수는 : 1\n",
    "print(\"ndarray의 shape : {}\".format(arr.shape)) #ndarray의 shape : (12,) \n",
    "print(\"ndarray의 요소개수 : {}\".format(arr.size))#ndarray의 요소개수 : 12\n",
    "#python의 len함수는 ndarray에 대해 적용하면 1차원의 요소개수를 리턴\n",
    "print(\"ndarray의 len() : {}\".format(len(arr))) #ndarray의 len() : 12\n",
    "\n",
    "#shape을 변경할 수 있다. \n",
    "arr.shape = (2,2,3)\n",
    "print(arr)  \n",
    "#[[[ 1  2  3]\n",
    "#  [ 4  5  6]]\n",
    "\n",
    "# [[ 7  8  9]\n",
    "#  [10 11 12]]]\n",
    "## 이렇게 shape을 변경할 수 있는데 \n",
    "## arr.shape을 직접 바꾸는 방식은 잘 사용되지 않는다. \n",
    "## 다른 방식이 존재한다 : reshape()함수 이용 \n"
   ]
  },
  {
   "cell_type": "code",
   "execution_count": 62,
   "metadata": {},
   "outputs": [
    {
     "name": "stdout",
     "output_type": "stream",
     "text": [
      "dtype: {} float64\n",
      "[ 1  3  2 44  3]\n",
      "dtype: {} int32\n"
     ]
    }
   ],
   "source": [
    "## - numpy array의 type변경 \n",
    "arr = np.array([1.1,3.14,2,44.0,3.99]) #정수와 실수가 섞여있는 nparray\n",
    "print(\"dtype: {}\",format(arr.dtype))   #dtype: {} float64\n",
    "\n",
    "## ndarray 의 데이터 타입을 다른 형식으로 변경할 수 있어요 \n",
    "#ex/ 실수를 정수로 변경하기 \n",
    "int_arr = arr.astype(np.int32)\n",
    "print(int_arr) #실수를 정수로 변환할 때 소수점이하 버림 처리 \n",
    "               #[ 1  3  2 44  3]\n",
    "print(\"dtype: {}\",format(int_arr.dtype))    #dtype: {} int32"
   ]
  },
  {
   "cell_type": "code",
   "execution_count": 72,
   "metadata": {},
   "outputs": [
    {
     "name": "stdout",
     "output_type": "stream",
     "text": [
      "[[0. 0. 0. 0.]\n",
      " [0. 0. 0. 0.]\n",
      " [0. 0. 0. 0.]]\n",
      "[[1 1 1 1]\n",
      " [1 1 1 1]]\n",
      "[[5.00684059e-308 1.27945821e-307 9.34609789e-307 1.44632687e-307\n",
      "  9.34609110e-307 1.33511290e-306 5.00660292e-308]\n",
      " [9.34607074e-307 1.55758056e-307 1.33511697e-306 1.66889876e-307\n",
      "  2.40313953e-306 7.56603882e-307 1.44632687e-307]\n",
      " [7.78799193e-308 8.90104239e-307 8.90071135e-308 1.78010526e-306\n",
      "  5.00690849e-308 5.84097591e-308 7.78790281e-308]\n",
      " [1.42421160e-306 5.00666234e-308 1.20161458e-306 1.33512512e-306\n",
      "  7.78828901e-308 1.78021527e-306 5.00690849e-308]\n",
      " [1.27945821e-307 1.33511290e-306 9.45705621e-308 5.00660292e-308\n",
      "  1.78022206e-306 5.84096318e-308 1.60220393e-306]]\n",
      "[[9. 9. 9. 9.]\n",
      " [9. 9. 9. 9.]\n",
      " [9. 9. 9. 9.]]\n",
      "[[1 2 3]\n",
      " [4 5 6]]\n",
      "[[1. 1. 1.]\n",
      " [1. 1. 1.]]\n"
     ]
    }
   ],
   "source": [
    "## numpy array를 생성하는 다양한 방법 \n",
    "arr = np.array([1,2,3,4])   #리스트를 이용해서 ndarray를 생성 \n",
    "\n",
    "## 모든 원소의 값이 0인 ndarray를 원하는 shape으로 생성 (zeros())\n",
    "arr = np.zeros((3,4))    #(3,4) shape형태로 원소의 값이 0인 ndarray를 생성 \n",
    "print(arr)    #[[0. 0. 0. 0.]\n",
    "              # [0. 0. 0. 0.]\n",
    "              # [0. 0. 0. 0.]]\n",
    "\n",
    "## 모든 원소의 값이 1인 ndarray를 원하는 shape으로 생성 (ones())\n",
    "arr = np.ones((2,4), dtype=np.int32)  #만들때마다 dtype 명시 가능\n",
    "print(arr)    \n",
    "              #[[1 1 1 1]\n",
    "              # [1 1 1 1]]\n",
    "\n",
    "## numpy array의 공간만 확보할 수 있다. (empty())\n",
    "## 초기화를 하지 않는다. \n",
    "arr = np.empty((5,7))\n",
    "print(arr)        #임의의 공간에 들어가서 메모리만 차지함 \n",
    "                  #공간만 잡는 것이기에 기존에 쓰다가 버리는 등 초기화가 안된 '쓰레기값'들이 출력이 됨 \n",
    "                  #특정 용도로 사용하고 싶다면 미리 비워놓고 초기화 작업이 필요\n",
    "        \n",
    "##ones나 zeros는 초기화 작업이 추가적으로 진행 (full())\n",
    "##array의 크기가 커지면 속도가 저하 (empty를 쓰는 이유)\n",
    "arr = np.full((3,4),9,dtype=np.float64)    #임의의 값이 초으로 초기화를 진행 \n",
    "print(arr)  \n",
    "#[[9. 9. 9. 9.]\n",
    "# [9. 9. 9. 9.]\n",
    "# [9. 9. 9. 9.]]\n",
    "\n",
    "arr = np.array([(1,2,3),(4,5,6)])   #2행 3열짜리 ndarray 생성\n",
    "print(arr)\n",
    "\n",
    "# 위에서 설명한 ones, zeros, full, empty와 같은 역할을 하면서 shape이 지정한 array와 같도록 만다는 함수 \n",
    "# like계열 함수(여기서는 ones_like)\n",
    "arr_like = np.ones_like(arr, dtype=np.float64)\n",
    "print(arr_like)\n",
    "#[[1. 1. 1.]\n",
    "# [1. 1. 1.]]"
   ]
  },
  {
   "cell_type": "code",
   "execution_count": 77,
   "metadata": {},
   "outputs": [
    {
     "name": "stdout",
     "output_type": "stream",
     "text": [
      "[0 2 4 6 8]\n",
      "[0 1 2 3 4 5 6 7 8 9]\n",
      "[0.1 1.1 2.1 3.1 4.1 5.1]\n"
     ]
    }
   ],
   "source": [
    "## ndarray를 만드는 다양한 방법 중 하나 -arrage()\n",
    "## python의 range()와 유사한 기능을 한다. \n",
    "\n",
    "arr = np.arange(0,10,2)    #0은 포함, 10은 불포함, 2씩 증가 \n",
    "print(arr)                 #[0 2 4 6 8]\n",
    "\n",
    "arr = np.arange(10)\n",
    "print(arr)                 #[0 1 2 3 4 5 6 7 8 9]\n",
    "\n",
    "arr= np.arange(0.1,5.3)    #0.1부터 시작, 5.3은 불포함, 1씩 증가 \n",
    "print(arr)\n"
   ]
  },
  {
   "cell_type": "code",
   "execution_count": 2,
   "metadata": {},
   "outputs": [
    {
     "name": "stdout",
     "output_type": "stream",
     "text": [
      "[ 0.          0.90909091  1.81818182  2.72727273  3.63636364  4.54545455\n",
      "  5.45454545  6.36363636  7.27272727  8.18181818  9.09090909 10.        ]\n",
      "[ 0.          0.52631579  1.05263158  1.57894737  2.10526316  2.63157895\n",
      "  3.15789474  3.68421053  4.21052632  4.73684211  5.26315789  5.78947368\n",
      "  6.31578947  6.84210526  7.36842105  7.89473684  8.42105263  8.94736842\n",
      "  9.47368421 10.        ]\n"
     ]
    },
    {
     "data": {
      "image/png": "[encoded data removed]",
      "text/plain": [
       "<Figure size 432x288 with 1 Axes>"
      ]
     },
     "metadata": {
      "needs_background": "light"
     },
     "output_type": "display_data"
    }
   ],
   "source": [
    "## ndarray를 만드는 다양한 방법 - linepace \n",
    "## np.linspacen(start.stop,ni)\n",
    "## : start부터 stop까지의 범위에서 num 개를 균일한 간격으로 데이터를 생성하고 ndarray로 return \n",
    "\n",
    "arr = np.linspace(0,10,12) #0~10사이에 균등한 간격으로 12개를 나눔 \n",
    "print(arr)                 #순차증가 : linear하게 올라감 \n",
    "arr2 = np.linspace(0,10,20)\n",
    "print(arr2)\n",
    "\n",
    "##눈으로 보기 힘드니 그래프로 볼 수 있다. \n",
    "## char를 그리는 대표적인 package => matplotlib \n",
    "\n",
    "## 2. matplotlib\n",
    "## : 똑같이 프롬프트에 conda install matplotlib 입력 \n",
    "\n",
    "import matplotlib.pyplot as plt\n",
    "\n",
    "arr = np.linspace(0,10,20)\n",
    "plt.plot(arr)\n",
    "plt.show()"
   ]
  },
  {
   "cell_type": "code",
   "execution_count": 1,
   "metadata": {},
   "outputs": [
    {
     "name": "stdout",
     "output_type": "stream",
     "text": [
      "[47.41997226 47.78051239 49.21198985 ... 49.39108025 51.12375321\n",
      " 53.07900203]\n"
     ]
    },
    {
     "data": {
      "text/plain": [
       "<Figure size 640x480 with 1 Axes>"
      ]
     },
     "metadata": {},
     "output_type": "display_data"
    }
   ],
   "source": [
    "## Numpy Array(ndarray)\n",
    "## 특징, 여러가지 속성들(ndim, shape, .. )\n",
    "## ndarray 생성방법\n",
    "\n",
    "## - 난수를 이용해서 ndarray를 생성하는 방법 \n",
    "## :5가지 정도가 존재 (normal, rand, randint, random, +  random.seed)\n",
    "\n",
    "## np.random.normal() : 난수를 생성해서 ndarray를 만들 수 있다. \n",
    "# => 정규분포 확률밀도에서 난수를 발생시켜요 \n",
    "import numpy as np \n",
    "import matplotlib.pyplot as plt\n",
    "\n",
    "#평균 \n",
    "myMean = 50 \n",
    "\n",
    "# 표준편차\n",
    "myStd = 2\n",
    "\n",
    "arr = np.random.normal(myMean, myStd, (10000)) #shape을 이용\n",
    "print(arr) #[47.2436513  52.24158032 46.98108152 ... 48.97582146 51.36896183\n",
    "           #50.91168503]\n",
    "           #10000개를 다 출력해주진 않음 \n",
    "\n",
    "plt.hist(arr,bins=100) #구간이 약 100구간인 히스토그램을 그려줌 \n",
    "plt.show() #50에 가장 많이 분포한 정규분포 형태 \n",
    "\n",
    "\n"
   ]
  },
  {
   "cell_type": "code",
   "execution_count": 91,
   "metadata": {},
   "outputs": [
    {
     "data": {
      "image/png": "[encoded data removed]",
      "text/plain": [
       "<Figure size 432x288 with 1 Axes>"
      ]
     },
     "metadata": {
      "needs_background": "light"
     },
     "output_type": "display_data"
    }
   ],
   "source": [
    "## 난수를 추출 1\n",
    "# [0,1) (0이상 1미만) 구간에서 균둥분포 확률밀도상에서 난수 추출 \n",
    "arr = np.random.rand(10000) #1차원(2,3) => 2차원\n",
    "# arr = np.random.rand(1000,2,3) #3차원으로 1000개의열, 2개의 행 \n",
    "plt.hist(arr, bins=10000)\n",
    "plt.show()"
   ]
  },
  {
   "cell_type": "code",
   "execution_count": 97,
   "metadata": {},
   "outputs": [
    {
     "data": {
      "text/plain": [
       "<function matplotlib.pyplot.show(*args, **kw)>"
      ]
     },
     "execution_count": 97,
     "metadata": {},
     "output_type": "execute_result"
    },
    {
     "data": {
      "image/png": "[encoded data removed]",
      "text/plain": [
       "<Figure size 432x288 with 1 Axes>"
      ]
     },
     "metadata": {
      "needs_background": "light"
     },
     "output_type": "display_data"
    }
   ],
   "source": [
    "## 난수를 추출 2\n",
    "## 표준정규분포 확률밀도상에서 난수 추출 \n",
    "#arr = np.random.randn(1000,2,3) #인자의 개수로 차원을 지정 (shape이 아니다)\n",
    "arr = np.random.randn(10000)\n",
    "plt.hist(arr,bins=100)\n",
    "plt.show"
   ]
  },
  {
   "cell_type": "code",
   "execution_count": 102,
   "metadata": {},
   "outputs": [
    {
     "data": {
      "image/png": "[encoded data removed]",
      "text/plain": [
       "<Figure size 432x288 with 1 Axes>"
      ]
     },
     "metadata": {
      "needs_background": "light"
     },
     "output_type": "display_data"
    }
   ],
   "source": [
    "## 난수를 추출(정수를 추출)\n",
    "## 주어진 범위에서 균등분포 확률밀도상에서 난수 추출 \n",
    "arr = np.random.randint(-100,100,(10000,)) #범위와 형태를 지정해줌 \n",
    "                                           #많이 뽑으면 많이 뽑을수록 균등분포에 가까워짐 \n",
    "plt.hist(arr,bins=100)\n",
    "plt.show()\n"
   ]
  },
  {
   "cell_type": "code",
   "execution_count": 103,
   "metadata": {},
   "outputs": [
    {
     "data": {
      "image/png": "[encoded data removed]",
      "text/plain": [
       "<Figure size 432x288 with 1 Axes>"
      ]
     },
     "metadata": {
      "needs_background": "light"
     },
     "output_type": "display_data"
    }
   ],
   "source": [
    "## 난수를 추출(실수를 추출)\n",
    "## [0,1)에서 균등분포 확률밀도상에서 난수 추출 \n",
    "arr = np.random.random((10000,)) #rand는 다르게 shape으로 표현해여한다. (이외에는 똑같다 )\n",
    "plt.hist(arr,bins=100)\n",
    "plt.show()\n"
   ]
  },
  {
   "cell_type": "code",
   "execution_count": 124,
   "metadata": {},
   "outputs": [
    {
     "name": "stdout",
     "output_type": "stream",
     "text": [
      "[8 9 3 8 8]\n"
     ]
    }
   ],
   "source": [
    "## 난수는 랜덤값이기 때문에 실행할 때마다 추출하는 난수가 달라져야 한다. \n",
    "\n",
    "## 난수값도 사실은 알고리즘에 의해서 계산되는 값 : 순수한 랜덤이란 없다. \n",
    "## 알고리즘의 초기값을 고정시키면 항상 같은 난수를 얻을 수 있다. => 재현성! \n",
    "\n",
    "#arr = np.random.randint(0,10,(5,)) #0부터 10사이, 1차원 5개 \n",
    "                                   #정수를 균등분포 추출\n",
    "#print(arr) # 계속 결과가  달라짐 \n",
    "\n",
    "np.random.seed(3)\n",
    "arr = np.random.randint(0,10,(5,))\n",
    "print(arr)\n"
   ]
  },
  {
   "cell_type": "code",
   "execution_count": 136,
   "metadata": {},
   "outputs": [
    {
     "name": "stdout",
     "output_type": "stream",
     "text": [
      "답은 25164150 입니다.\n"
     ]
    }
   ],
   "source": [
    "####################즐거운 오늘의 문제#####################\n",
    "### 문제 9 \n",
    "## 1부터 10까지 자연수를 각각 제곱해서 더하면 1**2 + 2**2 + 3**2 + 4**2 + ... = 385 \n",
    "## 1부터 10까지 모두 더한다음 그 결과를 제곱하면 \n",
    "## (1+2+3+4+ ... ) ** 2 =3025 \n",
    "## 그 차이를 구해보아요 => 3025 - 385 => 2540\n",
    "\n",
    "## 1부터 100까지 위의 과정을 거치면 결과는? \n",
    "\n",
    "myList1 =list() \n",
    "myList2 =list()\n",
    "\n",
    "for i in range(1,101):\n",
    "    myList1.append(i)\n",
    "    myList2.append(i*i)\n",
    "    \n",
    "    total_square = sum(myList1[:]) * sum(myList1[:])\n",
    "    square_sum = sum(myList2[:])\n",
    "    \n",
    "print(\"답은 %d 입니다.\"%(total_square-square_sum))\n",
    "\n",
    "\n"
   ]
  },
  {
   "cell_type": "code",
   "execution_count": 153,
   "metadata": {},
   "outputs": [
    {
     "ename": "KeyboardInterrupt",
     "evalue": "",
     "output_type": "error",
     "traceback": [
      "\u001b[1;31m---------------------------------------------------------------------------\u001b[0m",
      "\u001b[1;31mKeyboardInterrupt\u001b[0m                         Traceback (most recent call last)",
      "\u001b[1;32m<ipython-input-153-912d1932a6fb>\u001b[0m in \u001b[0;36m<module>\u001b[1;34m\u001b[0m\n\u001b[0;32m     19\u001b[0m             \u001b[0mprime_numbers\u001b[0m\u001b[1;33m.\u001b[0m\u001b[0mappend\u001b[0m\u001b[1;33m(\u001b[0m\u001b[0mnumber\u001b[0m\u001b[1;33m)\u001b[0m\u001b[1;33m\u001b[0m\u001b[1;33m\u001b[0m\u001b[0m\n\u001b[0;32m     20\u001b[0m     \u001b[0mprint\u001b[0m\u001b[1;33m(\u001b[0m\u001b[0mprime_numbers\u001b[0m\u001b[1;33m[\u001b[0m\u001b[0mn\u001b[0m\u001b[1;33m-\u001b[0m\u001b[1;36m1\u001b[0m\u001b[1;33m]\u001b[0m\u001b[1;33m)\u001b[0m\u001b[1;33m\u001b[0m\u001b[1;33m\u001b[0m\u001b[0m\n\u001b[1;32m---> 21\u001b[1;33m \u001b[0mis_prime\u001b[0m\u001b[1;33m(\u001b[0m\u001b[1;36m100\u001b[0m\u001b[1;33m)\u001b[0m\u001b[1;33m\u001b[0m\u001b[1;33m\u001b[0m\u001b[0m\n\u001b[0m",
      "\u001b[1;32m<ipython-input-153-912d1932a6fb>\u001b[0m in \u001b[0;36mis_prime\u001b[1;34m(n)\u001b[0m\n\u001b[0;32m     10\u001b[0m         \u001b[0mnumber\u001b[0m \u001b[1;33m=\u001b[0m \u001b[0mnumber\u001b[0m \u001b[1;33m+\u001b[0m \u001b[1;36m1\u001b[0m\u001b[1;33m\u001b[0m\u001b[1;33m\u001b[0m\u001b[0m\n\u001b[0;32m     11\u001b[0m         \u001b[1;32mfor\u001b[0m \u001b[0mi\u001b[0m \u001b[1;32min\u001b[0m \u001b[0mprime_numbers\u001b[0m\u001b[1;33m:\u001b[0m\u001b[1;33m\u001b[0m\u001b[1;33m\u001b[0m\u001b[0m\n\u001b[1;32m---> 12\u001b[1;33m             \u001b[0mis_true\u001b[0m\u001b[1;33m.\u001b[0m\u001b[0mappend\u001b[0m\u001b[1;33m(\u001b[0m\u001b[0mnumber\u001b[0m\u001b[1;33m%\u001b[0m\u001b[1;36m1\u001b[0m\u001b[1;33m)\u001b[0m\u001b[1;33m\u001b[0m\u001b[1;33m\u001b[0m\u001b[0m\n\u001b[0m\u001b[0;32m     13\u001b[0m             \u001b[1;32mif\u001b[0m \u001b[0mnumber\u001b[0m \u001b[1;33m%\u001b[0m \u001b[0mi\u001b[0m \u001b[1;33m==\u001b[0m\u001b[1;36m0\u001b[0m\u001b[1;33m:\u001b[0m\u001b[1;33m\u001b[0m\u001b[1;33m\u001b[0m\u001b[0m\n\u001b[0;32m     14\u001b[0m                 \u001b[1;32mbreak\u001b[0m\u001b[1;33m\u001b[0m\u001b[1;33m\u001b[0m\u001b[0m\n",
      "\u001b[1;31mKeyboardInterrupt\u001b[0m: "
     ]
    }
   ],
   "source": [
    "###문제 10 \n",
    "## 소수를 크기순으로 나열하면 2,3,5,7,11,13,17...\n",
    "## 이때, 10001번째 소수는 얼마일까요? \n",
    "def is_prime(n):\n",
    "    number = 2\n",
    "    prime_numbers = [2]  \n",
    "    is_true = []\n",
    "\n",
    "    while len(prime_numbers) < n:\n",
    "        number = number + 1 \n",
    "        for i in prime_numbers:\n",
    "            is_true.append(number%1)\n",
    "            if number % i ==0:\n",
    "                break\n",
    "        if 0 in is_true:\n",
    "            is_true = []\n",
    "            continue\n",
    "        else:\n",
    "            prime_numbers.append(number)\n",
    "    print(prime_numbers[n-1])\n",
    "is_prime(100)\n"
   ]
  },
  {
   "cell_type": "code",
   "execution_count": 4,
   "metadata": {},
   "outputs": [
    {
     "name": "stdout",
     "output_type": "stream",
     "text": [
      "10001번째 소수는 : 104743\n"
     ]
    }
   ],
   "source": [
    "def nth_prime_number(n):\n",
    "       # 소수 할당할 list 선언\n",
    "       prime_list = [2]\n",
    "       # 소수인지를 판단할 수열 할당(초기값 3)\n",
    "       num = 3\n",
    "       # n번째 까지 소수를 생성하기\n",
    "       while len(prime_list) < n:\n",
    "\n",
    "           # 그 이전 소수로 나눠지는가? \n",
    "           for p in prime_list:\n",
    "               # 피제수의 나머지가 없다면\n",
    "               # 그거슨 소수가 아니야 \n",
    "               if num % p == 0:\n",
    "                   break\n",
    "\n",
    "           # 소수라면 prime_list에 더하라 \n",
    "           # break조건이 만족되기 전까지 for -> else 루프 \n",
    "           else:\n",
    "               # 나머지가 있으면 할당해 \n",
    "               prime_list.append(num)\n",
    "\n",
    "           # 속도향상을 위한 짝수제외 \n",
    "           num += 2\n",
    "\n",
    "       # 리스트 마지막거 출력 \n",
    "       return prime_list[-1]\n",
    "a = nth_prime_number(10001)\n",
    "print(\"10001번째 소수는 : %d\"%(a))"
   ]
  },
  {
   "cell_type": "code",
   "execution_count": null,
   "metadata": {},
   "outputs": [],
   "source": [
    "## 에라토스테네스의 체 (범위내의 소수 산출 )\n",
    "def prime_list(n):\n",
    "    # 에라토스테네스의 체 초기화: n개 요소에 True 설정(소수로 간주)\n",
    "    sieve = [True] * n\n",
    "\n",
    "    # n의 최대 약수가 sqrt(n) 이하이므로 i=sqrt(n)까지 검사\n",
    "    m = int(n ** 0.5)\n",
    "    for i in range(2, m + 1):\n",
    "        if sieve[i] == True:           # i가 소수인 경우 \n",
    "            for j in range(i+i, n, i): # i이후 i의 배수들을 False 판정\n",
    "                sieve[j] = False\n",
    "\n",
    "    # 소수 목록 산출\n",
    "    return [i for i in range(2, n) if sieve[i] == True]\n",
    "a = prime_list(10000)\n",
    "print(a)"
   ]
  },
  {
   "cell_type": "code",
   "execution_count": 47,
   "metadata": {},
   "outputs": [
    {
     "name": "stdout",
     "output_type": "stream",
     "text": [
      "<class 'numpy.ndarray'>\n",
      "[1 2 3 4]\n",
      "1\n",
      "(4,)\n",
      "[1 2 3 4]\n",
      "4\n",
      "4\n",
      "[[1. 2. 3.]\n",
      " [4. 5. 6.]]\n",
      "[ 0  1  2  3  4  5  6  7  8  9 10 11]\n",
      "[[ 0  1  2]\n",
      " [ 3  4  5]\n",
      " [ 6  7  8]\n",
      " [ 9 10 11]]\n",
      "[  0 100   2   3   4   5   6   7   8   9  10  11]\n",
      "[[  0 100   2]\n",
      " [  3   4   5]\n",
      " [  6   7   8]\n",
      " [  9  10  11]]\n",
      "True\n",
      "[ True  True  True  True  True  True  True  True  True  True  True  True]\n",
      "[ 0  1  2  3  4  5  6  7  8  9 10 11]\n",
      "[[ 0  1  2  3  4  5]\n",
      " [ 6  7  8  9 10 11]]\n",
      "[[ 0  1  2]\n",
      " [ 3  4  5]\n",
      " [ 6  7  8]\n",
      " [ 9 10 11]]\n",
      "[[ 0  1  2  3  4  5  6  7  8  9 10 11 12 13 14 15 16 17 18 19]\n",
      " [20 21 22 23 24 25 26 27 28 29 30 31 32 33 34 35 36 37 38 39]\n",
      " [40 41 42 43 44 45 46 47 48 49 50 51 52 53 54 55 56 57 58 59]\n",
      " [60 61 62 63 64 65 66 67 68 69 70 71 72 73 74 75 76 77 78 79]\n",
      " [80 81 82 83 84 85 86 87 88 89 90 91 92 93 94 95 96 97 98 99]]\n",
      "[ 0  1  2  3  4  5  6  7  8  9 10 11 12 13 14 15 16 17 18 19 20 21 22 23\n",
      " 24 25 26 27 28 29 30 31 32 33 34 35 36 37 38 39 40 41 42 43 44 45 46 47\n",
      " 48 49 50 51 52 53 54 55 56 57 58 59 60 61 62 63 64 65 66 67 68 69 70 71\n",
      " 72 73 74 75 76 77 78 79 80 81 82 83 84 85 86 87 88 89 90 91 92 93 94 95\n",
      " 96 97 98 99]\n",
      "[0 1 2 3 4 5 6 7 8 9]\n",
      "[[0 1 2 3 4 5]\n",
      " [6 7 8 9 0 1]]\n",
      "[[0 1]\n",
      " [2 3]]\n",
      "None\n",
      "[[0 1 2]\n",
      " [3 4 5]]\n",
      "[[6 5 3]\n",
      " [7 5 1]]\n",
      "[[8 3 7 0 3]\n",
      " [9 0 1 8 5]]\n",
      "[[0 1 2 8 3 7 0 3]\n",
      " [3 4 5 9 0 1 8 5]]\n",
      "[[6 0 4]\n",
      " [2 8 8]\n",
      " [8 1 6]\n",
      " [7 4 2]\n",
      " [7 9 5]]\n"
     ]
    }
   ],
   "source": [
    "####################################################################\n",
    "## (11월 19일 강의 내용) \n",
    "## 18일(21강) 강의 내용 복습 :\n",
    "## python에서 수치 계산용으로 만든 패키지, numeric python(numpy)\n",
    "## ndarray라고 불리는 자료구조를 사용 \n",
    "## array : 연속적으로 할당되고 같은 데이터타입의 데이터를 저장할 수 있는 자료구조 \n",
    "## 연속적으로 할당되어 있다는 것은 index를 쓸 수 있다는 뜻\n",
    "## python에서도 배열 자료구조를사용가능하게 하는패키지 \n",
    "\n",
    "## 기본적으로 생성하는 방법 \n",
    "import numpy as np \n",
    "arr = np.array([1,2,3,4])\n",
    "\n",
    "## python에서 built-in type \n",
    "## int, float, bool,str, list, tuple, dict, set \n",
    "## => 이 data type 이라고 알고 있던 내용들이 실제로는 따로 class로 존재하고 있음 \n",
    "## python은 class에 기반한 객체들의 집합 \n",
    "## (객체지향에 관련해서는 추후 ensemble)\n",
    "print(type(arr)) #type함수  #<class 'numpy.ndarray'>\n",
    "print(arr)       #np.array출력 #[1 2 3 4]\n",
    "\n",
    "##numpy의 속성들 \n",
    "print(arr.ndim) #.dim #차원의 수 #1\n",
    "print(arr.shape) #.shape #차원과 원소의 수 #(4,)\n",
    "print(arr.astype(np.int64)) #.astype #원소타입 변경(dtype)\n",
    "print(arr.size) #.size ndarray안에 있는 모든 요소의 수(np에서 len()처럼 쓰임)\n",
    "print(len(arr)) #1차원 요소의 수 #행의 개수 #python과 np에서 쓰의는 의미가 다름 \n",
    "\n",
    "##2차원 이상의 ndarray 만들기 \n",
    "##º중첩자료구조 만들기\n",
    "myList = [[1,2,3],[4,5,6]]\n",
    "arr = np.array(myList, dtype=np.float64) #dtype도 따로 설정 \n",
    "print(arr)      #[[1 2 3]\n",
    "                # [4 5 6]]\n",
    "\n",
    "##다양한 생성방법\n",
    "##ºnp.zeros(), np.ones(), np.full(), np.empty() 함수  \n",
    "##ºnp.arange() #주어진 간격내에서 일정간격으로 nparray형성(range와 유사)\n",
    "##ºnp.linspace() #특정 공간을 일정한 간격으로 조갬 \n",
    "##random 기반의 함수들  -> rand, randint, random, seed\n",
    "\n",
    "##########################################################################\n",
    "## NumPy의 활용에 대해서 알아보아요 \n",
    "## shape을 조절해서 내가 원하는 형태의 ndarray를 만들어보자 \n",
    "import numpy as np\n",
    "\n",
    "arr = np.arange(0,12,1) #1차원의 numpy arrange형성 \n",
    "print(arr) #[ 0  1  2  3  4  5  6  7  8  9 10 11]\n",
    "\n",
    "##2차원으로 변경 (가령 4행 3열으로) : reshape()함수 \n",
    "## reshape를 이용하면 view가 만들어진다. 즉 data는 하나고 그것을 다른 차원으로 \n",
    "## 보겠다는 뜻일 뿐 (1차원 데이터를 2차원으로 보는창을 형성하는 것 , 실제데이터는 하나)\n",
    "## 원본데이터를 조작하면 view의 데이터도 조작된다. \n",
    "arr1 = arr.reshape(4,3)\n",
    "print(arr1) #[[ 0  1  2]\n",
    "            # [ 3  4  5]\n",
    "            # [ 6  7  8]\n",
    "            # [ 9 10 11]]\n",
    "\n",
    "arr[1] = 100 #만약 arr의 2번째 값을 100으로 바꾼다면? \n",
    "print(arr) # [  0 100   2   3   4   5   6   7   8   9  10  11]\n",
    "print(arr1) # [[  0 100   2]\n",
    "            #  [  3   4   5]\n",
    "            #  [  6   7   8]\n",
    "            #  [  9  10  11]]\n",
    "            \n",
    "## *기본적으로 python은 view의 개념이 없다. np의 취지는 많은 데이터를 다루는 것이므로 \n",
    "## 메모리를 효율적으로 쓰기위해 reshape과 같은 view의 개념이 적용된다.\n",
    "## (데이터 처리를 할때마다 가공된 자료를 할당하는 것은 비호율적 )\n",
    "\n",
    "## view는 base속성이 있다. \n",
    "## base : 어디서부터 데이터를 가져와서 보여주는 어디서 (여기선 당연히 arr)\n",
    "print(arr1.base is arr) #두개는 같은가? #True \n",
    "print(arr1.base == arr) #각각의 칸 끼리 비교 \n",
    "                        # [ True  True  True  True  True  True  True  True  True  True  True  True]\n",
    "    \n",
    "## shape을 변경해서 새로운 ndarary를 만들고 싶어요 (copy()함수이용)\n",
    "arr = np.arange(0,12,1)\n",
    "print(arr)\n",
    "arr1 = arr.reshape(4,3).copy() #새로운 ndarray를 생성\n",
    "\n",
    "## 형태에 맞게알아서 다차원 구조를 만들어보자(reshape(n,-1))\n",
    "#arr1 = arr.reshape(5,3) #이 형태로 만들 수 없기 개문에 error발생\n",
    "arr1 = arr.reshape(2,-1)\n",
    "print(arr1)\n",
    "#[[ 0  1  2  3  4  5]\n",
    "# [ 6  7  8  9 10 11]] #2행 6열로 알아서 출력\n",
    "\n",
    "arr1 = arr.reshape(-1,3)\n",
    "print(arr1)\n",
    "#[[ 0  1  2]\n",
    "# [ 3  4  5]\n",
    "# [ 6  7  8]\n",
    "# [ 9 10 11]] #4행 3열로 알아서 출력 \n",
    "\n",
    "## 반대로 다차원배열을 1차원으로 만들 수 있다.(ravel) \n",
    "arr = np.arange(0,100,1).reshape(5,-1).copy()\n",
    "print(arr) #총 5행 20열짜리 2차원배열 형성 \n",
    "arr1 = np.ravel(arr)\n",
    "print(arr1) #1차원으로 깔끔하게 \n",
    "\n",
    "## 통상 1차원 → 다차원 은 reshape, 다차원 → 1차원은 size \n",
    "\n",
    "## 함수 resize() : \n",
    "## resize()는 reshape()와 유사 \n",
    "## reshape()은 형태가 맞지 않으면 변경시 error가 발생 \n",
    "## 하지만 resize()는 형태가 맞지 않아도 변경이 가능 \n",
    "\n",
    "arr = np.arange(0,10,1)\n",
    "print(arr)  #[0 1 2 3 4 5 6 7 8 9]\n",
    "arr1 = np.resize(arr,(2,6))\n",
    "print(arr1) #[[0 1 2 3 4 5]\n",
    "            # [6 7 8 9 0 1]] #circul, 모자라는 부분은 배열의 앞부터 다시채움\n",
    "arr2 = np.resize(arr,(2,2))\n",
    "print(arr2) #[[0 1]\n",
    "            # [2 3]]  #남는 요소는 버린다. \n",
    "\n",
    "# ndarray를 직접이용하는 방법     \n",
    "arr = np.arange(0,10,1)\n",
    "result = arr.resize(2,3)    #원본이 바뀌고 return되지 않아요 \n",
    "print(result) #none\n",
    "print(arr)    #[[0 1 2]\n",
    "              # [3 4 5]]\n",
    "    \n",
    "## numpy array를 가로방향으로 혹은 세로방향으로 결합 \n",
    "## 2행 3열짜리 ndarray를 생성 \n",
    "\n",
    "## 정수로 생성, 랜덤하게 균등분포로 0~10사이에서 추출 \n",
    "## 6개를 추출해서 2차원 ndarray로 생성 \n",
    "arr1 = np.random.randint(0,10,(2,3))\n",
    "print(arr1)\n",
    "## 가로방향으로 결합 (hstack())\n",
    "## 행의 개수가 같아야 한다. 열의 개수는 상관없다. \n",
    "arr2 = np.random.randint(0,10,(2,5))\n",
    "print(arr2)\n",
    "result = np.hstack((arr,arr2))\n",
    "print(result)\n",
    "\n",
    "## 세로방향으로 결합 (vstack)\n",
    "## 열의 개수가 같아야 한다. 행의 개수는 상관없다\n",
    "arr1 = np.random.randint(0,10,(2,3))\n",
    "arr2 = np.random.randint(0,10,(3,3))\n",
    "result = np.vstack((arr1, arr2))\n",
    "print(result)\n",
    "\n",
    "\n",
    "################################\n",
    "## ndaray 생성, 특징 \n",
    "## reshape, resize => view개념(메모리를 효율적으로 사용하기 위해 )\n",
    "## 여러개의 ndarray를 결합할 수 있다. \n",
    "#3 이제 indexing과 slicing에 대한 내용을 배울 것  "
   ]
  },
  {
   "cell_type": "code",
   "execution_count": 66,
   "metadata": {},
   "outputs": [
    {
     "name": "stdout",
     "output_type": "stream",
     "text": [
      "[10 11 12 13 14 15 16 17 18 19]\n",
      "data : 10\n",
      "data : 11\n",
      "data : 12\n",
      "data : 13\n",
      "data : 14\n",
      "data : 15\n",
      "data : 16\n",
      "data : 17\n",
      "data : 18\n",
      "data : 19\n",
      "index : 0, data: 10\n",
      "index : 1, data: 11\n",
      "index : 2, data: 12\n",
      "index : 3, data: 13\n",
      "index : 4, data: 14\n",
      "index : 5, data: 15\n",
      "index : 6, data: 16\n",
      "index : 7, data: 17\n",
      "index : 8, data: 18\n",
      "index : 9, data: 19\n",
      "[0 1 2 3 4]\n",
      "2\n",
      "[1 2]\n",
      "[0 1 2]\n",
      "[2 3 4]\n",
      "[1 3]\n",
      "[4]\n",
      "[4]\n",
      "[[ 0  1  2  3]\n",
      " [ 4  5  6  7]\n",
      " [ 8  9 10 11]]\n",
      "6\n",
      "[[0]\n",
      " [4]\n",
      " [8]]\n",
      "[5]\n",
      "[ 5  6  9 10]\n"
     ]
    }
   ],
   "source": [
    "## Numpy array의 indexing과 slicing \n",
    "arr = np.arange(10,20,1)\n",
    "print(arr) #[10 11 12 13 14 15 16 17 18 19]\n",
    "\n",
    "for i in arr:      #data만 추출해서 사용하는 for \n",
    "    print(\"data : {}\".format(i))\n",
    "#data : 10\n",
    "#data : 11\n",
    "#data : 12\n",
    "#data : 13\n",
    "#data : 14\n",
    "#data : 15\n",
    "#data : 16\n",
    "#data : 17\n",
    "#data : 18\n",
    "#data : 19\n",
    "\n",
    "for idx, data in enumerate(arr):\n",
    "    print(\"index : {}, data: {}\".format(idx,data))\n",
    "#index : 0, data: 10\n",
    "#index : 1, data: 11\n",
    "#index : 2, data: 12\n",
    "#index : 3, data: 13\n",
    "#index : 4, data: 14\n",
    "#index : 5, data: 15\n",
    "#vindex : 6, data: 16\n",
    "#index : 7, data: 17\n",
    "#vindex : 8, data: 18\n",
    "#index : 9, data: 19\n",
    "    \n",
    "arr = np.arange(0,5,1)\n",
    "print(arr) #[0 1 2 3 4]\n",
    "print(arr[2]) #indexing #2 \n",
    "print(arr[1:3]) #slicing #[1 2] \n",
    "print(arr[:3]) #slicing [0 1 2]\n",
    "print(arr[2:]) #slicing [2 3 4]\n",
    "print(arr[1::2]) # slicing[1 3]  :2 <-2칸씩 뛰어요 \n",
    "print(arr[4::]) #맨 마지막 요소만 슬라이싱 할거야 \n",
    "# 좀더 범용성 있게 코드를 주면 \n",
    "print(arr[-1:]) #길이에 상관없이 맨 마지막거 slicing (마지막에서 끝까지) \n",
    "\n",
    "arr = np.arange(0,12,1).reshape(3,4).copy()\n",
    "print(arr)\n",
    "#[[ 0  1  2  3]\n",
    "# [ 4  5  6  7]\n",
    "# [ 8  9 10 11]]\n",
    "print(arr[1,2]) #indexing #6\n",
    "print(arr[:,0:1]) #[[0]\n",
    "                  # [4]\n",
    "                  # [8]]\n",
    "# 만약 [5,6,9,10]을 뽑아내고 싶다면 \n",
    "print(arr[1:2, 1:2].ravel()) #[5]\n",
    "print(arr[1:3, 1:3].ravel()) #[ 5  6  9 10]\n",
    "\n"
   ]
  },
  {
   "cell_type": "code",
   "execution_count": 73,
   "metadata": {},
   "outputs": [
    {
     "name": "stdout",
     "output_type": "stream",
     "text": [
      "[5 8 9 5 0 0 1 7 6 9]\n",
      "[8 0 0 6]\n",
      "[False  True False False  True  True False False  True False]\n",
      "[8 0 0 6]\n"
     ]
    }
   ],
   "source": [
    "## Boolean Indexing & Fancy Indexing \n",
    "## boolean indexing은 mask를 이용해서 배열의 각 요소의 선택여부를 T,F로 지정하여 \n",
    "## True요소만 선택하는 방식 \n",
    "\n",
    "## ex/ 정수형 난수를 추출해보아요 \n",
    "## 0부터 9까지 정수형 난수를 1차원으로 10개 균등분포를 이용하여 추출 \n",
    "np.random.seed(1)\n",
    "arr = np.random.randint(0,10,(10,))\n",
    "print(arr) #[5 8 9 5 0 0 1 7 6 9]\n",
    "\n",
    "## 여기에서 짝수만 추출할 거임 \n",
    "result = list()\n",
    "for i in arr:\n",
    "    if i%2 == 0:\n",
    "        result.append(i)\n",
    "result = np.array(result)\n",
    "print(result)  #[8 0 0 6]\n",
    "## 이와 같이 로직을 이용해서 할 수 있지만 한방에 할 수 있는 방식이 있다. \n",
    "\n",
    "## boolean indenxing 적용\n",
    "## 조건에 맞는 mask를 만들어요 \n",
    "print(arr%2 == 0) #[False  True False False  True  True False False  True False]\n",
    "print(arr[arr%2 == 0]) #[8 0 0 6]   #루프를 안돌고 한줄에 해결할 수 있다.(수행속도!)\n"
   ]
  },
  {
   "cell_type": "code",
   "execution_count": 95,
   "metadata": {},
   "outputs": [
    {
     "name": "stdout",
     "output_type": "stream",
     "text": [
      "[[ 0  1  2  3]\n",
      " [ 4  5  6  7]\n",
      " [ 8  9 10 11]]\n",
      "10\n",
      "[2 6]\n",
      "2\n",
      "[ 2 10]\n",
      "[[ 1  2  3]\n",
      " [ 9 10 11]]\n",
      "[[ 0  2]\n",
      " [ 4  6]\n",
      " [ 8 10]]\n",
      "[ 5 10]\n",
      "[[ 5  6]\n",
      " [ 9 10]]\n",
      "[[ 5  6]\n",
      " [ 9 10]]\n"
     ]
    }
   ],
   "source": [
    "## Fancy Indexing 적용 \n",
    "arr = np.arange(0,12,1).reshape(3,4).copy()\n",
    "print(arr)\n",
    "#[[ 0  1  2  3]\n",
    "# [ 4  5  6  7]\n",
    "# [ 8  9 10 11]]\n",
    "print(arr[2,2])   #10\n",
    "print(arr[1:2,2]) #[6] #2행,3행에서 3열(slicing이니깐 1:2중 1만 찍힘)\n",
    "\n",
    "#print(arr[행,열])\n",
    "print(arr[0,2],) #2\n",
    "print(arr[[0,2],2]) #[ 2 10]\n",
    "print(arr[[0,2],1:]) #[[ 1  2  3]\n",
    "                     # [ 9 10 11]]\n",
    "print(arr[:,[0,2]])  # [[ 0  2]\n",
    "                     #  [ 4  6]\n",
    "                     #  [ 8 10]]\n",
    "print(arr[[1,2],[1,2]]) # [ 5 10]  \n",
    "                        # 출력?? 둘다 fancy indexing으로 뽑아내면 안됨.\n",
    "\n",
    "#방법1\n",
    "print(arr[[1,2]][:,[1,2]])\n",
    "#  [[ 5  6]\n",
    "#   [ 9 10]]\n",
    "\n",
    "#방법2\n",
    "print(arr[np.ix_([1,2],[1,2])])\n",
    "#  [[ 5  6]\n",
    "#   [ 9 10]]"
   ]
  },
  {
   "cell_type": "code",
   "execution_count": 92,
   "metadata": {},
   "outputs": [
    {
     "name": "stdout",
     "output_type": "stream",
     "text": [
      "[[1 2 3]\n",
      " [4 5 6]]\n",
      "[[6 9 6]\n",
      " [1 1 2]]\n",
      "[[ 7 11  9]\n",
      " [ 5  6  8]]\n",
      "[[11 12 13]\n",
      " [14 15 16]]\n",
      "[[2 4 6]\n",
      " [5 7 9]]\n"
     ]
    },
    {
     "ename": "TypeError",
     "evalue": "data type not understood",
     "output_type": "error",
     "traceback": [
      "\u001b[1;31m---------------------------------------------------------------------------\u001b[0m",
      "\u001b[1;31mTypeError\u001b[0m                                 Traceback (most recent call last)",
      "\u001b[1;32m<ipython-input-92-d3397867ad44>\u001b[0m in \u001b[0;36m<module>\u001b[1;34m\u001b[0m\n\u001b[0;32m     25\u001b[0m \u001b[1;33m\u001b[0m\u001b[0m\n\u001b[0;32m     26\u001b[0m \u001b[1;31m#* broadcasting이 다 되는 것은 아니다\u001b[0m\u001b[1;33m\u001b[0m\u001b[1;33m\u001b[0m\u001b[1;33m\u001b[0m\u001b[0m\n\u001b[1;32m---> 27\u001b[1;33m \u001b[0marr2\u001b[0m \u001b[1;33m=\u001b[0m \u001b[0mnp\u001b[0m\u001b[1;33m.\u001b[0m\u001b[0marray\u001b[0m\u001b[1;33m(\u001b[0m\u001b[1;36m1\u001b[0m\u001b[1;33m,\u001b[0m\u001b[1;36m2\u001b[0m\u001b[1;33m)\u001b[0m\u001b[1;33m\u001b[0m\u001b[1;33m\u001b[0m\u001b[0m\n\u001b[0m\u001b[0;32m     28\u001b[0m \u001b[0mprint\u001b[0m\u001b[1;33m(\u001b[0m\u001b[0marr1\u001b[0m \u001b[1;33m+\u001b[0m \u001b[0marr2\u001b[0m\u001b[1;33m)\u001b[0m        \u001b[1;31m# 1차 배열 [1,2] => ?\u001b[0m\u001b[1;33m\u001b[0m\u001b[1;33m\u001b[0m\u001b[0m\n\u001b[0;32m     29\u001b[0m                           \u001b[1;31m#\u001b[0m\u001b[1;33m\u001b[0m\u001b[1;33m\u001b[0m\u001b[1;33m\u001b[0m\u001b[0m\n",
      "\u001b[1;31mTypeError\u001b[0m: data type not understood"
     ]
    }
   ],
   "source": [
    "## ndarray의 연산 \n",
    "## R의 vector연산과 유사 \n",
    "np.random.seed(1)\n",
    "arr1 = np.arange(1,7,1).reshape(2,3).copy()\n",
    "arr2 = np.random.randint(1,10,(2,3))\n",
    "print(arr1)\n",
    "#[[1 2 3]\n",
    "# [4 5 6]]\n",
    "print(arr2)\n",
    "#[[6 9 6]\n",
    "# [1 1 2]]\n",
    "\n",
    "print(arr1 + arr2) #python의 list에서 + 연산하면 리스트가 늘어난다.(연결)\n",
    "#[[ 7 11  9]       #numpy ndarray에서 + 연산은 vector연산(원소합)\n",
    "# [ 5  6  8]]\n",
    " \n",
    "print(arr1 + 10) # 원래는 연산이 안되야 정상(타입도 틀리고, 사이즈도 다르다)\n",
    "#[[11 12 13]     # 이렇게 타입이 안맞는 경우 scalar값을 broadcasting 시키는 기능존재\n",
    "# [14 15 16]]    # broadcasting: 행으로, 열로 늘리겠다. (2행3열짜리 10으로 채워진 ndarray)\n",
    "\n",
    "arr2 = np.array([1,2,3])  #직접 원소를 기재한 1차원 nparray\n",
    "print(arr1 + arr2)        # broadcasting: \n",
    "#[[2 4 6]                 #1차 배열 [1,2,3] =>  [[1,2,3]\n",
    "# [5 7 9]]                #                     [1,2,3]]    \n",
    "\n",
    "#* broadcasting이 다 되는 것은 아니다 \n",
    "arr2 = np.array(1,2)\n",
    "print(arr1 + arr2)        # 1차 배열 [1,2] => ?\n",
    "                          # 에러가 드게 된다.(TypeError: data type not understood)\n"
   ]
  },
  {
   "cell_type": "code",
   "execution_count": 110,
   "metadata": {
    "scrolled": true
   },
   "outputs": [
    {
     "name": "stdout",
     "output_type": "stream",
     "text": [
      "[[ 0  1  2  3]\n",
      " [ 4  5  6  7]\n",
      " [ 8  9 10 11]]\n",
      "66\n",
      "66\n",
      "[ 0  1  3  6 10 15 21 28 36 45 55 66]\n",
      "5.5\n",
      "11\n",
      "0\n",
      "3.452052529534663\n",
      "[[0.         1.         1.41421356 1.73205081]\n",
      " [2.         2.23606798 2.44948974 2.64575131]\n",
      " [2.82842712 3.         3.16227766 3.31662479]]\n",
      "[[      -inf 0.         0.30103    0.47712125]\n",
      " [0.60205999 0.69897    0.77815125 0.84509804]\n",
      " [0.90308999 0.95424251 1.         1.04139269]]\n",
      "[0 1 2 3 4]\n",
      "10\n",
      "10\n",
      "[[ 0  1  2  3]\n",
      " [ 4  5  6  7]\n",
      " [ 8  9 10 11]]\n",
      "66\n",
      "[12 15 18 21]\n"
     ]
    },
    {
     "name": "stderr",
     "output_type": "stream",
     "text": [
      "C:\\Users\\student\\Anaconda3\\envs\\cpu_env\\lib\\site-packages\\ipykernel_launcher.py:34: RuntimeWarning: divide by zero encountered in log10\n"
     ]
    }
   ],
   "source": [
    "## 기본적인 집계(통계)함수\n",
    "## numpy는 숫자처리에 최적화되어 있는 패키지여서 \n",
    "## 빠르고 다양한 함수들을 제공한다. (사실 loop는 최후의 수단)\n",
    "arr = np.arange(0,12,1).reshape(3,4).copy()\n",
    "print(arr)\n",
    "#[[ 0  1  2  3]\n",
    "# [ 4  5  6  7]\n",
    "# [ 8  9 10 11]]\n",
    "\n",
    "#ndarray의 sum 함수\n",
    "print(np.sum(arr)) #66, 실제 기능을 수행하는 함수\n",
    "print(arr.sum()) #66, numpy의 method \n",
    "                 #기능적인 차이는없다 \n",
    "#ndarray의 누적함수\n",
    "print(np.cumsum(arr)) #1차원으로 변환\n",
    "#[ 0  1  3  6 10 15 21 28 36 45 55 66]\n",
    "\n",
    "#(드디어) ndarray에서는 평균도 구할수 있다.\n",
    "print(np.mean(arr)) #5.5\n",
    "# ndarray의 최대값\n",
    "print(np.max(arr)) #11\n",
    "# ndarray의 최소값\n",
    "print(np.min(arr)) #0\n",
    "# ndarray의 표준편차\n",
    "print(np.std(arr)) #3.452052529534663\n",
    "# ndarray의 제곱근\n",
    "print(np.sqrt(arr)) \n",
    "#[[0.         1.         1.41421356 1.73205081]\n",
    "# [2.         2.23606798 2.44948974 2.64575131]\n",
    "# [2.82842712 3.         3.16227766 3.31662479]]\n",
    "\n",
    "# 로그 및 상용로그를 구할 수 있다. \n",
    "#(log의 기원은 큰 수를 쉽게 계산하기 위하여 등장)\n",
    "print(np.log10(arr)) # 자연로그, 상용로그를 사용할 수 있다. \n",
    "#[[      -inf 0.         0.30103    0.47712125]\n",
    "# [0.60205999 0.69897    0.77815125 0.84509804]\n",
    "# [0.90308999 0.95424251 1.         1.04139269]]\n",
    "\n",
    "\n",
    "## axis : 축\n",
    "## 축 개념을 이해해 보자 \n",
    "## 위에 있는 집계함수를 이용할 때 axis 개념을 사용하게 된다. \n",
    "## 만약 axis를 명시하지 않으면, axis를 None으로 설정하고 대상범위를 ndarray로 지정 \n",
    "\n",
    "## ex1/ 1차원 ndarray \n",
    "arr = np.arange(0,5,1)\n",
    "print(arr) #[0 1 2 3 4] \n",
    "print(arr.sum()) #10  # axis를 명시하지 않은 경우 \n",
    "print(arr.sum(axis=0)) #10 #1차원에서 axis=0 이면 '열 방향(→)'을 지칭함(축이 하나뿐)\n",
    "#print(arr.sum(axis=1)) #에러(해당축이 1차원에서 존재하지 않음)\n",
    "\n",
    "## ex2/ 2차원 ndarray \n",
    "arr = np.arange(0,12,1).reshape(3,4).copy()\n",
    "print(arr)\n",
    "#[[ 0  1  2  3]\n",
    "# [ 4  5  6  7]\n",
    "# [ 8  9 10 11]]\n",
    "print(arr.sum())\n",
    "# 66\n",
    "print(arr.sum(axis=0)) # 2차원에서 axis=0이면 '행방향(↓)'을 지칭함 (행:열)\n",
    "#[12 15 18 21]         # 반대로 axis=1이면 '열방향(→)'을 지칭 \n",
    "\n",
    "## ex3/ 3차원 ndarray # 3차원은? (면:행:열) \n",
    "                      # 당연히 axis도 해당 순서를 따르지 않을까? \n",
    "    \n",
    "## 정리\n",
    "## 당연하게.. 일반 로직으로 프로그램하는것보다는 집계함수를 이용해서 처리하는게 훨씬 효율적"
   ]
  },
  {
   "cell_type": "code",
   "execution_count": 123,
   "metadata": {},
   "outputs": [
    {
     "name": "stdout",
     "output_type": "stream",
     "text": [
      "[[6 9 6 1 1]\n",
      " [2 8 7 3 5]]\n"
     ]
    },
    {
     "data": {
      "text/plain": [
       "5"
      ]
     },
     "execution_count": 123,
     "metadata": {},
     "output_type": "execute_result"
    }
   ],
   "source": [
    "##응용\n",
    "## 다음 ndarray에서 5보다 큰 값의 개수는? \n",
    "np.random.seed(1)\n",
    "arr = np.random.randint(1,10,(2,5))\n",
    "print(arr)\n",
    "#[[6 9 6 1 1]\n",
    "# [2 8 7 3 5]]\n",
    "(arr>5).sum() #5\n",
    "arr[arr>5].size #5 \n"
   ]
  },
  {
   "cell_type": "code",
   "execution_count": 121,
   "metadata": {},
   "outputs": [
    {
     "name": "stdout",
     "output_type": "stream",
     "text": [
      "[[ 0  1  2  3]\n",
      " [ 4  5  6  7]\n",
      " [ 8  9 10 11]]\n",
      "[ 0  2  3  4  5  6  7  8  9 10 11]\n",
      "[[ 0  1  2  3]\n",
      " [ 8  9 10 11]]\n"
     ]
    }
   ],
   "source": [
    "## delete\n",
    "## 맨날 들고오기만 했는데 지우는것도 알려줌 \n",
    "## delete()함수는 axis을 기준으로 행과 열을 삭제\n",
    "## axis를 지정하지 않으면 1차배열로 변환한 후 해당 요소를 삭제\n",
    "## 원본은 유지하고 삭제된 복사본을 return\n",
    "\n",
    "arr = np.arange(0,12,1).reshape(3,4).copy()\n",
    "print(arr)\n",
    "#[[ 0  1  2  3]\n",
    "# [ 4  5  6  7]\n",
    "#[ 8  9 10 11]]\n",
    "\n",
    "# axis를 지정하지 않고 삭제 처리 \n",
    "result = np.delete(arr,1) #1차 배열로 변환환 후 해당, 인덱스를 삭제 \n",
    "print(result) #[ 0  2  3  4  5  6  7  8  9 10 11] #1이 날라감 \n",
    "\n",
    "# axis를 지정하면? \n",
    "result = np.delete(arr,1,axis=0) #1차 배열로 변환한 후 해당 인덱스를 삭제\n",
    "print(result)                    #행 방향으로 1 => 4,5,6,7 날라감\n",
    "#[[ 0  1  2  3]\n",
    "# [ 8  9 10 11]]\n",
    "\n"
   ]
  },
  {
   "cell_type": "code",
   "execution_count": null,
   "metadata": {},
   "outputs": [],
   "source": []
  }
 ],
 "metadata": {
  "kernelspec": {
   "display_name": "[CPU_ENV]",
   "language": "python",
   "name": "cpu_env"
  },
  "language_info": {
   "codemirror_mode": {
    "name": "ipython",
    "version": 3
   },
   "file_extension": ".py",
   "mimetype": "text/x-python",
   "name": "python",
   "nbconvert_exporter": "python",
   "pygments_lexer": "ipython3",
   "version": "3.6.9"
  }
 },
 "nbformat": 4,
 "nbformat_minor": 2
}
