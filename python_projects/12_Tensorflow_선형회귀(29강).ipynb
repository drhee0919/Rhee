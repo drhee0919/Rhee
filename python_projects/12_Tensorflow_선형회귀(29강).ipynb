{
 "cells": [
  {
   "cell_type": "code",
   "execution_count": 3,
   "metadata": {},
   "outputs": [
    {
     "data": {
      "text/plain": [
       "\"\\n머신러닝 \\n\\nexplicit program으로 해결할 수 없는 문제를 해결하기 위한 프로그래밍 방식(방법)\\n\\n머신러닝의 범주 \\n1. 지도학습: 학습데이터의 label이 붙어있는 형태  \\n    - linear regression\\n      : 학습데이터가 주어진다.(아무데이터나 지도학습X)\\n        경향성을 가지는 데이터를 이용해야 한다. \\n        x = 1,2,3    y = 1,2,3\\n        하나의 가설을 설정하고 그 가설을 완성해 나가는 과정(직선이 될수도, 2차함수가 될수도, 면, 입체도 가능)\\n        통상 해당 학습 데이터를 가장 잘 표현할 수 있는 직선을 찾는 형태로 나타냄  \\n        가설 : H(x) = Wx + b (W와 b를 찾아보아요)\\n        가장 적합한 가설(직선)을 찾기위해 '비용함수(cost function)'\\n        => 최소제곱법이라는 방법으로 데이터와 가설간의 차이를 계산 \\n        비용함수가 최소가 되는 W와 b의 값을 찾는 게 가장 적합한 가설을 찾는 방법이 된다. \\n    - logistic regression \\n    - multinomial classification \\n    \\n2. 비지도학습\\n\\n3. 강화학습\\n\""
      ]
     },
     "execution_count": 3,
     "metadata": {},
     "output_type": "execute_result"
    }
   ],
   "source": [
    "'''\n",
    "머신러닝 \n",
    "\n",
    "explicit program으로 해결할 수 없는 문제를 해결하기 위한 프로그래밍 방식(방법)\n",
    "\n",
    "머신러닝의 범주 \n",
    "1. 지도학습: 학습데이터의 label이 붙어있는 형태  \n",
    "    - linear regression\n",
    "      : 학습데이터가 주어진다.(아무데이터나 지도학습X)\n",
    "        경향성을 가지는 데이터를 이용해야 한다. \n",
    "        x = 1,2,3    y = 1,2,3\n",
    "        하나의 가설을 설정하고 그 가설을 완성해 나가는 과정(직선이 될수도, 2차함수가 될수도, 면, 입체도 가능)\n",
    "        통상 해당 학습 데이터를 가장 잘 표현할 수 있는 직선을 찾는 형태로 나타냄  \n",
    "        가설 : H(x) = Wx + b (W와 b를 찾아보아요)\n",
    "        가장 적합한 가설(직선)을 찾기위해 '비용함수(cost function)'\n",
    "        => 최소제곱법이라는 방법으로 데이터와 가설간의 차이를 계산 \n",
    "        비용함수가 최소가 되는 W와 b의 값을 찾는 게 가장 적합한 가설을 찾는 방법이 된다. \n",
    "    - logistic regression \n",
    "    - multinomial classification \n",
    "    \n",
    "2. 비지도학습\n",
    "\n",
    "3. 강화학습\n",
    "'''"
   ]
  },
  {
   "cell_type": "code",
   "execution_count": 16,
   "metadata": {},
   "outputs": [
    {
     "name": "stdout",
     "output_type": "stream",
     "text": [
      "0번째, train값:None, w값: [-0.58949625], b값: [-0.12844382], cost값 : 15.961504936218262\n",
      "300번째, train값:None, w값: [0.8978086], b값: [0.2323049], cost값 : 0.007779054809361696\n",
      "600번째, train값:None, w값: [0.95035994], b값: [0.11284367], cost값 : 0.0018355451757088304\n",
      "900번째, train값:None, w값: [0.975887], b값: [0.05481458], cost값 : 0.0004331136879045516\n",
      "1200번째, train값:None, w값: [0.988287], b값: [0.02662647], cost값 : 0.00010219690011581406\n",
      "1500번째, train값:None, w값: [0.9943103], b값: [0.01293394], cost값 : 2.4113875042530708e-05\n",
      "1800번째, train값:None, w값: [0.99723625], b값: [0.00628275], cost값 : 5.690129910362884e-06\n",
      "2100번째, train값:None, w값: [0.99865746], b값: [0.00305191], cost값 : 1.3427428484646953e-06\n",
      "2400번째, train값:None, w값: [0.9993477], b값: [0.00148279], cost값 : 3.1701765124125814e-07\n",
      "2700번째, train값:None, w값: [0.9996828], b값: [0.00072085], cost값 : 7.489078512890046e-08\n",
      "3000번째, train값:None, w값: [0.99984556], b값: [0.00035076], cost값 : 1.7738088331498147e-08\n",
      "3300번째, train값:None, w값: [0.9999246], b값: [0.00017102], cost값 : 4.218785765175426e-09\n",
      "[3.9998693]\n"
     ]
    }
   ],
   "source": [
    "## linear regression을 tensorflow를 이용해서 구현해보자 \n",
    "## y=x의 구조를 띄는 데이터가 있다고 가정 \n",
    "\n",
    "# 1. 필요한 module을 import \n",
    "import tensorflow as tf \n",
    "\n",
    "# 2. training data set (학습데이터 설정하기)\n",
    "x_data = [1,2,3]\n",
    "y_data = [1,2,3]\n",
    "\n",
    "# 3. placeholder(tensorflow그래프에 입력을 주기위한 파라미터 기능)\n",
    "x = tf.placeholder(dtype=tf.float32)\n",
    "y = tf.placeholder(dtype=tf.float32)\n",
    "\n",
    "# 4. Weight, bias 범위 지정하기\n",
    "W = tf.Variable(tf.random_normal([1], name=\"weight\"))\n",
    "b = tf.Variable(tf.random_normal([1], name=\"bias\"))\n",
    "\n",
    "# 5. 가설을 하나 지정해주기 \n",
    "H = W * x + b\n",
    "\n",
    "# 6. 비용함수 지정해주기 (cost function, loss function)\n",
    "cost = tf.reduce_mean(tf.square(H - y))\n",
    "\n",
    "# 7. train node를 생성하기 (어떻게 학습할 것인가)\n",
    "optimizer = tf.train.GradientDescentOptimizer(learning_rate=0.01)\n",
    "train = optimizer.minimize(cost) #비용을 최소화하는 것이 곧 train(학습)\n",
    "\n",
    "# 8. 그래프를 실행시키기 위해서 runner(session)\n",
    "#   Variable을 사용하면 학습하기 전에 반드시 초기화를 해야한다. \n",
    "sess = tf.Session()\n",
    "sess.run(tf.global_variables_initializer())   #초기화 \n",
    "\n",
    "# 9. learning 작업(학습 시작)\n",
    "for step in range(3301):\n",
    "    _,w_val,cost_val,b_val = sess.run([train,W,cost,b], #사용하지 않는 변수는 _로 표현 \n",
    "                                   feed_dict={\n",
    "                                       x: x_data,\n",
    "                                       y: y_data\n",
    "                                   })\n",
    "    if step % 300 == 0:\n",
    "        print(\"{}번째, train값:{}, w값: {}, b값: {}, cost값 : {}\" .format(step,_,w_val,b_val,cost_val))\n",
    "\n",
    "#학습이 끝남 => 최적의 W와 b값을 찾아내서 H를 만들어냄 \n",
    "#prediction \n",
    "\n",
    "print(sess.run(H, feed_dict = {x: [4]}))\n",
    "\n"
   ]
  },
  {
   "cell_type": "code",
   "execution_count": null,
   "metadata": {},
   "outputs": [],
   "source": [
    "## data loading \n",
    "## 학습데이터를 확보해서 전처리 과정을 거쳐야 한다.  "
   ]
  },
  {
   "cell_type": "code",
   "execution_count": null,
   "metadata": {},
   "outputs": [],
   "source": []
  }
 ],
 "metadata": {
  "kernelspec": {
   "display_name": "[CPU_ENV]",
   "language": "python",
   "name": "cpu_env"
  },
  "language_info": {
   "codemirror_mode": {
    "name": "ipython",
    "version": 3
   },
   "file_extension": ".py",
   "mimetype": "text/x-python",
   "name": "python",
   "nbconvert_exporter": "python",
   "pygments_lexer": "ipython3",
   "version": "3.6.9"
  }
 },
 "nbformat": 4,
 "nbformat_minor": 2
}
