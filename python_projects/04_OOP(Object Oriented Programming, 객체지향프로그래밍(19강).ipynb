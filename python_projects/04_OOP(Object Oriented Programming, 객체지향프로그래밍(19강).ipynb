{
 "cells": [
  {
   "cell_type": "code",
   "execution_count": 28,
   "metadata": {},
   "outputs": [
    {
     "name": "stdout",
     "output_type": "stream",
     "text": [
      "학생이름은: 홍길동\n",
      "홍길동\n",
      "한국\n",
      "학생이름은: 김연아\n",
      "김연아\n",
      "한국\n"
     ]
    }
   ],
   "source": [
    "## 1. 객체 지향 프로그래밍(Object Oriented Programming)이란 ?\n",
    "\n",
    "#함수 기반의 프로그래밍(절차적 프로그래밍)의 장점이 무엇일까?\n",
    "#: 사람의 사고와 잘 맞는다. (분석적 사고) →  상대적으로 프로그래밍 하기 쉽다. \n",
    "#  (빨리 만들 수 있고 적은 사람으로 만들 수 있다.(비용절감))\n",
    "#1970년부터 시작해서 지금까지 이 방식으로 프로그래밍을 하고 있다. \n",
    "# 정보량이 많아지기 시작하면서 세상이 급변하기 시작 \n",
    "# => 프로그램의 유지보수 요구가 많아지기 시작 (개발비용 능가, 배보다 배꼽이 커짐)\n",
    "# (고찰결과) 절차적 프로그램으로 프로그램을 작성해서 이런 문제가 발생했음을 발견 \n",
    "# (만들때는 쉽게 만들지 몰라도 변화하기가 어려운 프로그래밍 기법)\n",
    "# 어떤 방식으로 프로그램을 만들면 유지보수측면에서 이점이 있을까? => 객체지향방식 등장 \n",
    "# 객체지향 패러다임의 시작 : 프로그램, 데이터베이스 전부다 객체지향화\n",
    "\n",
    "# 객체지향이 어떤 프로그래밍 방식인지를 인지\n",
    "# :현실세계에 잘 부합하는 (변화에 잘 적응하는) 프로그램을 만들기 위해 해결해야 하는 문제를(현실세계의 문제)\n",
    "# 프로그램으로 똑같이 모델링하면 되는것이 아닌가? \n",
    "# 예) '은행' 프로그램을 만들고자 한다. 은행프로그램을 구성하는 구성요소를 파악 \n",
    "# : 텔러, 고객, 은행계좌, 지점, 테이블, .... (무궁무진하게 나옴, 심지어 분석하는 사람마다 다름)\n",
    "# 한편 기능은? => 누가 분석하는가가 거의 차이가 없음(은행이 뭐 돈빌려주고 돈버는데지.. )\n",
    "# 기능으로 자르는게 아니라, 구성요소간에 상호 일어나는 행위들을 정의하는 프로그래밍 방식이 바로 OOP\n",
    "# 객체들은 크게 2가지로 파악할 수 있다. : 상태(값으로 표현) & 행위(동작으로 표현) \n",
    "# 예) 은행계좌의 '값' : 잔액, 예금주, 계좌번호, ... (무궁무진, 쓸데있는 것만 남김)\n",
    "#     은행계좌의 '행위' : 출금, 입금, 조회(자신이 갖고있는 상태값으로 동작하는 것이 행위)\n",
    "# 이와같이 세상의 삼라만상을 이 2가지로 표현하기로 함 \n",
    "#  => 추상화(abstraction) : 아주 관념적인 대상을 상태와 행위로 간단하게 define 하는 것 \n",
    "\n",
    "\n",
    "\n",
    "## 2. 클래스(class) : properties, method, constructor 로 구성 \n",
    "# 프로그래밍에서 이러한 객체를 모델링하는 단위로서 class를 사용한다.(객체 모델링의 수단)  \n",
    "# 클래스의 이름은 대문자로 시작하는 것이 관용적(국룰, 함수명과 구분목적!!(함수명은 소문자로 시작))\n",
    "\n",
    "# ex/ 학생 클래스를 생성해보자! \n",
    "class Student : #학생에 대한 내용을 묘사하겠다. \n",
    "    #상태(값) : 변수로 표현 (이름, 학과, 학년, 학번, 성별, 나이, 키, 몸무게.....)\n",
    "            # => 학생으로서 필수적인 것이 있고 굳이 학생으로서 필요 없는 것이 있다. \n",
    "            #    그 여부를 판단하는 것은 프로그래머마다 다름(방향성이 다양해짐)\n",
    "            #    설계를 잘못하게 되면 프로그램이 산으로 간다.(코딩이 어려움)\n",
    "            # 이 변수를 부르는 명칭(용어)은 프로그래밍 언어 마다 다름 \n",
    "            #  => Python : properties 라 지칭 \n",
    "    s_nation = \"\" #class variable, 모든 사람이 공유하는 내용으로서 선언 \n",
    "            \n",
    "                    \n",
    "    def __init__(self,n): #생성자(consturctor) : 뒷 설명 참조! \n",
    "        self.s_name = n # 학생 이름을 나타내는 property,instance variable(객체가 독립적으로 갖는 변수)\n",
    "        self.s_num =\"\"   # 학번을 나타내는 property, instance variable \n",
    "        self.s_major = [] #복수전공일 수 도 있다. \n",
    "    \n",
    "    \n",
    "    \n",
    "    #행위(동작) : 함수로 표현 (def) => 객체지향에서는 기능, 메소드(method)로 지칭\n",
    "    def display(self): # '학생 정보' 를 출력하는 내용을 출력하는 기능 \n",
    "        print(\"학생이름은: {}\".format(self.s_name))\n",
    "     \n",
    "    \n",
    "     # ※ 생성자(constructor) properties, method 와 함께 클래스의 또다른 구성요소 \n",
    "    # 클래스가 묘사를 하면, 생성자는 클래스에 묘사된 정보를 기반으로 메모리 공간을 잡는다. \n",
    "    # 즉 클래스는, 객체 모델링 수단이자, '데이터 타입' => 우리가 만든 데이터 타입, \"추상 데이터 타입\" \n",
    "    # https://andamiro25.tistory.com/38 참고 \n",
    "t = Student(\"홍길동\")  #객체 \n",
    "                       # => 이 코드에 의해서 만들어진 메모리 저장공간(instance) => 즉, 객체                       \n",
    "                       # => class내부에 정의된 생성자라고 불리는 함수가 호출된다. (상단 def__init__ 참조)    \n",
    "t.display()\n",
    "print(t.s_name)        #t가 가지는 s_name #홍길동\n",
    "Student.s_nation = \"한국\"\n",
    "print(t.s_nation)\n",
    "      \n",
    "k = Student(\"김연아\")\n",
    "k.display()\n",
    "print(k.s_name)\n",
    "print(k.s_nation)\n",
    "\n",
    "\n",
    "\n"
   ]
  },
  {
   "cell_type": "code",
   "execution_count": 1,
   "metadata": {},
   "outputs": [
    {
     "name": "stdout",
     "output_type": "stream",
     "text": [
      "학생이름은: 홍길동\n",
      "학생이름은: 김연아\n",
      "김연아\n",
      "\n"
     ]
    }
   ],
   "source": [
    "## 전공을 추가해보자(리스트 자료구조 추가)\n",
    "\n",
    "class Student : \n",
    "    s_nation = \"\" \n",
    "                    \n",
    "    def __init__(self,n): #생성자 \n",
    "        self.s_name = n #instance variable\n",
    "        self.s_num =\"\"  #instance variable \n",
    "        self.s_major = [] #복수전공일 수 도 있다. 리스트를 선언 \n",
    "    \n",
    "    \n",
    "    \n",
    "    def display(self): # '학생 정보' 를 출력하는 내용을 출력하는 기능 \n",
    "        print(\"학생이름은: {}\".format(self.s_name))\n",
    "\n",
    "students = list()   #3칸짜리 list 선언 \n",
    "students.append(Student(\"홍길동\"))  #객체\n",
    "\n",
    "students[0].display()\n",
    "      \n",
    "k = Student(\"김연아\")\n",
    "k.display()\n",
    "\n",
    "print(k.s_name)\n",
    "print(k.s_nation)\n",
    "\n"
   ]
  },
  {
   "cell_type": "code",
   "execution_count": null,
   "metadata": {},
   "outputs": [],
   "source": []
  }
 ],
 "metadata": {
  "kernelspec": {
   "display_name": "[CPU_ENV]",
   "language": "python",
   "name": "cpu_env"
  },
  "language_info": {
   "codemirror_mode": {
    "name": "ipython",
    "version": 3
   },
   "file_extension": ".py",
   "mimetype": "text/x-python",
   "name": "python",
   "nbconvert_exporter": "python",
   "pygments_lexer": "ipython3",
   "version": "3.6.9"
  }
 },
 "nbformat": 4,
 "nbformat_minor": 2
}
