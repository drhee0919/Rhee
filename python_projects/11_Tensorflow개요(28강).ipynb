{
 "cells": [
  {
   "cell_type": "code",
   "execution_count": 2,
   "metadata": {},
   "outputs": [
    {
     "name": "stdout",
     "output_type": "stream",
     "text": [
      "Tensor(\"Const_1:0\", shape=(), dtype=string)\n",
      "Hello World!!\n"
     ]
    }
   ],
   "source": [
    "# Tensorflow \n",
    "# 다른 package, module에 비해서 살짝 특이한 형태의 library\n",
    "# 다른 package들이 특정 목적을 위해서 함수를 쓴다고 한다면 tensorflow는 전체적인 그래프를 만들기 위헤\n",
    "# 나중에 일괄적으로 수행될 node를 생성함 \n",
    "#Tensorflow의 3가지 개념 \n",
    "# 1. Node : 수학적인 연산을 담당, 데이터의 입출력을 담당 \n",
    "# 2. edge : 노드와 노드를 연셜시키고 잇는 통로 \n",
    "# 3. Tensor : 다차원 배열 형태의 동적 데이터 (텐서가 흐른다 )\n",
    "# 함수를 만들어놓고 나중에 실행을누루면 한번에 tensorflow를 수행함. \n",
    "import tensorflow as tf \n",
    "\n",
    "node1 = tf.constant(\"Hello World!!\") #constant:상수 node를 만드는 함수\n",
    "print(node1) #안찍히고 tensor가 표현된다. (tensor 자체를 출력)\n",
    "\n",
    "#tensorflow로 만든 graph를 실행시키기 위해서는 runner가 필요 \n",
    "#session이라고 불리는 runner를 생성해요 \n",
    "sess = tf.Session()\n",
    "sess.run(node1) #b'Hello World!!'\n",
    "                #b는 byte string의 약자 \n",
    "    \n",
    "print(sess.run(node1).decode()) #Hello World!!\n"
   ]
  },
  {
   "cell_type": "code",
   "execution_count": 5,
   "metadata": {},
   "outputs": [
    {
     "name": "stdout",
     "output_type": "stream",
     "text": [
      "10.0\n",
      "[10.0, 20.0, 30.0]\n"
     ]
    }
   ],
   "source": [
    "## 2개의 값을 더하는 tensorflow graph를 생성하고 실행시켜서 값을구해보자 \n",
    "import tensorflow as tf \n",
    "\n",
    "node1 = tf.constant(10, dtype=tf.float32) #상수값을 가지는 숫자를 생성\n",
    "node2 = tf.constant(20, dtype=tf.float32)\n",
    "node3 = node1 + node2\n",
    "\n",
    "\n",
    "#그래프를 실행시켜보자 \n",
    "sess = tf.Session()\n",
    "print(sess.run(node1)) #10\n",
    "\n",
    "#한꺼번에 여러개를실행하고자 한다면? \n",
    "print(sess.run([node1,node2,node3])) #실행시키는 시점에 각 노드의 값이 정해져 있다.\n",
    "                                        #constant(상수이기 때문에)\n",
    "\n"
   ]
  },
  {
   "cell_type": "code",
   "execution_count": 6,
   "metadata": {},
   "outputs": [
    {
     "name": "stdout",
     "output_type": "stream",
     "text": [
      "덧셈결과 : 40.0\n"
     ]
    }
   ],
   "source": [
    "#상수가 아닌 출력시 계산 과정을 연산하고 싶다면? \n",
    "node1 = tf.placeholder(dtype=tf.float32)\n",
    "node2 = tf.placeholder(dtype=tf.float32)\n",
    "\n",
    "node3 = node1 + node2 \n",
    "sess = tf.Session() \n",
    "result = sess.run(node3, \n",
    "                  feed_dict={node1: 10, \n",
    "                             node2: 30})\n",
    "\n",
    "print(\"덧셈결과 : {}\" .format(result))"
   ]
  },
  {
   "cell_type": "code",
   "execution_count": 7,
   "metadata": {},
   "outputs": [
    {
     "name": "stdout",
     "output_type": "stream",
     "text": [
      "450\n",
      "30\n",
      "덧셈결과 : 480.0\n"
     ]
    }
   ],
   "source": [
    "#실행할때마다 입력값을 직접 입력 받고 싶다면 \n",
    "node1 = tf.placeholder(dtype=tf.float32)\n",
    "node2 = tf.placeholder(dtype=tf.float32)\n",
    "\n",
    "node3 = node1 + node2 \n",
    "sess = tf.Session() \n",
    "result = sess.run(node3, \n",
    "                  feed_dict={node1: input(), \n",
    "                             node2: input()})      \n",
    "print(\"덧셈결과 : {}\" .format(result))"
   ]
  },
  {
   "cell_type": "code",
   "execution_count": null,
   "metadata": {},
   "outputs": [],
   "source": []
  }
 ],
 "metadata": {
  "kernelspec": {
   "display_name": "[CPU_ENV]",
   "language": "python",
   "name": "cpu_env"
  },
  "language_info": {
   "codemirror_mode": {
    "name": "ipython",
    "version": 3
   },
   "file_extension": ".py",
   "mimetype": "text/x-python",
   "name": "python",
   "nbconvert_exporter": "python",
   "pygments_lexer": "ipython3",
   "version": "3.6.9"
  }
 },
 "nbformat": 4,
 "nbformat_minor": 2
}
