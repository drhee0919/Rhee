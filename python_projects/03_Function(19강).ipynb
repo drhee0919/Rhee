{
 "cells": [
  {
   "cell_type": "code",
   "execution_count": 9,
   "metadata": {},
   "outputs": [
    {
     "name": "stdout",
     "output_type": "stream",
     "text": [
      "10\n",
      "10\n",
      "100 200 300\n",
      "입력받은 값은 : 100 200 300 \n",
      "최종결과는600\n"
     ]
    }
   ],
   "source": [
    "## 1. funciton(함수)\n",
    "# 일반적으로 logic을 이용해 푼다고 하면 다음과 같은 제어문을 이용한다.\n",
    "# ex/ list내 원소의 합을 구하고 싶을 때\n",
    "a = [1,2,3,4]\n",
    "mySum = 0 \n",
    "for i in a:\n",
    "    mySum += i\n",
    "print(mySum)\n",
    "\n",
    "#다른 방법으로는 Python의 내장함수를 이용한다.\n",
    "mySum = sum(a)\n",
    "print(mySum)\n",
    "\n",
    "# 함수를 이용하면 코드를 간소화 시킬 수 있다는 장점이 있다. \n",
    "# => 가독성이 증가하고, '코드의 재활용성'을 높일 수 있다. \n",
    "# (생 코드를 copy&paste하며 유지보수 한다고 생각해보자(어려움))\n",
    "# 프로그래밍은 일련의 기능들을 함수화 시켜 함수단위로 프로그래밍을 하게 된다. \n",
    "# => '절차적 프로그래밍'이라 지칭 \n",
    "# '절차적 프로그래밍(procedural programming)'이란\n",
    "#다음 함수를 수행해보자 \n",
    "#ex/ 숫자를 입력받아서 해당숫자를 모두 더한 후 '결과값은 : xx입니다.' 형식으로 출력 \n",
    "#  => 문제를 단위기능(더 나눌수 없는 기능) 들로 간주 => 함수化 (숫자를 입력받은 기능, 숫자를 더하는 기능)\n",
    "# 문제 해결에 있어 분석하려고 하는 사람의 사고와 유사한 형태의 프로그래밍 \n",
    "\n",
    "# -함수의 정의 \n",
    "# python에서 함수는 크게 두가지로 구분 가능 : 1) 내장함수 2)사용자 정의 함수(user define 함수)\n",
    "# 사용자 정의 함수를 만드는 keyword는 'def' (definition, 함수의 정의 )\n",
    "# * 함수 이름은 소문자로 시작 : 관용적으로(국룰임)\n",
    "def mySum(a,b,c):     #해당 함수는 a,b,c를 통해 입력을 3개 받겠다 \n",
    "    total = a + b +c  #믿에 나오는 코드는 해당 함수에 걸리도록 indent 처리 \n",
    "    return total \n",
    "# 함수의 정의(definition)란 함수의 이름, 인자형태, 인자개수 + 기능 구현 까지 처리한 것을 정의(완벽히 끝냄)\n",
    "# 함수의 선언(declaration)이란 함수의 이름, 인자형태, 인자개수를 까지 지정 (이런 함수가 있어)\n",
    "# ex1/ 입력받은 숫자를 더하는 함수를 만들자\n",
    "inputValue = input() # 입력받는 내장함수, 무조건 str로 받아요 \n",
    "                     # 숫자 3개를 받아보아요 (\"100 200 300\")\n",
    "print(\"입력받은 값은 : {} \".format(inputValue))\n",
    "var1 = inputValue.split(\" \") #공백을 기준으로 분류하겠다.\n",
    "                             # var1은 list 가 된다. (split : 값을 분리해서 리스트로 리턴)\n",
    "result = mySum(int(var1[0]),int(var1[1]),int(var1[2]))\n",
    "print(\"최종결과는{}\".format(result)) #100 200 300\n",
    "                                     #입력받은 값은 : 100 200 300 \n",
    "                                     #최종결과는600"
   ]
  },
  {
   "cell_type": "code",
   "execution_count": 17,
   "metadata": {},
   "outputs": [
    {
     "name": "stdout",
     "output_type": "stream",
     "text": [
      "최종결과:100\n",
      "최종결과:220\n"
     ]
    }
   ],
   "source": [
    "# ex2/ 전달받은 모든 값들을 더해서 리턴 (3개만이 아님, 몇개를 받든)\n",
    "def mySum2(*args):     # args가 tuple로 간주  #args => (10,20,30,40)\n",
    "    k=0\n",
    "    for i in range(len(args)):\n",
    "        k += args[i]\n",
    "    return k \n",
    "                        # 전달받은 모든 값들을 더해서 리턴 \n",
    "total = mySum2(10,20,30,40)\n",
    "print(\"최종결과:{}\".format(total)) #최종결과:100\n",
    "total = mySum2(30,40,60,90)\n",
    "print(\"최종결과:{}\".format(total)) #최종결과:220"
   ]
  },
  {
   "cell_type": "code",
   "execution_count": 18,
   "metadata": {},
   "outputs": [
    {
     "name": "stdout",
     "output_type": "stream",
     "text": [
      "300\n"
     ]
    }
   ],
   "source": [
    "## ex3/ 함수를 하나 정의한다. \n",
    "## 숫자 2개를 받아서 두개의 합과 두개의 곱을 리턴 \n",
    "##※tuple \n",
    "#a=(10,20,30)\n",
    "#b=10,20,30\n",
    "#a와 b는 동치(값이 똑같다)\n",
    "#오직 tuple만이 괄호 생략이 가능하다 \n",
    "#tuple을 이용하여 마치 여러개의 값이 리턴되는 것처럼 보이게 할 수 있다. \n",
    "def multi_process(x,y):\n",
    "    result1 = x+y\n",
    "    result2 = x*y\n",
    "    return result1, result2   #괄호를 안씌워도 상관없다! (왜, 튜플이니깐)\n",
    "                               #튜플로 만들어 리턴하기 때문에 (파이썬 특유의 언어적 표현때문에)\n",
    "                               #값 두개를 리턴하는 것으로 보이지만, 모든 함수는 하나이 값을 리턴한다. \n",
    "a,b = multi_process(100,200)\n",
    "a,b = (300, 20000)\n",
    "print(a)"
   ]
  },
  {
   "cell_type": "code",
   "execution_count": 23,
   "metadata": {},
   "outputs": [
    {
     "name": "stdout",
     "output_type": "stream",
     "text": [
      "6\n",
      "103\n"
     ]
    }
   ],
   "source": [
    "## - 사용자 정의 함수를 만들어요 \n",
    "# default parameter \n",
    "\n",
    "def mySum(a,b,c=100): # 맨끝의 c가 만약 값이 안들어오면, 100을 받겠다. \n",
    "                      # c처럼 마지막 매개변수에 default값을 지정할 수 있다.(a,b는 안됨)  \n",
    "    return a+b+c\n",
    "\n",
    "total = mySum(1,2,3); print(total) #6\n",
    "total = mySum(1,2);   print(total) #103\n"
   ]
  },
  {
   "cell_type": "code",
   "execution_count": 33,
   "metadata": {},
   "outputs": [
    {
     "name": "stdout",
     "output_type": "stream",
     "text": [
      "30\n",
      "100\n",
      "False\n",
      "3.0\n",
      "이것은 소리없는 아우성\n"
     ]
    }
   ],
   "source": [
    "tmp = 100    #지역변수(global variable)\n",
    "\n",
    "def myFunc(x): # 함수안에서 선언된 변수는 local variable, 함수 안에서만 유효 \n",
    "    \n",
    "    tmp = 10\n",
    "    tmp += x  #tmp에 x로 들어온 걸 누적 \n",
    "    \n",
    "    return tmp \n",
    "\n",
    "print(myFunc(20)) # 과연 뭐가 나올까?   답:30\n",
    "print(tmp)        # 100 (전역변수와 지역변수의 차이)\n",
    "                  # 만일 함수 외부에 동일명의 변수가 있다하더라도, 지역변수의 영역은 해당 함수 내에 국한 \n",
    "                  # local variable 은 함수가 호출될때 생성되고 \n",
    "                  # 함수 수행이 끝나면 사라진다.(생명주기도 다름)\n",
    "                  # 만약 지역변수를 전역변수로 바꿔주고 싶다면? \n",
    "                  # →  global tmp  (이런식으로 선언, 단 선언과 대입 동시 못함 (global tmp=10이런거))\n",
    "                  # →  프로그램적으로 너무 뺑뻉 돌아가서 해결이 어려울때 사용, 가급적 지양\n",
    "            \n",
    "            \n",
    "#나머지는 내장함수.. Python이 제공해주는 함수 \n",
    "\n",
    "## - 내장함수 복습하기(자주쓰는 내장함수)\n",
    "#  int() : 인자로 들어온 놈을 정수로 변환 \n",
    "#  abs() : 절대값을 리턴해준다. \n",
    "#  all() : 인자로 반복가능한 타입이 와야한다. 인자로 들어온 값이 모두 True일 경우 True 리턴 \n",
    "a = [True, 100, {}, 3.14]\n",
    "print(all(a)) #false \n",
    "#  len() : 길이구하는 내장함수 \n",
    "#  list() : 리스트 만들어주는 함수 \n",
    "#  tuple() : tuple로 변환하는 함수 \n",
    "#  str() : 문자열로 변환하는 함수 \n",
    "#  type() : 인자로 들어온 데이터의 type을 return \n",
    "#  max(), min() : 최대 최소를 구해줘요 \n",
    "a = [1,2,3,4,5]\n",
    "# * print(mean(a)) # 안됨, mean은 내장함수로 존재하지 않음   \n",
    "print(sum(a)/len(a))\n",
    "# sorted() : 오름차순으로 정렬해주는 함수 \n",
    "# join() : 하나의 문자열을 다른 문자열과 결합할때 사용 \n",
    "a = [\"이것은\",\"소리없는\",\"아우성\"]\n",
    "print(\" \".join(a))"
   ]
  },
  {
   "cell_type": "code",
   "execution_count": 54,
   "metadata": {},
   "outputs": [
    {
     "name": "stdout",
     "output_type": "stream",
     "text": [
      "최대 대칭수는 99000099 입니다\n"
     ]
    }
   ],
   "source": [
    "###############################(연습문제 이어서)###\n",
    "\n",
    "### 문제 6.\n",
    "## 앞에서 부터 읽을때나 뒤에서부터 읽을 때 모양이 같은 수를 대칭수라고 지칭한다. \n",
    "## 두 자리 수를 곱해서 만들 수 있는 대칭수 중에 가장 큰 수는 9009(91*99) 입니다. \n",
    "## 세 자리 수를 곱해서 가장 만들 수 있는 가장 큰 대칭수는 얼마? (답 : 906609)\n",
    "## 세 자리 수를 곱해서 만들었다면, 네 자리 수로 최대 대칭수를 구하여라? (답 : 99000099)\n",
    "\n",
    "# 풀이 알고리즘 \n",
    "# 100*100 = ? 대칭수인지 확인 =>(어딘가에)저장\n",
    "# 100*101 = ? 대칭수인지 확인 =>(어딘가에)저장\n",
    "# 100*102 = ? 대칭수인지 확인 =>(어딘가에)저장\n",
    "# ... \n",
    "\n",
    "# 1) 대칭수 판별을 위한 함수를 하나 만든다\n",
    "def symmetric_Number(x):\n",
    "    x = str(x)\n",
    "    if x == x[::-1]:   #문자열 슬라이스 기능 활용, 뒤집어도 같은지 판별\n",
    "        return True \n",
    "    else:\n",
    "        return False \n",
    "\n",
    "maxValue = 0            #함수를 생성했으면 최대값을 넣어줄 변수 생성 \n",
    "\n",
    "# 2)백의 자리(혹은 천의자리) 숫자부터 일일이 비교하는 루프문 생성 \n",
    "for i in range(9000,10000):\n",
    "    for j in range(9000,10000):\n",
    "        cal =  i*j\n",
    "        if symmetric_Number(cal):\n",
    "            if maxValue < cal:\n",
    "                maxValue = cal\n",
    "\n",
    "print(\"최대 대칭수는 %d 입니다\" %(maxValue))\n",
    "    \n"
   ]
  },
  {
   "cell_type": "code",
   "execution_count": 65,
   "metadata": {},
   "outputs": [
    {
     "name": "stdout",
     "output_type": "stream",
     "text": [
      "906609\n"
     ]
    }
   ],
   "source": [
    "##(문제6 이어서)\n",
    "## 강사님 답안지 \n",
    "def check_number(x): \n",
    "    str1 = str(x)\n",
    "    tmp = list(str(x))\n",
    "    tmp.reverse()\n",
    "    if str1 == \"\".join(tmp): #join함수는 무조건 str형태로 붙게된다. \n",
    "        return True\n",
    "    else:\n",
    "        return False   #대칭수 판독 함수 끝 \n",
    "\n",
    "def calcul_number(x):\n",
    "    \n",
    "    result = []\n",
    "    for i in range(10**x,10**(x+1)):\n",
    "        for j in range(10**x,10**(x+1)):\n",
    "            if check_number(i*j):\n",
    "                result.append(i*j) #앞서 선언한 리스트 result에 결과 할당 \n",
    "            \n",
    "    print(max(result))             # 결과중 가장 큰거 출력 \n",
    "\n",
    "calcul_number(2)            #10^(n) : parameter로  n의 승수 결정 \n",
    "    "
   ]
  },
  {
   "cell_type": "code",
   "execution_count": null,
   "metadata": {},
   "outputs": [],
   "source": [
    "### 문제 7. \n",
    "##\n",
    "## 1부터 10사이의 어떤 수로도 나누어떨어지는 가장 작은 수는 2520입니다. \n",
    "## 1부터 20사이의 어떤 수로도 나누어떨어지는 가장 작은 수는 얼마일까요?\n",
    "## 가급적 함수로서 기능단위로 뽑아 풀어보자. \n",
    "\n",
    "#1~20의 최소공배수를 구하는 문제  \n",
    "\n",
    "#1) 해당 수의 소인수를 먼저 찾아라(소인수 찾는 함수)\n",
    "#2) 찾은 소인수들의 교집합들을 저장하는 list 형성 \n",
    "#3) 리스트내 원소를 모두 곱함 => 출력 \n",
    "\n",
    "n=1;\n",
    "a=list();\n",
    "b=list();\n",
    "\n",
    "while True:\n",
    "    for i in range(1,21):\n",
    "        c = n%i\n",
    "        zero = 0 \n",
    "        a.append(c)\n",
    "        b.append(zero) #비교용 리스트화 \n",
    "    if(a==b)==True:\n",
    "        print(\"answer=\",n)\n",
    "        break\n",
    "    a.clear()\n",
    "    b.clear()\n",
    "    n=n+1"
   ]
  },
  {
   "cell_type": "code",
   "execution_count": 70,
   "metadata": {},
   "outputs": [
    {
     "name": "stdout",
     "output_type": "stream",
     "text": [
      "Wall time: 0 ns\n"
     ]
    },
    {
     "data": {
      "text/plain": [
       "232792560"
      ]
     },
     "execution_count": 70,
     "metadata": {},
     "output_type": "execute_result"
    }
   ],
   "source": [
    "%%time\n",
    "## 다른 풀이(진수형꺼)\n",
    "## 1) 두 수간의 최대 공약수를 구하는 함수를 만들어 \n",
    "## 2) 1)의 함수로 최소공배수를 구하는 함수를 만든뒤 \n",
    "## 3) 2)의 함수로 1~20 사이의 숫자를 둘씩 나누어 비교하는 \n",
    "##[1 2 3 4 5 6 7 8 ```` 18 19 20]\n",
    "## |/ //  \n",
    "##  |//\n",
    "##  |/     이런식으로 .. \n",
    "# 나눳을때 나머지가 0 최소공배수?\n",
    "def divide(a,b):   #1) 두 수 간의 최대 공약수를 구하는 함수\n",
    "    if a>b :\n",
    "        great = a\n",
    "        small = b\n",
    "    else:\n",
    "        great = b\n",
    "        small = a\n",
    "    num=0\n",
    "    for i in range (small,0,-1):\n",
    "        if (a%i)==0 and (b%i)==0:\n",
    "                num = i\n",
    "                break\n",
    "    #print(num)\n",
    "    return num\n",
    "\n",
    "\n",
    "def multi(a,b):\n",
    "    return int((a*b)/divide(a,b))  #2) 두 수 간의 최소공배수를 구하는 함수 {(a*b) / (a와 b의 최대공약수) == 최소공배수}  \n",
    "\n",
    "def expr(x):   #3) 1~20 부터 20까지 최소공배수를 비교해가는 함수 \n",
    "    a=1\n",
    "    b=2\n",
    "    while b<x+1:\n",
    "        a=multi(a,b)\n",
    "        b=b+1\n",
    "       \n",
    "   \n",
    "    return a\n",
    "\n",
    "expr(20)"
   ]
  }
 ],
 "metadata": {
  "kernelspec": {
   "display_name": "[CPU_ENV]",
   "language": "python",
   "name": "cpu_env"
  },
  "language_info": {
   "codemirror_mode": {
    "name": "ipython",
    "version": 3
   },
   "file_extension": ".py",
   "mimetype": "text/x-python",
   "name": "python",
   "nbconvert_exporter": "python",
   "pygments_lexer": "ipython3",
   "version": "3.6.9"
  }
 },
 "nbformat": 4,
 "nbformat_minor": 2
}
