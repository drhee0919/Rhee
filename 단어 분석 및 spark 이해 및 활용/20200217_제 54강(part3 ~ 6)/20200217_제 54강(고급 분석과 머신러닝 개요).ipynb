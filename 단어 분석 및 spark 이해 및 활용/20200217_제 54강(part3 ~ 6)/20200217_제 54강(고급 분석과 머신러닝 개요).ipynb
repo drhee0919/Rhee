{
 "cells": [
  {
   "cell_type": "code",
   "execution_count": 1,
   "metadata": {},
   "outputs": [],
   "source": [
    "####4장 운용용 어플리케이션과 5부 스트리밍은 엔지니어링 분야야 맞물려 생략 ###\n",
    "#### 6장 고급 분석과 머신러닝 개요부터 다시 설명 (p.555)###\n",
    "\n",
    "from pyspark.sql import SparkSession\n",
    "\n",
    "spark = SparkSession.builder.appName(\"Test\").config(\"spark.executor.instances\", \"1\").config(\"spark.executor.cores\", \"1\").config(\"spark.executor.memory\", \"2g\").config(\"spark.driver.memory\", \"2g\").getOrCreate()"
   ]
  },
  {
   "cell_type": "code",
   "execution_count": 2,
   "metadata": {},
   "outputs": [],
   "source": [
    "import numpy as np \n",
    "import scipy.sparse as sps\n",
    "from pyspark.mllib.linalg import Vectors "
   ]
  },
  {
   "cell_type": "code",
   "execution_count": 4,
   "metadata": {},
   "outputs": [],
   "source": [
    "# dense vector \n",
    "v1 = np.array([0.1, 0.0, 0.2, 0.3])\n",
    "v2 = Vectors.dense([0.1, 0.0, 0.2, 0.3])\n",
    "v3 = [0.1, 0.0, 0.2, 0.3]\n",
    "\n"
   ]
  },
  {
   "cell_type": "code",
   "execution_count": 5,
   "metadata": {},
   "outputs": [
    {
     "data": {
      "text/plain": [
       "array([0.1, 0. , 0.2, 0.3])"
      ]
     },
     "execution_count": 5,
     "metadata": {},
     "output_type": "execute_result"
    }
   ],
   "source": [
    "v1"
   ]
  },
  {
   "cell_type": "code",
   "execution_count": 6,
   "metadata": {},
   "outputs": [
    {
     "data": {
      "text/plain": [
       "DenseVector([0.1, 0.0, 0.2, 0.3])"
      ]
     },
     "execution_count": 6,
     "metadata": {},
     "output_type": "execute_result"
    }
   ],
   "source": [
    "v2"
   ]
  },
  {
   "cell_type": "code",
   "execution_count": 7,
   "metadata": {},
   "outputs": [
    {
     "data": {
      "text/plain": [
       "[0.1, 0.0, 0.2, 0.3]"
      ]
     },
     "execution_count": 7,
     "metadata": {},
     "output_type": "execute_result"
    }
   ],
   "source": [
    "v3"
   ]
  },
  {
   "cell_type": "code",
   "execution_count": 9,
   "metadata": {},
   "outputs": [],
   "source": [
    "# sparse vector \n",
    "v3 = Vectors.sparse(4, [(0, 0.1), (2, 0.2), (3, 0.3)]) #4행 1열, 1에 대한 요소가 없음 \n",
    "v4 = Vectors.sparse(4, [0, 2, 3], [0.1, 0.2, 0.3])\n",
    "v5 = sps.csc_matrix((np.array([0.1, 0.2, 0.3]), np.array([0, 2, 3]), np.array([0, 3])), shape = (4, 1))\n"
   ]
  },
  {
   "cell_type": "code",
   "execution_count": 10,
   "metadata": {},
   "outputs": [
    {
     "data": {
      "text/plain": [
       "SparseVector(4, {0: 0.1, 2: 0.2, 3: 0.3})"
      ]
     },
     "execution_count": 10,
     "metadata": {},
     "output_type": "execute_result"
    }
   ],
   "source": [
    "v3 "
   ]
  },
  {
   "cell_type": "code",
   "execution_count": 11,
   "metadata": {},
   "outputs": [
    {
     "data": {
      "text/plain": [
       "SparseVector(4, {0: 0.1, 2: 0.2, 3: 0.3})"
      ]
     },
     "execution_count": 11,
     "metadata": {},
     "output_type": "execute_result"
    }
   ],
   "source": [
    "v4"
   ]
  },
  {
   "cell_type": "code",
   "execution_count": 13,
   "metadata": {},
   "outputs": [
    {
     "name": "stdout",
     "output_type": "stream",
     "text": [
      "  (0, 0)\t0.1\n",
      "  (2, 0)\t0.2\n",
      "  (3, 0)\t0.3\n"
     ]
    }
   ],
   "source": [
    "v5"
   ]
  },
  {
   "cell_type": "code",
   "execution_count": 18,
   "metadata": {},
   "outputs": [
    {
     "name": "stdout",
     "output_type": "stream",
     "text": [
      "[0.1 0.  0.2 0.3]\n",
      "[0.1,0.0,0.2,0.3]\n",
      "(4,[0,2,3],[0.1,0.2,0.3])\n",
      "(4,[0,2,3],[0.1,0.2,0.3])\n",
      "  (0, 0)\t0.1\n",
      "  (2, 0)\t0.2\n",
      "  (3, 0)\t0.3\n"
     ]
    }
   ],
   "source": [
    "print(v1)\n",
    "print(v2)\n",
    "print(v3)\n",
    "print(v4)\n",
    "print(v5)"
   ]
  },
  {
   "cell_type": "code",
   "execution_count": 20,
   "metadata": {},
   "outputs": [
    {
     "data": {
      "text/plain": [
       "array([[0, 0, 0, 0],\n",
       "       [0, 0, 0, 0],\n",
       "       [0, 0, 0, 0]], dtype=int8)"
      ]
     },
     "execution_count": 20,
     "metadata": {},
     "output_type": "execute_result"
    }
   ],
   "source": [
    "#만약 아무값도 입력하지 않는다면? \n",
    "import numpy as np \n",
    "from scipy.sparse import csc_matrix\n",
    "\n",
    "csc_matrix((3,4), dtype=np.int8).toarray()"
   ]
  },
  {
   "cell_type": "code",
   "execution_count": 21,
   "metadata": {},
   "outputs": [
    {
     "data": {
      "text/plain": [
       "array([[1, 0, 4],\n",
       "       [0, 0, 5],\n",
       "       [2, 3, 6]], dtype=int64)"
      ]
     },
     "execution_count": 21,
     "metadata": {},
     "output_type": "execute_result"
    }
   ],
   "source": [
    "row = np.array([0, 2, 2, 0, 1, 2])\n",
    "col = np.array([0, 0, 1, 2, 2, 2])\n",
    "data = np.array([1, 2, 3, 4, 5, 6])\n",
    "\n",
    "csc_matrix((data, (row, col)), shape=(3, 3)).toarray()\n"
   ]
  },
  {
   "cell_type": "code",
   "execution_count": 22,
   "metadata": {},
   "outputs": [
    {
     "data": {
      "text/plain": [
       "array([[1, 0, 4],\n",
       "       [0, 0, 5],\n",
       "       [2, 3, 6]])"
      ]
     },
     "execution_count": 22,
     "metadata": {},
     "output_type": "execute_result"
    }
   ],
   "source": [
    "indptr = np.array([0, 2, 3, 6])  #CSC format index array\n",
    "indices = np.array([0, 2, 2, 0, 1, 2]) #CSC format index pointer array(행 인덱스)\n",
    "data = np.array([1, 2, 3, 4, 5, 6])\n",
    "csc_matrix((data, indices, indptr), shape=(3, 3)).toarray()\n"
   ]
  }
 ],
 "metadata": {
  "kernelspec": {
   "display_name": "Python 3",
   "language": "python",
   "name": "python3"
  },
  "language_info": {
   "codemirror_mode": {
    "name": "ipython",
    "version": 3
   },
   "file_extension": ".py",
   "mimetype": "text/x-python",
   "name": "python",
   "nbconvert_exporter": "python",
   "pygments_lexer": "ipython3",
   "version": "3.6.8"
  }
 },
 "nbformat": 4,
 "nbformat_minor": 4
}
